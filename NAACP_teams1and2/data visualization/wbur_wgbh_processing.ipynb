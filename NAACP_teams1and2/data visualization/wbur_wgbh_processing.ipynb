{
 "metadata": {
  "language_info": {
   "codemirror_mode": {
    "name": "ipython",
    "version": 3
   },
   "file_extension": ".py",
   "mimetype": "text/x-python",
   "name": "python",
   "nbconvert_exporter": "python",
   "pygments_lexer": "ipython3",
   "version": "3.7.0-final"
  },
  "orig_nbformat": 2,
  "kernelspec": {
   "name": "python3",
   "display_name": "Python 3.7.0 64-bit",
   "metadata": {
    "interpreter": {
     "hash": "aee8b7b246df8f9039afb4144a1f6fd8d2ca17a180786b69acc140d282b71a49"
    }
   }
  }
 },
 "nbformat": 4,
 "nbformat_minor": 2,
 "cells": [
  {
   "cell_type": "code",
   "execution_count": 1,
   "metadata": {},
   "outputs": [],
   "source": [
    "import numpy as np\n",
    "import pandas as pd\n",
    "from pandas import DataFrame"
   ]
  },
  {
   "cell_type": "code",
   "execution_count": 3,
   "metadata": {},
   "outputs": [
    {
     "output_type": "execute_result",
     "data": {
      "text/plain": [
       "0    a massachusetts pharmacist convicted for his r...\n",
       "1    on this morning we find almost the entire stat...\n",
       "2    if you're making outdoor plans in greater bost...\n",
       "3    a lack of independent testing laboratories is ...\n",
       "4    the big nor'easter continues to spin out in th...\n",
       "Name: text, dtype: object"
      ]
     },
     "metadata": {},
     "execution_count": 3
    }
   ],
   "source": [
    "data = pd.read_csv(\"wbur_2014-2018.csv\")\n",
    "#data = pd.read_csv(\"wbur2018.csv\")\n",
    "#data_arr = data[\"text\"]#.to_numpy()\n",
    "data_arr = data['text'].apply(lambda x: x.lower())\n",
    "\n",
    "\n",
    "census_data = pd.read_csv(\"Revised Sub-Neighborhoods.csv\")\n",
    "areas = census_data.loc[:,'Neighborhood']\n",
    "\n",
    "\n",
    "data_arr.head()\n"
   ]
  },
  {
   "cell_type": "code",
   "execution_count": 4,
   "metadata": {},
   "outputs": [
    {
     "output_type": "execute_result",
     "data": {
      "text/plain": [
       "['brighton',\n",
       " 'allston',\n",
       " 'fenway',\n",
       " 'longwood medical area',\n",
       " 'back bay',\n",
       " 'beacon hill',\n",
       " 'west end',\n",
       " 'north end',\n",
       " 'downtown',\n",
       " 'charlestown',\n",
       " 'east boston',\n",
       " 'south boston',\n",
       " 'south boston waterfront',\n",
       " 'south end',\n",
       " 'roxbury',\n",
       " 'mission hill',\n",
       " 'jamaica plain',\n",
       " 'dorchester',\n",
       " 'mattapan',\n",
       " 'roslindale',\n",
       " 'west roxbury',\n",
       " 'hyde park',\n",
       " 'harbor islands']"
      ]
     },
     "metadata": {},
     "execution_count": 4
    }
   ],
   "source": [
    "neighborhoods = [] # list of all neighborhoods according to census data \n",
    "\"\"\"can do this for sub-neighborhoods or whatever specificity is appropriate\"\"\"\n",
    "#eliminates duplicate counts and gets a list of unique neighborhoods:\n",
    "for x in areas:\n",
    "    if x == x: # removes nan values \n",
    "        if x.lower() not in neighborhoods:\n",
    "            neighborhoods.append(x.lower())\n",
    "\n",
    "neighborhoods"
   ]
  },
  {
   "cell_type": "code",
   "execution_count": 5,
   "metadata": {},
   "outputs": [
    {
     "output_type": "execute_result",
     "data": {
      "text/plain": [
       "          0           1             2            3            4           5   \\\n",
       "0       race       black  cape verdean  afro latino  afro latina     haitian   \n",
       "1      crime      police       officer         shot     shooting      murder   \n",
       "2  education      school      district   psychology      student  university   \n",
       "3     sports      soccer      football       player      athlete       coach   \n",
       "4   politics  government     president     election         vote       voted   \n",
       "\n",
       "                 6            7                 8          9   ...  \\\n",
       "0  african american  west indian  african-american  caribbean  ...   \n",
       "1            killed         hurt              kill       stab  ...   \n",
       "2           college     educated  higher education      learn  ...   \n",
       "3              team   basketball          baseball    running  ...   \n",
       "4           speaker        elect          congress   congress  ...   \n",
       "\n",
       "               20            21              22         23       24        25  \\\n",
       "0  asian american          arab        minority  non-white   latina    latino   \n",
       "1       assaulted      arrested        criminal  criminals  charged   illegal   \n",
       "2            test       educate          grades    testing    exams  students   \n",
       "3          rowing          golf         compete      score      win      lose   \n",
       "4          debate  constitution  constitutional   national  federal     trump   \n",
       "\n",
       "          26           27             28                 29  \n",
       "0  immigrant       racism         racist             racial  \n",
       "1    convict    convicted         fought               gang  \n",
       "2       kids  high school  middle school  elementary school  \n",
       "3        tie         game        red sox             league  \n",
       "4      obama   republican       democrat         democratic  \n",
       "\n",
       "[5 rows x 30 columns]"
      ],
      "text/html": "<div>\n<style scoped>\n    .dataframe tbody tr th:only-of-type {\n        vertical-align: middle;\n    }\n\n    .dataframe tbody tr th {\n        vertical-align: top;\n    }\n\n    .dataframe thead th {\n        text-align: right;\n    }\n</style>\n<table border=\"1\" class=\"dataframe\">\n  <thead>\n    <tr style=\"text-align: right;\">\n      <th></th>\n      <th>0</th>\n      <th>1</th>\n      <th>2</th>\n      <th>3</th>\n      <th>4</th>\n      <th>5</th>\n      <th>6</th>\n      <th>7</th>\n      <th>8</th>\n      <th>9</th>\n      <th>...</th>\n      <th>20</th>\n      <th>21</th>\n      <th>22</th>\n      <th>23</th>\n      <th>24</th>\n      <th>25</th>\n      <th>26</th>\n      <th>27</th>\n      <th>28</th>\n      <th>29</th>\n    </tr>\n  </thead>\n  <tbody>\n    <tr>\n      <th>0</th>\n      <td>race</td>\n      <td>black</td>\n      <td>cape verdean</td>\n      <td>afro latino</td>\n      <td>afro latina</td>\n      <td>haitian</td>\n      <td>african american</td>\n      <td>west indian</td>\n      <td>african-american</td>\n      <td>caribbean</td>\n      <td>...</td>\n      <td>asian american</td>\n      <td>arab</td>\n      <td>minority</td>\n      <td>non-white</td>\n      <td>latina</td>\n      <td>latino</td>\n      <td>immigrant</td>\n      <td>racism</td>\n      <td>racist</td>\n      <td>racial</td>\n    </tr>\n    <tr>\n      <th>1</th>\n      <td>crime</td>\n      <td>police</td>\n      <td>officer</td>\n      <td>shot</td>\n      <td>shooting</td>\n      <td>murder</td>\n      <td>killed</td>\n      <td>hurt</td>\n      <td>kill</td>\n      <td>stab</td>\n      <td>...</td>\n      <td>assaulted</td>\n      <td>arrested</td>\n      <td>criminal</td>\n      <td>criminals</td>\n      <td>charged</td>\n      <td>illegal</td>\n      <td>convict</td>\n      <td>convicted</td>\n      <td>fought</td>\n      <td>gang</td>\n    </tr>\n    <tr>\n      <th>2</th>\n      <td>education</td>\n      <td>school</td>\n      <td>district</td>\n      <td>psychology</td>\n      <td>student</td>\n      <td>university</td>\n      <td>college</td>\n      <td>educated</td>\n      <td>higher education</td>\n      <td>learn</td>\n      <td>...</td>\n      <td>test</td>\n      <td>educate</td>\n      <td>grades</td>\n      <td>testing</td>\n      <td>exams</td>\n      <td>students</td>\n      <td>kids</td>\n      <td>high school</td>\n      <td>middle school</td>\n      <td>elementary school</td>\n    </tr>\n    <tr>\n      <th>3</th>\n      <td>sports</td>\n      <td>soccer</td>\n      <td>football</td>\n      <td>player</td>\n      <td>athlete</td>\n      <td>coach</td>\n      <td>team</td>\n      <td>basketball</td>\n      <td>baseball</td>\n      <td>running</td>\n      <td>...</td>\n      <td>rowing</td>\n      <td>golf</td>\n      <td>compete</td>\n      <td>score</td>\n      <td>win</td>\n      <td>lose</td>\n      <td>tie</td>\n      <td>game</td>\n      <td>red sox</td>\n      <td>league</td>\n    </tr>\n    <tr>\n      <th>4</th>\n      <td>politics</td>\n      <td>government</td>\n      <td>president</td>\n      <td>election</td>\n      <td>vote</td>\n      <td>voted</td>\n      <td>speaker</td>\n      <td>elect</td>\n      <td>congress</td>\n      <td>congress</td>\n      <td>...</td>\n      <td>debate</td>\n      <td>constitution</td>\n      <td>constitutional</td>\n      <td>national</td>\n      <td>federal</td>\n      <td>trump</td>\n      <td>obama</td>\n      <td>republican</td>\n      <td>democrat</td>\n      <td>democratic</td>\n    </tr>\n  </tbody>\n</table>\n<p>5 rows × 30 columns</p>\n</div>"
     },
     "metadata": {},
     "execution_count": 5
    }
   ],
   "source": [
    "topics = pd.read_csv('updated_topics.csv', header = None)\n",
    "topics_arr = topics.to_numpy()\n",
    "\n",
    "topics.head()"
   ]
  },
  {
   "cell_type": "code",
   "execution_count": 10,
   "metadata": {},
   "outputs": [],
   "source": [
    "\n",
    "# \"\"\"creating a way to count frequency for words mentioned\"\"\" \n",
    "# # converts it to a list of strings\n",
    "# Words = []\n",
    "# for x in data_arr:\n",
    "#     Words.append(x.split())\n",
    "        \n",
    "# table = [] #resulting table of each neighborhood with the number of times each topic appears\n",
    "\n",
    "  "
   ]
  },
  {
   "cell_type": "code",
   "execution_count": 11,
   "metadata": {},
   "outputs": [],
   "source": [
    "# table = []\n",
    "# for neighborhood in neighborhoods:\n",
    "#     hood = [neighborhood]\n",
    "#     n = 0 #counter for each topic mention and neighborhood mention in same article \n",
    "#     #for line in Words: # each article\n",
    "#      #   if line.count(neighborhood) > 0: #if neighborhood mentioned in article\n",
    "#     for topic in topics_arr: # for each topic \n",
    "#         t = 0 #topic mention counter\n",
    "#         for x in topic: #for each word in each topic\n",
    "#             for article in data_arr:\n",
    "#                 if neighborhood in article.split(): #if the article mentions neighborhood\n",
    "#                     if x in article.split(): #if the article mentions word x in topic \n",
    "#                         t += article.count(x)\n",
    "#                 n += t\n",
    "#         hood.append(n)\n",
    "        \n",
    "#     print(\"This is the length of hood: \", len(hood)) \n",
    "#     print(\"This is the expected length of hood: \", len(topics)+1)              \n",
    "#     table.append(hood)\n",
    "#     table\n",
    "    "
   ]
  },
  {
   "cell_type": "code",
   "execution_count": 12,
   "metadata": {
    "tags": []
   },
   "outputs": [
    {
     "output_type": "stream",
     "name": "stdout",
     "text": [
      "[['south boston', 'crime', 0], ['jamaica plain', 'crime', 0], ['mattapan', 'crime', 0], ['fenway', 'crime', 0], ['south end', 'crime', 0], ['dorchester', 'crime', 0], ['dorchester', 'crime', 0], ['fenway', 'crime', 0], ['roxbury', 'crime', 12], ['dorchester', 'crime', 12]]\n"
     ]
    }
   ],
   "source": [
    "table = []\n",
    "for article in data_arr:\n",
    "    for neighborhood in neighborhoods:\n",
    "        if neighborhood in article:\n",
    "            for topic in topics_arr:\n",
    "                article_mention = [neighborhood]\n",
    "                article_mention.append(topic[0])\n",
    "                c = 0\n",
    "                for x in topic:\n",
    "                    c += article.count(x)\n",
    "                    \n",
    "                    \n",
    "                article_mention.append(c)\n",
    "                table.append(article_mention)\n",
    "print(table[0:10])\n"
   ]
  },
  {
   "cell_type": "code",
   "execution_count": 13,
   "metadata": {},
   "outputs": [],
   "source": [
    "\n",
    "df = DataFrame(table, columns = ['Neighborhood','Topic', 'Frequency'])\n",
    "df['Neighborhood'] = df['Neighborhood'].str.title()\n",
    "df['Topic'] = df['Topic'].str.title()\n",
    "#df = DataFrame(table, columns = ['Neighborhood', 'Topic A', 'Topic B', 'Topic C', 'Topic D', 'Topic E'])\n",
    "df.to_csv('gun_violence_breakdown.csv')\n",
    "#df.to_csv('wbur2014-2018_cumulative_frequency.csv')"
   ]
  },
  {
   "cell_type": "code",
   "execution_count": 39,
   "metadata": {
    "tags": []
   },
   "outputs": [
    {
     "output_type": "execute_result",
     "data": {
      "text/plain": [
       "0     a landmark boston restaurant is closing after...\n",
       "1     today on the show   · jon meacham on his new ...\n",
       "2     gov  charlie baker on monday morning signed a...\n",
       "3     unions representing 1 250 locked out gas work...\n",
       "4     more and more people are getting around by bi...\n",
       "Name: Article Content, dtype: object"
      ]
     },
     "metadata": {},
     "execution_count": 39
    }
   ],
   "source": [
    "data = pd.read_csv(\"wgbh_2015-2018.csv\", lineterminator = '\\n', error_bad_lines=False)\n",
    "data.dropna()\n",
    "data_arr = data['Article Content']\n",
    "\n",
    "# for article in data_arr:\n",
    "#     article = str(article)\n",
    "\n",
    "data_arr.head()"
   ]
  },
  {
   "cell_type": "code",
   "execution_count": 40,
   "metadata": {
    "tags": []
   },
   "outputs": [
    {
     "output_type": "stream",
     "name": "stdout",
     "text": [
      "[['fenway', 'race', 1], ['fenway', 'crime', 0], ['fenway', 'education', 8], ['fenway', 'sports', 35], ['fenway', 'politics', 3], ['fenway', 'culture', 18], ['downtown', 'race', 1], ['downtown', 'crime', 0], ['downtown', 'education', 8], ['downtown', 'sports', 35]]\n"
     ]
    }
   ],
   "source": [
    "table = []\n",
    "for article in data_arr:\n",
    "    for neighborhood in neighborhoods:\n",
    "        if neighborhood in str(article):\n",
    "            for topic in topics_arr:\n",
    "                article_mention = [neighborhood]\n",
    "                article_mention.append(topic[0])\n",
    "                c = 0\n",
    "                for x in topic:\n",
    "                    c += article.count(x)\n",
    "                    \n",
    "                    \n",
    "                article_mention.append(c)\n",
    "                table.append(article_mention)\n",
    "print(table[0:10])\n"
   ]
  },
  {
   "cell_type": "code",
   "execution_count": 41,
   "metadata": {},
   "outputs": [],
   "source": [
    "df = DataFrame(table, columns = ['Neighborhood','Topic', 'Frequency'])\n",
    "df['Neighborhood'] = df['Neighborhood'].str.title()\n",
    "df['Topic'] = df['Topic'].str.title()\n",
    "df.to_csv('wgbh_topic_breakdown.csv')\n"
   ]
  }
 ]
}