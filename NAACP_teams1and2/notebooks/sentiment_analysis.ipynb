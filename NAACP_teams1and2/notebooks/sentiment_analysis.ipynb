{
 "metadata": {
  "language_info": {
   "codemirror_mode": {
    "name": "ipython",
    "version": 3
   },
   "file_extension": ".py",
   "mimetype": "text/x-python",
   "name": "python",
   "nbconvert_exporter": "python",
   "pygments_lexer": "ipython3",
   "version": "3.7.6-final"
  },
  "orig_nbformat": 2,
  "kernelspec": {
   "name": "python3",
   "display_name": "Python 3"
  }
 },
 "nbformat": 4,
 "nbformat_minor": 2,
 "cells": [
  {
   "cell_type": "code",
   "execution_count": 28,
   "metadata": {},
   "outputs": [],
   "source": [
    "import pandas as pd\n",
    "import numpy as np\n",
    "from textblob import TextBlob\n",
    "from nltk.sentiment.vader import SentimentIntensityAnalyzer\n",
    "from nltk import tokenize"
   ]
  },
  {
   "cell_type": "code",
   "execution_count": 2,
   "metadata": {},
   "outputs": [],
   "source": [
    "df_black = pd.read_csv(\"black_mentions.csv\")\n",
    "df_white = pd.read_csv(\"white_mentions.csv\")"
   ]
  },
  {
   "cell_type": "code",
   "execution_count": 4,
   "metadata": {},
   "outputs": [],
   "source": [
    "df_black.drop('Unnamed: 0', axis=1, inplace=True)\n",
    "df_white.drop('Unnamed: 0', axis=1, inplace=True)"
   ]
  },
  {
   "cell_type": "code",
   "execution_count": 10,
   "metadata": {},
   "outputs": [],
   "source": [
    "# Getting lists of the texts\n",
    "sentences_black = list(df_black.text.values)\n",
    "sentences_white = list(df_white.text.values)"
   ]
  },
  {
   "cell_type": "code",
   "execution_count": 22,
   "metadata": {},
   "outputs": [],
   "source": [
    "# Getting the mean positive, negative, and neutral scores for the black topic articles\n",
    "pos_black_vader = 0\n",
    "neg_black_vader = 0\n",
    "neu_black_vader = 0\n",
    "\n",
    "sid_black = SentimentIntensityAnalyzer()\n",
    "\n",
    "for sentence in sentences_black:\n",
    "    ss = sid_black.polarity_scores(sentence)\n",
    "    pos_black_vader += ss['pos']\n",
    "    neg_black_vader += ss['neg']\n",
    "    neu_black_vader += ss['neu']\n",
    "\n",
    "\n",
    "pos_black_vader /= len(sentences_black)\n",
    "neg_black_vader /= len(sentences_black)\n",
    "neu_black_vader /= len(sentences_black)"
   ]
  },
  {
   "cell_type": "code",
   "execution_count": 25,
   "metadata": {},
   "outputs": [
    {
     "output_type": "stream",
     "name": "stdout",
     "text": [
      "0.056709600000000054\n0.08346480000000008\n0.8598200000000003\n"
     ]
    }
   ],
   "source": [
    "print(pos_black_vader)\n",
    "print(neg_black_vader)\n",
    "print(neu_black_vader)"
   ]
  },
  {
   "cell_type": "code",
   "execution_count": 26,
   "metadata": {},
   "outputs": [],
   "source": [
    "# Getting the mean positive, negative, and neutral scores for the white topic articles\n",
    "pos_white_vader = 0\n",
    "neg_white_vader = 0\n",
    "neu_white_vader = 0\n",
    "\n",
    "sid_white = SentimentIntensityAnalyzer()\n",
    "\n",
    "for sentence in sentences_white:\n",
    "    ss = sid_white.polarity_scores(sentence)\n",
    "    pos_white_vader += ss['pos']\n",
    "    neg_white_vader += ss['neg']\n",
    "    neu_white_vader += ss['neu']\n",
    "\n",
    "pos_white_vader /= len(sentences_white)\n",
    "neg_white_vader /= len(sentences_white)\n",
    "neu_white_vader /= len(sentences_white)"
   ]
  },
  {
   "cell_type": "code",
   "execution_count": 27,
   "metadata": {},
   "outputs": [
    {
     "output_type": "stream",
     "name": "stdout",
     "text": [
      "0.059139200000000086\n0.08222080000000005\n0.8586280000000008\n"
     ]
    }
   ],
   "source": [
    "print(pos_white_vader)\n",
    "print(neg_white_vader)\n",
    "print(neu_white_vader)"
   ]
  },
  {
   "cell_type": "code",
   "execution_count": 30,
   "metadata": {},
   "outputs": [],
   "source": [
    "# Getting the mean positive, negative, and neutral scores for the black topic articles, TextBlob\n",
    "pos_black_blob = []\n",
    "neg_black_blob = []\n",
    "neu_black_blob = []\n",
    "\n",
    "for sentence in sentences_black:\n",
    "    blob_sentiment = TextBlob(sentence)\n",
    "    blob_polarity = blob_sentiment.sentiment.polarity\n",
    "    if blob_polarity > 0:\n",
    "        pos_black_blob.append(blob_polarity) \n",
    "    elif blob_polarity < 0:\n",
    "        neg_black_blob.append(blob_polarity)\n",
    "    else:\n",
    "        neu_black_blob.append(blob_polarity)"
   ]
  },
  {
   "cell_type": "code",
   "execution_count": 38,
   "metadata": {},
   "outputs": [
    {
     "output_type": "stream",
     "name": "stdout",
     "text": [
      "0.11675023832570697\n-0.06633178978191043\n0.0\n"
     ]
    }
   ],
   "source": [
    "print(np.mean(pos_black_blob))\n",
    "print(np.mean(neg_black_blob))\n",
    "print(np.mean(neu_black_blob))\n"
   ]
  },
  {
   "cell_type": "code",
   "execution_count": 39,
   "metadata": {},
   "outputs": [],
   "source": [
    "# Getting the mean positive, negative, and neutral scores for the black topic articles, TextBlob\n",
    "pos_white_blob = []\n",
    "neg_white_blob = []\n",
    "neu_white_blob = []\n",
    "\n",
    "for sentence in sentences_white:\n",
    "    blob_sentiment = TextBlob(sentence)\n",
    "    blob_polarity = blob_sentiment.sentiment.polarity\n",
    "    if blob_polarity > 0:\n",
    "        pos_white_blob.append(blob_polarity) \n",
    "    elif blob_polarity < 0:\n",
    "        neg_white_blob.append(blob_polarity)\n",
    "    else:\n",
    "        neu_white_blob.append(blob_polarity)"
   ]
  },
  {
   "cell_type": "code",
   "execution_count": 40,
   "metadata": {},
   "outputs": [
    {
     "output_type": "stream",
     "name": "stdout",
     "text": [
      "0.11641952238763806\n-0.06217938475476093\n0.0\n"
     ]
    }
   ],
   "source": [
    "print(np.mean(pos_white_blob))\n",
    "print(np.mean(neg_white_blob))\n",
    "print(np.mean(neu_white_blob))"
   ]
  },
  {
   "cell_type": "code",
   "execution_count": null,
   "metadata": {},
   "outputs": [],
   "source": []
  }
 ]
}