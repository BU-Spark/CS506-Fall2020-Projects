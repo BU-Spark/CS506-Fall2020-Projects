{
 "cells": [
  {
   "cell_type": "code",
   "execution_count": 1,
   "metadata": {
    "_cell_guid": "b1076dfc-b9ad-4769-8c92-a6c4dae69d19",
    "_uuid": "8f2839f25d086af736a60e9eeb907d3b93b6e0e5",
    "execution": {
     "iopub.execute_input": "2020-10-28T19:37:45.794025Z",
     "iopub.status.busy": "2020-10-28T19:37:45.793465Z",
     "iopub.status.idle": "2020-10-28T19:37:45.796043Z",
     "shell.execute_reply": "2020-10-28T19:37:45.795629Z"
    },
    "papermill": {
     "duration": 0.009695,
     "end_time": "2020-10-28T19:37:45.796114",
     "exception": false,
     "start_time": "2020-10-28T19:37:45.786419",
     "status": "completed"
    },
    "tags": []
   },
   "outputs": [],
   "source": [
    "import numpy as np\n",
    "import pandas as pd"
   ]
  },
  {
   "cell_type": "code",
   "execution_count": 2,
   "metadata": {
    "_cell_guid": "79c7e3d0-c299-4dcb-8224-4455121ee9b0",
    "_uuid": "d629ff2d2480ee46fbb7e2d37f6b5fab8052498a",
    "execution": {
     "iopub.execute_input": "2020-10-28T19:37:45.808680Z",
     "iopub.status.busy": "2020-10-28T19:37:45.808257Z",
     "iopub.status.idle": "2020-10-28T19:37:45.836247Z",
     "shell.execute_reply": "2020-10-28T19:37:45.835821Z"
    },
    "papermill": {
     "duration": 0.036339,
     "end_time": "2020-10-28T19:37:45.836320",
     "exception": false,
     "start_time": "2020-10-28T19:37:45.799981",
     "status": "completed"
    },
    "tags": []
   },
   "outputs": [
    {
     "data": {
      "text/html": [
       "<div>\n",
       "<style scoped>\n",
       "    .dataframe tbody tr th:only-of-type {\n",
       "        vertical-align: middle;\n",
       "    }\n",
       "\n",
       "    .dataframe tbody tr th {\n",
       "        vertical-align: top;\n",
       "    }\n",
       "\n",
       "    .dataframe thead th {\n",
       "        text-align: right;\n",
       "    }\n",
       "</style>\n",
       "<table border=\"1\" class=\"dataframe\">\n",
       "  <thead>\n",
       "    <tr style=\"text-align: right;\">\n",
       "      <th></th>\n",
       "      <th>url</th>\n",
       "      <th>file_name</th>\n",
       "      <th>ID</th>\n",
       "      <th>date</th>\n",
       "      <th>decision</th>\n",
       "      <th>status</th>\n",
       "      <th>order</th>\n",
       "      <th>is_family</th>\n",
       "      <th>desc</th>\n",
       "    </tr>\n",
       "  </thead>\n",
       "  <tbody>\n",
       "    <tr>\n",
       "      <th>0</th>\n",
       "      <td>www.uscis.gov/sites/default/files/err/D12%20-%...</td>\n",
       "      <td>SEP172020_01D12101.pdf</td>\n",
       "      <td>9044770</td>\n",
       "      <td>SEP172020</td>\n",
       "      <td>Appeal of Vermont Service Center Decision</td>\n",
       "      <td>Form I-914, Application for T Nonimmigrant Status</td>\n",
       "      <td>The appeal is dismissed.</td>\n",
       "      <td>False</td>\n",
       "      <td>The Applicant seeks T-1 nonimmigrant classific...</td>\n",
       "    </tr>\n",
       "    <tr>\n",
       "      <th>1</th>\n",
       "      <td>www.uscis.gov/sites/default/files/err/D12%20-%...</td>\n",
       "      <td>SEP172020_02D12101.pdf</td>\n",
       "      <td>6288405</td>\n",
       "      <td>SEP172020</td>\n",
       "      <td>Appeal of Vermont Service Center Decision</td>\n",
       "      <td>Form I-914, Application for T Nonimmigrant Status</td>\n",
       "      <td>The appeal is dismissed.</td>\n",
       "      <td>False</td>\n",
       "      <td>The Applicant seeks T-1 nonimmigrant classific...</td>\n",
       "    </tr>\n",
       "    <tr>\n",
       "      <th>2</th>\n",
       "      <td>www.uscis.gov/sites/default/files/err/D12%20-%...</td>\n",
       "      <td>SEP112020_01D12101.pdf</td>\n",
       "      <td>6500174</td>\n",
       "      <td>SEP112020</td>\n",
       "      <td>Appeal of Vermont Service Center Decision</td>\n",
       "      <td>Form I-914, Application for Family Member of T...</td>\n",
       "      <td>The appeal is rejected.</td>\n",
       "      <td>True</td>\n",
       "      <td>The Applicant seeks nonimmigrant classificatio...</td>\n",
       "    </tr>\n",
       "    <tr>\n",
       "      <th>3</th>\n",
       "      <td>www.uscis.gov/sites/default/files/err/D12%20-%...</td>\n",
       "      <td>SEP092020_02D12101.pdf</td>\n",
       "      <td>6431583</td>\n",
       "      <td>SEP092020</td>\n",
       "      <td>Appeal of Vermont Service Center Decision</td>\n",
       "      <td>Form I-914, Application for Family Member of T...</td>\n",
       "      <td>The appeal is rejected.</td>\n",
       "      <td>True</td>\n",
       "      <td>the Applicant's Form 1-914, Application for T ...</td>\n",
       "    </tr>\n",
       "    <tr>\n",
       "      <th>4</th>\n",
       "      <td>www.uscis.gov/sites/default/files/err/D12%20-%...</td>\n",
       "      <td>SEP092020_01D12101.pdf</td>\n",
       "      <td>6479121</td>\n",
       "      <td>SEP092020</td>\n",
       "      <td>Appeal of Vermont Service Center Decision</td>\n",
       "      <td>Form I-914, Application for T Nonimmigrant Status</td>\n",
       "      <td>The decision of the Director is withdrawn.</td>\n",
       "      <td>False</td>\n",
       "      <td>The Applicant seeks T-1 nonimmigrant classific...</td>\n",
       "    </tr>\n",
       "  </tbody>\n",
       "</table>\n",
       "</div>"
      ],
      "text/plain": [
       "                                                 url               file_name  \\\n",
       "0  www.uscis.gov/sites/default/files/err/D12%20-%...  SEP172020_01D12101.pdf   \n",
       "1  www.uscis.gov/sites/default/files/err/D12%20-%...  SEP172020_02D12101.pdf   \n",
       "2  www.uscis.gov/sites/default/files/err/D12%20-%...  SEP112020_01D12101.pdf   \n",
       "3  www.uscis.gov/sites/default/files/err/D12%20-%...  SEP092020_02D12101.pdf   \n",
       "4  www.uscis.gov/sites/default/files/err/D12%20-%...  SEP092020_01D12101.pdf   \n",
       "\n",
       "        ID       date                                   decision  \\\n",
       "0  9044770  SEP172020  Appeal of Vermont Service Center Decision   \n",
       "1  6288405  SEP172020  Appeal of Vermont Service Center Decision   \n",
       "2  6500174  SEP112020  Appeal of Vermont Service Center Decision   \n",
       "3  6431583  SEP092020  Appeal of Vermont Service Center Decision   \n",
       "4  6479121  SEP092020  Appeal of Vermont Service Center Decision   \n",
       "\n",
       "                                              status  \\\n",
       "0  Form I-914, Application for T Nonimmigrant Status   \n",
       "1  Form I-914, Application for T Nonimmigrant Status   \n",
       "2  Form I-914, Application for Family Member of T...   \n",
       "3  Form I-914, Application for Family Member of T...   \n",
       "4  Form I-914, Application for T Nonimmigrant Status   \n",
       "\n",
       "                                        order  is_family  \\\n",
       "0                    The appeal is dismissed.      False   \n",
       "1                    The appeal is dismissed.      False   \n",
       "2                     The appeal is rejected.       True   \n",
       "3                     The appeal is rejected.       True   \n",
       "4  The decision of the Director is withdrawn.      False   \n",
       "\n",
       "                                                desc  \n",
       "0  The Applicant seeks T-1 nonimmigrant classific...  \n",
       "1  The Applicant seeks T-1 nonimmigrant classific...  \n",
       "2  The Applicant seeks nonimmigrant classificatio...  \n",
       "3  the Applicant's Form 1-914, Application for T ...  \n",
       "4  The Applicant seeks T-1 nonimmigrant classific...  "
      ]
     },
     "execution_count": 2,
     "metadata": {},
     "output_type": "execute_result"
    }
   ],
   "source": [
    "data = pd.read_csv(r\"../input/tvisa-tracking/result.csv\")\n",
    "data.head()"
   ]
  },
  {
   "cell_type": "markdown",
   "metadata": {
    "papermill": {
     "duration": 0.003963,
     "end_time": "2020-10-28T19:37:45.844806",
     "exception": false,
     "start_time": "2020-10-28T19:37:45.840843",
     "status": "completed"
    },
    "tags": []
   },
   "source": [
    "We collected a 188 rows, 9 columns dataset from [non-precedent decisions](https://www.uscis.gov/administrative-appeals/aao-decisions/aao-non-precedent-decisions) (search \"Form I-914\")\n"
   ]
  },
  {
   "cell_type": "code",
   "execution_count": 3,
   "metadata": {
    "execution": {
     "iopub.execute_input": "2020-10-28T19:37:45.856614Z",
     "iopub.status.busy": "2020-10-28T19:37:45.855997Z",
     "iopub.status.idle": "2020-10-28T19:37:45.859448Z",
     "shell.execute_reply": "2020-10-28T19:37:45.859787Z"
    },
    "papermill": {
     "duration": 0.011019,
     "end_time": "2020-10-28T19:37:45.859871",
     "exception": false,
     "start_time": "2020-10-28T19:37:45.848852",
     "status": "completed"
    },
    "tags": []
   },
   "outputs": [
    {
     "data": {
      "text/plain": [
       "(188, 9)"
      ]
     },
     "execution_count": 3,
     "metadata": {},
     "output_type": "execute_result"
    }
   ],
   "source": [
    "data.shape"
   ]
  },
  {
   "cell_type": "code",
   "execution_count": 4,
   "metadata": {
    "execution": {
     "iopub.execute_input": "2020-10-28T19:37:45.875316Z",
     "iopub.status.busy": "2020-10-28T19:37:45.874858Z",
     "iopub.status.idle": "2020-10-28T19:37:45.879065Z",
     "shell.execute_reply": "2020-10-28T19:37:45.878622Z"
    },
    "papermill": {
     "duration": 0.014882,
     "end_time": "2020-10-28T19:37:45.879140",
     "exception": false,
     "start_time": "2020-10-28T19:37:45.864258",
     "status": "completed"
    },
    "tags": []
   },
   "outputs": [
    {
     "data": {
      "text/plain": [
       "The appeal is dismissed.                                                                                                                                  138\n",
       "The decision of the Director is withdrawn.                                                                                                                 16\n",
       "The motion to reopen is denied.                                                                                                                            13\n",
       "The motion to reconsider is dismissed.                                                                                                                      6\n",
       "The appeal is rejected.                                                                                                                                     3\n",
       "The motion to reopen is granted.                                                                                                                            2\n",
       "The matter is remanded for the entry of a new decision consistent with the foregoing analysis, which, if adverse, shall be certified to us for review.      1\n",
       "The motion to reconsider is denied.                                                                                                                         1\n",
       "The appeal is sustained.                                                                                                                                    1\n",
       "The initial decision of the Director, Vermont Service Center, is withdrawn.                                                                                 1\n",
       "The application is denied.                                                                                                                                  1\n",
       "The application is dismissed.                                                                                                                               1\n",
       "The appeal is dismisse.                                                                                                                                     1\n",
       "The motion to reopen is dismissed.                                                                                                                          1\n",
       "The initial decision of the Director, Vermont Service Center, dated November 21, 2014, is affirmed, and the application is denied.                          1\n",
       "The appeal is summarily dismissed pursuant to 8 C.                                                                                                          1\n",
       "Name: order, dtype: int64"
      ]
     },
     "execution_count": 4,
     "metadata": {},
     "output_type": "execute_result"
    }
   ],
   "source": [
    "data['order'].value_counts()\n"
   ]
  },
  {
   "cell_type": "markdown",
   "metadata": {
    "papermill": {
     "duration": 0.004645,
     "end_time": "2020-10-28T19:37:45.888611",
     "exception": false,
     "start_time": "2020-10-28T19:37:45.883966",
     "status": "completed"
    },
    "tags": []
   },
   "source": [
    "According to the data, we can see 138 cases are dismissed, 16 cases are withdrawn, and etc...\n",
    "\n",
    "However, before we can answer questions from clients properly, we need to understand these statements properly then process the data set. We will discuss it during this Friday client meeting. "
   ]
  },
  {
   "cell_type": "code",
   "execution_count": null,
   "metadata": {
    "papermill": {
     "duration": 0.004583,
     "end_time": "2020-10-28T19:37:45.898941",
     "exception": false,
     "start_time": "2020-10-28T19:37:45.894358",
     "status": "completed"
    },
    "tags": []
   },
   "outputs": [],
   "source": []
  }
 ],
 "metadata": {
  "kernelspec": {
   "display_name": "Python 3",
   "language": "python",
   "name": "python3"
  },
  "language_info": {
   "codemirror_mode": {
    "name": "ipython",
    "version": 3
   },
   "file_extension": ".py",
   "mimetype": "text/x-python",
   "name": "python",
   "nbconvert_exporter": "python",
   "pygments_lexer": "ipython3",
   "version": "3.8.3"
  },
  "papermill": {
   "duration": 3.552796,
   "end_time": "2020-10-28T19:37:46.008259",
   "environment_variables": {},
   "exception": null,
   "input_path": "__notebook__.ipynb",
   "output_path": "__notebook__.ipynb",
   "parameters": {},
   "start_time": "2020-10-28T19:37:42.455463",
   "version": "2.1.0"
  }
 },
 "nbformat": 4,
 "nbformat_minor": 4
}
