{
  "nbformat": 4,
  "nbformat_minor": 0,
  "metadata": {
    "colab": {
      "name": "google_place_API.ipynb",
      "provenance": []
    },
    "kernelspec": {
      "name": "python3",
      "display_name": "Python 3"
    }
  },
  "cells": [
    {
      "cell_type": "markdown",
      "metadata": {
        "id": "q6cDm0pxJdIc"
      },
      "source": [
        " # **Google Place API -- Boston Restaurants Database**\n",
        "\n"
      ]
    },
    {
      "cell_type": "markdown",
      "metadata": {
        "id": "nRbB1qYXp6uj"
      },
      "source": [
        "# import library"
      ]
    },
    {
      "cell_type": "code",
      "metadata": {
        "id": "MLVh_V4aTWd2"
      },
      "source": [
        "import googlemaps\n",
        "import pprint\n",
        "import time\n",
        "import pandas as pd"
      ],
      "execution_count": null,
      "outputs": []
    },
    {
      "cell_type": "markdown",
      "metadata": {
        "id": "hqds2WBQqLAK"
      },
      "source": [
        "# Scraping 20 restaurants each time"
      ]
    },
    {
      "cell_type": "code",
      "metadata": {
        "id": "4svo4-Fqpgx7"
      },
      "source": [
        "def add_20_restaurants(place_result, boston_restaurants):\n",
        "  for rest in place_result['results']: \n",
        "    permanently_closed = False \n",
        "    if 'permanently_closed'in rest:\n",
        "      permanently_closed = True\n",
        "    boston_restaurants.append([  rest['name'], \n",
        "                    rest['geometry']['location']['lat'],\n",
        "                    rest['geometry']['location']['lng'],\n",
        "                    rest['vicinity'],\n",
        "                    rest['business_status'],\n",
        "                    permanently_closed,\n",
        "                    rest['rating'],\n",
        "                    rest['user_ratings_total'],\n",
        "                    rest['scope'],\n",
        "                    \",\".join(rest['types'])\n",
        "                      ]  )\n",
        "    \n",
        "  return place_result['next_page_token'], boston_restaurants"
      ],
      "execution_count": null,
      "outputs": []
    },
    {
      "cell_type": "markdown",
      "metadata": {
        "id": "mxO22NffKA-L"
      },
      "source": [
        "# Generate 100 location points in boston \n",
        "Because google place API only return 60 result each time."
      ]
    },
    {
      "cell_type": "code",
      "metadata": {
        "id": "9tIrTX5G24RY"
      },
      "source": [
        "# square boston area  due to 60 result ecah return in google map policy\n",
        "east_location = -71.005180\n",
        "west_location = -71.244204\n",
        "north_location = 42.402418\n",
        "south_location = 42.274505\n",
        "\n",
        "long = (west_location-east_location)/9\n",
        "wide = (north_location -south_location )/9\n",
        "lng_dic = [long*i+east_location   for i in range(10)]\n",
        "lat_dic = [wide*i+south_location   for i in range(10)]\n",
        "\n",
        "# 100 location points\n",
        "locations = [] \n",
        "for lat in lat_dic:\n",
        "  for lng in lng_dic:\n",
        "    string = str(lat)+\",\"+str(lng)\n",
        "    locations.append(string) \n"
      ],
      "execution_count": null,
      "outputs": []
    },
    {
      "cell_type": "markdown",
      "metadata": {
        "id": "yePYngPtqwpT"
      },
      "source": [
        "# Download restaurants infomation "
      ]
    },
    {
      "cell_type": "code",
      "metadata": {
        "id": "Ncx_LQqjzXP5",
        "colab": {
          "base_uri": "https://localhost:8080/"
        },
        "outputId": "a09c1e81-833d-4547-ea08-259891564eaf"
      },
      "source": [
        "api_key = '************************************'\n",
        "gmaps = googlemaps.Client(key = api_key)\n",
        "\n",
        "# using columns in place_result\n",
        "field = ['name', 'lat', 'lng', 'vicinity','business_status','permanently_closed ', 'rating ','user_ratings_total ', 'source', 'type']\n",
        "\n",
        "\n",
        "# I try radius 100, 1000, 2000(best), 4000, 100000 \n",
        "boston_restaurants = []\n",
        "for location in locations:\n",
        "  place_result = gmaps.places_nearby(location, radius = 2000 , type = 'restaurant')\n",
        "  iter = 3\n",
        "  for i in range(iter):\n",
        "    try:\n",
        "      next_page_token ,boston_restaurants = add_20_restaurants(place_result, boston_restaurants)\n",
        "      time.sleep(3)\n",
        "      place_result = gmaps.places_nearby(page_token= next_page_token)\n",
        "    except:\n",
        "      break\n",
        "  # pprint.pprint(place_result)\n",
        "\n",
        "len(boston_restaurants)"
      ],
      "execution_count": null,
      "outputs": [
        {
          "output_type": "execute_result",
          "data": {
            "text/plain": [
              "3731"
            ]
          },
          "metadata": {
            "tags": []
          },
          "execution_count": 36
        }
      ]
    },
    {
      "cell_type": "markdown",
      "metadata": {
        "id": "byCkcVW7LMmz"
      },
      "source": [
        "# Reduce Repeat Restaurants"
      ]
    },
    {
      "cell_type": "code",
      "metadata": {
        "id": "vI7JWvea9ivX",
        "colab": {
          "base_uri": "https://localhost:8080/",
          "height": 485
        },
        "outputId": "07ffbaf1-1281-4128-96e7-76ca88390212"
      },
      "source": [
        "no_repeat_rest = []\n",
        "for i in boston_restaurants:\n",
        "  if i not in no_repeat_rest:\n",
        "    no_repeat_rest.append(i)\n",
        "print('There are ', str(len(no_repeat_rest)), 'restaurants in boston from google API' )\n",
        "df = pd.DataFrame(no_repeat_rest, columns = field)\n",
        "df.head()"
      ],
      "execution_count": null,
      "outputs": [
        {
          "output_type": "stream",
          "text": [
            "There are  1636 restaurants in boston from google API\n"
          ],
          "name": "stdout"
        },
        {
          "output_type": "execute_result",
          "data": {
            "text/html": [
              "<div>\n",
              "<style scoped>\n",
              "    .dataframe tbody tr th:only-of-type {\n",
              "        vertical-align: middle;\n",
              "    }\n",
              "\n",
              "    .dataframe tbody tr th {\n",
              "        vertical-align: top;\n",
              "    }\n",
              "\n",
              "    .dataframe thead th {\n",
              "        text-align: right;\n",
              "    }\n",
              "</style>\n",
              "<table border=\"1\" class=\"dataframe\">\n",
              "  <thead>\n",
              "    <tr style=\"text-align: right;\">\n",
              "      <th></th>\n",
              "      <th>name</th>\n",
              "      <th>lat</th>\n",
              "      <th>lng</th>\n",
              "      <th>vicinity</th>\n",
              "      <th>business_status</th>\n",
              "      <th>permanently_closed</th>\n",
              "      <th>rating</th>\n",
              "      <th>user_ratings_total</th>\n",
              "      <th>source</th>\n",
              "      <th>type</th>\n",
              "    </tr>\n",
              "  </thead>\n",
              "  <tbody>\n",
              "    <tr>\n",
              "      <th>0</th>\n",
              "      <td>Tony's Clam Shop</td>\n",
              "      <td>42.275225</td>\n",
              "      <td>-71.005996</td>\n",
              "      <td>861 Quincy Shore Drive, Quincy</td>\n",
              "      <td>CLOSED_TEMPORARILY</td>\n",
              "      <td>True</td>\n",
              "      <td>4.3</td>\n",
              "      <td>1609</td>\n",
              "      <td>GOOGLE</td>\n",
              "      <td>restaurant,food,point_of_interest,establishment</td>\n",
              "    </tr>\n",
              "    <tr>\n",
              "      <th>1</th>\n",
              "      <td>Great Chow</td>\n",
              "      <td>42.267550</td>\n",
              "      <td>-71.016865</td>\n",
              "      <td>17 Beale Street, Quincy</td>\n",
              "      <td>OPERATIONAL</td>\n",
              "      <td>False</td>\n",
              "      <td>3.9</td>\n",
              "      <td>147</td>\n",
              "      <td>GOOGLE</td>\n",
              "      <td>meal_delivery,restaurant,food,point_of_interes...</td>\n",
              "    </tr>\n",
              "    <tr>\n",
              "      <th>2</th>\n",
              "      <td>La Paloma Mexican Restaurant</td>\n",
              "      <td>42.269169</td>\n",
              "      <td>-71.024356</td>\n",
              "      <td>195 Newport Avenue, Quincy</td>\n",
              "      <td>OPERATIONAL</td>\n",
              "      <td>False</td>\n",
              "      <td>4.2</td>\n",
              "      <td>545</td>\n",
              "      <td>GOOGLE</td>\n",
              "      <td>restaurant,food,point_of_interest,establishment</td>\n",
              "    </tr>\n",
              "    <tr>\n",
              "      <th>3</th>\n",
              "      <td>Chipotle Mexican Grill</td>\n",
              "      <td>42.272584</td>\n",
              "      <td>-71.027265</td>\n",
              "      <td>60 Newport Avenue, Quincy</td>\n",
              "      <td>OPERATIONAL</td>\n",
              "      <td>False</td>\n",
              "      <td>3.9</td>\n",
              "      <td>627</td>\n",
              "      <td>GOOGLE</td>\n",
              "      <td>restaurant,food,point_of_interest,establishment</td>\n",
              "    </tr>\n",
              "    <tr>\n",
              "      <th>4</th>\n",
              "      <td>China Jade</td>\n",
              "      <td>42.269307</td>\n",
              "      <td>-71.024366</td>\n",
              "      <td>195 Newport Avenue, Quincy</td>\n",
              "      <td>OPERATIONAL</td>\n",
              "      <td>False</td>\n",
              "      <td>3.5</td>\n",
              "      <td>42</td>\n",
              "      <td>GOOGLE</td>\n",
              "      <td>meal_delivery,restaurant,food,point_of_interes...</td>\n",
              "    </tr>\n",
              "  </tbody>\n",
              "</table>\n",
              "</div>"
            ],
            "text/plain": [
              "                           name  ...                                               type\n",
              "0              Tony's Clam Shop  ...    restaurant,food,point_of_interest,establishment\n",
              "1                    Great Chow  ...  meal_delivery,restaurant,food,point_of_interes...\n",
              "2  La Paloma Mexican Restaurant  ...    restaurant,food,point_of_interest,establishment\n",
              "3        Chipotle Mexican Grill  ...    restaurant,food,point_of_interest,establishment\n",
              "4                    China Jade  ...  meal_delivery,restaurant,food,point_of_interes...\n",
              "\n",
              "[5 rows x 10 columns]"
            ]
          },
          "metadata": {
            "tags": []
          },
          "execution_count": 41
        }
      ]
    },
    {
      "cell_type": "markdown",
      "metadata": {
        "id": "ltb9R_lxLae-"
      },
      "source": [
        "# Save as file"
      ]
    },
    {
      "cell_type": "code",
      "metadata": {
        "id": "is6J92XYXKD-"
      },
      "source": [
        "df.to_csv('boston_restaurants.csv', index= False)"
      ],
      "execution_count": null,
      "outputs": []
    }
  ]
}