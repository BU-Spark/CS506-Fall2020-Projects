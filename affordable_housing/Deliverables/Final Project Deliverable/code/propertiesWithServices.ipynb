{
 "cells": [
  {
   "cell_type": "markdown",
   "metadata": {},
   "source": [
    "# Properties with services\n",
    "Script to calculate which parcels have either building value or \"othe\" value. This units will be assumed to have some development on them for which sercices (water, power, etc.) will be present"
   ]
  },
  {
   "cell_type": "code",
   "execution_count": 1,
   "metadata": {},
   "outputs": [],
   "source": [
    "import numpy as np\n",
    "import pandas as pd"
   ]
  },
  {
   "cell_type": "markdown",
   "metadata": {},
   "source": [
    "## Municipal Housing Units\n"
   ]
  },
  {
   "cell_type": "code",
   "execution_count": 2,
   "metadata": {},
   "outputs": [],
   "source": [
    "housing_filename = 'Housing_Final.csv'\n",
    "housing_data = pd.read_csv(housing_filename)\n",
    "housing_data = housing_data.fillna(0)\n",
    "#housing_data.head(4)"
   ]
  },
  {
   "cell_type": "raw",
   "metadata": {},
   "source": [
    "Creating smaller data set for analysis"
   ]
  },
  {
   "cell_type": "code",
   "execution_count": 8,
   "metadata": {},
   "outputs": [
    {
     "name": "stdout",
     "output_type": "stream",
     "text": [
      "    index  mapc_id         parloc_id  luc_adj_1  luc_adj_2  muni_id      muni  \\\n",
      "4     133    14327   M_141021_927092        973        973       15     Athol   \n",
      "16    229    24168   M_150332_909035        973        973       21     Barre   \n",
      "18    231    24289   M_150195_908945        973        973       21     Barre   \n",
      "20    278    30393    M_72087_892191        973        973       22    Becket   \n",
      "27    482    55659  F_356083_2878980        973        973       61  Chicopee   \n",
      "\n",
      "                  District  land_value  bldg_value  ...      addr_str  \\\n",
      "4    2nd Franklin District         0.0         0.0  ...    LIBERTY ST   \n",
      "16  5th Worcester District         0.0         0.0  ...  RUGGLES LANE   \n",
      "18  5th Worcester District         0.0         0.0  ...  RUGGLES LANE   \n",
      "20  4th Berkshire District         0.0         0.0  ...   MAIN STREET   \n",
      "27    6th Hampden District         0.0         0.0  ...    STONINA DR   \n",
      "\n",
      "    owner_city  owner_stat   owner_zip median_hh_income   latitude  longitude  \\\n",
      "4        ATHOL          MA        1331          50732.0  42.592157 -72.218588   \n",
      "16       BARRE          MA        1005          68139.0  42.430254 -72.103592   \n",
      "18       BARRE          MA        1005          68139.0  42.429435 -72.105249   \n",
      "20  PITTSFIELD          MA        1201          75852.0  42.269726 -73.050601   \n",
      "27    CHICOPEE          MA  01013-1896          48125.0  42.142722 -72.606527   \n",
      "\n",
      "   numTransitStops walkscore  improve_value  \n",
      "4              5.0      40.0            0.0  \n",
      "16             0.0      15.0            0.0  \n",
      "18             0.0      23.0            0.0  \n",
      "20             0.0       7.0            0.0  \n",
      "27             0.0      73.0            0.0  \n",
      "\n",
      "[5 rows x 25 columns]\n"
     ]
    }
   ],
   "source": [
    "smallerData = pd.DataFrame({'muni': housing_data['muni'],\n",
    "                    'bldg_value': housing_data['bldg_value'],\n",
    "                    'othr_value': housing_data['othr_value']},columns=['muni','bldg_value','othr_value'])\n",
    "smallerData['improve_value'] = smallerData.sum(axis=1)\n",
    "housing_data['improve_value'] = smallerData['improve_value']\n",
    "print(housing_data[housing_data['improve_value']==0].head())\n",
    "\n",
    "housing_improvedLots = housing_data[housing_data['improve_value']!=0]\n",
    "housing_nonImprovedLots = housing_data[housing_data['improve_value']==0]"
   ]
  },
  {
   "cell_type": "code",
   "execution_count": 129,
   "metadata": {},
   "outputs": [],
   "source": [
    "housing_improvedLots.to_csv('housing_improvedLots.csv')\n",
    "housing_nonImprovedLots.to_csv('housing_nonImprovedLots.csv')"
   ]
  },
  {
   "cell_type": "markdown",
   "metadata": {},
   "source": [
    "## Transportation Lots"
   ]
  },
  {
   "cell_type": "code",
   "execution_count": 130,
   "metadata": {},
   "outputs": [],
   "source": [
    "trans_filename1 = 'vacant_transportation_975.csv'\n",
    "trans_filename2 = 'non_vacant_transportation_972.csv'\n",
    "trans_vacantData = pd.read_csv(trans_filename1)\n",
    "trans_nonVacantData = pd.read_csv(trans_filename2)\n",
    "trans_data = pd.concat([trans_vacantData, trans_nonVacantData]).fillna(0)"
   ]
  },
  {
   "cell_type": "markdown",
   "metadata": {},
   "source": [
    "Creating smaller data set for analysis"
   ]
  },
  {
   "cell_type": "code",
   "execution_count": 131,
   "metadata": {},
   "outputs": [],
   "source": [
    "smallerData = pd.DataFrame({'muni': trans_data['muni'],\n",
    "                    'bldg_value': trans_data['bldg_value'],\n",
    "                    'othr_value': trans_data['othr_value']},columns=['muni','bldg_value','othr_value'])\n",
    "\n",
    "smallerData['improve_value'] = smallerData.sum(axis=1)\n",
    "trans_data['improve_value'] = smallerData['improve_value']\n",
    "\n",
    "trans_improvedLots = trans_data[trans_data['improve_value']!=0]\n",
    "trans_nonImprovedLots = trans_data[trans_data['improve_value']==0]"
   ]
  },
  {
   "cell_type": "code",
   "execution_count": 132,
   "metadata": {},
   "outputs": [],
   "source": [
    "trans_improvedLots.to_csv('trans_improvedLots.csv')\n",
    "trans_nonImprovedLots.to_csv('trans_nonImprovedLots.csv')"
   ]
  }
 ],
 "metadata": {
  "kernelspec": {
   "display_name": "Python 3",
   "language": "python",
   "name": "python3"
  },
  "language_info": {
   "codemirror_mode": {
    "name": "ipython",
    "version": 3
   },
   "file_extension": ".py",
   "mimetype": "text/x-python",
   "name": "python",
   "nbconvert_exporter": "python",
   "pygments_lexer": "ipython3",
   "version": "3.8.5"
  }
 },
 "nbformat": 4,
 "nbformat_minor": 4
}
