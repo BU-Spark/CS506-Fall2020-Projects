{
 "cells": [
  {
   "cell_type": "markdown",
   "metadata": {},
   "source": [
    "# Seperate Parcels based on housing codes\n",
    "Script to divide parcels based on property codes\n"
   ]
  },
  {
   "cell_type": "code",
   "execution_count": 62,
   "metadata": {},
   "outputs": [],
   "source": [
    "import numpy as np\n",
    "import pandas as pd"
   ]
  },
  {
   "cell_type": "markdown",
   "metadata": {},
   "source": [
    "#### Data Import"
   ]
  },
  {
   "cell_type": "code",
   "execution_count": 63,
   "metadata": {},
   "outputs": [],
   "source": [
    "housing_filename = 'Housing_Final.csv'\n",
    "trans_filename = 'Transportation_Final.csv'"
   ]
  },
  {
   "cell_type": "code",
   "execution_count": 64,
   "metadata": {},
   "outputs": [],
   "source": [
    "housing_data = pd.read_csv(housing_filename)\n",
    "trans_data = pd.read_csv(trans_filename)\n"
   ]
  },
  {
   "cell_type": "markdown",
   "metadata": {},
   "source": [
    "## Adding sqft un impervious "
   ]
  },
  {
   "cell_type": "code",
   "execution_count": 65,
   "metadata": {},
   "outputs": [],
   "source": [
    "housing_original_data = pd.read_csv('housing.csv')\n",
    "trans_original_data = pd.read_csv('transportation.csv')\n",
    "housing_data['sqFT_un_imperv'] = housing_original_data['lot_areaft']*(100-housing_original_data['pct_imperv'])/100\n",
    "trans_data['sqFT_un_imperv'] = trans_original_data['lot_areaft']*(100-trans_original_data['pct_imperv'])/100\n",
    "# housing_data.head(10)\n",
    "# trans_data.head(10)\n"
   ]
  },
  {
   "cell_type": "markdown",
   "metadata": {},
   "source": [
    "### Specified Codes"
   ]
  },
  {
   "cell_type": "code",
   "execution_count": 66,
   "metadata": {},
   "outputs": [],
   "source": [
    "housing_vacantCodes = [973];\n",
    "housing_nonVacantCodes = [970,102]\n",
    "trans_vacantCodes = [975]\n",
    "trans_nonVacantCodes = [972]"
   ]
  },
  {
   "cell_type": "markdown",
   "metadata": {},
   "source": [
    "## Housing Data"
   ]
  },
  {
   "cell_type": "code",
   "execution_count": 67,
   "metadata": {},
   "outputs": [],
   "source": [
    "housing_vacantData = housing_data[(housing_data['luc_adj_1'].isin(housing_vacantCodes)) | (housing_data['luc_adj_2'].isin(housing_vacantCodes))]\n",
    "housing_nonVacantData = housing_data[(housing_data['luc_adj_1'].isin(housing_nonVacantCodes)) | (housing_data['luc_adj_2'].isin(housing_nonVacantCodes))]"
   ]
  },
  {
   "cell_type": "code",
   "execution_count": 68,
   "metadata": {},
   "outputs": [],
   "source": [
    "housing_vacantData.to_csv('vacant_housing_code_973.csv')\n",
    "housing_nonVacantData.to_csv('non_vacant_housing_code_970_102.csv')"
   ]
  },
  {
   "cell_type": "markdown",
   "metadata": {},
   "source": [
    "## Transportation Parcels"
   ]
  },
  {
   "cell_type": "code",
   "execution_count": 69,
   "metadata": {},
   "outputs": [],
   "source": [
    "trans_vacantData = trans_data[(trans_data['luc_adj_1'].isin(trans_vacantCodes)) | (trans_data['luc_adj_2'].isin(trans_vacantCodes))]\n",
    "trans_nonVacantData = trans_data[(trans_data['luc_adj_1'].isin(trans_nonVacantCodes)) | (trans_data['luc_adj_2'].isin(trans_nonVacantCodes))]"
   ]
  },
  {
   "cell_type": "code",
   "execution_count": 70,
   "metadata": {},
   "outputs": [],
   "source": [
    "trans_vacantData.to_csv('vacant_transportation_975.csv')\n",
    "trans_nonVacantData.to_csv('non_vacant_transportation_972.csv')"
   ]
  },
  {
   "cell_type": "markdown",
   "metadata": {},
   "source": [
    "# Adding sqft un impervious "
   ]
  },
  {
   "cell_type": "code",
   "execution_count": null,
   "metadata": {},
   "outputs": [],
   "source": []
  },
  {
   "cell_type": "code",
   "execution_count": null,
   "metadata": {},
   "outputs": [],
   "source": []
  }
 ],
 "metadata": {
  "kernelspec": {
   "display_name": "Python 3",
   "language": "python",
   "name": "python3"
  },
  "language_info": {
   "codemirror_mode": {
    "name": "ipython",
    "version": 3
   },
   "file_extension": ".py",
   "mimetype": "text/x-python",
   "name": "python",
   "nbconvert_exporter": "python",
   "pygments_lexer": "ipython3",
   "version": "3.8.5"
  }
 },
 "nbformat": 4,
 "nbformat_minor": 4
}
