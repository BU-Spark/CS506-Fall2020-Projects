{
 "cells": [
  {
   "cell_type": "code",
   "execution_count": 1,
   "metadata": {},
   "outputs": [
    {
     "name": "stdout",
     "output_type": "stream",
     "text": [
      "(1796941, 14)\n"
     ]
    }
   ],
   "source": [
    "import pandas as pd\n",
    "import numpy as np\n",
    "\n",
    "\n",
    "X = pd.read_csv('upated-raw_data.csv', parse_dates = True, low_memory = False)\n",
    "print(X.shape)"
   ]
  },
  {
   "cell_type": "code",
   "execution_count": 2,
   "metadata": {},
   "outputs": [],
   "source": [
    "X1 = X.drop(X.index[104],axis = 0)\n",
    "X2 = X1.drop(X.index[69],axis = 0)\n",
    "X3 = X2.drop(X.index[34],axis = 0)"
   ]
  },
  {
   "cell_type": "code",
   "execution_count": 3,
   "metadata": {},
   "outputs": [
    {
     "name": "stdout",
     "output_type": "stream",
     "text": [
      "['[2020-10-08 15:26:29] production_jobs.INFO: 8' '147'\n",
      " '2018-09-26 12:19:32' '2018-09-25 21:05:24' '2018-09-27 09:30:53'\n",
      " 'Welcome to Journey' 'INTERNAL_VIDEO' 'Welcome ' '0' nan 'Web'\n",
      " 'Direct Connection' 'eDE0NzY2Mg==' '-  ']\n"
     ]
    }
   ],
   "source": [
    "X3 = X3.values\n",
    "print(X3[0])\n",
    "\n",
    "#X3 = X3[1:]\n"
   ]
  },
  {
   "cell_type": "code",
   "execution_count": 4,
   "metadata": {},
   "outputs": [],
   "source": [
    "res_list = X3.T.tolist()\n",
    "b = list(set(res_list[10]))\n",
    "\n",
    "device = X3[:,10]\n",
    "for i in range(len(device)):\n",
    "    if device[i] == 'Device':\n",
    "        print(i)\n",
    "        \n",
    "content_type = X3[:,6]\n",
    "for i in range(len(content_type)):\n",
    "    if content_type[i] == 'Content Type':\n",
    "        print(i)\n",
    "#print(b)"
   ]
  },
  {
   "cell_type": "code",
   "execution_count": 5,
   "metadata": {},
   "outputs": [],
   "source": [
    "\n",
    "device = X3[:,10]\n",
    "#print(device)\n",
    "channel = X3[:,11]\n",
    "#print(channel)\n",
    "content_type = X3[:,6]\n",
    "#print(content_type)\n",
    "for i in range(len(device)):\n",
    "    if device[i] == 'Android':\n",
    "        device[i] = 4\n",
    "    elif device[i] == 'iOS':\n",
    "        device[i] = 3    \n",
    "    elif device[i] == 'Web':\n",
    "        device[i] = 2 \n",
    "    elif device[i] == 'Mobile Web (Tablet)':\n",
    "        device[i] = 1\n",
    "    elif device[i] == 'Mobile Web':\n",
    "        device[i] = 5\n",
    "    else:\n",
    "        device[i] = 0\n",
    "#print(device)\n",
    "\n",
    "for i in range(len(channel)):\n",
    "    if channel[i] == 'Mobile Notification':\n",
    "        channel[i] = 2\n",
    "    elif channel[i] == 'From Email':\n",
    "        channel[i] = 1\n",
    "    elif channel[i] == 'Direct Connection':\n",
    "        channel[i] = 3\n",
    "    else:\n",
    "        channel[i] = 0\n",
    "#print(channel)\n",
    "\n",
    "content_type_list = ['KEY_CONTACT_NEWHIRE', 'EXTERNAL_ARTICLE', 'CHECKLIST', 'KNOWLEDGE_REQUIREMENT_NEWHIRE', 'BOOK_SUGGESTION', 'QUIZ', 'KEY_CONTACT_MANAGER', 'EXTERNAL_VIDEO', 'SURVEY', 'MEETING', 'LIVE_EVENT', 'INTERNAL_ARTICLE', 'FLIPBOOK', 'KNOWLEDGE_REQUIREMENT_MANAGER', 'INFOGRAPHIC', 'Content Type', 'INTERNAL_VIDEO', 'QUOTES']\n",
    "\n",
    "for i in range(len(content_type)):\n",
    "    if content_type[i] == content_type_list[0]:\n",
    "        content_type[i] = 17\n",
    "    elif content_type[i] == content_type_list[1]:\n",
    "        content_type[i] = 1\n",
    "    elif content_type[i] == content_type_list[2]:\n",
    "        content_type[i] = 2\n",
    "    elif content_type[i] == content_type_list[3]:\n",
    "        content_type[i] = 3\n",
    "    elif content_type[i] == content_type_list[4]:\n",
    "        content_type[i] = 4\n",
    "    elif content_type[i] == content_type_list[5]:\n",
    "        content_type[i] = 5\n",
    "    elif content_type[i] == content_type_list[6]:\n",
    "        content_type[i] = 6\n",
    "    elif content_type[i] == content_type_list[7]:\n",
    "        content_type[i] = 7\n",
    "    elif content_type[i] == content_type_list[8]:\n",
    "        content_type[i] = 8\n",
    "    elif content_type[i] == content_type_list[9]:\n",
    "        content_type[i] = 9\n",
    "    elif content_type[i] == content_type_list[10]:\n",
    "        content_type[i] = 10\n",
    "    elif content_type[i] == content_type_list[11]:\n",
    "        content_type[i] = 11\n",
    "    elif content_type[i] == content_type_list[12]:\n",
    "        content_type[i] = 12\n",
    "    elif content_type[i] == content_type_list[13]:\n",
    "        content_type[i] = 13\n",
    "    elif content_type[i] == content_type_list[14]:\n",
    "        content_type[i] = 14\n",
    "    elif content_type[i] == content_type_list[15]:\n",
    "        content_type[i] = 15\n",
    "    elif content_type[i] == content_type_list[16]:\n",
    "        content_type[i] = 16\n",
    "    else:\n",
    "        content_type[i] = 0\n",
    "#print(content_type)"
   ]
  },
  {
   "cell_type": "code",
   "execution_count": 7,
   "metadata": {},
   "outputs": [
    {
     "data": {
      "text/html": [
       "<div>\n",
       "<style scoped>\n",
       "    .dataframe tbody tr th:only-of-type {\n",
       "        vertical-align: middle;\n",
       "    }\n",
       "\n",
       "    .dataframe tbody tr th {\n",
       "        vertical-align: top;\n",
       "    }\n",
       "\n",
       "    .dataframe thead th {\n",
       "        text-align: right;\n",
       "    }\n",
       "</style>\n",
       "<table border=\"1\" class=\"dataframe\">\n",
       "  <thead>\n",
       "    <tr style=\"text-align: right;\">\n",
       "      <th></th>\n",
       "      <th>0</th>\n",
       "      <th>1</th>\n",
       "      <th>2</th>\n",
       "      <th>3</th>\n",
       "      <th>4</th>\n",
       "      <th>5</th>\n",
       "      <th>6</th>\n",
       "      <th>7</th>\n",
       "      <th>8</th>\n",
       "      <th>9</th>\n",
       "      <th>10</th>\n",
       "      <th>11</th>\n",
       "      <th>12</th>\n",
       "      <th>13</th>\n",
       "    </tr>\n",
       "  </thead>\n",
       "  <tbody>\n",
       "    <tr>\n",
       "      <th>0</th>\n",
       "      <td>[2020-10-08 15:26:29] production_jobs.INFO: 8</td>\n",
       "      <td>147</td>\n",
       "      <td>2018-09-26 12:19:32</td>\n",
       "      <td>2018-09-25 21:05:24</td>\n",
       "      <td>2018-09-27 09:30:53</td>\n",
       "      <td>Welcome to Journey</td>\n",
       "      <td>16</td>\n",
       "      <td>Welcome</td>\n",
       "      <td>0</td>\n",
       "      <td>NaN</td>\n",
       "      <td>2</td>\n",
       "      <td>3</td>\n",
       "      <td>eDE0NzY2Mg==</td>\n",
       "      <td>-</td>\n",
       "    </tr>\n",
       "    <tr>\n",
       "      <th>1</th>\n",
       "      <td>[2020-10-08 15:26:29] production_jobs.INFO: 9</td>\n",
       "      <td>139</td>\n",
       "      <td>2018-09-21 17:14:07</td>\n",
       "      <td>2018-09-22 10:00:02</td>\n",
       "      <td>2018-10-01 11:18:20</td>\n",
       "      <td>İnovasyoncunun Beş Alışkanlığı</td>\n",
       "      <td>14</td>\n",
       "      <td>İnovatif Bakış Açısı</td>\n",
       "      <td>100</td>\n",
       "      <td>NaN</td>\n",
       "      <td>2</td>\n",
       "      <td>3</td>\n",
       "      <td>eDEzOTY1MQ==</td>\n",
       "      <td>-</td>\n",
       "    </tr>\n",
       "    <tr>\n",
       "      <th>2</th>\n",
       "      <td>[2020-10-08 15:26:29] production_jobs.INFO: 9</td>\n",
       "      <td>139</td>\n",
       "      <td>2018-09-21 17:14:07</td>\n",
       "      <td>2018-09-23 10:00:59</td>\n",
       "      <td>2018-10-01 11:19:18</td>\n",
       "      <td>Peter Drucker’a göre İnovasyona Fırsat Sağlaya...</td>\n",
       "      <td>11</td>\n",
       "      <td>İnovatif Bakış Açısı</td>\n",
       "      <td>100</td>\n",
       "      <td>NaN</td>\n",
       "      <td>2</td>\n",
       "      <td>3</td>\n",
       "      <td>eDEzOTY1Mg==</td>\n",
       "      <td>-</td>\n",
       "    </tr>\n",
       "    <tr>\n",
       "      <th>3</th>\n",
       "      <td>[2020-10-08 15:26:29] production_jobs.INFO: 10</td>\n",
       "      <td>200</td>\n",
       "      <td>2018-10-03 09:36:25</td>\n",
       "      <td>2018-10-01 08:00:36</td>\n",
       "      <td>2018-10-03 09:48:55</td>\n",
       "      <td>Welcome to Journey</td>\n",
       "      <td>16</td>\n",
       "      <td>İnovatif Bakış Açısı</td>\n",
       "      <td>0</td>\n",
       "      <td>NaN</td>\n",
       "      <td>2</td>\n",
       "      <td>3</td>\n",
       "      <td>eDIwMDY4Ng==</td>\n",
       "      <td>-</td>\n",
       "    </tr>\n",
       "    <tr>\n",
       "      <th>4</th>\n",
       "      <td>[2020-10-08 15:26:29] production_jobs.INFO: 10</td>\n",
       "      <td>200</td>\n",
       "      <td>2018-10-03 09:36:25</td>\n",
       "      <td>2018-10-01 09:00:52</td>\n",
       "      <td>2018-10-03 10:38:28</td>\n",
       "      <td>Yenilikçinin İkilemi</td>\n",
       "      <td>16</td>\n",
       "      <td>İnovatif Bakış Açısı</td>\n",
       "      <td>0</td>\n",
       "      <td>NaN</td>\n",
       "      <td>2</td>\n",
       "      <td>3</td>\n",
       "      <td>eDIwMDY4Nw==</td>\n",
       "      <td>-</td>\n",
       "    </tr>\n",
       "  </tbody>\n",
       "</table>\n",
       "</div>"
      ],
      "text/plain": [
       "                                                0    1                    2  \\\n",
       "0   [2020-10-08 15:26:29] production_jobs.INFO: 8  147  2018-09-26 12:19:32   \n",
       "1   [2020-10-08 15:26:29] production_jobs.INFO: 9  139  2018-09-21 17:14:07   \n",
       "2   [2020-10-08 15:26:29] production_jobs.INFO: 9  139  2018-09-21 17:14:07   \n",
       "3  [2020-10-08 15:26:29] production_jobs.INFO: 10  200  2018-10-03 09:36:25   \n",
       "4  [2020-10-08 15:26:29] production_jobs.INFO: 10  200  2018-10-03 09:36:25   \n",
       "\n",
       "                     3                    4  \\\n",
       "0  2018-09-25 21:05:24  2018-09-27 09:30:53   \n",
       "1  2018-09-22 10:00:02  2018-10-01 11:18:20   \n",
       "2  2018-09-23 10:00:59  2018-10-01 11:19:18   \n",
       "3  2018-10-01 08:00:36  2018-10-03 09:48:55   \n",
       "4  2018-10-01 09:00:52  2018-10-03 10:38:28   \n",
       "\n",
       "                                                   5   6  \\\n",
       "0                                 Welcome to Journey  16   \n",
       "1                     İnovasyoncunun Beş Alışkanlığı  14   \n",
       "2  Peter Drucker’a göre İnovasyona Fırsat Sağlaya...  11   \n",
       "3                                 Welcome to Journey  16   \n",
       "4                               Yenilikçinin İkilemi  16   \n",
       "\n",
       "                       7    8    9 10 11            12   13  \n",
       "0               Welcome     0  NaN  2  3  eDE0NzY2Mg==  -    \n",
       "1  İnovatif Bakış Açısı   100  NaN  2  3  eDEzOTY1MQ==  -    \n",
       "2  İnovatif Bakış Açısı   100  NaN  2  3  eDEzOTY1Mg==  -    \n",
       "3  İnovatif Bakış Açısı     0  NaN  2  3  eDIwMDY4Ng==  -    \n",
       "4  İnovatif Bakış Açısı     0  NaN  2  3  eDIwMDY4Nw==  -    "
      ]
     },
     "execution_count": 7,
     "metadata": {},
     "output_type": "execute_result"
    }
   ],
   "source": [
    "clean_data = pd.DataFrame(X3)\n",
    "clean_data.head()\n",
    "#c = clean_data.values\n",
    "#print(c.shape)"
   ]
  },
  {
   "cell_type": "code",
   "execution_count": 8,
   "metadata": {},
   "outputs": [
    {
     "name": "stdout",
     "output_type": "stream",
     "text": [
      "3    890362\n",
      "4    818486\n",
      "2     51068\n",
      "5     36463\n",
      "1       559\n",
      "Name: 10, dtype: int64\n"
     ]
    }
   ],
   "source": [
    "max_value = clean_data[10].mode()\n",
    "clean_data[10] = clean_data[10].replace([0],max_value)\n",
    "print(clean_data[10].value_counts())"
   ]
  },
  {
   "cell_type": "code",
   "execution_count": 9,
   "metadata": {},
   "outputs": [],
   "source": [
    "content_max = clean_data[6].mode()\n",
    "#print(content_max)\n",
    "#print(clean_data[6].value_counts())\n",
    "\n",
    "\n",
    "clean_data[6] = clean_data[6].replace([0],content_max)\n",
    "#print('after: ',clean_data[6].value_counts())"
   ]
  },
  {
   "cell_type": "code",
   "execution_count": 10,
   "metadata": {},
   "outputs": [],
   "source": [
    "max_value = clean_data[11].mode()\n",
    "clean_data[11] = clean_data[11].replace([0],max_value)\n",
    "#print(clean_data[11].value_counts())"
   ]
  },
  {
   "cell_type": "code",
   "execution_count": 11,
   "metadata": {},
   "outputs": [
    {
     "name": "stdout",
     "output_type": "stream",
     "text": [
      "(1796929, 14)\n"
     ]
    }
   ],
   "source": [
    "#clean_data.isin(['FLIPBOOK']).any()\n",
    "#clean_data[1].where(clean_data[1] == 'FLIPBOOK')\n",
    "clean_data.drop(clean_data[clean_data[1] == 'FLIPBOOK'].index, inplace = True)\n",
    "print(clean_data.shape)\n",
    "\n",
    "#clean_data[1] = pd.to_numeric(clean_data[1])\n",
    "#print(clean_data.shape)\n",
    "clean_data[1] = clean_data[1].astype('int')"
   ]
  },
  {
   "cell_type": "code",
   "execution_count": 12,
   "metadata": {},
   "outputs": [],
   "source": [
    "clean_data.columns = ['Customer Id','User Id', 'User Created At', 'Activation Date', 'Activity Date','Name', 'Content Type', 'Journey Name', 'Action', 'Duration','Device', 'Channel', 'Session Id', 'Rating']\n"
   ]
  },
  {
   "cell_type": "code",
   "execution_count": 13,
   "metadata": {},
   "outputs": [
    {
     "data": {
      "text/plain": [
       "Customer Id        object\n",
       "User Id             int64\n",
       "User Created At    object\n",
       "Activation Date    object\n",
       "Activity Date      object\n",
       "Name               object\n",
       "Content Type        int64\n",
       "Journey Name       object\n",
       "Action             object\n",
       "Duration           object\n",
       "Device              int64\n",
       "Channel             int64\n",
       "Session Id         object\n",
       "Rating             object\n",
       "dtype: object"
      ]
     },
     "execution_count": 13,
     "metadata": {},
     "output_type": "execute_result"
    }
   ],
   "source": [
    "clean_data.dtypes"
   ]
  },
  {
   "cell_type": "code",
   "execution_count": 15,
   "metadata": {},
   "outputs": [
    {
     "name": "stderr",
     "output_type": "stream",
     "text": [
      "IOPub data rate exceeded.\n",
      "The notebook server will temporarily stop sending output\n",
      "to the client in order to avoid crashing it.\n",
      "To change this limit, set the config variable\n",
      "`--NotebookApp.iopub_data_rate_limit`.\n",
      "\n",
      "Current values:\n",
      "NotebookApp.iopub_data_rate_limit=1000000.0 (bytes/sec)\n",
      "NotebookApp.rate_limit_window=3.0 (secs)\n",
      "\n"
     ]
    }
   ],
   "source": [
    "#clean_data = clean_data[:300].groupby(['User Id'],axis=1)\n",
    "#print(Grouped.size())\n",
    "\n",
    "clean_data.groupby(['User Id'])\n",
    "\n",
    "#print(clean_data.groupby(['User Id']).count())\n",
    "\n",
    "group_label = clean_data.groupby(['User Id']).groups\n",
    "print(group_label)"
   ]
  },
  {
   "cell_type": "code",
   "execution_count": 16,
   "metadata": {},
   "outputs": [
    {
     "name": "stdout",
     "output_type": "stream",
     "text": [
      "<class 'dict'>\n"
     ]
    }
   ],
   "source": [
    "print(type(group_label))"
   ]
  },
  {
   "cell_type": "code",
   "execution_count": 17,
   "metadata": {},
   "outputs": [
    {
     "name": "stdout",
     "output_type": "stream",
     "text": [
      "Int64Index([   155,    156, 235964, 235965, 235966, 235967, 235968, 235970,\n",
      "            235972, 235973, 235974, 235975, 235976, 235977, 235980, 235982,\n",
      "            235983, 235985, 235986],\n",
      "           dtype='int64')\n"
     ]
    }
   ],
   "source": [
    "print(group_label[1])"
   ]
  },
  {
   "cell_type": "code",
   "execution_count": 18,
   "metadata": {},
   "outputs": [
    {
     "name": "stdout",
     "output_type": "stream",
     "text": [
      "<class 'pandas.core.indexes.numeric.Int64Index'>\n"
     ]
    }
   ],
   "source": [
    "print(type(group_label[1]))"
   ]
  },
  {
   "cell_type": "code",
   "execution_count": 19,
   "metadata": {},
   "outputs": [
    {
     "name": "stdout",
     "output_type": "stream",
     "text": [
      "0          1 days 12:25:29\n",
      "1          9 days 01:18:18\n",
      "2          8 days 01:18:19\n",
      "3          2 days 01:48:19\n",
      "4          2 days 01:37:36\n",
      "                ...       \n",
      "1796933   13 days 07:12:58\n",
      "1796934   13 days 08:43:04\n",
      "1796935    0 days 07:13:23\n",
      "1796936   13 days 07:13:26\n",
      "1796937   17 days 07:13:33\n",
      "Length: 1796929, dtype: timedelta64[ns]\n",
      "         User Id      Activation Date        Activity Date         Time lag\n",
      "0            147  2018-09-25 21:05:24  2018-09-27 09:30:53  1 days 12:25:29\n",
      "1            139  2018-09-22 10:00:02  2018-10-01 11:18:20  9 days 01:18:18\n",
      "2            139  2018-09-23 10:00:59  2018-10-01 11:19:18  8 days 01:18:19\n",
      "3            200  2018-10-01 08:00:36  2018-10-03 09:48:55  2 days 01:48:19\n",
      "4            200  2018-10-01 09:00:52  2018-10-03 10:38:28  2 days 01:37:36\n",
      "...          ...                  ...                  ...              ...\n",
      "1796933    44365  2020-09-25 16:00:00  2020-10-08 23:12:58 13 days 07:12:58\n",
      "1796934    43068  2020-09-25 14:30:00  2020-10-08 23:13:04 13 days 08:43:04\n",
      "1796935    43068  2020-10-08 16:00:00  2020-10-08 23:13:23  0 days 07:13:23\n",
      "1796936    44365  2020-09-25 16:00:00  2020-10-08 23:13:26 13 days 07:13:26\n",
      "1796937    44365  2020-09-21 16:00:00  2020-10-08 23:13:33 17 days 07:13:33\n",
      "\n",
      "[1796929 rows x 4 columns]\n"
     ]
    }
   ],
   "source": [
    "open_time = pd.DataFrame()\n",
    "\n",
    "open_time = clean_data[['User Id','Activation Date','Activity Date']]\n",
    "\n",
    "#diff = pd.Timestamp(open_time['Activity Date'])- pd.Timestamp(open_time['Activation Date'])\n",
    "diff = pd.to_datetime(open_time['Activity Date'])- pd.to_datetime(open_time['Activation Date'])\n",
    "print(diff)\n",
    "open_time.insert(3, \"Time lag\", diff)\n",
    "print(open_time)\n",
    "\n"
   ]
  },
  {
   "cell_type": "code",
   "execution_count": 22,
   "metadata": {},
   "outputs": [
    {
     "name": "stdout",
     "output_type": "stream",
     "text": [
      "Int64Index([   155,    156, 235964, 235965, 235966, 235967, 235968, 235970,\n",
      "            235972, 235973, 235974, 235975, 235976, 235977, 235980, 235982,\n",
      "            235983, 235985, 235986],\n",
      "           dtype='int64')\n",
      "Activity Date    2018-10-17 16:35:35\n"
     ]
    },
    {
     "ename": "ValueError",
     "evalue": "time data 'Activity Date    2018-10-17 16:35:35' does not match format '%Y-%m-%d %H:%M:%S'",
     "output_type": "error",
     "traceback": [
      "\u001b[0;31m---------------------------------------------------------------------------\u001b[0m",
      "\u001b[0;31mValueError\u001b[0m                                Traceback (most recent call last)",
      "\u001b[0;32m<ipython-input-22-69f50b8fa825>\u001b[0m in \u001b[0;36m<module>\u001b[0;34m\u001b[0m\n\u001b[1;32m     18\u001b[0m     \u001b[0;31m#print(open_time.iloc[index[i],[2]])\u001b[0m\u001b[0;34m\u001b[0m\u001b[0;34m\u001b[0m\u001b[0;34m\u001b[0m\u001b[0m\n\u001b[1;32m     19\u001b[0m     \u001b[0mprint\u001b[0m\u001b[0;34m(\u001b[0m\u001b[0mopen_time\u001b[0m\u001b[0;34m.\u001b[0m\u001b[0miloc\u001b[0m\u001b[0;34m[\u001b[0m\u001b[0mindex\u001b[0m\u001b[0;34m[\u001b[0m\u001b[0mi\u001b[0m\u001b[0;34m]\u001b[0m\u001b[0;34m,\u001b[0m\u001b[0;34m[\u001b[0m\u001b[0;36m2\u001b[0m\u001b[0;34m]\u001b[0m\u001b[0;34m]\u001b[0m\u001b[0;34m.\u001b[0m\u001b[0mto_string\u001b[0m\u001b[0;34m(\u001b[0m\u001b[0;34m)\u001b[0m\u001b[0;34m)\u001b[0m\u001b[0;34m\u001b[0m\u001b[0;34m\u001b[0m\u001b[0m\n\u001b[0;32m---> 20\u001b[0;31m     \u001b[0mt\u001b[0m \u001b[0;34m=\u001b[0m \u001b[0mtime\u001b[0m\u001b[0;34m.\u001b[0m\u001b[0mstrptime\u001b[0m\u001b[0;34m(\u001b[0m\u001b[0mopen_time\u001b[0m\u001b[0;34m.\u001b[0m\u001b[0miloc\u001b[0m\u001b[0;34m[\u001b[0m\u001b[0mindex\u001b[0m\u001b[0;34m[\u001b[0m\u001b[0mi\u001b[0m\u001b[0;34m]\u001b[0m\u001b[0;34m,\u001b[0m\u001b[0;34m[\u001b[0m\u001b[0;36m2\u001b[0m\u001b[0;34m]\u001b[0m\u001b[0;34m]\u001b[0m\u001b[0;34m.\u001b[0m\u001b[0mto_string\u001b[0m\u001b[0;34m(\u001b[0m\u001b[0;34m)\u001b[0m\u001b[0;34m,\u001b[0m\u001b[0;34m\"%Y-%m-%d %H:%M:%S\"\u001b[0m\u001b[0;34m)\u001b[0m\u001b[0;34m\u001b[0m\u001b[0;34m\u001b[0m\u001b[0m\n\u001b[0m\u001b[1;32m     21\u001b[0m     \u001b[0mprint\u001b[0m\u001b[0;34m(\u001b[0m\u001b[0mt\u001b[0m\u001b[0;34m)\u001b[0m\u001b[0;34m\u001b[0m\u001b[0;34m\u001b[0m\u001b[0m\n\u001b[1;32m     22\u001b[0m     \u001b[0mr\u001b[0m \u001b[0;34m=\u001b[0m \u001b[0mt\u001b[0m\u001b[0;34m[\u001b[0m\u001b[0;34m:\u001b[0m\u001b[0;34m,\u001b[0m\u001b[0;36m1\u001b[0m\u001b[0;34m]\u001b[0m\u001b[0;34m\u001b[0m\u001b[0;34m\u001b[0m\u001b[0m\n",
      "\u001b[0;32m~/opt/anaconda3/lib/python3.8/_strptime.py\u001b[0m in \u001b[0;36m_strptime_time\u001b[0;34m(data_string, format)\u001b[0m\n\u001b[1;32m    560\u001b[0m     \"\"\"Return a time struct based on the input string and the\n\u001b[1;32m    561\u001b[0m     format string.\"\"\"\n\u001b[0;32m--> 562\u001b[0;31m     \u001b[0mtt\u001b[0m \u001b[0;34m=\u001b[0m \u001b[0m_strptime\u001b[0m\u001b[0;34m(\u001b[0m\u001b[0mdata_string\u001b[0m\u001b[0;34m,\u001b[0m \u001b[0mformat\u001b[0m\u001b[0;34m)\u001b[0m\u001b[0;34m[\u001b[0m\u001b[0;36m0\u001b[0m\u001b[0;34m]\u001b[0m\u001b[0;34m\u001b[0m\u001b[0;34m\u001b[0m\u001b[0m\n\u001b[0m\u001b[1;32m    563\u001b[0m     \u001b[0;32mreturn\u001b[0m \u001b[0mtime\u001b[0m\u001b[0;34m.\u001b[0m\u001b[0mstruct_time\u001b[0m\u001b[0;34m(\u001b[0m\u001b[0mtt\u001b[0m\u001b[0;34m[\u001b[0m\u001b[0;34m:\u001b[0m\u001b[0mtime\u001b[0m\u001b[0;34m.\u001b[0m\u001b[0m_STRUCT_TM_ITEMS\u001b[0m\u001b[0;34m]\u001b[0m\u001b[0;34m)\u001b[0m\u001b[0;34m\u001b[0m\u001b[0;34m\u001b[0m\u001b[0m\n\u001b[1;32m    564\u001b[0m \u001b[0;34m\u001b[0m\u001b[0m\n",
      "\u001b[0;32m~/opt/anaconda3/lib/python3.8/_strptime.py\u001b[0m in \u001b[0;36m_strptime\u001b[0;34m(data_string, format)\u001b[0m\n\u001b[1;32m    347\u001b[0m     \u001b[0mfound\u001b[0m \u001b[0;34m=\u001b[0m \u001b[0mformat_regex\u001b[0m\u001b[0;34m.\u001b[0m\u001b[0mmatch\u001b[0m\u001b[0;34m(\u001b[0m\u001b[0mdata_string\u001b[0m\u001b[0;34m)\u001b[0m\u001b[0;34m\u001b[0m\u001b[0;34m\u001b[0m\u001b[0m\n\u001b[1;32m    348\u001b[0m     \u001b[0;32mif\u001b[0m \u001b[0;32mnot\u001b[0m \u001b[0mfound\u001b[0m\u001b[0;34m:\u001b[0m\u001b[0;34m\u001b[0m\u001b[0;34m\u001b[0m\u001b[0m\n\u001b[0;32m--> 349\u001b[0;31m         raise ValueError(\"time data %r does not match format %r\" %\n\u001b[0m\u001b[1;32m    350\u001b[0m                          (data_string, format))\n\u001b[1;32m    351\u001b[0m     \u001b[0;32mif\u001b[0m \u001b[0mlen\u001b[0m\u001b[0;34m(\u001b[0m\u001b[0mdata_string\u001b[0m\u001b[0;34m)\u001b[0m \u001b[0;34m!=\u001b[0m \u001b[0mfound\u001b[0m\u001b[0;34m.\u001b[0m\u001b[0mend\u001b[0m\u001b[0;34m(\u001b[0m\u001b[0;34m)\u001b[0m\u001b[0;34m:\u001b[0m\u001b[0;34m\u001b[0m\u001b[0;34m\u001b[0m\u001b[0m\n",
      "\u001b[0;31mValueError\u001b[0m: time data 'Activity Date    2018-10-17 16:35:35' does not match format '%Y-%m-%d %H:%M:%S'"
     ]
    }
   ],
   "source": [
    "import time\n",
    "\n",
    "#when user id = 1\n",
    "keys = list(group_label.keys())\n",
    "key = keys[0]\n",
    "index = group_label[key]\n",
    "print(index)\n",
    "\n",
    "\n",
    "\n",
    "\n",
    "\n",
    "for i in range(len(index)):\n",
    "    #print(open_time.iloc(index[i]))\n",
    "    #print(open_time.iloc[index[i],[2]])\n",
    "    \n",
    "    #open_time['Activity Date'].between_time('0:00', '2:00')\n",
    "    #print(open_time.iloc[index[i],[2]])\n",
    "    print(open_time.iloc[index[i],[2]].to_string())\n",
    "    \n",
    "    t = time.strptime(open_time.iloc[index[i],[2]].to_string(),\"%Y-%m-%d %H:%M:%S\")\n",
    "    new = time.strftime('%Y-%m-%d %H:%M:%S', t)\n",
    "\n",
    "dic = {'0-2':0,'2-4':0,'4-6':0,'6-8':0,'8-10':0,'10-12':0,'12-14':0,'14-16':0,'16-18':0,'18-20':0,'20-22':0,'22-24':0}\n",
    "\n",
    "\n",
    "\n",
    "#ts.between_time('0:15', '0:45')"
   ]
  },
  {
   "cell_type": "code",
   "execution_count": null,
   "metadata": {},
   "outputs": [],
   "source": []
  },
  {
   "cell_type": "code",
   "execution_count": null,
   "metadata": {},
   "outputs": [],
   "source": []
  }
 ],
 "metadata": {
  "kernelspec": {
   "display_name": "Python 3",
   "language": "python",
   "name": "python3"
  },
  "language_info": {
   "codemirror_mode": {
    "name": "ipython",
    "version": 3
   },
   "file_extension": ".py",
   "mimetype": "text/x-python",
   "name": "python",
   "nbconvert_exporter": "python",
   "pygments_lexer": "ipython3",
   "version": "3.8.3"
  }
 },
 "nbformat": 4,
 "nbformat_minor": 4
}
