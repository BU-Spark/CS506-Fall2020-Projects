{
 "cells": [
  {
   "cell_type": "code",
   "execution_count": 65,
   "metadata": {},
   "outputs": [
    {
     "name": "stderr",
     "output_type": "stream",
     "text": [
      "/Users/rqshi/opt/anaconda3/lib/python3.7/site-packages/IPython/core/interactiveshell.py:3063: DtypeWarning: Columns (1,8) have mixed types.Specify dtype option on import or set low_memory=False.\n",
      "  interactivity=interactivity, compiler=compiler, result=result)\n"
     ]
    }
   ],
   "source": [
    "import pandas as pd\n",
    "X = pd.read_csv('raw_data.csv', index_col = False, header = None)\n",
    "X = X.values"
   ]
  },
  {
   "cell_type": "code",
   "execution_count": 66,
   "metadata": {},
   "outputs": [
    {
     "name": "stdout",
     "output_type": "stream",
     "text": [
      "(1796942, 14)\n"
     ]
    }
   ],
   "source": [
    "print(X.shape)"
   ]
  },
  {
   "cell_type": "code",
   "execution_count": 88,
   "metadata": {},
   "outputs": [
    {
     "name": "stdout",
     "output_type": "stream",
     "text": [
      "['[2020-10-08 15:26:29] production_jobs.INFO: Customer Id' 'User Id'\n",
      " 'User Created At' 'Activation Date' 'Activity Date' 'Name' 'Content Type'\n",
      " 'Journey Name' 'Action' 'Duration' 'Device' 'Channel' 'Session Id'\n",
      " 'Rating  ']\n",
      "(8, 1796942)\n",
      "(1796942, 8)\n"
     ]
    }
   ],
   "source": [
    "import numpy as np\n",
    "trans = X.T\n",
    "print(X[0])\n",
    "a = np.delete(trans,(5,7,10,11,12,13),0)\n",
    "print(a.shape)\n",
    "res = a.T\n",
    "print(res.shape)"
   ]
  },
  {
   "cell_type": "code",
   "execution_count": 91,
   "metadata": {},
   "outputs": [
    {
     "data": {
      "text/plain": [
       "array(['[2020-10-08 15:26:29] production_jobs.INFO: Customer Id',\n",
       "       'User Id', 'User Created At', 'Activation Date', 'Activity Date',\n",
       "       'Content Type', 'Action', 'Duration'], dtype=object)"
      ]
     },
     "execution_count": 91,
     "metadata": {},
     "output_type": "execute_result"
    }
   ],
   "source": [
    "type(res)\n",
    "res[0]"
   ]
  },
  {
   "cell_type": "code",
   "execution_count": 100,
   "metadata": {},
   "outputs": [
    {
     "name": "stdout",
     "output_type": "stream",
     "text": [
      "[nan, 'CHECKLIST', 'QUOTES', 'MEETING', 'QUIZ', 'EXTERNAL_VIDEO', 'FLIPBOOK', 'KEY_CONTACT_MANAGER', 'INFOGRAPHIC', 'BOOK_SUGGESTION', 'INTERNAL_ARTICLE', 'Content Type', 'SURVEY', 'KNOWLEDGE_REQUIREMENT_NEWHIRE', 'LIVE_EVENT', 'EXTERNAL_ARTICLE', 'Direct Connection', 'INTERNAL_VIDEO', 'KEY_CONTACT_NEWHIRE', 'KNOWLEDGE_REQUIREMENT_MANAGER']\n"
     ]
    }
   ],
   "source": [
    "res_list = res.T.tolist()\n",
    "b = list(set(res_list[5]))\n",
    "print(b)"
   ]
  },
  {
   "cell_type": "code",
   "execution_count": null,
   "metadata": {},
   "outputs": [],
   "source": []
  }
 ],
 "metadata": {
  "kernelspec": {
   "display_name": "Python 3",
   "language": "python",
   "name": "python3"
  },
  "language_info": {
   "codemirror_mode": {
    "name": "ipython",
    "version": 3
   },
   "file_extension": ".py",
   "mimetype": "text/x-python",
   "name": "python",
   "nbconvert_exporter": "python",
   "pygments_lexer": "ipython3",
   "version": "3.7.6"
  }
 },
 "nbformat": 4,
 "nbformat_minor": 4
}
