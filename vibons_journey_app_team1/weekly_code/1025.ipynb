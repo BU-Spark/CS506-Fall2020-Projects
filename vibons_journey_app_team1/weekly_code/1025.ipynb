{
 "cells": [
  {
   "cell_type": "code",
   "execution_count": 1,
   "metadata": {},
   "outputs": [
    {
     "name": "stdout",
     "output_type": "stream",
     "text": [
      "(1796941, 14)\n"
     ]
    }
   ],
   "source": [
    "import pandas as pd\n",
    "import numpy as np\n",
    "\n",
    "\n",
    "X = pd.read_csv('upated-raw_data.csv', parse_dates = True, low_memory = False)\n",
    "print(X.shape)"
   ]
  },
  {
   "cell_type": "code",
   "execution_count": 2,
   "metadata": {},
   "outputs": [],
   "source": [
    "X1 = X.drop(X.index[104],axis = 0)\n",
    "X2 = X1.drop(X.index[69],axis = 0)\n",
    "X3 = X2.drop(X.index[34],axis = 0)"
   ]
  },
  {
   "cell_type": "code",
   "execution_count": 3,
   "metadata": {},
   "outputs": [
    {
     "name": "stdout",
     "output_type": "stream",
     "text": [
      "['[2020-10-08 15:26:29] production_jobs.INFO: 8' '147'\n",
      " '2018-09-26 12:19:32' '2018-09-25 21:05:24' '2018-09-27 09:30:53'\n",
      " 'Welcome to Journey' 'INTERNAL_VIDEO' 'Welcome ' '0' nan 'Web'\n",
      " 'Direct Connection' 'eDE0NzY2Mg==' '-  ']\n"
     ]
    }
   ],
   "source": [
    "X3 = X3.values\n",
    "print(X3[0])\n",
    "\n",
    "#X3 = X3[1:]\n"
   ]
  },
  {
   "cell_type": "code",
   "execution_count": 4,
   "metadata": {},
   "outputs": [],
   "source": [
    "res_list = X3.T.tolist()\n",
    "b = list(set(res_list[10]))\n",
    "\n",
    "device = X3[:,10]\n",
    "for i in range(len(device)):\n",
    "    if device[i] == 'Device':\n",
    "        print(i)\n",
    "        \n",
    "content_type = X3[:,6]\n",
    "for i in range(len(content_type)):\n",
    "    if content_type[i] == 'Content Type':\n",
    "        print(i)\n",
    "#print(b)"
   ]
  },
  {
   "cell_type": "code",
   "execution_count": 5,
   "metadata": {},
   "outputs": [],
   "source": [
    "\n",
    "device = X3[:,10]\n",
    "#print(device)\n",
    "channel = X3[:,11]\n",
    "#print(channel)\n",
    "content_type = X3[:,6]\n",
    "#print(content_type)\n",
    "for i in range(len(device)):\n",
    "    if device[i] == 'Android':\n",
    "        device[i] = 4\n",
    "    elif device[i] == 'iOS':\n",
    "        device[i] = 3    \n",
    "    elif device[i] == 'Web':\n",
    "        device[i] = 2 \n",
    "    elif device[i] == 'Mobile Web (Tablet)':\n",
    "        device[i] = 1\n",
    "    elif device[i] == 'Mobile Web':\n",
    "        device[i] = 5\n",
    "    else:\n",
    "        device[i] = 0\n",
    "#print(device)\n",
    "\n",
    "for i in range(len(channel)):\n",
    "    if channel[i] == 'Mobile Notification':\n",
    "        channel[i] = 2\n",
    "    elif channel[i] == 'From Email':\n",
    "        channel[i] = 1\n",
    "    elif channel[i] == 'Direct Connection':\n",
    "        channel[i] = 3\n",
    "    else:\n",
    "        channel[i] = 0\n",
    "#print(channel)\n",
    "\n",
    "content_type_list = ['KEY_CONTACT_NEWHIRE', 'EXTERNAL_ARTICLE', 'CHECKLIST', 'KNOWLEDGE_REQUIREMENT_NEWHIRE', 'BOOK_SUGGESTION', 'QUIZ', 'KEY_CONTACT_MANAGER', 'EXTERNAL_VIDEO', 'SURVEY', 'MEETING', 'LIVE_EVENT', 'INTERNAL_ARTICLE', 'FLIPBOOK', 'KNOWLEDGE_REQUIREMENT_MANAGER', 'INFOGRAPHIC', 'Content Type', 'INTERNAL_VIDEO', 'QUOTES']\n",
    "\n",
    "for i in range(len(content_type)):\n",
    "    if content_type[i] == content_type_list[0]:\n",
    "        content_type[i] = 17\n",
    "    elif content_type[i] == content_type_list[1]:\n",
    "        content_type[i] = 1\n",
    "    elif content_type[i] == content_type_list[2]:\n",
    "        content_type[i] = 2\n",
    "    elif content_type[i] == content_type_list[3]:\n",
    "        content_type[i] = 3\n",
    "    elif content_type[i] == content_type_list[4]:\n",
    "        content_type[i] = 4\n",
    "    elif content_type[i] == content_type_list[5]:\n",
    "        content_type[i] = 5\n",
    "    elif content_type[i] == content_type_list[6]:\n",
    "        content_type[i] = 6\n",
    "    elif content_type[i] == content_type_list[7]:\n",
    "        content_type[i] = 7\n",
    "    elif content_type[i] == content_type_list[8]:\n",
    "        content_type[i] = 8\n",
    "    elif content_type[i] == content_type_list[9]:\n",
    "        content_type[i] = 9\n",
    "    elif content_type[i] == content_type_list[10]:\n",
    "        content_type[i] = 10\n",
    "    elif content_type[i] == content_type_list[11]:\n",
    "        content_type[i] = 11\n",
    "    elif content_type[i] == content_type_list[12]:\n",
    "        content_type[i] = 12\n",
    "    elif content_type[i] == content_type_list[13]:\n",
    "        content_type[i] = 13\n",
    "    elif content_type[i] == content_type_list[14]:\n",
    "        content_type[i] = 14\n",
    "    elif content_type[i] == content_type_list[15]:\n",
    "        content_type[i] = 15\n",
    "    elif content_type[i] == content_type_list[16]:\n",
    "        content_type[i] = 16\n",
    "    else:\n",
    "        content_type[i] = 0\n",
    "#print(content_type)"
   ]
  },
  {
   "cell_type": "code",
   "execution_count": 6,
   "metadata": {},
   "outputs": [
    {
     "name": "stdout",
     "output_type": "stream",
     "text": [
      "(1796938, 14)\n"
     ]
    }
   ],
   "source": [
    "clean_data = pd.DataFrame(X3)\n",
    "clean_data.head()\n",
    "c = clean_data.values\n",
    "print(c.shape)"
   ]
  },
  {
   "cell_type": "code",
   "execution_count": 7,
   "metadata": {},
   "outputs": [
    {
     "name": "stdout",
     "output_type": "stream",
     "text": [
      "3    890362\n",
      "4    818486\n",
      "2     51068\n",
      "5     36463\n",
      "1       559\n",
      "Name: 10, dtype: int64\n"
     ]
    }
   ],
   "source": [
    "max_value = clean_data[10].mode()\n",
    "clean_data[10] = clean_data[10].replace([0],max_value)\n",
    "print(clean_data[10].value_counts())"
   ]
  },
  {
   "cell_type": "code",
   "execution_count": 8,
   "metadata": {},
   "outputs": [],
   "source": [
    "content_max = clean_data[6].mode()\n",
    "#print(content_max)\n",
    "#print(clean_data[6].value_counts())\n",
    "\n",
    "\n",
    "clean_data[6] = clean_data[6].replace([0],content_max)\n",
    "#print('after: ',clean_data[6].value_counts())"
   ]
  },
  {
   "cell_type": "code",
   "execution_count": 9,
   "metadata": {},
   "outputs": [],
   "source": [
    "max_value = clean_data[11].mode()\n",
    "clean_data[11] = clean_data[11].replace([0],max_value)\n",
    "#print(clean_data[11].value_counts())"
   ]
  },
  {
   "cell_type": "code",
   "execution_count": 10,
   "metadata": {},
   "outputs": [
    {
     "name": "stdout",
     "output_type": "stream",
     "text": [
      "(1796929, 14)\n"
     ]
    }
   ],
   "source": [
    "#clean_data.isin(['FLIPBOOK']).any()\n",
    "#clean_data[1].where(clean_data[1] == 'FLIPBOOK')\n",
    "clean_data.drop(clean_data[clean_data[1] == 'FLIPBOOK'].index, inplace = True)\n",
    "print(clean_data.shape)\n",
    "\n",
    "#clean_data[1] = pd.to_numeric(clean_data[1])\n",
    "#print(clean_data.shape)\n",
    "clean_data[1] = clean_data[1].astype('int')"
   ]
  },
  {
   "cell_type": "code",
   "execution_count": 11,
   "metadata": {},
   "outputs": [],
   "source": [
    "clean_data.columns = ['Customer Id','User Id', 'User Created At', 'Activation Date', 'Activity Date','Name', 'Content Type', 'Journey Name', 'Action', 'Duration','Device', 'Channel', 'Session Id', 'Rating']\n"
   ]
  },
  {
   "cell_type": "code",
   "execution_count": 12,
   "metadata": {},
   "outputs": [
    {
     "data": {
      "text/plain": [
       "Customer Id        object\n",
       "User Id             int64\n",
       "User Created At    object\n",
       "Activation Date    object\n",
       "Activity Date      object\n",
       "Name               object\n",
       "Content Type        int64\n",
       "Journey Name       object\n",
       "Action             object\n",
       "Duration           object\n",
       "Device              int64\n",
       "Channel             int64\n",
       "Session Id         object\n",
       "Rating             object\n",
       "dtype: object"
      ]
     },
     "execution_count": 12,
     "metadata": {},
     "output_type": "execute_result"
    }
   ],
   "source": [
    "clean_data.dtypes"
   ]
  },
  {
   "cell_type": "code",
   "execution_count": 13,
   "metadata": {},
   "outputs": [
    {
     "name": "stderr",
     "output_type": "stream",
     "text": [
      "IOPub data rate exceeded.\n",
      "The notebook server will temporarily stop sending output\n",
      "to the client in order to avoid crashing it.\n",
      "To change this limit, set the config variable\n",
      "`--NotebookApp.iopub_data_rate_limit`.\n",
      "\n",
      "Current values:\n",
      "NotebookApp.iopub_data_rate_limit=1000000.0 (bytes/sec)\n",
      "NotebookApp.rate_limit_window=3.0 (secs)\n",
      "\n"
     ]
    }
   ],
   "source": [
    "#clean_data = clean_data[:300].groupby(['User Id'],axis=1)\n",
    "#print(Grouped.size())\n",
    "\n",
    "clean_data.groupby(['User Id'])\n",
    "\n",
    "#print(clean_data.groupby(['User Id']).count())\n",
    "\n",
    "group_label = clean_data.groupby(['User Id']).groups\n",
    "print(group_label)"
   ]
  },
  {
   "cell_type": "code",
   "execution_count": 14,
   "metadata": {},
   "outputs": [
    {
     "name": "stdout",
     "output_type": "stream",
     "text": [
      "<class 'dict'>\n"
     ]
    }
   ],
   "source": [
    "print(type(group_label))"
   ]
  },
  {
   "cell_type": "code",
   "execution_count": 15,
   "metadata": {},
   "outputs": [
    {
     "name": "stdout",
     "output_type": "stream",
     "text": [
      "Int64Index([   155,    156, 235964, 235965, 235966, 235967, 235968, 235970,\n",
      "            235972, 235973, 235974, 235975, 235976, 235977, 235980, 235982,\n",
      "            235983, 235985, 235986],\n",
      "           dtype='int64')\n"
     ]
    }
   ],
   "source": [
    "print(group_label[1])"
   ]
  },
  {
   "cell_type": "code",
   "execution_count": 16,
   "metadata": {},
   "outputs": [
    {
     "name": "stdout",
     "output_type": "stream",
     "text": [
      "<class 'pandas.core.indexes.numeric.Int64Index'>\n"
     ]
    }
   ],
   "source": [
    "print(type(group_label[1]))"
   ]
  },
  {
   "cell_type": "code",
   "execution_count": 17,
   "metadata": {},
   "outputs": [
    {
     "name": "stdout",
     "output_type": "stream",
     "text": [
      "0          1 days 12:25:29\n",
      "1          9 days 01:18:18\n",
      "2          8 days 01:18:19\n",
      "3          2 days 01:48:19\n",
      "4          2 days 01:37:36\n",
      "                ...       \n",
      "1796933   13 days 07:12:58\n",
      "1796934   13 days 08:43:04\n",
      "1796935    0 days 07:13:23\n",
      "1796936   13 days 07:13:26\n",
      "1796937   17 days 07:13:33\n",
      "Length: 1796929, dtype: timedelta64[ns]\n",
      "         User Id      Activation Date        Activity Date         Time lag\n",
      "0            147  2018-09-25 21:05:24  2018-09-27 09:30:53  1 days 12:25:29\n",
      "1            139  2018-09-22 10:00:02  2018-10-01 11:18:20  9 days 01:18:18\n",
      "2            139  2018-09-23 10:00:59  2018-10-01 11:19:18  8 days 01:18:19\n",
      "3            200  2018-10-01 08:00:36  2018-10-03 09:48:55  2 days 01:48:19\n",
      "4            200  2018-10-01 09:00:52  2018-10-03 10:38:28  2 days 01:37:36\n",
      "...          ...                  ...                  ...              ...\n",
      "1796933    44365  2020-09-25 16:00:00  2020-10-08 23:12:58 13 days 07:12:58\n",
      "1796934    43068  2020-09-25 14:30:00  2020-10-08 23:13:04 13 days 08:43:04\n",
      "1796935    43068  2020-10-08 16:00:00  2020-10-08 23:13:23  0 days 07:13:23\n",
      "1796936    44365  2020-09-25 16:00:00  2020-10-08 23:13:26 13 days 07:13:26\n",
      "1796937    44365  2020-09-21 16:00:00  2020-10-08 23:13:33 17 days 07:13:33\n",
      "\n",
      "[1796929 rows x 4 columns]\n"
     ]
    }
   ],
   "source": [
    "open_time = pd.DataFrame()\n",
    "\n",
    "open_time = clean_data[['User Id','Activation Date','Activity Date']]\n",
    "\n",
    "#diff = pd.Timestamp(open_time['Activity Date'])- pd.Timestamp(open_time['Activation Date'])\n",
    "diff = pd.to_datetime(open_time['Activity Date'])- pd.to_datetime(open_time['Activation Date'])\n",
    "print(diff)\n",
    "open_time.insert(3, \"Time lag\", diff)\n",
    "print(open_time)\n",
    "\n"
   ]
  },
  {
   "cell_type": "code",
   "execution_count": 18,
   "metadata": {},
   "outputs": [],
   "source": [
    "import time\n",
    "from datetime import datetime\n",
    "# Get Keys\n",
    "keys = list(group_label.keys())\n",
    "dic_hr = {}\n",
    "# Create a dictionary for hr item of each user\n",
    "# Use first 10 users for less running time\n",
    "for i in range(len(keys[0:10])):\n",
    "    key = keys[i]\n",
    "    index = group_label[key]\n",
    "    dic_hr[\"%s\"%key] = []\n",
    "    for j in range(len(index)):\n",
    "        str = open_time.iloc[index[j],[2]].to_string()\n",
    "        str = str.replace(\" \", \"\")\n",
    "        str = str.replace(\"ActivityDate\", \"\")\n",
    "        t = datetime.strptime(str,\"%Y-%m-%d%H:%M:%S\")\n",
    "        hr = t.timetuple()[3]\n",
    "        dic_hr[\"%s\"%key] += [hr]\n",
    "# Count frequency for each user\n",
    "import statistics\n",
    "from collections import Counter\n",
    "dic_frequency = {}\n",
    "arr = []\n",
    "hr_keys = list(dic_hr.keys())\n",
    "for i in range(len(hr_keys)):\n",
    "    arr = Counter(dic_hr[hr_keys[i]]).most_common(2)\n",
    "    # list of tuple\n",
    "    if len(arr) == 1:\n",
    "        dic_frequency[hr_keys[i]] = arr[0][0]\n",
    "    else:\n",
    "        if arr[0][1] > arr[1][1]:\n",
    "            dic_frequency[hr_keys[i]] = arr[0][0]\n",
    "        else:\n",
    "            # if same frequency, save both hr, check the diff with sending time\n",
    "            dic_frequency[hr_keys[i]] = [arr[0][0], arr[1][0]]\n"
   ]
  },
  {
   "cell_type": "code",
   "execution_count": 19,
   "metadata": {},
   "outputs": [
    {
     "name": "stdout",
     "output_type": "stream",
     "text": [
      "{'1': 12, '2': 20, '21': [8, 15], '22': 11, '38': 3, '41': 10, '47': 14, '53': 13, '61': 16, '62': 11}\n"
     ]
    }
   ],
   "source": [
    "print(dic_frequency)"
   ]
  },
  {
   "cell_type": "code",
   "execution_count": null,
   "metadata": {},
   "outputs": [],
   "source": []
  }
 ],
 "metadata": {
  "kernelspec": {
   "display_name": "Python 3",
   "language": "python",
   "name": "python3"
  },
  "language_info": {
   "codemirror_mode": {
    "name": "ipython",
    "version": 3
   },
   "file_extension": ".py",
   "mimetype": "text/x-python",
   "name": "python",
   "nbconvert_exporter": "python",
   "pygments_lexer": "ipython3",
   "version": "3.8.3"
  }
 },
 "nbformat": 4,
 "nbformat_minor": 4
}
