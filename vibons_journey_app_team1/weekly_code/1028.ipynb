{
 "cells": [
  {
   "cell_type": "code",
   "execution_count": 83,
   "metadata": {},
   "outputs": [
    {
     "name": "stdout",
     "output_type": "stream",
     "text": [
      "(1926480, 15)\n"
     ]
    }
   ],
   "source": [
    "import pandas as pd\n",
    "import numpy as np\n",
    "\n",
    "X = pd.read_csv('data_.csv', parse_dates = True, low_memory = False)\n",
    "print(X.shape)"
   ]
  },
  {
   "cell_type": "code",
   "execution_count": 84,
   "metadata": {},
   "outputs": [
    {
     "data": {
      "text/plain": [
       "Index(['[2020-10-25 14:40:25] production_jobs.INFO: Customer Id', 'User Id',\n",
       "       'User Created At', 'Activation Date', 'Activity Date', 'Name',\n",
       "       'Content Type', 'Content Id', 'Journey Name', 'Action', 'Duration',\n",
       "       'Device', 'Channel', 'Session Id', 'Rating  '],\n",
       "      dtype='object')"
      ]
     },
     "execution_count": 84,
     "metadata": {},
     "output_type": "execute_result"
    }
   ],
   "source": [
    "X.columns"
   ]
  },
  {
   "cell_type": "code",
   "execution_count": 85,
   "metadata": {},
   "outputs": [],
   "source": [
    "X = X.values\n",
    "#print(X[1])"
   ]
  },
  {
   "cell_type": "code",
   "execution_count": 86,
   "metadata": {},
   "outputs": [],
   "source": [
    "res_list = X.T.tolist()\n",
    "b = list(set(res_list[10]))\n",
    "\n",
    "device = X[:,11]\n",
    "for i in range(len(device)):\n",
    "    if device[i] == 'Device':\n",
    "        print(i)\n",
    "        \n",
    "content_type = X[:,6]\n",
    "for i in range(len(content_type)):\n",
    "    if content_type[i] == 'Content Type':\n",
    "        print(i)\n",
    "#print(b)"
   ]
  },
  {
   "cell_type": "code",
   "execution_count": 87,
   "metadata": {},
   "outputs": [
    {
     "name": "stdout",
     "output_type": "stream",
     "text": [
      "[2 2 2 ... 4 4 5]\n"
     ]
    }
   ],
   "source": [
    "\n",
    "device = X[:,11]\n",
    "#print(device)\n",
    "channel = X[:,12]\n",
    "#print(channel)\n",
    "content_type = X[:,6]\n",
    "#print(content_type)\n",
    "for i in range(len(device)):\n",
    "    if device[i] == 'Android':\n",
    "        device[i] = 4\n",
    "    elif device[i] == 'iOS':\n",
    "        device[i] = 3    \n",
    "    elif device[i] == 'Web':\n",
    "        device[i] = 2 \n",
    "    elif device[i] == 'Mobile Web (Tablet)':\n",
    "        device[i] = 1\n",
    "    elif device[i] == 'Mobile Web':\n",
    "        device[i] = 5\n",
    "    else:\n",
    "        device[i] = 0\n",
    "print(device)\n",
    "\n",
    "for i in range(len(channel)):\n",
    "    if channel[i] == 'Mobile Notification':\n",
    "        channel[i] = 2\n",
    "    elif channel[i] == 'From Email':\n",
    "        channel[i] = 1\n",
    "    elif channel[i] == 'Direct Connection':\n",
    "        channel[i] = 3\n",
    "    else:\n",
    "        channel[i] = 0\n",
    "#print(channel)\n",
    "\n",
    "content_type_list = ['KEY_CONTACT_NEWHIRE', 'EXTERNAL_ARTICLE', 'CHECKLIST', 'KNOWLEDGE_REQUIREMENT_NEWHIRE', 'BOOK_SUGGESTION', 'QUIZ', 'KEY_CONTACT_MANAGER', 'EXTERNAL_VIDEO', 'SURVEY', 'MEETING', 'LIVE_EVENT', 'INTERNAL_ARTICLE', 'FLIPBOOK', 'KNOWLEDGE_REQUIREMENT_MANAGER', 'INFOGRAPHIC', 'Content Type', 'INTERNAL_VIDEO', 'QUOTES']\n",
    "\n",
    "for i in range(len(content_type)):\n",
    "    if content_type[i] == content_type_list[0]:\n",
    "        content_type[i] = 17\n",
    "    elif content_type[i] == content_type_list[1]:\n",
    "        content_type[i] = 1\n",
    "    elif content_type[i] == content_type_list[2]:\n",
    "        content_type[i] = 2\n",
    "    elif content_type[i] == content_type_list[3]:\n",
    "        content_type[i] = 3\n",
    "    elif content_type[i] == content_type_list[4]:\n",
    "        content_type[i] = 4\n",
    "    elif content_type[i] == content_type_list[5]:\n",
    "        content_type[i] = 5\n",
    "    elif content_type[i] == content_type_list[6]:\n",
    "        content_type[i] = 6\n",
    "    elif content_type[i] == content_type_list[7]:\n",
    "        content_type[i] = 7\n",
    "    elif content_type[i] == content_type_list[8]:\n",
    "        content_type[i] = 8\n",
    "    elif content_type[i] == content_type_list[9]:\n",
    "        content_type[i] = 9\n",
    "    elif content_type[i] == content_type_list[10]:\n",
    "        content_type[i] = 10\n",
    "    elif content_type[i] == content_type_list[11]:\n",
    "        content_type[i] = 11\n",
    "    elif content_type[i] == content_type_list[12]:\n",
    "        content_type[i] = 12\n",
    "    elif content_type[i] == content_type_list[13]:\n",
    "        content_type[i] = 13\n",
    "    elif content_type[i] == content_type_list[14]:\n",
    "        content_type[i] = 14\n",
    "    elif content_type[i] == content_type_list[15]:\n",
    "        content_type[i] = 15\n",
    "    elif content_type[i] == content_type_list[16]:\n",
    "        content_type[i] = 16\n",
    "    else:\n",
    "        content_type[i] = 0\n",
    "#print(content_type)"
   ]
  },
  {
   "cell_type": "code",
   "execution_count": 88,
   "metadata": {},
   "outputs": [
    {
     "name": "stdout",
     "output_type": "stream",
     "text": [
      "[['[2020-10-25 14:40:25] production_jobs.INFO: 8' '147'\n",
      "  '2018-09-26 12:19:32' ... 3 'eDE0NzY2Mg==' '-  ']\n",
      " ['[2020-10-25 14:40:25] production_jobs.INFO: 9' '139'\n",
      "  '2018-09-21 17:14:07' ... 3 'eDEzOTY1MQ==' '-  ']\n",
      " ['[2020-10-25 14:40:25] production_jobs.INFO: 9' '139'\n",
      "  '2018-09-21 17:14:07' ... 3 'eDEzOTY1Mg==' '-  ']\n",
      " ...\n",
      " ['[2020-10-25 18:18:28] production_jobs.INFO: 20' '49199'\n",
      "  '2020-10-21 09:06:20' ... 3 '2d9fe7b6-f9bd-46b6-bfa7-242e7c795e54'\n",
      "  '0  ']\n",
      " ['[2020-10-25 18:18:28] production_jobs.INFO: 20' '49060'\n",
      "  '2020-10-12 15:26:23' ... 3 'faec12cf-d777-46d1-8fc8-0c8907ea5921'\n",
      "  '3  ']\n",
      " ['[2020-10-25 18:18:28] production_jobs.INFO: 66' '37948'\n",
      "  '2020-01-22 15:25:03' ... 3 '1b1227a9-acfd-49b5-942a-10bde29eb6ee'\n",
      "  '-  ']]\n"
     ]
    }
   ],
   "source": [
    "clean_data = pd.DataFrame(X)\n",
    "clean_data.head()\n",
    "c = clean_data.values\n",
    "print(c)"
   ]
  },
  {
   "cell_type": "code",
   "execution_count": 89,
   "metadata": {},
   "outputs": [
    {
     "data": {
      "text/html": [
       "<div>\n",
       "<style scoped>\n",
       "    .dataframe tbody tr th:only-of-type {\n",
       "        vertical-align: middle;\n",
       "    }\n",
       "\n",
       "    .dataframe tbody tr th {\n",
       "        vertical-align: top;\n",
       "    }\n",
       "\n",
       "    .dataframe thead th {\n",
       "        text-align: right;\n",
       "    }\n",
       "</style>\n",
       "<table border=\"1\" class=\"dataframe\">\n",
       "  <thead>\n",
       "    <tr style=\"text-align: right;\">\n",
       "      <th></th>\n",
       "      <th>0</th>\n",
       "      <th>1</th>\n",
       "      <th>2</th>\n",
       "      <th>3</th>\n",
       "      <th>4</th>\n",
       "      <th>5</th>\n",
       "      <th>6</th>\n",
       "      <th>7</th>\n",
       "      <th>8</th>\n",
       "      <th>9</th>\n",
       "      <th>10</th>\n",
       "      <th>11</th>\n",
       "      <th>12</th>\n",
       "      <th>13</th>\n",
       "      <th>14</th>\n",
       "    </tr>\n",
       "  </thead>\n",
       "  <tbody>\n",
       "    <tr>\n",
       "      <th>0</th>\n",
       "      <td>[2020-10-25 14:40:25] production_jobs.INFO: 8</td>\n",
       "      <td>147</td>\n",
       "      <td>2018-09-26 12:19:32</td>\n",
       "      <td>2018-09-25 21:05:24</td>\n",
       "      <td>2018-09-27 09:30:53</td>\n",
       "      <td>Welcome to Journey</td>\n",
       "      <td>16</td>\n",
       "      <td>86</td>\n",
       "      <td>Welcome</td>\n",
       "      <td>0</td>\n",
       "      <td>NaN</td>\n",
       "      <td>2</td>\n",
       "      <td>3</td>\n",
       "      <td>eDE0NzY2Mg==</td>\n",
       "      <td>-</td>\n",
       "    </tr>\n",
       "    <tr>\n",
       "      <th>1</th>\n",
       "      <td>[2020-10-25 14:40:25] production_jobs.INFO: 9</td>\n",
       "      <td>139</td>\n",
       "      <td>2018-09-21 17:14:07</td>\n",
       "      <td>2018-09-22 10:00:02</td>\n",
       "      <td>2018-10-01 11:18:20</td>\n",
       "      <td>İnovasyoncunun Beş Alışkanlığı</td>\n",
       "      <td>14</td>\n",
       "      <td>94</td>\n",
       "      <td>İnovatif Bakış Açısı</td>\n",
       "      <td>100</td>\n",
       "      <td>NaN</td>\n",
       "      <td>2</td>\n",
       "      <td>3</td>\n",
       "      <td>eDEzOTY1MQ==</td>\n",
       "      <td>-</td>\n",
       "    </tr>\n",
       "    <tr>\n",
       "      <th>2</th>\n",
       "      <td>[2020-10-25 14:40:25] production_jobs.INFO: 9</td>\n",
       "      <td>139</td>\n",
       "      <td>2018-09-21 17:14:07</td>\n",
       "      <td>2018-09-23 10:00:59</td>\n",
       "      <td>2018-10-01 11:19:18</td>\n",
       "      <td>Peter Drucker’a göre İnovasyona Fırsat Sağlaya...</td>\n",
       "      <td>11</td>\n",
       "      <td>112</td>\n",
       "      <td>İnovatif Bakış Açısı</td>\n",
       "      <td>100</td>\n",
       "      <td>NaN</td>\n",
       "      <td>2</td>\n",
       "      <td>3</td>\n",
       "      <td>eDEzOTY1Mg==</td>\n",
       "      <td>-</td>\n",
       "    </tr>\n",
       "    <tr>\n",
       "      <th>3</th>\n",
       "      <td>[2020-10-25 14:40:25] production_jobs.INFO: 10</td>\n",
       "      <td>200</td>\n",
       "      <td>2018-10-03 09:36:25</td>\n",
       "      <td>2018-10-01 08:00:36</td>\n",
       "      <td>2018-10-03 09:48:55</td>\n",
       "      <td>Welcome to Journey</td>\n",
       "      <td>16</td>\n",
       "      <td>86</td>\n",
       "      <td>İnovatif Bakış Açısı</td>\n",
       "      <td>0</td>\n",
       "      <td>NaN</td>\n",
       "      <td>2</td>\n",
       "      <td>3</td>\n",
       "      <td>eDIwMDY4Ng==</td>\n",
       "      <td>-</td>\n",
       "    </tr>\n",
       "    <tr>\n",
       "      <th>4</th>\n",
       "      <td>[2020-10-25 14:40:25] production_jobs.INFO: 10</td>\n",
       "      <td>200</td>\n",
       "      <td>2018-10-03 09:36:25</td>\n",
       "      <td>2018-10-01 09:00:52</td>\n",
       "      <td>2018-10-03 10:38:28</td>\n",
       "      <td>Yenilikçinin İkilemi</td>\n",
       "      <td>16</td>\n",
       "      <td>100</td>\n",
       "      <td>İnovatif Bakış Açısı</td>\n",
       "      <td>0</td>\n",
       "      <td>NaN</td>\n",
       "      <td>2</td>\n",
       "      <td>3</td>\n",
       "      <td>eDIwMDY4Nw==</td>\n",
       "      <td>-</td>\n",
       "    </tr>\n",
       "    <tr>\n",
       "      <th>...</th>\n",
       "      <td>...</td>\n",
       "      <td>...</td>\n",
       "      <td>...</td>\n",
       "      <td>...</td>\n",
       "      <td>...</td>\n",
       "      <td>...</td>\n",
       "      <td>...</td>\n",
       "      <td>...</td>\n",
       "      <td>...</td>\n",
       "      <td>...</td>\n",
       "      <td>...</td>\n",
       "      <td>...</td>\n",
       "      <td>...</td>\n",
       "      <td>...</td>\n",
       "      <td>...</td>\n",
       "    </tr>\n",
       "    <tr>\n",
       "      <th>1926475</th>\n",
       "      <td>[2020-10-25 18:18:28] production_jobs.INFO: 66</td>\n",
       "      <td>37948</td>\n",
       "      <td>2020-01-22 15:25:03</td>\n",
       "      <td>2020-09-16 09:30:00</td>\n",
       "      <td>2020-10-25 22:16:58</td>\n",
       "      <td>Veri ve Verinin Evrimi</td>\n",
       "      <td>16</td>\n",
       "      <td>10187</td>\n",
       "      <td>Analitiğin Gizemini Çözmek</td>\n",
       "      <td>85</td>\n",
       "      <td>00:02:45</td>\n",
       "      <td>5</td>\n",
       "      <td>3</td>\n",
       "      <td>af347740-8e03-4c51-9fcb-446fe0f8cca4</td>\n",
       "      <td>-</td>\n",
       "    </tr>\n",
       "    <tr>\n",
       "      <th>1926476</th>\n",
       "      <td>[2020-10-25 18:18:28] production_jobs.INFO: 66</td>\n",
       "      <td>37948</td>\n",
       "      <td>2020-01-22 15:25:03</td>\n",
       "      <td>2020-09-16 09:30:00</td>\n",
       "      <td>2020-10-25 22:17:25</td>\n",
       "      <td>Veri ve Verinin Evrimi</td>\n",
       "      <td>16</td>\n",
       "      <td>10187</td>\n",
       "      <td>Analitiğin Gizemini Çözmek</td>\n",
       "      <td>100</td>\n",
       "      <td>00:00:27</td>\n",
       "      <td>5</td>\n",
       "      <td>3</td>\n",
       "      <td>af347740-8e03-4c51-9fcb-446fe0f8cca4</td>\n",
       "      <td>-</td>\n",
       "    </tr>\n",
       "    <tr>\n",
       "      <th>1926477</th>\n",
       "      <td>[2020-10-25 18:18:28] production_jobs.INFO: 20</td>\n",
       "      <td>49199</td>\n",
       "      <td>2020-10-21 09:06:20</td>\n",
       "      <td>2020-10-23 09:00:00</td>\n",
       "      <td>2020-10-25 22:17:47</td>\n",
       "      <td>Satış Sonrası İşlemler</td>\n",
       "      <td>12</td>\n",
       "      <td>9080</td>\n",
       "      <td>Merhaba  Vodafone Ailesine Hoşgeldin!</td>\n",
       "      <td>0</td>\n",
       "      <td>00:00:00</td>\n",
       "      <td>4</td>\n",
       "      <td>3</td>\n",
       "      <td>2d9fe7b6-f9bd-46b6-bfa7-242e7c795e54</td>\n",
       "      <td>0</td>\n",
       "    </tr>\n",
       "    <tr>\n",
       "      <th>1926478</th>\n",
       "      <td>[2020-10-25 18:18:28] production_jobs.INFO: 20</td>\n",
       "      <td>49060</td>\n",
       "      <td>2020-10-12 15:26:23</td>\n",
       "      <td>2020-10-22 09:00:00</td>\n",
       "      <td>2020-10-25 22:17:47</td>\n",
       "      <td>Roaming Paketleri</td>\n",
       "      <td>12</td>\n",
       "      <td>9061</td>\n",
       "      <td>Merhaba  Vodafone Ailesine Hoşgeldin!</td>\n",
       "      <td>69</td>\n",
       "      <td>00:01:26</td>\n",
       "      <td>4</td>\n",
       "      <td>3</td>\n",
       "      <td>faec12cf-d777-46d1-8fc8-0c8907ea5921</td>\n",
       "      <td>3</td>\n",
       "    </tr>\n",
       "    <tr>\n",
       "      <th>1926479</th>\n",
       "      <td>[2020-10-25 18:18:28] production_jobs.INFO: 66</td>\n",
       "      <td>37948</td>\n",
       "      <td>2020-01-22 15:25:03</td>\n",
       "      <td>2020-09-17 09:30:00</td>\n",
       "      <td>2020-10-25 22:17:50</td>\n",
       "      <td>Algoritmanın Anlamı</td>\n",
       "      <td>16</td>\n",
       "      <td>10189</td>\n",
       "      <td>Analitiğin Gizemini Çözmek</td>\n",
       "      <td>0</td>\n",
       "      <td>00:00:01</td>\n",
       "      <td>5</td>\n",
       "      <td>3</td>\n",
       "      <td>1b1227a9-acfd-49b5-942a-10bde29eb6ee</td>\n",
       "      <td>-</td>\n",
       "    </tr>\n",
       "  </tbody>\n",
       "</table>\n",
       "<p>1926479 rows × 15 columns</p>\n",
       "</div>"
      ],
      "text/plain": [
       "                                                      0      1  \\\n",
       "0         [2020-10-25 14:40:25] production_jobs.INFO: 8    147   \n",
       "1         [2020-10-25 14:40:25] production_jobs.INFO: 9    139   \n",
       "2         [2020-10-25 14:40:25] production_jobs.INFO: 9    139   \n",
       "3        [2020-10-25 14:40:25] production_jobs.INFO: 10    200   \n",
       "4        [2020-10-25 14:40:25] production_jobs.INFO: 10    200   \n",
       "...                                                 ...    ...   \n",
       "1926475  [2020-10-25 18:18:28] production_jobs.INFO: 66  37948   \n",
       "1926476  [2020-10-25 18:18:28] production_jobs.INFO: 66  37948   \n",
       "1926477  [2020-10-25 18:18:28] production_jobs.INFO: 20  49199   \n",
       "1926478  [2020-10-25 18:18:28] production_jobs.INFO: 20  49060   \n",
       "1926479  [2020-10-25 18:18:28] production_jobs.INFO: 66  37948   \n",
       "\n",
       "                           2                    3                    4  \\\n",
       "0        2018-09-26 12:19:32  2018-09-25 21:05:24  2018-09-27 09:30:53   \n",
       "1        2018-09-21 17:14:07  2018-09-22 10:00:02  2018-10-01 11:18:20   \n",
       "2        2018-09-21 17:14:07  2018-09-23 10:00:59  2018-10-01 11:19:18   \n",
       "3        2018-10-03 09:36:25  2018-10-01 08:00:36  2018-10-03 09:48:55   \n",
       "4        2018-10-03 09:36:25  2018-10-01 09:00:52  2018-10-03 10:38:28   \n",
       "...                      ...                  ...                  ...   \n",
       "1926475  2020-01-22 15:25:03  2020-09-16 09:30:00  2020-10-25 22:16:58   \n",
       "1926476  2020-01-22 15:25:03  2020-09-16 09:30:00  2020-10-25 22:17:25   \n",
       "1926477  2020-10-21 09:06:20  2020-10-23 09:00:00  2020-10-25 22:17:47   \n",
       "1926478  2020-10-12 15:26:23  2020-10-22 09:00:00  2020-10-25 22:17:47   \n",
       "1926479  2020-01-22 15:25:03  2020-09-17 09:30:00  2020-10-25 22:17:50   \n",
       "\n",
       "                                                         5   6      7  \\\n",
       "0                                       Welcome to Journey  16     86   \n",
       "1                           İnovasyoncunun Beş Alışkanlığı  14     94   \n",
       "2        Peter Drucker’a göre İnovasyona Fırsat Sağlaya...  11    112   \n",
       "3                                       Welcome to Journey  16     86   \n",
       "4                                     Yenilikçinin İkilemi  16    100   \n",
       "...                                                    ...  ..    ...   \n",
       "1926475                             Veri ve Verinin Evrimi  16  10187   \n",
       "1926476                             Veri ve Verinin Evrimi  16  10187   \n",
       "1926477                             Satış Sonrası İşlemler  12   9080   \n",
       "1926478                                  Roaming Paketleri  12   9061   \n",
       "1926479                                Algoritmanın Anlamı  16  10189   \n",
       "\n",
       "                                              8    9        10 11 12  \\\n",
       "0                                      Welcome     0       NaN  2  3   \n",
       "1                         İnovatif Bakış Açısı   100       NaN  2  3   \n",
       "2                         İnovatif Bakış Açısı   100       NaN  2  3   \n",
       "3                         İnovatif Bakış Açısı     0       NaN  2  3   \n",
       "4                         İnovatif Bakış Açısı     0       NaN  2  3   \n",
       "...                                         ...  ...       ... .. ..   \n",
       "1926475             Analitiğin Gizemini Çözmek    85  00:02:45  5  3   \n",
       "1926476             Analitiğin Gizemini Çözmek   100  00:00:27  5  3   \n",
       "1926477  Merhaba  Vodafone Ailesine Hoşgeldin!     0  00:00:00  4  3   \n",
       "1926478  Merhaba  Vodafone Ailesine Hoşgeldin!    69  00:01:26  4  3   \n",
       "1926479             Analitiğin Gizemini Çözmek     0  00:00:01  5  3   \n",
       "\n",
       "                                           13   14  \n",
       "0                                eDE0NzY2Mg==  -    \n",
       "1                                eDEzOTY1MQ==  -    \n",
       "2                                eDEzOTY1Mg==  -    \n",
       "3                                eDIwMDY4Ng==  -    \n",
       "4                                eDIwMDY4Nw==  -    \n",
       "...                                       ...  ...  \n",
       "1926475  af347740-8e03-4c51-9fcb-446fe0f8cca4  -    \n",
       "1926476  af347740-8e03-4c51-9fcb-446fe0f8cca4  -    \n",
       "1926477  2d9fe7b6-f9bd-46b6-bfa7-242e7c795e54  0    \n",
       "1926478  faec12cf-d777-46d1-8fc8-0c8907ea5921  3    \n",
       "1926479  1b1227a9-acfd-49b5-942a-10bde29eb6ee  -    \n",
       "\n",
       "[1926479 rows x 15 columns]"
      ]
     },
     "execution_count": 89,
     "metadata": {},
     "output_type": "execute_result"
    }
   ],
   "source": [
    "clean_data.drop(index = 1789049, axis = 0)"
   ]
  },
  {
   "cell_type": "code",
   "execution_count": 90,
   "metadata": {},
   "outputs": [
    {
     "name": "stdout",
     "output_type": "stream",
     "text": [
      "3    924046\n",
      "4    858524\n",
      "5     90275\n",
      "2     52909\n",
      "1       726\n",
      "Name: 11, dtype: int64\n"
     ]
    }
   ],
   "source": [
    "max_value = clean_data[11].mode()\n",
    "clean_data[11] = clean_data[11].replace([0],max_value)\n",
    "print(clean_data[11].value_counts())"
   ]
  },
  {
   "cell_type": "code",
   "execution_count": 91,
   "metadata": {},
   "outputs": [
    {
     "name": "stdout",
     "output_type": "stream",
     "text": [
      "16    591044\n",
      "7     439583\n",
      "12    310766\n",
      "11    152680\n",
      "14    149485\n",
      "1     106079\n",
      "5      43586\n",
      "4      37358\n",
      "2      34263\n",
      "0      33266\n",
      "8      24462\n",
      "10      3126\n",
      "9        710\n",
      "3         32\n",
      "17        20\n",
      "6         18\n",
      "13         2\n",
      "Name: 6, dtype: int64\n"
     ]
    }
   ],
   "source": [
    "content_max = clean_data[6].mode()\n",
    "#print(content_max)\n",
    "print(clean_data[6].value_counts())\n",
    "\n",
    "\n",
    "clean_data[6] = clean_data[6].replace([0],content_max)\n",
    "#print('after: ',clean_data[6].value_counts())"
   ]
  },
  {
   "cell_type": "code",
   "execution_count": 92,
   "metadata": {},
   "outputs": [
    {
     "name": "stdout",
     "output_type": "stream",
     "text": [
      "3    1846348\n",
      "2      52037\n",
      "1      28095\n",
      "Name: 12, dtype: int64\n"
     ]
    }
   ],
   "source": [
    "max_value = clean_data[12].mode()\n",
    "clean_data[12] = clean_data[12].replace([0],max_value)\n",
    "print(clean_data[12].value_counts())"
   ]
  },
  {
   "cell_type": "code",
   "execution_count": 93,
   "metadata": {},
   "outputs": [
    {
     "name": "stdout",
     "output_type": "stream",
     "text": [
      "<class 'str'>\n"
     ]
    }
   ],
   "source": [
    "print(type(clean_data[1][0]))\n"
   ]
  },
  {
   "cell_type": "code",
   "execution_count": 94,
   "metadata": {},
   "outputs": [],
   "source": [
    "#clean_data.isin(['FLIPBOOK']).any()\n",
    "#clean_data[1].where(clean_data[1] == 'FLIPBOOK')\n",
    "clean_data.drop(clean_data[clean_data[1] == 'FLIPBOOK'].index, inplace = True)\n",
    "#print(clean_data.shape)\n",
    "\n",
    "#clean_data[1] = pd.to_numeric(clean_data[1])\n",
    "#print(clean_data.shape)\n",
    "clean_data.dropna(how = 'any')\n",
    "arr = {}\n",
    "#clean_data[1] = round(clean_data[1]).astype('int')\n",
    "#clean_data.drop(index = 1789049, axis = 0)"
   ]
  },
  {
   "cell_type": "code",
   "execution_count": 95,
   "metadata": {},
   "outputs": [],
   "source": [
    "clean_data[1] = clean_data[1].fillna(0.0).astype('int')"
   ]
  },
  {
   "cell_type": "code",
   "execution_count": 96,
   "metadata": {},
   "outputs": [
    {
     "name": "stdout",
     "output_type": "stream",
     "text": [
      "<class 'pandas.core.frame.DataFrame'>\n"
     ]
    }
   ],
   "source": [
    "print(type(clean_data))"
   ]
  },
  {
   "cell_type": "code",
   "execution_count": 97,
   "metadata": {},
   "outputs": [],
   "source": [
    "clean_data[9] = clean_data[9].replace(['nan'],'0')\n",
    "clean_data[9] = clean_data[9].fillna(0.0).astype('int')"
   ]
  },
  {
   "cell_type": "code",
   "execution_count": 98,
   "metadata": {},
   "outputs": [],
   "source": [
    "#clean_data.drop(index = 1789049, axis = 0)\n",
    "clean_data[5] = clean_data[5].replace(['nan'],\"\")\n",
    "clean_data[5] = clean_data[5].astype('str')"
   ]
  },
  {
   "cell_type": "code",
   "execution_count": 99,
   "metadata": {},
   "outputs": [
    {
     "name": "stdout",
     "output_type": "stream",
     "text": [
      "0     object\n",
      "1      int64\n",
      "2     object\n",
      "3     object\n",
      "4     object\n",
      "5     object\n",
      "6      int64\n",
      "7     object\n",
      "8     object\n",
      "9      int64\n",
      "10    object\n",
      "11     int64\n",
      "12     int64\n",
      "13    object\n",
      "14    object\n",
      "dtype: object\n"
     ]
    }
   ],
   "source": [
    "print(clean_data.dtypes)"
   ]
  },
  {
   "cell_type": "code",
   "execution_count": 100,
   "metadata": {},
   "outputs": [],
   "source": [
    "clean_data.columns = ['Customer Id','User Id', 'User Created At', 'Activation Date', 'Activity Date','Name', 'Content Type', 'Content ID','Journey Name', 'Action', 'Duration','Device', 'Channel', 'Session Id', 'Rating']\n"
   ]
  },
  {
   "cell_type": "code",
   "execution_count": 109,
   "metadata": {},
   "outputs": [
    {
     "data": {
      "text/plain": [
       "Customer Id        object\n",
       "User Id             int64\n",
       "User Created At    object\n",
       "Activation Date    object\n",
       "Activity Date      object\n",
       "Name               object\n",
       "Content Type        int64\n",
       "Content ID         object\n",
       "Journey Name       object\n",
       "Action              int64\n",
       "Duration           object\n",
       "Device              int64\n",
       "Channel             int64\n",
       "Session Id         object\n",
       "Rating             object\n",
       "dtype: object"
      ]
     },
     "execution_count": 109,
     "metadata": {},
     "output_type": "execute_result"
    }
   ],
   "source": [
    "clean_data.dtypes\n",
    "#print(clean_data)"
   ]
  },
  {
   "cell_type": "code",
   "execution_count": 114,
   "metadata": {},
   "outputs": [
    {
     "name": "stderr",
     "output_type": "stream",
     "text": [
      "IOPub data rate exceeded.\n",
      "The notebook server will temporarily stop sending output\n",
      "to the client in order to avoid crashing it.\n",
      "To change this limit, set the config variable\n",
      "`--NotebookApp.iopub_data_rate_limit`.\n",
      "\n",
      "Current values:\n",
      "NotebookApp.iopub_data_rate_limit=1000000.0 (bytes/sec)\n",
      "NotebookApp.rate_limit_window=3.0 (secs)\n",
      "\n"
     ]
    }
   ],
   "source": [
    "#clean_data = clean_data[:300].groupby(['User Id'],axis=1)\n",
    "#print(Grouped.size())\n",
    "\n",
    "clean_data.groupby(['User Id'])\n",
    "\n",
    "#print(clean_data.groupby(['User Id']).count())\n",
    "\n",
    "group_label = clean_data.groupby(['User Id']).groups\n",
    "print(group_label)"
   ]
  },
  {
   "cell_type": "code",
   "execution_count": 103,
   "metadata": {},
   "outputs": [
    {
     "name": "stdout",
     "output_type": "stream",
     "text": [
      "<class 'dict'>\n"
     ]
    }
   ],
   "source": [
    "print(type(group_label))"
   ]
  },
  {
   "cell_type": "code",
   "execution_count": 104,
   "metadata": {},
   "outputs": [
    {
     "name": "stdout",
     "output_type": "stream",
     "text": [
      "Int64Index([    53,     54, 235862, 235863, 235864, 235865, 235866, 235868,\n",
      "            235870, 235871, 235872, 235873, 235874, 235875, 235878, 235880,\n",
      "            235881, 235883, 235884],\n",
      "           dtype='int64')\n"
     ]
    }
   ],
   "source": [
    "print(group_label[1])"
   ]
  },
  {
   "cell_type": "code",
   "execution_count": 105,
   "metadata": {},
   "outputs": [
    {
     "name": "stdout",
     "output_type": "stream",
     "text": [
      "<class 'pandas.core.indexes.numeric.Int64Index'>\n"
     ]
    }
   ],
   "source": [
    "print(type(group_label[1]))"
   ]
  },
  {
   "cell_type": "code",
   "execution_count": 106,
   "metadata": {},
   "outputs": [
    {
     "name": "stdout",
     "output_type": "stream",
     "text": [
      "         User Id      Activation Date        Activity Date  \\\n",
      "0            147  2018-09-25 21:05:24  2018-09-27 09:30:53   \n",
      "1            139  2018-09-22 10:00:02  2018-10-01 11:18:20   \n",
      "2            139  2018-09-23 10:00:59  2018-10-01 11:19:18   \n",
      "3            200  2018-10-01 08:00:36  2018-10-03 09:48:55   \n",
      "4            200  2018-10-01 09:00:52  2018-10-03 10:38:28   \n",
      "...          ...                  ...                  ...   \n",
      "1926475    37948  2020-09-16 09:30:00  2020-10-25 22:16:58   \n",
      "1926476    37948  2020-09-16 09:30:00  2020-10-25 22:17:25   \n",
      "1926477    49199  2020-10-23 09:00:00  2020-10-25 22:17:47   \n",
      "1926478    49060  2020-10-22 09:00:00  2020-10-25 22:17:47   \n",
      "1926479    37948  2020-09-17 09:30:00  2020-10-25 22:17:50   \n",
      "\n",
      "                                                      Name  Action  \\\n",
      "0                                       Welcome to Journey       0   \n",
      "1                           İnovasyoncunun Beş Alışkanlığı     100   \n",
      "2        Peter Drucker’a göre İnovasyona Fırsat Sağlaya...     100   \n",
      "3                                       Welcome to Journey       0   \n",
      "4                                     Yenilikçinin İkilemi       0   \n",
      "...                                                    ...     ...   \n",
      "1926475                             Veri ve Verinin Evrimi      85   \n",
      "1926476                             Veri ve Verinin Evrimi     100   \n",
      "1926477                             Satış Sonrası İşlemler       0   \n",
      "1926478                                  Roaming Paketleri      69   \n",
      "1926479                                Algoritmanın Anlamı       0   \n",
      "\n",
      "                Time lag      User Created At  \n",
      "0        1 days 12:25:29  2018-09-26 12:19:32  \n",
      "1        9 days 01:18:18  2018-09-21 17:14:07  \n",
      "2        8 days 01:18:19  2018-09-21 17:14:07  \n",
      "3        2 days 01:48:19  2018-10-03 09:36:25  \n",
      "4        2 days 01:37:36  2018-10-03 09:36:25  \n",
      "...                  ...                  ...  \n",
      "1926475 39 days 12:46:58  2020-01-22 15:25:03  \n",
      "1926476 39 days 12:47:25  2020-01-22 15:25:03  \n",
      "1926477  2 days 13:17:47  2020-10-21 09:06:20  \n",
      "1926478  3 days 13:17:47  2020-10-12 15:26:23  \n",
      "1926479 38 days 12:47:50  2020-01-22 15:25:03  \n",
      "\n",
      "[1924389 rows x 7 columns]\n"
     ]
    }
   ],
   "source": [
    "open_time = pd.DataFrame()\n",
    "\n",
    "open_time = clean_data[['User Id','Activation Date','Activity Date','Name','Action','User Created At']]\n",
    "\n",
    "#diff = pd.Timestamp(open_time['Activity Date'])- pd.Timestamp(open_time['Activation Date'])\n",
    "diff = pd.to_datetime(open_time['Activity Date'])- pd.to_datetime(open_time['Activation Date'])\n",
    "#print(diff)\n",
    "open_time.insert(5, \"Time lag\", diff)\n",
    "print(open_time)\n",
    "#open_time.dropna(how = \"any\")\n"
   ]
  },
  {
   "cell_type": "code",
   "execution_count": null,
   "metadata": {},
   "outputs": [],
   "source": [
    "print(open_)"
   ]
  },
  {
   "cell_type": "code",
   "execution_count": 113,
   "metadata": {},
   "outputs": [
    {
     "name": "stdout",
     "output_type": "stream",
     "text": [
      "User Id                      int64\n",
      "Activation Date             object\n",
      "Activity Date               object\n",
      "Name                        object\n",
      "Action                       int64\n",
      "Time lag           timedelta64[ns]\n",
      "User Created At             object\n",
      "dtype: object\n",
      "User Id                      int64\n",
      "Activation Date             object\n",
      "Activity Date               object\n",
      "Name                        object\n",
      "Action                       int64\n",
      "Time lag           timedelta64[ns]\n",
      "User Created At             object\n",
      "dtype: object\n",
      "1924389\n"
     ]
    }
   ],
   "source": [
    "print(open_time.dtypes)\n",
    "Action100 = open_time[open_time['Action'] == 100] \n",
    "Action100.reset_index(drop=True, inplace=True)\n",
    "\n",
    "print(Action100.dtypes)\n",
    "for i in range(len(Action100)):\n",
    "    for j in range(len(open_time)):\n",
    "        #print(Action100['User Id'][1])\n",
    "        if Action100['User Id'][i] == open_time['User Id'][j] and Action100['Name'][i] == open_time['Name'][j]:\n",
    "            #print(Action100['User Id'][i])\n",
    "            open_time.drop(index=j ,axis =0)\n",
    "        else:\n",
    "            break\n",
    "print(len(open_time))\n",
    "        "
   ]
  },
  {
   "cell_type": "code",
   "execution_count": null,
   "metadata": {},
   "outputs": [],
   "source": [
    "import time\n",
    "from datetime import datetime\n",
    "# Get Keys\n",
    "keys = list(group_label.keys())\n",
    "dic_hr = {}\n",
    "# Create a dictionary for hr item of each user\n",
    "# Use first 10 users for less running time\n",
    "for i in range(len(keys[0:10])):\n",
    "    key = keys[i]\n",
    "    index = group_label[key]\n",
    "    dic_hr[\"%s\"%key] = []\n",
    "    for j in range(len(index)):\n",
    "        str = open_time.iloc[index[j],[2]].to_string()\n",
    "        str = str.replace(\" \", \"\")\n",
    "        str = str.replace(\"ActivityDate\", \"\")\n",
    "        print(str)\n",
    "        if str == \"NaN\":\n",
    "            break\n",
    "        t = datetime.strptime(str,\"%Y-%m-%d%H:%M:%S\")\n",
    "        hr = t.timetuple()[3]\n",
    "        dic_hr[\"%s\"%key] += [hr]\n",
    "\n"
   ]
  },
  {
   "cell_type": "code",
   "execution_count": null,
   "metadata": {},
   "outputs": [],
   "source": [
    "keys = list(group_label.keys())\n",
    "dic_hr = {}\n",
    "# Create a dictionary for hr item of each user\n",
    "# Use first 10 users for less running time\n",
    "for i in range(len(keys[0:10])):\n",
    "    key = keys[i]\n",
    "    index = group_label[key]\n",
    "    dic_hr[\"%s\"%key] = []\n",
    "    for j in range(len(index)):\n",
    "        str = open_time.iloc[index[j],[2]].to_string()\n",
    "        str = str.replace(\" \", \"\")\n",
    "        str = str.replace(\"ActivityDate\", \"\")\n",
    "        print(str)\n",
    "        if str == \"NaN\":\n",
    "            break\n",
    "        t = datetime.strptime(str,\"%Y-%m-%d%H:%M:%S\")\n",
    "        hr = t.timetuple()[3]\n",
    "        dic_hr[\"%s\"%key] += [hr]"
   ]
  },
  {
   "cell_type": "code",
   "execution_count": 65,
   "metadata": {},
   "outputs": [],
   "source": [
    "#print(dic_hr)"
   ]
  },
  {
   "cell_type": "code",
   "execution_count": 66,
   "metadata": {},
   "outputs": [],
   "source": [
    "# Count frequency for each user\n",
    "import statistics\n",
    "from collections import Counter\n",
    "dic_frequency = {}\n",
    "arr = []\n",
    "hr_keys = list(dic_hr.keys())\n",
    "for i in range(len(hr_keys)):\n",
    "    arr = Counter(dic_hr[hr_keys[i]]).most_common(2)\n",
    "    # list of tuple\n",
    "    if len(arr) == 1:\n",
    "        dic_frequency[hr_keys[i]] = arr[0][0]\n",
    "    else:\n",
    "        if arr[0][1] > arr[1][1]:\n",
    "            dic_frequency[hr_keys[i]] = arr[0][0]\n",
    "        else:\n",
    "            # if same frequency, save both hr, check the diff with sending time\n",
    "            dic_frequency[hr_keys[i]] = [arr[0][0], arr[1][0]]"
   ]
  },
  {
   "cell_type": "code",
   "execution_count": 67,
   "metadata": {},
   "outputs": [
    {
     "data": {
      "text/plain": [
       "{'0': [0, 20],\n",
       " '1': 12,\n",
       " '2': 20,\n",
       " '21': [8, 15],\n",
       " '22': 11,\n",
       " '38': 3,\n",
       " '41': 10,\n",
       " '47': 14,\n",
       " '53': 13,\n",
       " '61': 16}"
      ]
     },
     "execution_count": 67,
     "metadata": {},
     "output_type": "execute_result"
    }
   ],
   "source": [
    "dic_frequency"
   ]
  },
  {
   "cell_type": "code",
   "execution_count": 70,
   "metadata": {},
   "outputs": [
    {
     "name": "stdout",
     "output_type": "stream",
     "text": [
      "Counter({16: 26, 15: 17, 12: 12, 11: 4})\n"
     ]
    }
   ],
   "source": [
    "dic_avg_rate = {}\n",
    "dic_all_action = {}\n",
    "#print(hr_keys)\n",
    "#print(dic_hr)\n",
    "arr = []\n",
    "l = []\n",
    "hr_keys = list(dic_hr.keys())\n",
    "for i in range(len(hr_keys)):\n",
    "    arr = Counter(dic_hr[hr_keys[i]]) #each user ID will show 12 13 14 20\n",
    "    for j in range(len(arr.keys())):#retrive each hour 12/ 13/ 14/20\n",
    "        for n in zip open_time['Action']  #in opentime hr =12/13 #acction store in list\n",
    "        \n",
    "    \n",
    "    \n",
    "    \n",
    "    if len(arr) == 1:\n",
    "        dic_frequency[hr_keys[i]] = arr[0][0]\n",
    "    else:\n",
    "        if arr[0][1] > arr[1][1]:\n",
    "            dic_frequency[hr_keys[i]] = arr[0][0]\n",
    "        else:\n",
    "            # if same frequency, save both hr, check the diff with sending time\n",
    "            dic_frequency[hr_keys[i]] = [arr[0][0], arr[1][0]]"
   ]
  },
  {
   "cell_type": "code",
   "execution_count": null,
   "metadata": {},
   "outputs": [],
   "source": []
  }
 ],
 "metadata": {
  "kernelspec": {
   "display_name": "Python 3",
   "language": "python",
   "name": "python3"
  },
  "language_info": {
   "codemirror_mode": {
    "name": "ipython",
    "version": 3
   },
   "file_extension": ".py",
   "mimetype": "text/x-python",
   "name": "python",
   "nbconvert_exporter": "python",
   "pygments_lexer": "ipython3",
   "version": "3.8.3"
  }
 },
 "nbformat": 4,
 "nbformat_minor": 4
}
