{
 "cells": [
  {
   "cell_type": "code",
   "execution_count": 12,
   "metadata": {
    "slideshow": {
     "slide_type": "-"
    }
   },
   "outputs": [],
   "source": [
    "import pandas as pd\n",
    "import numpy as np\n",
    "\n",
    "X = pd.read_csv('new_data.csv', parse_dates = True, low_memory = False)\n",
    "#print(X.shape)\n",
    "X = X.values"
   ]
  },
  {
   "cell_type": "code",
   "execution_count": 13,
   "metadata": {},
   "outputs": [],
   "source": [
    "# delete duplicates in device and content_type and prepare for projecting string to number\n",
    "res_list = X.T.tolist()\n",
    "b = list(set(res_list[10]))\n",
    "\n",
    "device = X[:,11]\n",
    "for i in range(len(device)):\n",
    "    if device[i] == 'Device':\n",
    "        print(i)\n",
    "        \n",
    "content_type = X[:,6]\n",
    "for i in range(len(content_type)):\n",
    "    if content_type[i] == 'Content Type':\n",
    "        print(i)\n",
    "#print(X[:,6])"
   ]
  },
  {
   "cell_type": "code",
   "execution_count": 14,
   "metadata": {},
   "outputs": [],
   "source": [
    "#Mapping device, channel and content_type to number\n",
    "device = X[:,11]\n",
    "#print(device)\n",
    "channel = X[:,12]\n",
    "#print(channel)\n",
    "content_type = X[:,6]\n",
    "#print(content_type)\n",
    "for i in range(len(device)):\n",
    "    if device[i] == 'Android':\n",
    "        device[i] = 4\n",
    "    elif device[i] == 'iOS':\n",
    "        device[i] = 3    \n",
    "    elif device[i] == 'Web':\n",
    "        device[i] = 2 \n",
    "    elif device[i] == 'Mobile Web (Tablet)':\n",
    "        device[i] = 1\n",
    "    elif device[i] == 'Mobile Web':\n",
    "        device[i] = 5\n",
    "    else:\n",
    "        device[i] = 0\n",
    "#print(device)\n",
    "\n",
    "for i in range(len(channel)):\n",
    "    if channel[i] == 'Mobile Notification':\n",
    "        channel[i] = 2\n",
    "    elif channel[i] == 'From Email':\n",
    "        channel[i] = 1\n",
    "    elif channel[i] == 'Direct Connection':\n",
    "        channel[i] = 3\n",
    "    else:\n",
    "        channel[i] = 0\n",
    "#print(channel)\n",
    "\n",
    "content_type_list = ['KEY_CONTACT_NEWHIRE', 'EXTERNAL_ARTICLE', 'CHECKLIST', 'KNOWLEDGE_REQUIREMENT_NEWHIRE', 'BOOK_SUGGESTION', 'QUIZ', 'KEY_CONTACT_MANAGER', 'EXTERNAL_VIDEO', 'SURVEY', 'MEETING', 'LIVE_EVENT', 'INTERNAL_ARTICLE', 'FLIPBOOK', 'KNOWLEDGE_REQUIREMENT_MANAGER', 'INFOGRAPHIC', 'Content Type', 'INTERNAL_VIDEO', 'QUOTES']\n",
    "\n",
    "for i in range(len(content_type)):\n",
    "    if content_type[i] == content_type_list[0]:\n",
    "        content_type[i] = 17000\n",
    "    elif content_type[i] == content_type_list[1]:\n",
    "        content_type[i] = 1000\n",
    "    elif content_type[i] == content_type_list[2]:\n",
    "        content_type[i] = 2000\n",
    "    elif content_type[i] == content_type_list[3]:\n",
    "        content_type[i] = 3000\n",
    "    elif content_type[i] == content_type_list[4]:\n",
    "        content_type[i] = 4000\n",
    "    elif content_type[i] == content_type_list[5]:\n",
    "        content_type[i] = 5000\n",
    "    elif content_type[i] == content_type_list[6]:\n",
    "        content_type[i] = 6000\n",
    "    elif content_type[i] == content_type_list[7]:\n",
    "        content_type[i] = 7000\n",
    "    elif content_type[i] == content_type_list[8]:\n",
    "        content_type[i] = 8000\n",
    "    elif content_type[i] == content_type_list[9]:\n",
    "        content_type[i] = 9000\n",
    "    elif content_type[i] == content_type_list[10]:\n",
    "        content_type[i] = 10000\n",
    "    elif content_type[i] == content_type_list[11]:\n",
    "        content_type[i] = 11000\n",
    "    elif content_type[i] == content_type_list[12]:\n",
    "        content_type[i] = 12000\n",
    "    elif content_type[i] == content_type_list[13]:\n",
    "        content_type[i] = 13000\n",
    "    elif content_type[i] == content_type_list[14]:\n",
    "        content_type[i] = 14000\n",
    "    elif content_type[i] == content_type_list[15]:\n",
    "        content_type[i] = 15000\n",
    "    elif content_type[i] == content_type_list[16]:\n",
    "        content_type[i] = 16000\n",
    "    else:\n",
    "        content_type[i] = 0\n",
    "#print(content_type)"
   ]
  },
  {
   "cell_type": "code",
   "execution_count": 15,
   "metadata": {
    "scrolled": true
   },
   "outputs": [],
   "source": [
    "#select the data from cleaned data\n",
    "clean_data = pd.DataFrame(X)\n",
    "#print(clean_data.head())\n",
    "c = clean_data.values\n",
    "#print(c)"
   ]
  },
  {
   "cell_type": "code",
   "execution_count": 16,
   "metadata": {},
   "outputs": [],
   "source": [
    "# use mode() function to replace the nan value\n",
    "max_value = clean_data[11].mode()\n",
    "clean_data[11] = clean_data[11].replace([0],max_value)\n",
    "#print(clean_data[11].value_counts())"
   ]
  },
  {
   "cell_type": "code",
   "execution_count": 17,
   "metadata": {},
   "outputs": [],
   "source": [
    "# use mode() function to replace the nan value\n",
    "content_max = clean_data[6].mode()\n",
    "#print(content_max)\n",
    "#print(clean_data[6].value_counts())\n",
    "clean_data[6] = clean_data[6].replace([0],content_max)\n",
    "#print('after: ',clean_data[6].value_counts())"
   ]
  },
  {
   "cell_type": "code",
   "execution_count": 18,
   "metadata": {
    "scrolled": true
   },
   "outputs": [],
   "source": [
    "# use mode() function to replace the nan value\n",
    "max_value = clean_data[12].mode()\n",
    "clean_data[12] = clean_data[12].replace([0],max_value)\n",
    "#print(clean_data[12].value_counts())"
   ]
  },
  {
   "cell_type": "code",
   "execution_count": 19,
   "metadata": {},
   "outputs": [],
   "source": [
    "#drop Flipbook from the user ID\n",
    "clean_data.drop(clean_data[clean_data[1] == 'FLIPBOOK'].index, inplace = True)"
   ]
  },
  {
   "cell_type": "code",
   "execution_count": 20,
   "metadata": {},
   "outputs": [],
   "source": [
    "#drop nan value\n",
    "clean_data.dropna(how = 'any', axis = 0, inplace = True)"
   ]
  },
  {
   "cell_type": "code",
   "execution_count": 21,
   "metadata": {},
   "outputs": [],
   "source": [
    "#reset index of cleaned data\n",
    "clean_data.reset_index(inplace=True, drop=True)"
   ]
  },
  {
   "cell_type": "code",
   "execution_count": 22,
   "metadata": {},
   "outputs": [],
   "source": [
    "#transfer userID index to integer\n",
    "clean_data[1] = clean_data[1].fillna(0.0).astype('int')"
   ]
  },
  {
   "cell_type": "code",
   "execution_count": 23,
   "metadata": {},
   "outputs": [],
   "source": [
    "#Replace the Action nan value to 0 and transfer Action type to integer\n",
    "clean_data[9] = clean_data[9].replace(['nan'],'0')\n",
    "clean_data[9] = clean_data[9].fillna(0.0).astype('int')"
   ]
  },
  {
   "cell_type": "code",
   "execution_count": 24,
   "metadata": {},
   "outputs": [],
   "source": [
    "#Replace the Content_Type nan value to [] and transfer Action Content_Type type to string\n",
    "#clean_data.drop(index = 1789049, axis = 0)\n",
    "clean_data[5] = clean_data[5].replace(['nan'],\"\")\n",
    "clean_data[5] = clean_data[5].astype('str')"
   ]
  },
  {
   "cell_type": "code",
   "execution_count": 25,
   "metadata": {},
   "outputs": [],
   "source": [
    "#Give the new cleaned data the column title\n",
    "clean_data.columns = ['Customer Id','User Id', 'User Created At', 'Activation Date', 'Activity Date','Name', 'Content Type', 'Content ID','Journey Name', 'Action', 'Duration','Device', 'Channel', 'Session Id', 'Rating']"
   ]
  },
  {
   "cell_type": "code",
   "execution_count": 26,
   "metadata": {},
   "outputs": [],
   "source": [
    "#Group by with userID and order by descending\n",
    "\n",
    "#clean_data = clean_data[:300].groupby(['User Id'],axis=1)\n",
    "#print(Grouped.size())\n",
    "\n",
    "clean_data.groupby(['User Id'])\n",
    "\n",
    "#print(clean_data.groupby(['User Id']).count())\n",
    "\n",
    "group_label = clean_data.groupby(['User Id']).groups\n",
    "#print(group_label)"
   ]
  },
  {
   "cell_type": "code",
   "execution_count": 27,
   "metadata": {},
   "outputs": [],
   "source": [
    "#choose the columns from cleaned data that we need to process later\n",
    "open_time = pd.DataFrame()\n",
    "open_time = clean_data.loc[:, ('User Id','Activation Date','Activity Date','Name','Content Type','Action','User Created At')]\n",
    "#diff = pd.Timestamp(open_time['Activity Date'])- pd.Timestamp(open_time['Activation Date'])\n",
    "#diff = pd.to_datetime(open_time['Activity Date'])- pd.to_datetime(open_time['Activation Date'])\n",
    "#print(diff)\n",
    "#open_time.insert(5, \"Time lag\", diff)\n",
    "#print(open_time)\n",
    "#open_time.dropna(how = \"any\")"
   ]
  },
  {
   "cell_type": "code",
   "execution_count": 28,
   "metadata": {},
   "outputs": [],
   "source": [
    "#transfer the Activity Date to date and hour seperately\n",
    "date = open_time['Activity Date'].map(lambda x: str(x)[0:10])\n",
    "date = pd.to_datetime(date)\n",
    "open_time['Activity Day'] = date.dt.day_name()\n",
    "hr = open_time['Activity Date'].map(lambda x: str(x)[11:13])\n",
    "open_time['hour'] = hr"
   ]
  },
  {
   "cell_type": "markdown",
   "metadata": {},
   "source": [
    "# Action Distribution"
   ]
  },
  {
   "cell_type": "code",
   "execution_count": 29,
   "metadata": {},
   "outputs": [
    {
     "data": {
      "text/plain": [
       "[(100, 820423),\n",
       " (0, 471496),\n",
       " (85, 186487),\n",
       " (86, 142780),\n",
       " (99, 74953),\n",
       " (80, 37345),\n",
       " (87, 13779),\n",
       " (88, 9472),\n",
       " (81, 8215),\n",
       " (90, 8085),\n",
       " (97, 7056),\n",
       " (98, 6015),\n",
       " (92, 4990),\n",
       " (91, 4015),\n",
       " (33, 3491),\n",
       " (95, 3361),\n",
       " (50, 3065),\n",
       " (89, 2951),\n",
       " (96, 2608),\n",
       " (67, 2437),\n",
       " (94, 2414),\n",
       " (93, 2378),\n",
       " (12, 2315),\n",
       " (1, 2208),\n",
       " (11, 2100),\n",
       " (25, 2032),\n",
       " (2, 2024),\n",
       " (28, 1887),\n",
       " (5, 1839),\n",
       " (7, 1799),\n",
       " (34, 1765),\n",
       " (27, 1762),\n",
       " (9, 1754),\n",
       " (14, 1720),\n",
       " (10, 1687),\n",
       " (20, 1682),\n",
       " (3, 1663),\n",
       " (4, 1642),\n",
       " (22, 1624),\n",
       " (8, 1599),\n",
       " (16, 1588),\n",
       " (66, 1564),\n",
       " (6, 1501),\n",
       " (40, 1457),\n",
       " (55, 1430),\n",
       " (75, 1305),\n",
       " (37, 1254),\n",
       " (61, 1247),\n",
       " (13, 1207),\n",
       " (23, 1197),\n",
       " (42, 1194),\n",
       " (15, 1186),\n",
       " (60, 1110),\n",
       " (18, 1075),\n",
       " (30, 1028),\n",
       " (62, 1023),\n",
       " (44, 1018),\n",
       " (41, 995),\n",
       " (71, 917),\n",
       " (29, 899),\n",
       " (26, 883),\n",
       " (57, 870),\n",
       " (19, 866),\n",
       " (45, 855),\n",
       " (36, 845),\n",
       " (38, 830),\n",
       " (17, 830),\n",
       " (39, 815),\n",
       " (83, 807),\n",
       " (46, 806),\n",
       " (21, 800),\n",
       " (79, 799),\n",
       " (24, 792),\n",
       " (54, 788),\n",
       " (31, 777),\n",
       " (70, 769),\n",
       " (32, 759),\n",
       " (72, 745),\n",
       " (77, 728),\n",
       " (51, 723),\n",
       " (63, 722),\n",
       " (35, 715),\n",
       " (53, 707),\n",
       " (68, 694),\n",
       " (48, 690),\n",
       " (58, 687),\n",
       " (84, 687),\n",
       " (76, 683),\n",
       " (43, 670),\n",
       " (47, 661),\n",
       " (73, 645),\n",
       " (78, 644),\n",
       " (65, 641),\n",
       " (69, 638),\n",
       " (82, 637),\n",
       " (56, 636),\n",
       " (52, 631),\n",
       " (49, 629),\n",
       " (64, 600),\n",
       " (59, 578),\n",
       " (74, 522),\n",
       " (-6, 7),\n",
       " (-15, 1),\n",
       " (-10, 1),\n",
       " (-177, 1),\n",
       " (-206, 1)]"
      ]
     },
     "execution_count": 29,
     "metadata": {},
     "output_type": "execute_result"
    }
   ],
   "source": [
    "#find the action distribution\n",
    "import collections\n",
    "actiondis = open_time[\"Action\"].values.tolist()\n",
    "collections.Counter(actiondis).most_common()"
   ]
  },
  {
   "cell_type": "markdown",
   "metadata": {},
   "source": [
    "# Action >= 85"
   ]
  },
  {
   "cell_type": "code",
   "execution_count": 31,
   "metadata": {},
   "outputs": [],
   "source": [
    "#Find the data when action rate is >= 85\n",
    "Action85 = open_time[open_time.loc[:,(\"Action\")] >= 85] \n",
    "Action = clean_data[[\"Content Type\",\"Device\",\"Channel\",\"Action\"]]"
   ]
  },
  {
   "cell_type": "code",
   "execution_count": 32,
   "metadata": {},
   "outputs": [],
   "source": [
    "#Mapping the data to number for convenience\n",
    "def tonum(x):\n",
    "    \"\"\"\n",
    "    take x, activity day as input\n",
    "    return int Mon -> 100, Tue -> , etc\n",
    "    \"\"\"\n",
    "    if x == \"Monday\":\n",
    "        #print(\"1\")\n",
    "        return 100\n",
    "    elif x == \"Tuesday\":\n",
    "        return 200\n",
    "    elif x == \"Wednesday\":\n",
    "        return 300\n",
    "    elif x == \"Thursday\":\n",
    "        return 400\n",
    "    elif x == \"Friday\":\n",
    "        return 500\n",
    "    elif x == \"Saturday\":\n",
    "        return 600\n",
    "    else:\n",
    "        return 700"
   ]
  },
  {
   "cell_type": "code",
   "execution_count": 33,
   "metadata": {},
   "outputs": [],
   "source": [
    "#transfer the data to number using the function above\n",
    "day_num = open_time.loc[:,('Activity Day')].map(lambda x: tonum(x))"
   ]
  },
  {
   "cell_type": "code",
   "execution_count": 34,
   "metadata": {},
   "outputs": [
    {
     "name": "stderr",
     "output_type": "stream",
     "text": [
      "<ipython-input-34-d758b5c84fdb>:2: SettingWithCopyWarning: \n",
      "A value is trying to be set on a copy of a slice from a DataFrame.\n",
      "Try using .loc[row_indexer,col_indexer] = value instead\n",
      "\n",
      "See the caveats in the documentation: https://pandas.pydata.org/pandas-docs/stable/user_guide/indexing.html#returning-a-view-versus-a-copy\n",
      "  Action85[\"day_num\"] = day_num\n"
     ]
    }
   ],
   "source": [
    "#store the date into day_num column\n",
    "Action85[\"day_num\"] = day_num"
   ]
  },
  {
   "cell_type": "code",
   "execution_count": 35,
   "metadata": {},
   "outputs": [],
   "source": [
    "#transfer the hour to number\n",
    "hr_num = Action85['hour'].map(lambda x: int(x))"
   ]
  },
  {
   "cell_type": "code",
   "execution_count": 36,
   "metadata": {},
   "outputs": [
    {
     "name": "stderr",
     "output_type": "stream",
     "text": [
      "<ipython-input-36-d230b046b843>:2: SettingWithCopyWarning: \n",
      "A value is trying to be set on a copy of a slice from a DataFrame.\n",
      "Try using .loc[row_indexer,col_indexer] = value instead\n",
      "\n",
      "See the caveats in the documentation: https://pandas.pydata.org/pandas-docs/stable/user_guide/indexing.html#returning-a-view-versus-a-copy\n",
      "  Action85[\"hour\"] = hr_num\n"
     ]
    }
   ],
   "source": [
    "#store the hour into hr_num column\n",
    "Action85[\"hour\"] = hr_num"
   ]
  },
  {
   "cell_type": "code",
   "execution_count": 37,
   "metadata": {},
   "outputs": [],
   "source": [
    "#add the hour and day_num together in order for calculating convenience\n",
    "total_num = Action85['hour'].add(Action85['day_num'])"
   ]
  },
  {
   "cell_type": "code",
   "execution_count": 38,
   "metadata": {},
   "outputs": [
    {
     "name": "stderr",
     "output_type": "stream",
     "text": [
      "<ipython-input-38-ae47c9776650>:2: SettingWithCopyWarning: \n",
      "A value is trying to be set on a copy of a slice from a DataFrame.\n",
      "Try using .loc[row_indexer,col_indexer] = value instead\n",
      "\n",
      "See the caveats in the documentation: https://pandas.pydata.org/pandas-docs/stable/user_guide/indexing.html#returning-a-view-versus-a-copy\n",
      "  Action85['total_num'] = total_num\n"
     ]
    }
   ],
   "source": [
    "#store the total_num into total_num column\n",
    "Action85['total_num'] = total_num"
   ]
  },
  {
   "cell_type": "code",
   "execution_count": 39,
   "metadata": {},
   "outputs": [
    {
     "name": "stderr",
     "output_type": "stream",
     "text": [
      "<ipython-input-39-8938044d31a5>:2: SettingWithCopyWarning: \n",
      "A value is trying to be set on a copy of a slice from a DataFrame.\n",
      "Try using .loc[row_indexer,col_indexer] = value instead\n",
      "\n",
      "See the caveats in the documentation: https://pandas.pydata.org/pandas-docs/stable/user_guide/indexing.html#returning-a-view-versus-a-copy\n",
      "  Action85['Content_Type_total'] = ''\n",
      "<ipython-input-39-8938044d31a5>:4: SettingWithCopyWarning: \n",
      "A value is trying to be set on a copy of a slice from a DataFrame.\n",
      "Try using .loc[row_indexer,col_indexer] = value instead\n",
      "\n",
      "See the caveats in the documentation: https://pandas.pydata.org/pandas-docs/stable/user_guide/indexing.html#returning-a-view-versus-a-copy\n",
      "  Action85['Content_Type_total'] = content_type_total\n"
     ]
    }
   ],
   "source": [
    "#add the content_type and total_num together in order for calculating convenience\n",
    "Action85['Content_Type_total'] = ''\n",
    "content_type_total = Action85['Content Type'].add(Action85['total_num'])\n",
    "Action85['Content_Type_total'] = content_type_total"
   ]
  },
  {
   "cell_type": "code",
   "execution_count": 40,
   "metadata": {},
   "outputs": [],
   "source": [
    "#choose the unique UserID\n",
    "df85 = pd.DataFrame({'User Id':Action85[\"User Id\"].unique()})"
   ]
  },
  {
   "cell_type": "code",
   "execution_count": 41,
   "metadata": {},
   "outputs": [],
   "source": [
    "#store all total_num of one user into one dataframe space\n",
    "df85['total_num'] = [list(set(Action85['total_num'].loc[Action85['User Id'] == x['User Id']])) for _, x in df85.iterrows()]"
   ]
  },
  {
   "cell_type": "code",
   "execution_count": 42,
   "metadata": {},
   "outputs": [],
   "source": [
    "#delete the duplicates UserID\n",
    "df = Action85.groupby('User Id').agg(lambda x: x.tolist()) "
   ]
  },
  {
   "cell_type": "code",
   "execution_count": 43,
   "metadata": {},
   "outputs": [],
   "source": [
    "#store the index which is thw userID into index_df\n",
    "index_df = df.index.values"
   ]
  },
  {
   "cell_type": "code",
   "execution_count": 44,
   "metadata": {},
   "outputs": [],
   "source": [
    "#add one column \"count_total\" in dataframe\n",
    "df[\"count_total\"] = ''"
   ]
  },
  {
   "cell_type": "code",
   "execution_count": 45,
   "metadata": {},
   "outputs": [],
   "source": [
    "#create a function for counting same total_num\n",
    "from collections import Counter\n",
    "def count(x):\n",
    "    Counter(df[\"total_num\"][21]).most_common()"
   ]
  },
  {
   "cell_type": "code",
   "execution_count": 46,
   "metadata": {},
   "outputs": [],
   "source": [
    "#count same total_num of one user and order from largest to smallest\n",
    "for i in range(len(index_df)):\n",
    "    df['count_total'][index_df[i]] = Counter(df['total_num'][index_df[i]]).most_common()"
   ]
  },
  {
   "cell_type": "code",
   "execution_count": 47,
   "metadata": {},
   "outputs": [],
   "source": [
    "#create a function to transfer the count_total number of each user into data and store in the different columns\n",
    "def sort_arr(arr):\n",
    "    res = [[],[],[],[],[],[],[]]\n",
    "    for i in range(len(arr)):\n",
    "        item = str(arr[i][0])\n",
    "        if item[0] == \"1\":\n",
    "            res[0].append(arr[i])\n",
    "            #return res\n",
    "        elif item[0] == \"2\":\n",
    "            res[1].append(arr[i])\n",
    "            #return res\n",
    "        elif item[0] == \"3\":\n",
    "            res[2].append(arr[i])\n",
    "            #return res\n",
    "        elif item[0] == \"4\":\n",
    "            res[3].append(arr[i])\n",
    "            #return res\n",
    "        elif item[0] == \"5\":\n",
    "            res[4].append(arr[i])\n",
    "            #return res\n",
    "        elif item[0] == \"6\":\n",
    "            res[5].append(arr[i])\n",
    "            #return res\n",
    "        else:\n",
    "            res[6].append(arr[i])\n",
    "            #return res\n",
    "    return res\n",
    "import statistics\n",
    "\n",
    "#in order to find the better user impression, create a function to choose the time which above the average frequency\n",
    "def get_above(arr):\n",
    "    freq = []\n",
    "    for i in range(len(arr)):\n",
    "        ele = arr[i][-1]\n",
    "        freq.append(ele)\n",
    "    \n",
    "    mean = statistics.mean(freq)\n",
    "    l = []\n",
    "    for i in range(len(arr)):\n",
    "        if arr[i][-1] >= mean:\n",
    "            l.append(arr[i])\n",
    "    return l\n",
    "\n",
    "# create a function to find the frequency of a selected user\n",
    "def find_freq(arr):\n",
    "    res = []\n",
    "    sorted_arr = sort_arr(arr)\n",
    "    for i in range(len(sorted_arr)):\n",
    "        if len(sorted_arr[i]) == 0:\n",
    "            res.append([])\n",
    "        else:\n",
    "            if len(sorted_arr[i]) == 1:\n",
    "                res.append(sorted_arr[i])\n",
    "            else:\n",
    "                subarr = sorted_arr[i]\n",
    "                freq = []\n",
    "                for i in range(len(arr)):\n",
    "                    ele = arr[i][-1]\n",
    "                    freq.append(ele)\n",
    "                l = []\n",
    "                mean = statistics.mean(freq)\n",
    "                for j in range(len(subarr)):\n",
    "                    if subarr[j][-1] >= mean:\n",
    "                        l.append(subarr[j])\n",
    "                res.append(l)\n",
    "    return res\n",
    "    \n",
    "    "
   ]
  },
  {
   "cell_type": "code",
   "execution_count": 48,
   "metadata": {},
   "outputs": [],
   "source": [
    "#create a new column in dataframe\n",
    "df[\"every_day_freq\"] = ''"
   ]
  },
  {
   "cell_type": "code",
   "execution_count": 49,
   "metadata": {},
   "outputs": [],
   "source": [
    "#find a frequency for each user\n",
    "for i in range(len(index_df)):\n",
    "    arr = df[\"count_total\"][index_df[i]]\n",
    "    df[\"every_day_freq\"][index_df[i]] = find_freq(arr)"
   ]
  },
  {
   "cell_type": "code",
   "execution_count": 50,
   "metadata": {},
   "outputs": [],
   "source": [
    "#create new columns to dataframe\n",
    "df['Mon'] = ''\n",
    "df['Tue'] = ''\n",
    "df['Wed'] = ''\n",
    "df['Thu'] = ''\n",
    "df['Fri'] = ''\n",
    "df['Sat'] = ''\n",
    "df['Sun'] = ''"
   ]
  },
  {
   "cell_type": "code",
   "execution_count": 51,
   "metadata": {},
   "outputs": [],
   "source": [
    "#generate hour with corresponding frequency on each day of one week\n",
    "for i in range(len(index_df)):\n",
    "    arr = df[\"every_day_freq\"][index_df[i]]\n",
    "    temp = []\n",
    "    ### Monday\n",
    "    if len(arr[0]) == 0:\n",
    "        df['Mon'][index_df[i]] = [np.nan]\n",
    "    else:\n",
    "        if len(arr[0]) == 1:\n",
    "            df['Mon'][index_df[i]] = [[arr[0][0][0]%100, arr[0][0][1]]]\n",
    "        else:\n",
    "            temp = []\n",
    "            for j in range(len(arr[0])):\n",
    "                ele = [arr[0][j][0]%100, arr[0][j][1]]\n",
    "                temp.append(ele)\n",
    "                \n",
    "            df['Mon'][index_df[i]] = temp\n",
    "    ### Tuesday\n",
    "    if len(arr[1]) == 0:\n",
    "        df['Tue'][index_df[i]] = [np.nan]\n",
    "    else:\n",
    "        if len(arr[1]) == 1:\n",
    "            df['Tue'][index_df[i]] = [[arr[1][0][0]%100, arr[1][0][1]]]\n",
    "        else:\n",
    "            temp = []\n",
    "            for j in range(len(arr[1])):\n",
    "                ele = [arr[1][j][0]%100, arr[1][j][1]]\n",
    "                temp.append(ele)\n",
    "            df['Tue'][index_df[i]] = temp\n",
    "    ### Wednesday\n",
    "    if len(arr[2]) == 0:\n",
    "        df['Wed'][index_df[i]] = [np.nan]\n",
    "    else:\n",
    "        if len(arr[2]) == 1:\n",
    "            df['Wed'][index_df[i]] = [[arr[2][0][0]%100, arr[2][0][1]]]\n",
    "        else:\n",
    "            temp = []\n",
    "            for j in range(len(arr[2])):\n",
    "                ele = [arr[2][j][0]%100, arr[2][j][1]]\n",
    "                temp.append(ele)\n",
    "            df['Wed'][index_df[i]] = temp\n",
    "    ### Thursday\n",
    "    if len(arr[3]) == 0:\n",
    "        df['Thu'][index_df[i]] = [np.nan]\n",
    "    else:\n",
    "        if len(arr[3]) == 1:\n",
    "            df['Thu'][index_df[i]] = [[arr[3][0][0]%100, arr[3][0][1]]]\n",
    "        else:\n",
    "            temp = []\n",
    "            for j in range(len(arr[3])):\n",
    "                ele = [arr[3][j][0]%100, arr[3][j][1]]\n",
    "                temp.append(ele)\n",
    "            df['Thu'][index_df[i]] = temp\n",
    "    ### Friday\n",
    "    if len(arr[4]) == 0:\n",
    "        df['Fri'][index_df[i]] = [np.nan]\n",
    "    else:\n",
    "        if len(arr[4]) == 1:\n",
    "            df['Fri'][index_df[i]] = [[arr[4][0][0]%100, arr[4][0][1]]]\n",
    "        else:\n",
    "            temp = []\n",
    "            for j in range(len(arr[4])):\n",
    "                ele = [arr[4][j][0]%100, arr[4][j][1]]\n",
    "                temp.append(ele)\n",
    "            df['Fri'][index_df[i]] = temp\n",
    "    ### Saturday\n",
    "    if len(arr[5]) == 0:\n",
    "        df['Sat'][index_df[i]] = [np.nan]\n",
    "    else:\n",
    "        if len(arr[5]) == 1:\n",
    "            df['Sat'][index_df[i]] = [[arr[5][0][0]%100, arr[5][0][1]]]\n",
    "        else:\n",
    "            temp = []\n",
    "            for j in range(len(arr[5])):\n",
    "                ele = [arr[5][j][0]%100, arr[5][j][1]]\n",
    "                temp.append(ele)\n",
    "            df['Sat'][index_df[i]] = temp\n",
    "    ### Sunday\n",
    "    if len(arr[6]) == 0:\n",
    "        df['Sun'][index_df[i]] = [np.nan]\n",
    "    else:\n",
    "        if len(arr[6]) == 1:\n",
    "            df['Sun'][index_df[i]] = [[arr[6][0][0]%100, arr[6][0][1]]]\n",
    "        else:\n",
    "            temp = []\n",
    "            for j in range(len(arr[6])):\n",
    "                ele = [arr[6][j][0]%100, arr[6][j][1]]\n",
    "                temp.append(ele)\n",
    "            df['Sun'][index_df[i]] = temp\n"
   ]
  },
  {
   "cell_type": "code",
   "execution_count": 52,
   "metadata": {},
   "outputs": [],
   "source": [
    "#convert userID into index\n",
    "for i in range(len(index_df)):\n",
    "    df['Content_Type_total'][index_df[i]] = list(set(df['Content_Type_total'][index_df[i]]))"
   ]
  },
  {
   "cell_type": "code",
   "execution_count": 53,
   "metadata": {},
   "outputs": [],
   "source": [
    "#create a function to find the nth_digit of one number\n",
    "def nth_digit(number, digit):\n",
    "    return abs(number) // (10**(digit-1)) % 10"
   ]
  },
  {
   "cell_type": "code",
   "execution_count": 54,
   "metadata": {},
   "outputs": [],
   "source": [
    "#add Content_Type into each space in the dataframe after hour and frequency\n",
    "#Monday\n",
    "for i in range(len(index_df)):\n",
    "    if df['Mon'][index_df[i]] == [np.nan]:\n",
    "        pass\n",
    "    else:\n",
    "        for j in range(len(df['Mon'][index_df[i]])):\n",
    "            for n in range(len(df['Content_Type_total'][index_df[i]])):\n",
    "                if nth_digit(df['Content_Type_total'][index_df[i]][n],3) == 1 and df['Mon'][index_df[i]][j][0] == df['Content_Type_total'][index_df[i]][n] % 100:\n",
    "                    df['Mon'][index_df[i]][j].append(df['Content_Type_total'][index_df[i]][n] // 1000)   \n",
    "        \n",
    "#Tuesday\n",
    "for i in range(len(index_df)):\n",
    "    if df['Tue'][index_df[i]] == [np.nan]:\n",
    "        pass\n",
    "    else:\n",
    "        for j in range(len(df['Tue'][index_df[i]])):\n",
    "            for n in range(len(df['Content_Type_total'][index_df[i]])):\n",
    "                if nth_digit(df['Content_Type_total'][index_df[i]][n],3) == 2 and df['Tue'][index_df[i]][j][0] == df['Content_Type_total'][index_df[i]][n] % 100:\n",
    "                    df['Tue'][index_df[i]][j].append(df['Content_Type_total'][index_df[i]][n] // 1000)\n",
    "        \n",
    "#Wednesday\n",
    "for i in range(len(index_df)):\n",
    "    if df['Wed'][index_df[i]] == [np.nan]:\n",
    "        pass\n",
    "    else:\n",
    "        for j in range(len(df['Wed'][index_df[i]])):\n",
    "            for n in range(len(df['Content_Type_total'][index_df[i]])):\n",
    "                if nth_digit(df['Content_Type_total'][index_df[i]][n],3) == 3 and df['Wed'][index_df[i]][j][0] == df['Content_Type_total'][index_df[i]][n] % 100:\n",
    "                    df['Wed'][index_df[i]][j].append(df['Content_Type_total'][index_df[i]][n] // 1000)\n",
    "        \n",
    "#Thursday\n",
    "for i in range(len(index_df)):\n",
    "    if df['Thu'][index_df[i]] == [np.nan]:\n",
    "        pass\n",
    "    else:\n",
    "        for j in range(len(df['Thu'][index_df[i]])):\n",
    "            for n in range(len(df['Content_Type_total'][index_df[i]])):\n",
    "                if nth_digit(df['Content_Type_total'][index_df[i]][n],3) == 4 and df['Thu'][index_df[i]][j][0] == df['Content_Type_total'][index_df[i]][n] % 100:\n",
    "                    df['Thu'][index_df[i]][j].append(df['Content_Type_total'][index_df[i]][n] // 1000)\n",
    "        \n",
    "#Friday\n",
    "for i in range(len(index_df)):\n",
    "    if df['Fri'][index_df[i]] == [np.nan]:\n",
    "        pass\n",
    "    else:\n",
    "        for j in range(len(df['Fri'][index_df[i]])):\n",
    "            for n in range(len(df['Content_Type_total'][index_df[i]])):\n",
    "                if nth_digit(df['Content_Type_total'][index_df[i]][n],3) == 5 and df['Fri'][index_df[i]][j][0] == df['Content_Type_total'][index_df[i]][n] % 100:\n",
    "                    df['Fri'][index_df[i]][j].append(df['Content_Type_total'][index_df[i]][n] // 1000)\n",
    "        \n",
    "#Saturday\n",
    "for i in range(len(index_df)):\n",
    "    if df['Sat'][index_df[i]] == [np.nan]:\n",
    "        pass\n",
    "    else:\n",
    "        for j in range(len(df['Sat'][index_df[i]])):\n",
    "            for n in range(len(df['Content_Type_total'][index_df[i]])):\n",
    "                if nth_digit(df['Content_Type_total'][index_df[i]][n],3) == 6 and df['Sat'][index_df[i]][j][0] == df['Content_Type_total'][index_df[i]][n] % 100:\n",
    "                    df['Sat'][index_df[i]][j].append(df['Content_Type_total'][index_df[i]][n] // 1000)\n",
    "        \n",
    "#Sunday\n",
    "for i in range(len(index_df)):\n",
    "    if df['Sun'][index_df[i]] == [np.nan]:\n",
    "        pass\n",
    "    else:\n",
    "        for j in range(len(df['Sun'][index_df[i]])):\n",
    "            for n in range(len(df['Content_Type_total'][index_df[i]])):\n",
    "                if nth_digit(df['Content_Type_total'][index_df[i]][n],3) == 7 and df['Sun'][index_df[i]][j][0] == df['Content_Type_total'][index_df[i]][n] % 100:\n",
    "                    df['Sun'][index_df[i]][j].append(df['Content_Type_total'][index_df[i]][n] // 1000)"
   ]
  },
  {
   "cell_type": "code",
   "execution_count": 55,
   "metadata": {},
   "outputs": [],
   "source": [
    "#Final result\n",
    "customer85_100 = pd.DataFrame()\n",
    "customer85_100 = df.loc[:,('Mon','Tue','Wed','Thu','Fri','Sat','Sun')]"
   ]
  },
  {
   "cell_type": "code",
   "execution_count": 56,
   "metadata": {},
   "outputs": [],
   "source": [
    "#Final result store in csv file\n",
    "customer85_100.to_csv('customer85_100_1206.csv')"
   ]
  },
  {
   "cell_type": "markdown",
   "metadata": {},
   "source": [
    "# Action > 0 and Action < 85"
   ]
  },
  {
   "cell_type": "markdown",
   "metadata": {},
   "source": [
    "**Same steps and functions as action >= 85**"
   ]
  },
  {
   "cell_type": "code",
   "execution_count": 57,
   "metadata": {},
   "outputs": [
    {
     "name": "stderr",
     "output_type": "stream",
     "text": [
      "<ipython-input-57-33e44962594f>:4: SettingWithCopyWarning: \n",
      "A value is trying to be set on a copy of a slice from a DataFrame.\n",
      "Try using .loc[row_indexer,col_indexer] = value instead\n",
      "\n",
      "See the caveats in the documentation: https://pandas.pydata.org/pandas-docs/stable/user_guide/indexing.html#returning-a-view-versus-a-copy\n",
      "  Action[\"Content ID\"] = Action[\"Content ID\"].astype(\"int\")\n",
      "<ipython-input-57-33e44962594f>:6: SettingWithCopyWarning: \n",
      "A value is trying to be set on a copy of a slice from a DataFrame.\n",
      "Try using .loc[row_indexer,col_indexer] = value instead\n",
      "\n",
      "See the caveats in the documentation: https://pandas.pydata.org/pandas-docs/stable/user_guide/indexing.html#returning-a-view-versus-a-copy\n",
      "  Action0_85[\"day_num\"] = day_num\n",
      "<ipython-input-57-33e44962594f>:8: SettingWithCopyWarning: \n",
      "A value is trying to be set on a copy of a slice from a DataFrame.\n",
      "Try using .loc[row_indexer,col_indexer] = value instead\n",
      "\n",
      "See the caveats in the documentation: https://pandas.pydata.org/pandas-docs/stable/user_guide/indexing.html#returning-a-view-versus-a-copy\n",
      "  Action0_85[\"hour\"] = hr_num\n",
      "<ipython-input-57-33e44962594f>:10: SettingWithCopyWarning: \n",
      "A value is trying to be set on a copy of a slice from a DataFrame.\n",
      "Try using .loc[row_indexer,col_indexer] = value instead\n",
      "\n",
      "See the caveats in the documentation: https://pandas.pydata.org/pandas-docs/stable/user_guide/indexing.html#returning-a-view-versus-a-copy\n",
      "  Action0_85['total_num'] = total_num\n"
     ]
    }
   ],
   "source": [
    "Action0_85 = open_time[(open_time.loc[:,(\"Action\")] < 85) & (open_time.loc[:,(\"Action\")] > 0)]\n",
    "Action = clean_data[[\"Content Type\",\"Content ID\",\"Device\",\"Channel\",\"Action\"]]\n",
    "Action.isna().sum()\n",
    "Action[\"Content ID\"] = Action[\"Content ID\"].astype(\"int\")\n",
    "day_num = open_time.loc[:,('Activity Day')].map(lambda x: tonum(x))\n",
    "Action0_85[\"day_num\"] = day_num\n",
    "hr_num = Action0_85['hour'].map(lambda x: int(x))\n",
    "Action0_85[\"hour\"] = hr_num\n",
    "total_num = Action0_85['hour'].add(Action0_85['day_num'])\n",
    "Action0_85['total_num'] = total_num\n",
    "df0_85 = pd.DataFrame({'User Id':Action0_85[\"User Id\"].unique()})\n",
    "df0_85['total_num'] = [list(set(Action0_85['total_num'].loc[Action0_85['User Id'] == x['User Id']])) for _, x in df0_85.iterrows()]\n",
    "df0_85_res = Action0_85.groupby('User Id').agg(lambda x: x.tolist())\n",
    "index_df0_85_res = df0_85_res.index.values\n",
    "df0_85_res[\"count_total\"] = ''\n",
    "for i in range(len(index_df0_85_res)):\n",
    "    df0_85_res['count_total'][index_df0_85_res[i]] = Counter(df0_85_res['total_num'][index_df0_85_res[i]]).most_common()\n",
    "df0_85_res[\"every_day_freq\"] = ''\n",
    "for i in range(len(index_df0_85_res)):\n",
    "    arr = df0_85_res[\"count_total\"][index_df0_85_res[i]]\n",
    "    df0_85_res[\"every_day_freq\"][index_df0_85_res[i]] = find_freq(arr)\n",
    "df0_85_res.head()\n",
    "df0_85_res['Mon'] = ''\n",
    "df0_85_res['Tue'] = ''\n",
    "df0_85_res['Wed'] = ''\n",
    "df0_85_res['Thu'] = ''\n",
    "df0_85_res['Fri'] = ''\n",
    "df0_85_res['Sat'] = ''\n",
    "df0_85_res['Sun'] = ''"
   ]
  },
  {
   "cell_type": "code",
   "execution_count": 58,
   "metadata": {},
   "outputs": [],
   "source": [
    "for i in range(len(index_df0_85_res)):\n",
    "    arr = df0_85_res[\"every_day_freq\"][index_df0_85_res[i]]\n",
    "    temp = []\n",
    "    ### Monday\n",
    "    if len(arr[0]) == 0:\n",
    "        df0_85_res['Mon'][index_df0_85_res[i]] = [np.nan]\n",
    "    else:\n",
    "        if len(arr[0]) == 1:\n",
    "            df0_85_res['Mon'][index_df0_85_res[i]] = [arr[0][0][0]%100, arr[0][0][1]]\n",
    "        else:\n",
    "            temp = []\n",
    "            for j in range(len(arr[0])):\n",
    "                ele = [arr[0][j][0]%100, arr[0][j][1]]\n",
    "                temp.append(ele)\n",
    "                \n",
    "            df0_85_res['Mon'][index_df0_85_res[i]] = temp\n",
    "    ### Tuesday\n",
    "    if len(arr[1]) == 0:\n",
    "        df0_85_res['Tue'][index_df0_85_res[i]] = [np.nan]\n",
    "    else:\n",
    "        if len(arr[1]) == 1:\n",
    "            df0_85_res['Tue'][index_df0_85_res[i]] = [arr[1][0][0]%100, arr[1][0][1]]\n",
    "        else:\n",
    "            temp = []\n",
    "            for j in range(len(arr[1])):\n",
    "                ele = [arr[1][j][0]%100, arr[1][j][1]]\n",
    "                temp.append(ele)\n",
    "            df0_85_res['Tue'][index_df0_85_res[i]] = temp\n",
    "    ### Wednesday\n",
    "    if len(arr[2]) == 0:\n",
    "        df0_85_res['Wed'][index_df0_85_res[i]] = [np.nan]\n",
    "    else:\n",
    "        if len(arr[2]) == 1:\n",
    "            df0_85_res['Wed'][index_df0_85_res[i]] = [arr[2][0][0]%100, arr[2][0][1]]\n",
    "        else:\n",
    "            temp = []\n",
    "            for j in range(len(arr[2])):\n",
    "                ele = [arr[2][j][0]%100, arr[2][j][1]]\n",
    "                temp.append(ele)\n",
    "            df0_85_res['Wed'][index_df0_85_res[i]] = temp\n",
    "    ### Thursday\n",
    "    if len(arr[3]) == 0:\n",
    "        df0_85_res['Thu'][index_df0_85_res[i]] = [np.nan]\n",
    "    else:\n",
    "        if len(arr[3]) == 1:\n",
    "            df0_85_res['Thu'][index_df0_85_res[i]] = [arr[3][0][0]%100, arr[3][0][1]]\n",
    "        else:\n",
    "            temp = []\n",
    "            for j in range(len(arr[3])):\n",
    "                ele = [arr[3][j][0]%100, arr[3][j][1]]\n",
    "                temp.append(ele)\n",
    "            df0_85_res['Thu'][index_df0_85_res[i]] = temp\n",
    "    ### Friday\n",
    "    if len(arr[4]) == 0:\n",
    "        df0_85_res['Fri'][index_df0_85_res[i]] = [np.nan]\n",
    "    else:\n",
    "        if len(arr[4]) == 1:\n",
    "            df0_85_res['Fri'][index_df0_85_res[i]] = [arr[4][0][0]%100, arr[4][0][1]]\n",
    "        else:\n",
    "            temp = []\n",
    "            for j in range(len(arr[4])):\n",
    "                ele = [arr[4][j][0]%100, arr[4][j][1]]\n",
    "                temp.append(ele)\n",
    "            df0_85_res['Fri'][index_df0_85_res[i]] = temp\n",
    "    ### Saturday\n",
    "    if len(arr[5]) == 0:\n",
    "        df0_85_res['Sat'][index_df0_85_res[i]] = [np.nan]\n",
    "    else:\n",
    "        if len(arr[5]) == 1:\n",
    "            df0_85_res['Sat'][index_df0_85_res[i]] = [arr[5][0][0]%100, arr[5][0][1]]\n",
    "        else:\n",
    "            temp = []\n",
    "            for j in range(len(arr[5])):\n",
    "                ele = [arr[5][j][0]%100, arr[5][j][1]]\n",
    "                temp.append(ele)\n",
    "            df0_85_res['Sat'][index_df0_85_res[i]] = temp\n",
    "    ### Sunday\n",
    "    if len(arr[6]) == 0:\n",
    "        df0_85_res['Sun'][index_df0_85_res[i]] = [np.nan]\n",
    "    else:\n",
    "        if len(arr[6]) == 1:\n",
    "            df0_85_res['Sun'][index_df0_85_res[i]] = [arr[6][0][0]%100, arr[6][0][1]]\n",
    "        else:\n",
    "            temp = []\n",
    "            for j in range(len(arr[6])):\n",
    "                ele = [arr[6][j][0]%100, arr[6][j][1]]\n",
    "                temp.append(ele)\n",
    "            df0_85_res['Sun'][index_df0_85_res[i]] = temp\n"
   ]
  },
  {
   "cell_type": "code",
   "execution_count": 59,
   "metadata": {},
   "outputs": [],
   "source": [
    "customer0_85 = df0_85_res.loc[:,('Mon','Tue','Wed','Thu','Fri','Sat','Sun')]\n",
    "#customer0_85.head()"
   ]
  },
  {
   "cell_type": "markdown",
   "metadata": {},
   "source": [
    "# Delete duplicated user id from Action 85-100"
   ]
  },
  {
   "cell_type": "code",
   "execution_count": 60,
   "metadata": {},
   "outputs": [],
   "source": [
    "customer0_85_deleted = customer0_85.loc[customer0_85.index.difference(customer85_100.index), ]"
   ]
  },
  {
   "cell_type": "code",
   "execution_count": 61,
   "metadata": {},
   "outputs": [],
   "source": [
    "customer0_85_deleted.to_csv('customer0_85_deleted.csv')"
   ]
  },
  {
   "cell_type": "markdown",
   "metadata": {},
   "source": [
    "# Action == 0"
   ]
  },
  {
   "cell_type": "markdown",
   "metadata": {},
   "source": [
    "**Same steps and functions as Action >= 85**"
   ]
  },
  {
   "cell_type": "code",
   "execution_count": 62,
   "metadata": {},
   "outputs": [
    {
     "name": "stderr",
     "output_type": "stream",
     "text": [
      "<ipython-input-62-600b76daa330>:4: SettingWithCopyWarning: \n",
      "A value is trying to be set on a copy of a slice from a DataFrame.\n",
      "Try using .loc[row_indexer,col_indexer] = value instead\n",
      "\n",
      "See the caveats in the documentation: https://pandas.pydata.org/pandas-docs/stable/user_guide/indexing.html#returning-a-view-versus-a-copy\n",
      "  Action[\"Content ID\"] = Action[\"Content ID\"].astype(\"int\")\n",
      "<ipython-input-62-600b76daa330>:6: SettingWithCopyWarning: \n",
      "A value is trying to be set on a copy of a slice from a DataFrame.\n",
      "Try using .loc[row_indexer,col_indexer] = value instead\n",
      "\n",
      "See the caveats in the documentation: https://pandas.pydata.org/pandas-docs/stable/user_guide/indexing.html#returning-a-view-versus-a-copy\n",
      "  Action0[\"day_num\"] = day_num\n",
      "<ipython-input-62-600b76daa330>:8: SettingWithCopyWarning: \n",
      "A value is trying to be set on a copy of a slice from a DataFrame.\n",
      "Try using .loc[row_indexer,col_indexer] = value instead\n",
      "\n",
      "See the caveats in the documentation: https://pandas.pydata.org/pandas-docs/stable/user_guide/indexing.html#returning-a-view-versus-a-copy\n",
      "  Action0[\"hour\"] = hr_num\n",
      "<ipython-input-62-600b76daa330>:10: SettingWithCopyWarning: \n",
      "A value is trying to be set on a copy of a slice from a DataFrame.\n",
      "Try using .loc[row_indexer,col_indexer] = value instead\n",
      "\n",
      "See the caveats in the documentation: https://pandas.pydata.org/pandas-docs/stable/user_guide/indexing.html#returning-a-view-versus-a-copy\n",
      "  Action0['total_num'] = total_num\n"
     ]
    }
   ],
   "source": [
    "Action0 = open_time[(open_time.loc[:,(\"Action\")] == 0)]\n",
    "Action = clean_data[[\"Content Type\",\"Content ID\",\"Device\",\"Channel\",\"Action\"]]\n",
    "Action.isna().sum()\n",
    "Action[\"Content ID\"] = Action[\"Content ID\"].astype(\"int\")\n",
    "day_num = open_time.loc[:,('Activity Day')].map(lambda x: tonum(x))\n",
    "Action0[\"day_num\"] = day_num\n",
    "hr_num = Action0['hour'].map(lambda x: int(x))\n",
    "Action0[\"hour\"] = hr_num\n",
    "total_num = Action0['hour'].add(Action0['day_num'])\n",
    "Action0['total_num'] = total_num\n",
    "df0 = pd.DataFrame({'User Id':Action0[\"User Id\"].unique()})\n",
    "df0['total_num'] = [list(set(Action0['total_num'].loc[Action0['User Id'] == x['User Id']])) for _, x in df0.iterrows()]\n",
    "df0_res = Action0.groupby('User Id').agg(lambda x: x.tolist())\n",
    "index_df0_res = df0_res.index.values\n",
    "df0_res[\"count_total\"] = ''\n",
    "for i in range(len(index_df0_res)):\n",
    "    df0_res['count_total'][index_df0_res[i]] = Counter(df0_res['total_num'][index_df0_res[i]]).most_common()\n",
    "df0_res[\"every_day_freq\"] = ''\n",
    "for i in range(len(index_df0_res)):\n",
    "    arr = df0_res[\"count_total\"][index_df0_res[i]]\n",
    "    df0_res[\"every_day_freq\"][index_df0_res[i]] = find_freq(arr)\n",
    "df0_res.head()\n",
    "df0_res['Mon'] = ''\n",
    "df0_res['Tue'] = ''\n",
    "df0_res['Wed'] = ''\n",
    "df0_res['Thu'] = ''\n",
    "df0_res['Fri'] = ''\n",
    "df0_res['Sat'] = ''\n",
    "df0_res['Sun'] = ''"
   ]
  },
  {
   "cell_type": "code",
   "execution_count": 63,
   "metadata": {},
   "outputs": [],
   "source": [
    "for i in range(len(index_df0_res)):\n",
    "    arr = df0_res[\"every_day_freq\"][index_df0_res[i]]\n",
    "    temp = []\n",
    "    ### Monday\n",
    "    if len(arr[0]) == 0:\n",
    "        df0_res['Mon'][index_df0_res[i]] = [np.nan]\n",
    "    else:\n",
    "        if len(arr[0]) == 1:\n",
    "            df0_res['Mon'][index_df0_res[i]] = [arr[0][0][0]%100, arr[0][0][1]]\n",
    "        else:\n",
    "            temp = []\n",
    "            for j in range(len(arr[0])):\n",
    "                ele = [arr[0][j][0]%100, arr[0][j][1]]\n",
    "                temp.append(ele)\n",
    "                \n",
    "            df0_res['Mon'][index_df0_res[i]] = temp\n",
    "    ### Tuesday\n",
    "    if len(arr[1]) == 0:\n",
    "        df0_res['Tue'][index_df0_res[i]] = [np.nan]\n",
    "    else:\n",
    "        if len(arr[1]) == 1:\n",
    "            df0_res['Tue'][index_df0_res[i]] = [arr[1][0][0]%100, arr[1][0][1]]\n",
    "        else:\n",
    "            temp = []\n",
    "            for j in range(len(arr[1])):\n",
    "                ele = [arr[1][j][0]%100, arr[1][j][1]]\n",
    "                temp.append(ele)\n",
    "            df0_res['Tue'][index_df0_res[i]] = temp\n",
    "    ### Wednesday\n",
    "    if len(arr[2]) == 0:\n",
    "        df0_res['Wed'][index_df0_res[i]] = [np.nan]\n",
    "    else:\n",
    "        if len(arr[2]) == 1:\n",
    "            df0_res['Wed'][index_df0_res[i]] = [arr[2][0][0]%100, arr[2][0][1]]\n",
    "        else:\n",
    "            temp = []\n",
    "            for j in range(len(arr[2])):\n",
    "                ele = [arr[2][j][0]%100, arr[2][j][1]]\n",
    "                temp.append(ele)\n",
    "            df0_res['Wed'][index_df0_res[i]] = temp\n",
    "    ### Thursday\n",
    "    if len(arr[3]) == 0:\n",
    "        df0_res['Thu'][index_df0_res[i]] = [np.nan]\n",
    "    else:\n",
    "        if len(arr[3]) == 1:\n",
    "            df0_res['Thu'][index_df0_res[i]] = [arr[3][0][0]%100, arr[3][0][1]]\n",
    "        else:\n",
    "            temp = []\n",
    "            for j in range(len(arr[3])):\n",
    "                ele = [arr[3][j][0]%100, arr[3][j][1]]\n",
    "                temp.append(ele)\n",
    "            df0_res['Thu'][index_df0_res[i]] = temp\n",
    "    ### Friday\n",
    "    if len(arr[4]) == 0:\n",
    "        df0_res['Fri'][index_df0_res[i]] = [np.nan]\n",
    "    else:\n",
    "        if len(arr[4]) == 1:\n",
    "            df0_res['Fri'][index_df0_res[i]] = [arr[4][0][0]%100, arr[4][0][1]]\n",
    "        else:\n",
    "            temp = []\n",
    "            for j in range(len(arr[4])):\n",
    "                ele = [arr[4][j][0]%100, arr[4][j][1]]\n",
    "                temp.append(ele)\n",
    "            df0_res['Fri'][index_df0_res[i]] = temp\n",
    "    ### Saturday\n",
    "    if len(arr[5]) == 0:\n",
    "        df0_res['Sat'][index_df0_res[i]] = [np.nan]\n",
    "    else:\n",
    "        if len(arr[5]) == 1:\n",
    "            df0_res['Sat'][index_df0_res[i]] = [arr[5][0][0]%100, arr[5][0][1]]\n",
    "        else:\n",
    "            temp = []\n",
    "            for j in range(len(arr[5])):\n",
    "                ele = [arr[5][j][0]%100, arr[5][j][1]]\n",
    "                temp.append(ele)\n",
    "            df0_res['Sat'][index_df0_res[i]] = temp\n",
    "    ### Sunday\n",
    "    if len(arr[6]) == 0:\n",
    "        df0_res['Sun'][index_df0_res[i]] = [np.nan]\n",
    "    else:\n",
    "        if len(arr[6]) == 1:\n",
    "            df0_res['Sun'][index_df0_res[i]] = [arr[6][0][0]%100, arr[6][0][1]]\n",
    "        else:\n",
    "            temp = []\n",
    "            for j in range(len(arr[6])):\n",
    "                ele = [arr[6][j][0]%100, arr[6][j][1]]\n",
    "                temp.append(ele)\n",
    "            df0_res['Sun'][index_df0_res[i]] = temp"
   ]
  },
  {
   "cell_type": "code",
   "execution_count": 64,
   "metadata": {},
   "outputs": [],
   "source": [
    "customer0 = df0_res.loc[:,('Mon','Tue','Wed','Thu','Fri','Sat','Sun')]\n",
    "#customer0.head()"
   ]
  },
  {
   "cell_type": "code",
   "execution_count": 162,
   "metadata": {},
   "outputs": [],
   "source": [
    "customer0.to_csv('customer0.csv')\n",
    "customer0_85.to_csv('customer0_85.csv')\n",
    "customer85_100.to_csv('customer85_100.csv')"
   ]
  },
  {
   "cell_type": "code",
   "execution_count": null,
   "metadata": {},
   "outputs": [],
   "source": []
  }
 ],
 "metadata": {
  "kernelspec": {
   "display_name": "Python 3",
   "language": "python",
   "name": "python3"
  },
  "language_info": {
   "codemirror_mode": {
    "name": "ipython",
    "version": 3
   },
   "file_extension": ".py",
   "mimetype": "text/x-python",
   "name": "python",
   "nbconvert_exporter": "python",
   "pygments_lexer": "ipython3",
   "version": "3.8.3"
  }
 },
 "nbformat": 4,
 "nbformat_minor": 4
}
