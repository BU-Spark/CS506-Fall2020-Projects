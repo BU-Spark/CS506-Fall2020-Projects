{
 "cells": [
  {
   "cell_type": "code",
   "execution_count": 33,
   "metadata": {},
   "outputs": [],
   "source": [
    "import nltk\n",
    "import numpy as py\n",
    "import pandas as pd\n",
    "from nltk.corpus import stopwords\n",
    "from nltk.tokenize import word_tokenize\n",
    "from nltk.stem import WordNetLemmatizer \n",
    "lemmatizer = WordNetLemmatizer()\n",
    "\n",
    "import re\n",
    "import numpy as np\n",
    "import pandas as pd\n",
    "from pprint import pprint\n",
    "\n",
    "# spacy for lemmatization\n",
    "import spacy\n",
    "\n",
    "# Plotting tools\n",
    "import pyLDAvis\n",
    "import pyLDAvis.gensim  # don't skip this\n",
    "import matplotlib.pyplot as plt\n",
    "\n",
    "# Enable logging for gensim - optional\n",
    "import logging\n",
    "logging.basicConfig(format='%(asctime)s : %(levelname)s : %(message)s', level=logging.ERROR)\n",
    "\n",
    "import warnings\n",
    "warnings.filterwarnings(\"ignore\",category=DeprecationWarning)\n",
    "\n",
    "import gensim\n",
    "import gensim.corpora as corpora\n",
    "from gensim.utils import simple_preprocess\n",
    "from gensim.models import CoherenceModel\n",
    "from collections import Counter\n",
    "from gensim.test.utils import datapath\n",
    "import pickle\n",
    "from sklearn.decomposition import PCA\n",
    "from sklearn.preprocessing import StandardScaler\n",
    "from sklearn import tree\n",
    "from sklearn.tree import export_text\n",
    "import graphviz \n",
    "from sklearn.model_selection import train_test_split\n",
    "from sklearn.linear_model import LogisticRegression"
   ]
  },
  {
   "cell_type": "code",
   "execution_count": 24,
   "metadata": {},
   "outputs": [],
   "source": [
    "new_data = pd.read_csv(\"../../Youth_Recidivism_Project/Dataset/full_DTdata.csv\")"
   ]
  },
  {
   "cell_type": "code",
   "execution_count": 25,
   "metadata": {},
   "outputs": [
    {
     "name": "stdout",
     "output_type": "stream",
     "text": [
      "['AncillaryServices', 'BehaviorManagement', 'Check-in', 'ClothingVoucher', 'CommunityService', 'CrisisScreening', 'CurfewManagement', 'Dental', 'DrugScreening', 'Educational', 'Educational/Vocational', 'FamilyRelationships', 'HealthServices', 'Housing', 'InitialVisit', 'Legal', 'LevelReview', 'LifeSkills', 'Meeting', 'Pass', 'Psychiatric', 'Psychological', 'RRT', 'Recreation', 'RevocationHearing', 'SocialServices', 'SubstanceAbuse', 'SupervisedVisit', 'Vocational', 'Adultcorrections', 'Client', 'CommunityActivity', 'Court', 'DistrictOfficevisit', 'ElectronicCommunications', 'Employmentvisit', 'ExternalCollateral', 'Family', 'FamilyMember(s)', 'FamilySupport(s)', 'Father', 'Guardian', 'HomeofOther', 'Homevisit', 'InternalCollateral', 'MedicalOffice/Clinic', 'Mother', 'Non-CWStaffing', 'OtherAgency', 'Parent/Guardian', 'Policestation', 'Programvisit', 'Schoolvisit', 'Staffing(CWuseonly)', 'Streetcontact', 'TransportOnly', 'CommitDays', 'CONTACT_TYPE', 'YES']\n"
     ]
    }
   ],
   "source": [
    "print(list(new_data.columns)[:-10])"
   ]
  },
  {
   "cell_type": "code",
   "execution_count": 34,
   "metadata": {},
   "outputs": [],
   "source": [
    "label_LDA = new_data.iloc[:,-1].to_numpy()\n",
    "feature = new_data.iloc[:,:-11].to_numpy()\n",
    "label = new_data.iloc[:,-11].to_numpy() # YES\n",
    "\n",
    "data_YES = pd.DataFrame(feature)\n",
    "data_YES['label'] = label\n",
    "data_YES = data_YES.to_numpy()"
   ]
  },
  {
   "cell_type": "code",
   "execution_count": 35,
   "metadata": {},
   "outputs": [
    {
     "name": "stdout",
     "output_type": "stream",
     "text": [
      "[[   0    0    1 ... 2408    6    0]\n",
      " [   0    0    1 ... 2408    4    0]\n",
      " [   0    0    1 ... 2408    6    0]\n",
      " ...\n",
      " [   0    0    1 ...   63   10    1]\n",
      " [   0    0    1 ...   63    5    1]\n",
      " [   0    0    0 ...   63   22    1]]\n"
     ]
    }
   ],
   "source": [
    "print(data_YES)"
   ]
  },
  {
   "cell_type": "code",
   "execution_count": 36,
   "metadata": {},
   "outputs": [
    {
     "data": {
      "image/png": "[encoded data removed]",
      "text/plain": [
       "<Figure size 432x288 with 1 Axes>"
      ]
     },
     "metadata": {
      "needs_background": "light"
     },
     "output_type": "display_data"
    }
   ],
   "source": [
    "pca = PCA()\n",
    "X = StandardScaler().fit_transform(data_YES)\n",
    "clf = pca.fit(X)\n",
    "ex = -np.sort(-pca.explained_variance_ratio_)\n",
    "plt.plot(np.array([i for i in range(59)]),np.cumsum(ex))\n",
    "plt.ylabel('cumulative explained variance')\n",
    "plt.show()"
   ]
  },
  {
   "cell_type": "code",
   "execution_count": 37,
   "metadata": {},
   "outputs": [
    {
     "name": "stdout",
     "output_type": "stream",
     "text": [
      "(146317, 58)\n",
      "[0 0 0 ... 1 1 1]\n"
     ]
    }
   ],
   "source": [
    "print(feature.shape)\n",
    "print(label)"
   ]
  },
  {
   "cell_type": "code",
   "execution_count": 76,
   "metadata": {},
   "outputs": [],
   "source": [
    "X_train, X_test, y_train, y_test = train_test_split(feature, list(label), test_size=0.15, random_state=42)\n",
    "clf = tree.DecisionTreeClassifier()\n",
    "clf = clf.fit(X_train, y_train)\n",
    "#tree.plot_tree(clf) "
   ]
  },
  {
   "cell_type": "code",
   "execution_count": 77,
   "metadata": {},
   "outputs": [
    {
     "data": {
      "text/plain": [
       "0.9636413340623291"
      ]
     },
     "execution_count": 77,
     "metadata": {},
     "output_type": "execute_result"
    }
   ],
   "source": [
    "clf.score(X_test, y_test)"
   ]
  },
  {
   "cell_type": "code",
   "execution_count": 78,
   "metadata": {},
   "outputs": [
    {
     "name": "stdout",
     "output_type": "stream",
     "text": [
      "64\n",
      "6375\n"
     ]
    }
   ],
   "source": [
    "print(clf.get_depth())\n",
    "print(clf.get_n_leaves())"
   ]
  },
  {
   "cell_type": "code",
   "execution_count": 63,
   "metadata": {},
   "outputs": [
    {
     "data": {
      "text/plain": [
       "[0.6205121195553126,\n",
       " 0.712547840349918,\n",
       " 0.7987060324403135,\n",
       " 0.8757062146892656,\n",
       " 0.9149353016220156,\n",
       " 0.9409969017678148,\n",
       " 0.9544833242208858,\n",
       " 0.9610898487333698,\n",
       " 0.9631401494441407,\n",
       " 0.9635502095862949]"
      ]
     },
     "execution_count": 63,
     "metadata": {},
     "output_type": "execute_result"
    },
    {
     "data": {
      "image/png": "[encoded data removed]",
      "text/plain": [
       "<Figure size 720x432 with 1 Axes>"
      ]
     },
     "metadata": {
      "needs_background": "light"
     },
     "output_type": "display_data"
    }
   ],
   "source": [
    "def test_clf(depth):\n",
    "    result = []\n",
    "    for i in depth:\n",
    "        clf = tree.DecisionTreeClassifier(max_depth = i)\n",
    "        clf = clf.fit(X_train, y_train)\n",
    "        result.append(clf.score(X_test, y_test))\n",
    "    plt.figure(figsize=(10, 6))\n",
    "    plt.plot(depth, result)\n",
    "    plt.xlabel(\"tree_depth\")\n",
    "    plt.ylabel(\"accuracy\")\n",
    "    return result\n",
    "test_clf([5,10,15,20,25,30,35,40,45,50])"
   ]
  },
  {
   "cell_type": "code",
   "execution_count": 79,
   "metadata": {},
   "outputs": [
    {
     "name": "stdout",
     "output_type": "stream",
     "text": [
      "0.8754328412611627\n",
      "20\n",
      "1919\n"
     ]
    }
   ],
   "source": [
    "clf = tree.DecisionTreeClassifier(max_depth = 20)\n",
    "clf = clf.fit(X_train, y_train)\n",
    "#tree.plot_tree(clf) \n",
    "print(clf.score(X_test, y_test))\n",
    "print(clf.get_depth())\n",
    "print(clf.get_n_leaves())"
   ]
  },
  {
   "cell_type": "code",
   "execution_count": 80,
   "metadata": {},
   "outputs": [
    {
     "name": "stdout",
     "output_type": "stream",
     "text": [
      "        num_of_instance\n",
      "branch                 \n",
      "76                10566\n",
      "153                5265\n",
      "20                 3227\n",
      "212                3222\n",
      "21                 2503\n",
      "...                 ...\n",
      "2940                  1\n",
      "1629                  1\n",
      "1630                  1\n",
      "1637                  1\n",
      "3100                  1\n",
      "\n",
      "[1919 rows x 1 columns]\n"
     ]
    }
   ],
   "source": [
    "x = clf.apply(feature)\n",
    "z = [0] * len(x)\n",
    "x = pd.DataFrame({'branch':x,\"num_of_instance\":z})\n",
    "x = x.groupby(['branch']).count().sort_values(by=['num_of_instance'],ascending = False)\n",
    "print(x)"
   ]
  },
  {
   "cell_type": "code",
   "execution_count": 81,
   "metadata": {},
   "outputs": [],
   "source": [
    "x.to_csv(\"../../Youth_Recidivism_Project/DecisionTree_Output/Future_analysis_DT_summary.csv\")"
   ]
  },
  {
   "cell_type": "code",
   "execution_count": 82,
   "metadata": {},
   "outputs": [
    {
     "data": {
      "text/plain": [
       "'../../Youth_Recidivism_Project/DecisionTree_Output/Future_Analysis_DecisionTree_result.dot.pdf'"
      ]
     },
     "execution_count": 82,
     "metadata": {},
     "output_type": "execute_result"
    }
   ],
   "source": [
    "columns = list(new_data.columns)[:-11]\n",
    "dot_data = tree.export_graphviz(clf, out_file=None, \n",
    "                      feature_names=columns,\n",
    "                      filled=True, rounded=True,\n",
    "                                class_names = ['0','1'],\n",
    "                      special_characters=True)  \n",
    "graph = graphviz.Source(dot_data)  \n",
    "graph.render(\"../../Youth_Recidivism_Project/DecisionTree_Output/Future_Analysis_DecisionTree_result.dot\")"
   ]
  },
  {
   "cell_type": "code",
   "execution_count": null,
   "metadata": {},
   "outputs": [],
   "source": []
  },
  {
   "cell_type": "code",
   "execution_count": null,
   "metadata": {},
   "outputs": [],
   "source": []
  },
  {
   "cell_type": "code",
   "execution_count": null,
   "metadata": {},
   "outputs": [],
   "source": []
  },
  {
   "cell_type": "code",
   "execution_count": null,
   "metadata": {},
   "outputs": [],
   "source": []
  }
 ],
 "metadata": {
  "kernelspec": {
   "display_name": "Python 3",
   "language": "python",
   "name": "python3"
  },
  "language_info": {
   "codemirror_mode": {
    "name": "ipython",
    "version": 3
   },
   "file_extension": ".py",
   "mimetype": "text/x-python",
   "name": "python",
   "nbconvert_exporter": "python",
   "pygments_lexer": "ipython3",
   "version": "3.7.6"
  }
 },
 "nbformat": 4,
 "nbformat_minor": 4
}
