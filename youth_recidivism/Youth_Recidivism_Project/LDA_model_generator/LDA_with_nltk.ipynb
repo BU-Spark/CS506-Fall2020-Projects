{
 "cells": [
  {
   "cell_type": "code",
   "execution_count": 1,
   "metadata": {},
   "outputs": [],
   "source": [
    "import nltk\n",
    "import numpy as py\n",
    "import pandas as pd\n",
    "from nltk.corpus import stopwords\n",
    "from nltk.tokenize import word_tokenize\n",
    "from nltk.stem import WordNetLemmatizer \n",
    "lemmatizer = WordNetLemmatizer()\n",
    "\n",
    "import re\n",
    "import numpy as np\n",
    "import pandas as pd\n",
    "from pprint import pprint\n",
    "\n",
    "# spacy for lemmatization\n",
    "import spacy\n",
    "\n",
    "# Plotting tools\n",
    "import pyLDAvis\n",
    "import pyLDAvis.gensim  # don't skip this\n",
    "import matplotlib.pyplot as plt\n",
    "\n",
    "# Enable logging for gensim - optional\n",
    "import logging\n",
    "logging.basicConfig(format='%(asctime)s : %(levelname)s : %(message)s', level=logging.ERROR)\n",
    "\n",
    "import warnings\n",
    "warnings.filterwarnings(\"ignore\",category=DeprecationWarning)\n",
    "\n",
    "import gensim\n",
    "import gensim.corpora as corpora\n",
    "from gensim.utils import simple_preprocess\n",
    "from gensim.models import CoherenceModel\n",
    "from collections import Counter\n",
    "from gensim.test.utils import datapath\n",
    "import pickle"
   ]
  },
  {
   "cell_type": "code",
   "execution_count": 9,
   "metadata": {},
   "outputs": [],
   "source": [
    "def retrieve_feature_label(path):\n",
    "    df = pd.read_pickle(path)\n",
    "    return df['total_notes'], df['label']\n",
    "\n",
    "def clear(x):\n",
    "    stop_words = set(stopwords.words('english'))\n",
    "    x=str(x)\n",
    "    x=x.lower()\n",
    "    word_tokens=nltk.word_tokenize(x)\n",
    "    word_tokens=[lemmatizer.lemmatize(x) for x in word_tokens]\n",
    "    filtered_sentence = [w for w in word_tokens if not w in stop_words]\n",
    "    return filtered_sentence\n",
    "\n",
    "def check_token(X):\n",
    "\tall_token=[]\n",
    "\tfor x in X:\n",
    "\t\tall_token += x\n",
    "\t\tprint(Counter(all_token).most_common(100))\n",
    "\n",
    "def update_stop_words(addlist):\n",
    "\tstop_words = set(stopwords.words('english'))\n",
    "\tfor x in addlist:\n",
    "\t\tstop_words.add(x)\n",
    "\treturn stop_words\n",
    "\n",
    "def sent_to_words(sentences):\n",
    "    for sentence in sentences:\n",
    "        yield(gensim.utils.simple_preprocess(str(sentence), deacc=True))  # deacc=True removes punctuations\n",
    "\n",
    "# Define functions for stopwords, bigrams, trigrams and lemmatization\n",
    "def remove_stopwords(texts, stop_words):\n",
    "    return [[word for word in simple_preprocess(str(doc)) if word not in stop_words] for doc in texts]\n",
    "\n",
    "def make_bigrams(texts, bigram_mod):\n",
    "    return [bigram_mod[doc] for doc in texts]\n",
    "\n",
    "def make_trigrams(texts, trigram_mod, bigram_mod ):\n",
    "    return [trigram_mod[bigram_mod[doc]] for doc in texts]\n",
    "\n",
    "def lemmatization(nlp, texts, allowed_postags=['NOUN', 'ADJ', 'VERB', 'ADV']):\n",
    "    \"\"\"https://spacy.io/api/annotation\"\"\"\n",
    "    texts_out = []\n",
    "    for sent in texts:\n",
    "        doc = nlp(\" \".join(sent)) \n",
    "        texts_out.append([token.lemma_ for token in doc if token.pos_ in allowed_postags])\n",
    "    return texts_out\n",
    "\n",
    "\n",
    "def process_X(X):\n",
    " \taddlist=['.',',','cw','spoke','!','?']\n",
    " \tstop_words = update_stop_words(addlist)\n",
    " \tdata = X.values.tolist()\n",
    " \tdata_words = list(sent_to_words(data))\n",
    " \t# Build the bigram and trigram models\n",
    " \tbigram = gensim.models.Phrases(data_words, min_count=5, threshold=100) # higher threshold fewer phrases.\n",
    " \ttrigram = gensim.models.Phrases(bigram[data_words], threshold=100)  \n",
    " \t# Faster way to get a sentence clubbed as a trigram/bigram\n",
    " \tbigram_mod = gensim.models.phrases.Phraser(bigram)\n",
    " \ttrigram_mod = gensim.models.phrases.Phraser(trigram)\n",
    " \tprint(\"Finish bigram\")\n",
    " \tprint(\"-------------------------------------------\")\n",
    " \t# Initialize spacy 'en' model, keeping only tagger component (for efficiency)\n",
    " \tnlp = spacy.load('en',disable=['parser', 'ner']) \t# python3 -m spacy download en\n",
    " \tdata_words_nostops = remove_stopwords(data_words, stop_words) \t# Remove Stop Words\n",
    " \tdata_words_bigrams = make_bigrams(data_words_nostops, bigram_mod)\t \t# Form Bigrams\n",
    " \tdata_lemmatized = lemmatization(nlp, data_words_bigrams, allowed_postags=['NOUN', 'ADJ', 'VERB', 'ADV']) \t# Do lemmatization keeping only noun, adj, vb, adv\n",
    " \tid2word = corpora.Dictionary(data_lemmatized)\n",
    " \t# Create Corpus\n",
    " \ttexts = data_lemmatized\n",
    " \t# Term Document Frequency\n",
    " \tcorpus = [id2word.doc2bow(text) for text in texts]\n",
    " \tprint(\"Finish building corpus\")\n",
    " \tprint(\"-------------------------------------------\")\n",
    " \tlda_model = gensim.models.ldamodel.LdaModel(corpus=corpus,\n",
    "                                            id2word=id2word,\n",
    "                                            num_topics=6, \n",
    "                                            random_state=100,\n",
    "                                            update_every=1,\n",
    "                                            chunksize=100,\n",
    "                                            passes=10,\n",
    "                                            alpha='auto',\n",
    "                                            per_word_topics=True)\n",
    "\n",
    " \treturn corpus, lda_model\n",
    "\n",
    "\n",
    "\n",
    "def save_model(corpus, model):\n",
    "\tmodel.save('../../Youth_Recidivism_Project/LDA_Output/lda.model')\n",
    "\twith open(\"../../Youth_Recidivism_Project/LDA_Output/corpus.txt\", \"wb\") as p:   #Pickling\n",
    "\t\tpickle.dump(corpus, p)\n"
   ]
  },
  {
   "cell_type": "code",
   "execution_count": 10,
   "metadata": {},
   "outputs": [
    {
     "name": "stdout",
     "output_type": "stream",
     "text": [
      "Finish bigram\n",
      "-------------------------------------------\n",
      "Finish building corpus\n",
      "-------------------------------------------\n"
     ]
    }
   ],
   "source": [
    "X, Y = retrieve_feature_label(\"../../Youth_Recidivism_Project/Dataset/train.pickle\")\n",
    "X = X.apply(clear)\n",
    "corpus, model = process_X(X)\n",
    "save_model(corpus, model)"
   ]
  },
  {
   "cell_type": "code",
   "execution_count": 11,
   "metadata": {},
   "outputs": [
    {
     "name": "stdout",
     "output_type": "stream",
     "text": [
      "[(0, '0.059*\"also\" + 0.042*\"client\" + 0.040*\"discuss\" + 0.035*\"youth\" + 0.033*\"family\" + 0.026*\"plan\" + 0.023*\"sign\" + 0.021*\"need\" + 0.020*\"job\" + 0.018*\"community\"'), (1, '0.101*\"call\" + 0.051*\"writer\" + 0.051*\"check\" + 0.047*\"know\" + 0.041*\"schedule\" + 0.040*\"phone\" + 0.034*\"tomorrow\" + 0.034*\"receive\" + 0.033*\"let\" + 0.029*\"email\"'), (2, '0.074*\"go\" + 0.047*\"home\" + 0.046*\"would\" + 0.035*\"mother\" + 0.033*\"state\" + 0.028*\"ask\" + 0.027*\"say\" + 0.027*\"tell\" + 0.026*\"get\" + 0.025*\"inform\"'), (3, '0.079*\"program\" + 0.031*\"make\" + 0.027*\"treatment\" + 0.019*\"staff\" + 0.019*\"present\" + 0.017*\"regard\" + 0.017*\"concern\" + 0.014*\"assessment\" + 0.014*\"process\" + 0.013*\"behavior\"'), (4, '0.097*\"case\" + 0.090*\"mom\" + 0.067*\"transport\" + 0.065*\"court\" + 0.061*\"date\" + 0.050*\"update\" + 0.035*\"agree\" + 0.033*\"open\" + 0.032*\"release\" + 0.026*\"informed\"'), (5, '0.069*\"report\" + 0.064*\"meet\" + 0.054*\"work\" + 0.050*\"today\" + 0.049*\"school\" + 0.045*\"time\" + 0.041*\"well\" + 0.037*\"meeting\" + 0.032*\"visit\" + 0.030*\"week\"')]\n"
     ]
    }
   ],
   "source": [
    "lda_model = gensim.models.ldamodel.LdaModel.load('../../Youth_Recidivism_Project/LDA_Output/lda.model')\n",
    "print(lda_model.print_topics())\n",
    "with open(\"../../Youth_Recidivism_Project/LDA_Output/corpus.txt\", \"rb\") as fp:   # Unpickling\n",
    "    corpus = pickle.load(fp)\n",
    "predicted_labels = lda_model.get_document_topics(corpus)\n",
    "new_label = []\n",
    "prob = []\n",
    "for i in predicted_labels:\n",
    "    label,probability = max(i, key=lambda x:x[1])\n",
    "    new_label.append(label)\n",
    "    prob.append(probability)\n",
    "new_label = np.array(new_label)"
   ]
  },
  {
   "cell_type": "code",
   "execution_count": 12,
   "metadata": {},
   "outputs": [
    {
     "name": "stdout",
     "output_type": "stream",
     "text": [
      "       num\n",
      "new       \n",
      "0    11398\n",
      "1     3754\n",
      "2    78909\n",
      "3    12833\n",
      "4      471\n",
      "5    38952\n"
     ]
    }
   ],
   "source": [
    "z = [0] * len(new_label)\n",
    "pd_new = pd.DataFrame({'new':new_label,\"z\":z})\n",
    "pd_new.columns = ['new','num']\n",
    "pd_new_stat = pd_new.groupby(\"new\").count()\n",
    "print(pd_new_stat)"
   ]
  },
  {
   "cell_type": "code",
   "execution_count": 13,
   "metadata": {},
   "outputs": [
    {
     "name": "stdout",
     "output_type": "stream",
     "text": [
      "5\n"
     ]
    }
   ],
   "source": [
    "print(max(new_label))"
   ]
  },
  {
   "cell_type": "code",
   "execution_count": 14,
   "metadata": {},
   "outputs": [],
   "source": [
    "import pyLDAvis.gensim\n",
    "pyLDAvis.enable_notebook()\n",
    "vis = pyLDAvis.gensim.prepare(lda_model, corpus, dictionary=lda_model.id2word)\n",
    "pyLDAvis.save_html(vis, '../../Youth_Recidivism_Project/LDA_Output/lda.html')"
   ]
  }
 ],
 "metadata": {
  "kernelspec": {
   "display_name": "Python 3",
   "language": "python",
   "name": "python3"
  },
  "language_info": {
   "codemirror_mode": {
    "name": "ipython",
    "version": 3
   },
   "file_extension": ".py",
   "mimetype": "text/x-python",
   "name": "python",
   "nbconvert_exporter": "python",
   "pygments_lexer": "ipython3",
   "version": "3.7.6"
  }
 },
 "nbformat": 4,
 "nbformat_minor": 4
}
