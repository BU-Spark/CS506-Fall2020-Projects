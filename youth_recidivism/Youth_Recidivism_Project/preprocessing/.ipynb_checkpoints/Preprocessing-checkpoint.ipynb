{
 "cells": [
  {
   "cell_type": "code",
   "execution_count": 1,
   "metadata": {},
   "outputs": [],
   "source": [
    "import nltk\n",
    "import numpy as py\n",
    "import pandas as pd\n",
    "from nltk.corpus import stopwords\n",
    "from nltk.tokenize import word_tokenize\n",
    "from nltk.stem import WordNetLemmatizer \n",
    "lemmatizer = WordNetLemmatizer()\n",
    "\n",
    "import re\n",
    "import numpy as np\n",
    "import pandas as pd\n",
    "from pprint import pprint\n",
    "\n",
    "# spacy for lemmatization\n",
    "import spacy\n",
    "# Plotting tools\n",
    "import pyLDAvis\n",
    "import pyLDAvis.gensim  # don't skip this\n",
    "import matplotlib.pyplot as plt\n",
    "# Enable logging for gensim - optional\n",
    "import logging\n",
    "logging.basicConfig(format='%(asctime)s : %(levelname)s : %(message)s', level=logging.ERROR)\n",
    "\n",
    "import warnings\n",
    "warnings.filterwarnings(\"ignore\",category=DeprecationWarning)\n",
    "\n",
    "import gensim\n",
    "import gensim.corpora as corpora\n",
    "from gensim.utils import simple_preprocess\n",
    "from gensim.models import CoherenceModel"
   ]
  },
  {
   "cell_type": "code",
   "execution_count": null,
   "metadata": {},
   "outputs": [],
   "source": []
  },
  {
   "cell_type": "code",
   "execution_count": 13,
   "metadata": {},
   "outputs": [
    {
     "name": "stdout",
     "output_type": "stream",
     "text": [
      "Series([], Name: STAFF_NOTES, dtype: object)\n"
     ]
    },
    {
     "name": "stderr",
     "output_type": "stream",
     "text": [
      "/Users/lw/anaconda3/lib/python3.7/site-packages/IPython/core/interactiveshell.py:3063: DtypeWarning: Columns (1,44,46) have mixed types.Specify dtype option on import or set low_memory=False.\n",
      "  interactivity=interactivity, compiler=compiler, result=result)\n",
      "/Users/lw/anaconda3/lib/python3.7/site-packages/ipykernel_launcher.py:3: SettingWithCopyWarning: \n",
      "A value is trying to be set on a copy of a slice from a DataFrame\n",
      "\n",
      "See the caveats in the documentation: https://pandas.pydata.org/pandas-docs/stable/user_guide/indexing.html#returning-a-view-versus-a-copy\n",
      "  This is separate from the ipykernel package so we can avoid doing imports until\n",
      "/Users/lw/anaconda3/lib/python3.7/site-packages/ipykernel_launcher.py:4: SettingWithCopyWarning: \n",
      "A value is trying to be set on a copy of a slice from a DataFrame\n",
      "\n",
      "See the caveats in the documentation: https://pandas.pydata.org/pandas-docs/stable/user_guide/indexing.html#returning-a-view-versus-a-copy\n",
      "  after removing the cwd from sys.path.\n",
      "/Users/lw/anaconda3/lib/python3.7/site-packages/ipykernel_launcher.py:5: SettingWithCopyWarning: \n",
      "A value is trying to be set on a copy of a slice from a DataFrame\n",
      "\n",
      "See the caveats in the documentation: https://pandas.pydata.org/pandas-docs/stable/user_guide/indexing.html#returning-a-view-versus-a-copy\n",
      "  \"\"\"\n"
     ]
    }
   ],
   "source": [
    "df = pd.read_csv(\"../../Youth_Recidivism_Project/Dataset/DYS_Casenotes_16Oct20_merged_final_bydischarge.csv\")\n",
    "#df['WHO_WAS_CONTACTED'][0], df['COMMENTS_CLOB']\n",
    "df['STAFF_NOTES'][df.STAFF_NOTES != df.STAFF_NOTES] = \"\"\n",
    "df['COMMENTS_CLOB'][df.COMMENTS_CLOB != df.COMMENTS_CLOB] = \"\"\n",
    "df['STAFF_REC'][df.STAFF_REC != df.STAFF_REC] = \"\"\n",
    "print(df['STAFF_NOTES'][df.STAFF_NOTES != df.STAFF_NOTES])"
   ]
  },
  {
   "cell_type": "code",
   "execution_count": 14,
   "metadata": {},
   "outputs": [
    {
     "name": "stdout",
     "output_type": "stream",
     "text": [
      "(146353, 51)\n"
     ]
    }
   ],
   "source": [
    "df['total_notes'] = df['COMMENTS_CLOB'] + df['STAFF_NOTES'] + df['STAFF_REC']\n",
    "na_values = df[df.total_notes == \"\"].index.tolist()\n",
    "print(df.shape)\n",
    "df = df.drop(na_values, axis = 0)"
   ]
  },
  {
   "cell_type": "code",
   "execution_count": 15,
   "metadata": {},
   "outputs": [],
   "source": [
    "df['WHO_WAS_CONTACTED']\n",
    "df.iloc[115,:]\n",
    "arr = []\n",
    "df.iloc[115,16]\n",
    "for i in range(df.shape[0]):\n",
    "    if df.iloc[i,16] == 'Staffing (CW use only)':\n",
    "        arr.append(0)\n",
    "    elif type(df.iloc[i,19]) == float:\n",
    "        arr.append(3)\n",
    "    elif 'Client' in df.iloc[i,19]:\n",
    "        arr.append(1)\n",
    "    elif 'Client' not in df.iloc[i,19] and 'Collateral' in df.iloc[i,19]:\n",
    "        arr.append(2)\n",
    "    else:\n",
    "        arr.append(3)"
   ]
  },
  {
   "cell_type": "code",
   "execution_count": 16,
   "metadata": {},
   "outputs": [
    {
     "name": "stdout",
     "output_type": "stream",
     "text": [
      "        Unnamed: 0     MID FirstCommit_2 DischargeDate_2  CommitDays  \\\n",
      "0              0.0  346868     2009/12/1        2016/7/5      2408.0   \n",
      "1              1.0  346868     2009/12/1        2016/7/5      2408.0   \n",
      "2              2.0  346868     2009/12/1        2016/7/5      2408.0   \n",
      "3              3.0  346868     2009/12/1        2016/7/5      2408.0   \n",
      "4              4.0  346868     2009/12/1        2016/7/5      2408.0   \n",
      "...            ...     ...           ...             ...         ...   \n",
      "146348    146345.0  509896     2019/10/4       2019/12/6        63.0   \n",
      "146349    146346.0  509896     2019/10/4       2019/12/6        63.0   \n",
      "146350    146347.0  509896     2019/10/4       2019/12/6        63.0   \n",
      "146351    146348.0  509896     2019/10/4       2019/12/6        63.0   \n",
      "146352    146349.0  509896     2019/10/4       2019/12/6        63.0   \n",
      "\n",
      "        monthsofstay  cnpermnth  numcasenote  numcaseworkers  numcasenoteCW  \\\n",
      "0          79.210526   0.164120         13.0             1.0           13.0   \n",
      "1          79.210526   0.164120         13.0             1.0           13.0   \n",
      "2          79.210526   0.164120         13.0             1.0           13.0   \n",
      "3          79.210526   0.164120         13.0             1.0           13.0   \n",
      "4          79.210526   0.164120         13.0             1.0           13.0   \n",
      "...              ...        ...          ...             ...            ...   \n",
      "146348      2.072368   5.307937         11.0             1.0           11.0   \n",
      "146349      2.072368   5.307937         11.0             1.0           11.0   \n",
      "146350      2.072368   5.307937         11.0             1.0           11.0   \n",
      "146351      2.072368   5.307937         11.0             1.0           11.0   \n",
      "146352      2.072368   5.307937         11.0             1.0           11.0   \n",
      "\n",
      "        ... STAFF_WHO_PH_OTH  STAFF_WHO_PH_EXT STAFF_WHO_PH_EXT_OTH  \\\n",
      "0       ...              NaN               NaN                  NaN   \n",
      "1       ...              NaN               NaN                  NaN   \n",
      "2       ...              NaN               NaN                  NaN   \n",
      "3       ...              NaN               NaN                  NaN   \n",
      "4       ...              NaN               NaN                  NaN   \n",
      "...     ...              ...               ...                  ...   \n",
      "146348  ...              NaN               NaN                  NaN   \n",
      "146349  ...              NaN               NaN                  NaN   \n",
      "146350  ...              NaN               NaN                  NaN   \n",
      "146351  ...              NaN               NaN                  NaN   \n",
      "146352  ...              NaN               NaN                  NaN   \n",
      "\n",
      "       STAFF_WHO_PH_INT STAFF_WHO_PH_INT_OTH  \\\n",
      "0                   NaN                  NaN   \n",
      "1                   NaN                  NaN   \n",
      "2                   NaN                  NaN   \n",
      "3                   NaN                  NaN   \n",
      "4                   NaN                  NaN   \n",
      "...                 ...                  ...   \n",
      "146348              NaN                  NaN   \n",
      "146349              NaN                  NaN   \n",
      "146350              NaN                  NaN   \n",
      "146351              NaN                  NaN   \n",
      "146352              NaN                  NaN   \n",
      "\n",
      "                                              STAFF_NOTES  \\\n",
      "0                                                           \n",
      "1                                                           \n",
      "2                                                           \n",
      "3                                                           \n",
      "4                                                           \n",
      "...                                                   ...   \n",
      "146348                                                      \n",
      "146349                                                      \n",
      "146350                                                      \n",
      "146351                                                      \n",
      "146352  We discussed RB's educational plans.  Since he...   \n",
      "\n",
      "                                                STAFF_REC CMN_STAFFING_TYPE  \\\n",
      "0                                                                       NaN   \n",
      "1                                                                       NaN   \n",
      "2                                                                       NaN   \n",
      "3                                                                       NaN   \n",
      "4                                                                       NaN   \n",
      "...                                                   ...               ...   \n",
      "146348                                                                  NaN   \n",
      "146349                                                                  NaN   \n",
      "146350                                                                  NaN   \n",
      "146351                                                                  NaN   \n",
      "146352  We discussed the casework team's recommendatio...           Initial   \n",
      "\n",
      "                                              total_notes label  \n",
      "0       I spoke to the clerk's office regarding Danny ...     2  \n",
      "1       Danny was Indicted today in Lowell District Co...     1  \n",
      "2       I spoke to the Clerk's Office at Lowell Superi...     2  \n",
      "3       We discussed today's court disposition and we ...     3  \n",
      "4       Please see the e-mail below regarding Danny do...     2  \n",
      "...                                                   ...   ...  \n",
      "146348  I checked in with RB's mother via phone.  She ...     3  \n",
      "146349  Participated in Emergency meeting for RB.  He ...     1  \n",
      "146350  I met with regional assessment clinician EM an...     3  \n",
      "146351  I met with Lynn District Court Officer Terranc...     2  \n",
      "146352  We discussed RB's educational plans.  Since he...     0  \n",
      "\n",
      "[146317 rows x 52 columns]\n"
     ]
    }
   ],
   "source": [
    "df['label'] = np.array(arr)\n",
    "print(df)"
   ]
  },
  {
   "cell_type": "code",
   "execution_count": 17,
   "metadata": {},
   "outputs": [],
   "source": [
    "df.to_pickle(\"../../Youth_Recidivism_Project/Dataset/train.pickle\")"
   ]
  }
 ],
 "metadata": {
  "kernelspec": {
   "display_name": "Python 3",
   "language": "python",
   "name": "python3"
  },
  "language_info": {
   "codemirror_mode": {
    "name": "ipython",
    "version": 3
   },
   "file_extension": ".py",
   "mimetype": "text/x-python",
   "name": "python",
   "nbconvert_exporter": "python",
   "pygments_lexer": "ipython3",
   "version": "3.7.6"
  }
 },
 "nbformat": 4,
 "nbformat_minor": 4
}
