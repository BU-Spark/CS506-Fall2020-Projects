{
 "cells": [
  {
   "cell_type": "code",
   "execution_count": 1,
   "metadata": {},
   "outputs": [],
   "source": [
    "import pandas as pd\n",
    "import numpy as np\n",
    "import flair\n",
    "from sklearn.metrics import confusion_matrix"
   ]
  },
  {
   "cell_type": "code",
   "execution_count": 2,
   "metadata": {},
   "outputs": [],
   "source": [
    "data = pd.read_csv(\"../../Youth_Recidivism_Project/Dataset/comment_yes.csv\")\n",
    "comments = data['comments']\n",
    "yes = data['yes']\n"
   ]
  },
  {
   "cell_type": "code",
   "execution_count": 3,
   "metadata": {},
   "outputs": [
    {
     "name": "stdout",
     "output_type": "stream",
     "text": [
      "2020-12-14 13:54:14,167 loading file /Users/lw/.flair/models/sentiment-en-mix-distillbert_3.1.pt\n"
     ]
    }
   ],
   "source": [
    "#flair_sentiment = flair.models.TextClassifier.load('en-sentiment')\n",
    "from flair.data import Sentence\n",
    "from flair.models import SequenceTagger\n",
    "from flair.models import TextClassifier\n",
    "\n",
    "flair_sentiment = flair.models.TextClassifier.load('en-sentiment')"
   ]
  },
  {
   "cell_type": "code",
   "execution_count": 4,
   "metadata": {},
   "outputs": [],
   "source": [
    "MID_groupby = data[['mid','comments']].groupby(\"mid\").agg(lambda x: \" \".join(x))"
   ]
  },
  {
   "cell_type": "code",
   "execution_count": 5,
   "metadata": {},
   "outputs": [
    {
     "name": "stdout",
     "output_type": "stream",
     "text": [
      "[NEGATIVE (0.9464)]\n"
     ]
    }
   ],
   "source": [
    "x = Sentence(MID_groupby.iloc[0,0])\n",
    "flair_sentiment.predict(x)\n",
    "print(x.labels)"
   ]
  },
  {
   "cell_type": "code",
   "execution_count": 7,
   "metadata": {},
   "outputs": [
    {
     "data": {
      "text/plain": [
       "'\\nlabels = []\\nconfidence = []\\ncount = 0\\nfor i in range(MID_groupby.shape[0]):\\n    x = Sentence(MID_groupby.iloc[i,0])\\n    flair_sentiment.predict(x)\\n    labels.append(x.labels[0].to_dict()[\\'value\\'])\\n    confidence.append(x.labels[0].to_dict()[\\'confidence\\'])\\n    count += 1\\n    if count%10 == 0:\\n        print(\"done\", str(count),\"samples\")\\n'"
      ]
     },
     "execution_count": 7,
     "metadata": {},
     "output_type": "execute_result"
    }
   ],
   "source": [
    "#this part takes hours to generate, don't do it again.\n",
    "'''\n",
    "labels = []\n",
    "confidence = []\n",
    "count = 0\n",
    "for i in range(MID_groupby.shape[0]):\n",
    "    x = Sentence(MID_groupby.iloc[i,0])\n",
    "    flair_sentiment.predict(x)\n",
    "    labels.append(x.labels[0].to_dict()['value'])\n",
    "    confidence.append(x.labels[0].to_dict()['confidence'])\n",
    "    count += 1\n",
    "    if count%10 == 0:\n",
    "        print(\"done\", str(count),\"samples\")\n",
    "'''"
   ]
  },
  {
   "cell_type": "code",
   "execution_count": 8,
   "metadata": {},
   "outputs": [],
   "source": [
    "#MID_groupby['labels'] = labels\n",
    "#MID_groupby['confidence'] = confidence\n",
    "#print(MID_groupby)"
   ]
  },
  {
   "cell_type": "code",
   "execution_count": 9,
   "metadata": {},
   "outputs": [],
   "source": [
    "#MID_groupby[['labels','confidence']].to_csv(\"../../Youth_Recidivism_Project/Dataset/sentiment_analysis_result.csv\")"
   ]
  },
  {
   "cell_type": "code",
   "execution_count": 10,
   "metadata": {},
   "outputs": [],
   "source": [
    "new_data = pd.read_csv(\"../../Youth_Recidivism_Project/Dataset/sentiment_analysis_result.csv\") \n",
    "sentiment_label = new_data['labels']\n",
    "yes = new_data['yes']"
   ]
  },
  {
   "cell_type": "code",
   "execution_count": null,
   "metadata": {},
   "outputs": [],
   "source": []
  },
  {
   "cell_type": "code",
   "execution_count": null,
   "metadata": {},
   "outputs": [],
   "source": []
  },
  {
   "cell_type": "code",
   "execution_count": 11,
   "metadata": {},
   "outputs": [],
   "source": [
    "sentiment_label = np.array(sentiment_label)\n",
    "#pos_sentiment = np.where(sentiment_label == 'POSITIVE')[0]\n",
    "#neg_sentiment = np.where(sentiment_label == 'NEGATIVE')[0]\n",
    "#neu_sentiment = np.where(sentiment_label == 0)[0]"
   ]
  },
  {
   "cell_type": "code",
   "execution_count": 12,
   "metadata": {},
   "outputs": [],
   "source": [
    "sentiment_label[sentiment_label == 'POSITIVE'] = 1\n",
    "sentiment_label[sentiment_label == 'NEGATIVE'] = 0\n",
    "sentiment_label = np.array(sentiment_label, dtype = np.float)"
   ]
  },
  {
   "cell_type": "code",
   "execution_count": 13,
   "metadata": {},
   "outputs": [],
   "source": [
    "yes = yes.to_numpy()"
   ]
  },
  {
   "cell_type": "code",
   "execution_count": null,
   "metadata": {},
   "outputs": [],
   "source": []
  },
  {
   "cell_type": "code",
   "execution_count": null,
   "metadata": {},
   "outputs": [],
   "source": [
    "#pos_yes = np.where(np.array(yes) > 0)[0]\n",
    "#neg_yes = np.where(np.array(yes) == 0)[0]"
   ]
  },
  {
   "cell_type": "code",
   "execution_count": null,
   "metadata": {},
   "outputs": [],
   "source": [
    "#print(len(pos_yes))\n",
    "#print(len(neg_yes))"
   ]
  },
  {
   "cell_type": "code",
   "execution_count": 14,
   "metadata": {},
   "outputs": [
    {
     "name": "stdout",
     "output_type": "stream",
     "text": [
      "290\n"
     ]
    }
   ],
   "source": [
    "#print(sid.polarity_scores(comments[12]))\n",
    "print(len(sentiment_label[sentiment_label == 1]))"
   ]
  },
  {
   "cell_type": "code",
   "execution_count": 15,
   "metadata": {},
   "outputs": [
    {
     "data": {
      "text/plain": [
       "array([[285,  64],\n",
       "       [926, 226]])"
      ]
     },
     "execution_count": 15,
     "metadata": {},
     "output_type": "execute_result"
    }
   ],
   "source": [
    "confusion_matrix(yes,sentiment_label)"
   ]
  },
  {
   "cell_type": "code",
   "execution_count": 16,
   "metadata": {},
   "outputs": [
    {
     "name": "stderr",
     "output_type": "stream",
     "text": [
      "[nltk_data] Downloading package vader_lexicon to\n",
      "[nltk_data]     /Users/lw/nltk_data...\n",
      "[nltk_data]   Package vader_lexicon is already up-to-date!\n"
     ]
    },
    {
     "name": "stdout",
     "output_type": "stream",
     "text": [
      "finished 10000 samples\n",
      "finished 20000 samples\n",
      "finished 30000 samples\n",
      "finished 40000 samples\n",
      "finished 50000 samples\n",
      "finished 60000 samples\n",
      "finished 70000 samples\n",
      "finished 80000 samples\n",
      "finished 90000 samples\n",
      "finished 100000 samples\n",
      "finished 110000 samples\n",
      "finished 120000 samples\n",
      "finished 130000 samples\n",
      "finished 140000 samples\n"
     ]
    }
   ],
   "source": [
    "import nltk\n",
    "nltk.download('vader_lexicon')\n",
    "from nltk.sentiment.vader import SentimentIntensityAnalyzer\n",
    "sid = SentimentIntensityAnalyzer()\n",
    "sentiment_label = []\n",
    "count = 0\n",
    "for i in comments:\n",
    "    if i!= i:\n",
    "        sentiment_label.append(0)\n",
    "    else:\n",
    "        x = sid.polarity_scores(i)\n",
    "        if x['neg'] < x['pos'] and x['neu'] < x['pos']:\n",
    "            sentiment_label.append(1)\n",
    "        elif x['neg'] > x['pos'] and x['neg'] > x['neu']:\n",
    "            sentiment_label.append(-1)\n",
    "        else:\n",
    "            sentiment_label.append(0)\n",
    "    count += 1\n",
    "    if count%10000 == 0:\n",
    "        print(\"finished \" + str(count) + \" samples\")"
   ]
  },
  {
   "cell_type": "code",
   "execution_count": 17,
   "metadata": {},
   "outputs": [
    {
     "name": "stdout",
     "output_type": "stream",
     "text": [
      "74\n",
      "146203\n",
      "40\n"
     ]
    }
   ],
   "source": [
    "sentiment_label = np.array(sentiment_label)\n",
    "print(len(sentiment_label[sentiment_label > 0]))\n",
    "print(len(sentiment_label[sentiment_label == 0]))\n",
    "print(len(sentiment_label[sentiment_label == -1]))"
   ]
  }
 ],
 "metadata": {
  "kernelspec": {
   "display_name": "Python 3",
   "language": "python",
   "name": "python3"
  },
  "language_info": {
   "codemirror_mode": {
    "name": "ipython",
    "version": 3
   },
   "file_extension": ".py",
   "mimetype": "text/x-python",
   "name": "python",
   "nbconvert_exporter": "python",
   "pygments_lexer": "ipython3",
   "version": "3.7.6"
  }
 },
 "nbformat": 4,
 "nbformat_minor": 4
}
