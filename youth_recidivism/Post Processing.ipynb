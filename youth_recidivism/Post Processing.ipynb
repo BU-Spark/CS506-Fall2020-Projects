{
 "cells": [
  {
   "cell_type": "code",
   "execution_count": 1,
   "metadata": {},
   "outputs": [],
   "source": [
    "import nltk\n",
    "import numpy as py\n",
    "import pandas as pd\n",
    "from nltk.corpus import stopwords\n",
    "from nltk.tokenize import word_tokenize\n",
    "from nltk.stem import WordNetLemmatizer \n",
    "lemmatizer = WordNetLemmatizer()\n",
    "\n",
    "import re\n",
    "import numpy as np\n",
    "import pandas as pd\n",
    "from pprint import pprint\n",
    "\n",
    "# spacy for lemmatization\n",
    "import spacy\n",
    "\n",
    "# Plotting tools\n",
    "import pyLDAvis\n",
    "import pyLDAvis.gensim  # don't skip this\n",
    "import matplotlib.pyplot as plt\n",
    "\n",
    "# Enable logging for gensim - optional\n",
    "import logging\n",
    "logging.basicConfig(format='%(asctime)s : %(levelname)s : %(message)s', level=logging.ERROR)\n",
    "\n",
    "import warnings\n",
    "warnings.filterwarnings(\"ignore\",category=DeprecationWarning)\n",
    "\n",
    "import gensim\n",
    "import gensim.corpora as corpora\n",
    "from gensim.utils import simple_preprocess\n",
    "from gensim.models import CoherenceModel\n",
    "from collections import Counter\n",
    "from gensim.test.utils import datapath\n",
    "import pickle\n",
    "from sklearn.decomposition import PCA\n",
    "from sklearn.preprocessing import StandardScaler\n",
    "from sklearn import tree\n",
    "from sklearn.tree import export_text\n",
    "import graphviz "
   ]
  },
  {
   "cell_type": "code",
   "execution_count": 2,
   "metadata": {},
   "outputs": [],
   "source": [
    "def retrieve_feature_label(path):\n",
    "    df = pd.read_pickle(path)\n",
    "    return df['total_notes'], df['label']\n",
    "X, Y = retrieve_feature_label(\"train.pickle\")\n",
    "lda_model = gensim.models.ldamodel.LdaModel.load('lda.model')\n",
    "with open(\"corpus.txt\", \"rb\") as fp:   # Unpickling\n",
    "    corpus = pickle.load(fp)\n",
    "predicted_labels = lda_model.get_document_topics(corpus)"
   ]
  },
  {
   "cell_type": "code",
   "execution_count": 3,
   "metadata": {},
   "outputs": [
    {
     "name": "stdout",
     "output_type": "stream",
     "text": [
      "[(0,\n",
      "  '0.071*\"work\" + 0.067*\"also\" + 0.043*\"get\" + 0.040*\"take\" + 0.040*\"week\" + '\n",
      "  '0.032*\"need\" + 0.031*\"next\" + 0.029*\"schedule\" + 0.029*\"give\" + '\n",
      "  '0.027*\"set\"'),\n",
      " (1,\n",
      "  '0.082*\"program\" + 0.049*\"state\" + 0.036*\"inform\" + 0.032*\"make\" + '\n",
      "  '0.028*\"want\" + 0.028*\"mom\" + 0.028*\"wa\" + 0.027*\"day\" + 0.026*\"able\" + '\n",
      "  '0.026*\"talk\"'),\n",
      " (2,\n",
      "  '0.102*\"sign\" + 0.093*\"bring\" + 0.065*\"discharge\" + 0.046*\"release\" + '\n",
      "  '0.035*\"goal\" + 0.031*\"foster\" + 0.030*\"worker\" + 0.030*\"form\" + '\n",
      "  '0.030*\"remain\" + 0.028*\"transition\"'),\n",
      " (3,\n",
      "  '0.066*\"mother\" + 0.065*\"time\" + 0.052*\"client\" + 0.049*\"discuss\" + '\n",
      "  '0.034*\"good\" + 0.033*\"continue\" + 0.032*\"plan\" + 0.023*\"email\" + '\n",
      "  '0.023*\"regard\" + 0.021*\"place\"'),\n",
      " (4,\n",
      "  '0.084*\"case\" + 0.071*\"phone\" + 0.059*\"receive\" + 0.057*\"court\" + '\n",
      "  '0.053*\"date\" + 0.047*\"send\" + 0.044*\"update\" + 0.032*\"charge\" + 0.031*\"new\" '\n",
      "  '+ 0.030*\"weekend\"'),\n",
      " (5,\n",
      "  '0.167*\"school\" + 0.068*\"pick\" + 0.061*\"transport\" + 0.051*\"complete\" + '\n",
      "  '0.045*\"assessment\" + 0.030*\"pass\" + 0.025*\"expectation\" + 0.021*\"first\" + '\n",
      "  '0.018*\"application\" + 0.017*\"room\"'),\n",
      " (6,\n",
      "  '0.249*\"home\" + 0.133*\"visit\" + 0.115*\"family\" + 0.056*\"leave\" + '\n",
      "  '0.038*\"morning\" + 0.027*\"later\" + 0.027*\"option\" + 0.026*\"yesterday\" + '\n",
      "  '0.025*\"message\" + 0.020*\"do\"'),\n",
      " (7,\n",
      "  '0.138*\"meeting\" + 0.090*\"treatment\" + 0.053*\"information\" + 0.039*\"review\" '\n",
      "  '+ 0.036*\"provide\" + 0.035*\"try\" + 0.034*\"open\" + 0.027*\"team\" + '\n",
      "  '0.023*\"stop\" + 0.021*\"early\"'),\n",
      " (8,\n",
      "  '0.093*\"would\" + 0.086*\"call\" + 0.056*\"ask\" + 0.055*\"say\" + 0.054*\"tell\" + '\n",
      "  '0.046*\"youth\" + 0.043*\"writer\" + 0.040*\"know\" + 0.036*\"see\" + 0.036*\"back\"'),\n",
      " (9,\n",
      "  '0.196*\"go\" + 0.142*\"report\" + 0.132*\"meet\" + 0.102*\"today\" + 0.085*\"well\" + '\n",
      "  '0.062*\"issue\" + 0.057*\"check\" + 0.045*\"attend\" + 0.018*\"text\" + '\n",
      "  '0.013*\"conduct\"')]\n"
     ]
    }
   ],
   "source": [
    "pprint(lda_model.print_topics())"
   ]
  },
  {
   "cell_type": "code",
   "execution_count": 42,
   "metadata": {},
   "outputs": [],
   "source": [
    "new_label = []\n",
    "prob = []\n",
    "for i in predicted_labels:\n",
    "    label,probability = max(i, key=lambda x:x[1])\n",
    "    new_label.append(label)\n",
    "    prob.append(probability)\n",
    "new_label = np.array(new_label)"
   ]
  },
  {
   "cell_type": "code",
   "execution_count": 45,
   "metadata": {},
   "outputs": [
    {
     "name": "stdout",
     "output_type": "stream",
     "text": [
      "         z\n",
      "new       \n",
      "0    38944\n",
      "1    68582\n",
      "2     1280\n",
      "3    14385\n",
      "4    17487\n",
      "5     5639\n"
     ]
    }
   ],
   "source": [
    "z = [0] * len(new_label)\n",
    "pd_new = pd.DataFrame({'new':new_label,\"z\":z})\n",
    "pd_new.columns = ['new','z']\n",
    "pd_new_stat = pd_new.groupby(\"new\").count()\n",
    "print(pd_new_stat)"
   ]
  },
  {
   "cell_type": "code",
   "execution_count": 44,
   "metadata": {},
   "outputs": [],
   "source": [
    "new_label[new_label ==4] = 2\n",
    "new_label[new_label ==5] = 2\n",
    "new_label[new_label ==6] = 2\n",
    "new_label[new_label ==7] = 2\n",
    "new_label[new_label ==8] = 4\n",
    "new_label[new_label ==9] = 5"
   ]
  },
  {
   "cell_type": "code",
   "execution_count": 46,
   "metadata": {},
   "outputs": [],
   "source": [
    "file = pd.read_pickle(\"train.pickle\")\n",
    "for i in range(file.shape[0]):\n",
    "    if file.iloc[i,19] != file.iloc[i,19]:\n",
    "        file.iloc[i,19] = file.iloc[i,16]\n",
    "file_stat = file[['WHO_WAS_CONTACTED','STAFF','WHY']].groupby([\"STAFF\"]).indices"
   ]
  },
  {
   "cell_type": "code",
   "execution_count": 47,
   "metadata": {},
   "outputs": [
    {
     "name": "stdout",
     "output_type": "stream",
     "text": [
      "Unnamed: 0                                                                   0\n",
      "MID                                                                     346868\n",
      "FirstCommit_2                                                       2009-12-01\n",
      "DischargeDate_2                                                     2016-07-05\n",
      "CommitDays                                                                2408\n",
      "monthsofstay                                                           79.2105\n",
      "cnpermnth                                                              0.16412\n",
      "numcasenote                                                                 13\n",
      "numcaseworkers                                                               1\n",
      "numcasenoteCW                                                               13\n",
      "Treatment                                                            Treatment\n",
      "YES                                                                          0\n",
      "YESStartDate_2                                                             NaN\n",
      "YESTermination_2                                                           NaN\n",
      "CaseworkeratDischargeDate                                  Enyichukwu Amaefule\n",
      "DATE_OF_NOTE_2                                                      2015-10-06\n",
      "CONTACT_TYPE                                         Electronic Communications\n",
      "Staffing                                                    Other Contact Type\n",
      "HOW_WAS_CONTACT_MADE                                                 Telephone\n",
      "WHO_WAS_CONTACTED                                          External Collateral\n",
      "WHY                                                                   Check-in\n",
      "COMMENTS_CLOB                I spoke to the clerk's office regarding Danny ...\n",
      "STAFF                                                           Theresa Santos\n",
      "CMN_WHO_CONT_OTHER                                                         NaN\n",
      "CMN_WHO_CONT_EXT                                                           NaN\n",
      "CMN_WHO_CONT_EXT_OTH                                                       NaN\n",
      "CMN_WHO_CONT_INT                                                           NaN\n",
      "CMN_WHO_CONT_INT_OTH                                                       NaN\n",
      "STAFF_LOCATION                                                             NaN\n",
      "STAFF_PAR_PART                                                             NaN\n",
      "STAFF_PAR_HOW                                                              NaN\n",
      "STAFF_PAR_CANT                                                             NaN\n",
      "STAFF_PAR_CANT_OTHER                                                       NaN\n",
      "STAFF_PAR_NO_REASON                                                        NaN\n",
      "STAFF_PAR_NO_OTHER                                                         NaN\n",
      "STAFF_WHO_THERE                                                            NaN\n",
      "STAFF_WHO_THERE_OTH                                                        NaN\n",
      "STAFF_WHO_EXT                                                              NaN\n",
      "STAFF_WHO_EXT_OTH                                                          NaN\n",
      "STAFF_WHO_INT                                                              NaN\n",
      "STAFF_WHO_INT_OTH                                                          NaN\n",
      "STAFF_WHO_PH                                                               NaN\n",
      "STAFF_WHO_PH_OTH                                                           NaN\n",
      "STAFF_WHO_PH_EXT                                                           NaN\n",
      "STAFF_WHO_PH_EXT_OTH                                                       NaN\n",
      "STAFF_WHO_PH_INT                                                           NaN\n",
      "STAFF_WHO_PH_INT_OTH                                                       NaN\n",
      "STAFF_NOTES                                                                   \n",
      "STAFF_REC                                                                     \n",
      "CMN_STAFFING_TYPE                                                          NaN\n",
      "total_notes                  I spoke to the clerk's office regarding Danny ...\n",
      "label                                                                        2\n",
      "Name: 0, dtype: object\n"
     ]
    }
   ],
   "source": [
    "print(file.iloc[0,:])"
   ]
  },
  {
   "cell_type": "code",
   "execution_count": 276,
   "metadata": {},
   "outputs": [],
   "source": [
    "from sklearn import preprocessing\n",
    "le = preprocessing.LabelEncoder()\n",
    "MID = file['MID'].to_numpy()\n",
    "MID = MID.astype(str)\n",
    "MID = le.fit_transform(MID)\n",
    "YES = file['YES'].to_numpy()\n",
    "YES = le.fit_transform(YES)\n",
    "CaseworkeratDischargeDate = file['CaseworkeratDischargeDate'].to_numpy()\n",
    "CaseworkeratDischargeDate[CaseworkeratDischargeDate != CaseworkeratDischargeDate] = \"\"\n",
    "CaseworkeratDischargeDate = le.fit_transform(CaseworkeratDischargeDate)\n",
    "CONTACT_TYPE = file['CONTACT_TYPE'].to_numpy()\n",
    "CONTACT_TYPE[CONTACT_TYPE!=CONTACT_TYPE] = \"\"\n",
    "CONTACT_TYPE = le.fit_transform(CONTACT_TYPE)\n",
    "Staffing = file['Staffing'].to_numpy()\n",
    "Staffing[Staffing!=Staffing] = \"\"\n",
    "Staffing = le.fit_transform(Staffing)\n",
    "HOW_WAS_CONTACT_MADE = file['HOW_WAS_CONTACT_MADE'].to_numpy()\n",
    "HOW_WAS_CONTACT_MADE[HOW_WAS_CONTACT_MADE !=HOW_WAS_CONTACT_MADE] = \"\"\n",
    "HOW_WAS_CONTACT_MADE = le.fit_transform(HOW_WAS_CONTACT_MADE)\n",
    "WHY = file['WHY'].to_numpy()\n",
    "WHY[WHY!=WHY] = \"\"\n",
    "WHY = le.fit_transform(WHY)\n",
    "STAFF = file['STAFF'].to_numpy()\n",
    "STAFF[STAFF!=STAFF] = \"\"\n",
    "STAFF = le.fit_transform(STAFF)\n",
    "CommitDays = file['CommitDays'].to_numpy()\n",
    "CommitDays[CommitDays!=CommitDays] = 0\n",
    "numcasenote = file['numcasenote'].to_numpy()\n",
    "numcasenote[numcasenote != numcasenote] = 0\n",
    "numcaseworkers = file['numcaseworkers'].to_numpy()\n",
    "numcaseworkers[numcaseworkers != numcaseworkers] = 0\n",
    "numcasenoteCW = file['numcasenoteCW'].to_numpy()\n",
    "numcasenoteCW[numcasenoteCW != numcasenoteCW] = 0\n",
    "\n",
    "FirstCommit_2 = file['FirstCommit_2'].to_numpy()\n",
    "FirstCommit_2[FirstCommit_2!=FirstCommit_2] = \"\"\n",
    "FirstCommit_2 = FirstCommit_2.astype(str)\n",
    "FirstCommit_2 = le.fit_transform(FirstCommit_2)\n",
    "\n",
    "DischargeDate_2 = file['DischargeDate_2'].to_numpy()\n",
    "DischargeDate_2[DischargeDate_2!=DischargeDate_2] = \"\"\n",
    "DischargeDate_2 = DischargeDate_2.astype(str)\n",
    "DischargeDate_2 = le.fit_transform(DischargeDate_2)\n",
    "\n",
    "\n",
    "WHO_WAS_CONTACTED = file['WHO_WAS_CONTACTED'].to_numpy()\n",
    "WHO_WAS_CONTACTED[WHO_WAS_CONTACTED!=WHO_WAS_CONTACTED] = \"\"\n",
    "WHO_WAS_CONTACTED = WHO_WAS_CONTACTED.astype(str)\n",
    "WHO_WAS_CONTACTED = le.fit_transform(WHO_WAS_CONTACTED)\n",
    "new_data = pd.DataFrame({\"CommitDays\":CommitDays, \n",
    "                        \"CONTACT_TYPE\":CONTACT_TYPE,\n",
    "                         \"WHO_WAS_CONTACTED\":WHO_WAS_CONTACTED,\n",
    "                         \"WHY\":WHY\n",
    "                        })"
   ]
  },
  {
   "cell_type": "code",
   "execution_count": 265,
   "metadata": {},
   "outputs": [
    {
     "name": "stdout",
     "output_type": "stream",
     "text": [
      "25 7097 215\n"
     ]
    }
   ],
   "source": [
    "print(max(CONTACT_TYPE),max(WHY),max(WHO_WAS_CONTACTED))"
   ]
  },
  {
   "cell_type": "code",
   "execution_count": 277,
   "metadata": {},
   "outputs": [
    {
     "data": {
      "image/png": "[encoded data removed]",
      "text/plain": [
       "<Figure size 432x288 with 1 Axes>"
      ]
     },
     "metadata": {
      "needs_background": "light"
     },
     "output_type": "display_data"
    }
   ],
   "source": [
    "pca = PCA()\n",
    "X = StandardScaler().fit_transform(new_data)\n",
    "clf = pca.fit(X)\n",
    "ex = -np.sort(-pca.explained_variance_ratio_)\n",
    "plt.plot(np.array([i for i in range(4)]),np.cumsum(ex))\n",
    "plt.ylabel('cumulative explained variance')\n",
    "plt.show()"
   ]
  },
  {
   "cell_type": "code",
   "execution_count": 278,
   "metadata": {},
   "outputs": [
    {
     "data": {
      "text/plain": [
       "CommitDays           2408.0\n",
       "CONTACT_TYPE            6.0\n",
       "WHO_WAS_CONTACTED     114.0\n",
       "WHY                  5181.0\n",
       "Name: 0, dtype: float64"
      ]
     },
     "execution_count": 278,
     "metadata": {},
     "output_type": "execute_result"
    }
   ],
   "source": [
    "new_data.iloc[0,:]"
   ]
  },
  {
   "cell_type": "code",
   "execution_count": 288,
   "metadata": {},
   "outputs": [],
   "source": [
    "clf = tree.DecisionTreeClassifier(max_depth = 10)\n",
    "clf = clf.fit(new_data.to_numpy(), new_label)\n",
    "#tree.plot_tree(clf) "
   ]
  },
  {
   "cell_type": "code",
   "execution_count": 289,
   "metadata": {},
   "outputs": [
    {
     "data": {
      "text/plain": [
       "0.49583438698169047"
      ]
     },
     "execution_count": 289,
     "metadata": {},
     "output_type": "execute_result"
    }
   ],
   "source": [
    "clf.score(new_data.to_numpy(), new_label)"
   ]
  },
  {
   "cell_type": "code",
   "execution_count": 290,
   "metadata": {},
   "outputs": [],
   "source": [
    "r = export_text(clf, \n",
    "                feature_names=[\"CommitDays\",\n",
    "                               \"CONTACT_TYPE\",\"WHO_WAS_CONTACTED\",\"WHY\"])"
   ]
  },
  {
   "cell_type": "code",
   "execution_count": 291,
   "metadata": {},
   "outputs": [
    {
     "data": {
      "text/plain": [
       "'decisiontree_result3.dot.pdf'"
      ]
     },
     "execution_count": 291,
     "metadata": {},
     "output_type": "execute_result"
    }
   ],
   "source": [
    "dot_data = tree.export_graphviz(clf, out_file=None, \n",
    "                      feature_names=[\"CommitDays\",\n",
    "                               \"CONTACT_TYPE\",\"WHO_WAS_CONTACTED\",\"WHY\"],\n",
    "                      filled=True, rounded=True,\n",
    "                                class_names = ['0','1','2','3','4','5'],\n",
    "                      special_characters=True)  \n",
    "graph = graphviz.Source(dot_data)  \n",
    "graph.render(\"decisiontree_result3.dot\")"
   ]
  },
  {
   "cell_type": "code",
   "execution_count": 282,
   "metadata": {},
   "outputs": [
    {
     "name": "stdout",
     "output_type": "stream",
     "text": [
      "<class 'str'>\n"
     ]
    }
   ],
   "source": [
    "#\n",
    "print(type(r))\n",
    "text_file = open(\"DT_result3.txt\", \"w\")\n",
    "n = text_file.write(r)\n",
    "text_file.close()"
   ]
  },
  {
   "cell_type": "code",
   "execution_count": 229,
   "metadata": {},
   "outputs": [
    {
     "name": "stdout",
     "output_type": "stream",
     "text": [
      "46874\n",
      "50\n"
     ]
    }
   ],
   "source": [
    "print(clf.get_n_leaves())\n",
    "print(clf.get_depth())"
   ]
  },
  {
   "cell_type": "code",
   "execution_count": 230,
   "metadata": {},
   "outputs": [],
   "source": [
    "path = clf.cost_complexity_pruning_path(new_data.to_numpy(), new_label)"
   ]
  },
  {
   "cell_type": "code",
   "execution_count": 231,
   "metadata": {},
   "outputs": [
    {
     "data": {
      "text/plain": [
       "Text(0, 0.5, 'total impurity of leaves')"
      ]
     },
     "execution_count": 231,
     "metadata": {},
     "output_type": "execute_result"
    },
    {
     "data": {
      "image/png": "[encoded data removed]",
      "text/plain": [
       "<Figure size 720x432 with 1 Axes>"
      ]
     },
     "metadata": {
      "needs_background": "light"
     },
     "output_type": "display_data"
    }
   ],
   "source": [
    "ccp_alphas, impurities = path.ccp_alphas, path.impurities\n",
    "\n",
    "plt.figure(figsize=(10, 6))\n",
    "plt.plot(ccp_alphas, impurities)\n",
    "plt.xlabel(\"effective alpha\")\n",
    "plt.ylabel(\"total impurity of leaves\")"
   ]
  },
  {
   "cell_type": "code",
   "execution_count": 232,
   "metadata": {},
   "outputs": [
    {
     "name": "stdout",
     "output_type": "stream",
     "text": [
      "18\n"
     ]
    }
   ],
   "source": [
    "ccp_alphas = ccp_alphas[ (ccp_alphas >= 0.0002) & (ccp_alphas <= 0.1) ]\n",
    "print(len(ccp_alphas))"
   ]
  },
  {
   "cell_type": "code",
   "execution_count": 233,
   "metadata": {},
   "outputs": [
    {
     "name": "stdout",
     "output_type": "stream",
     "text": [
      "done\n",
      "done\n",
      "done\n",
      "done\n",
      "done\n",
      "done\n",
      "done\n",
      "done\n",
      "done\n",
      "done\n",
      "done\n",
      "done\n",
      "done\n",
      "done\n",
      "done\n",
      "done\n",
      "done\n",
      "done\n"
     ]
    }
   ],
   "source": [
    "clfs = []\n",
    "\n",
    "for ccp_alpha in ccp_alphas:\n",
    "    clf = tree.DecisionTreeClassifier(random_state=0, ccp_alpha=ccp_alpha)\n",
    "    clf.fit(new_data.to_numpy(), new_label)\n",
    "    clfs.append(clf)\n",
    "    print(\"done\")\n",
    "    "
   ]
  },
  {
   "cell_type": "code",
   "execution_count": 236,
   "metadata": {},
   "outputs": [
    {
     "data": {
      "text/plain": [
       "Text(0, 0.5, 'total depth')"
      ]
     },
     "execution_count": 236,
     "metadata": {},
     "output_type": "execute_result"
    },
    {
     "data": {
      "image/png": "[encoded data removed]",
      "text/plain": [
       "<Figure size 720x432 with 1 Axes>"
      ]
     },
     "metadata": {
      "needs_background": "light"
     },
     "output_type": "display_data"
    }
   ],
   "source": [
    "tree_depths = [clf.tree_.max_depth for clf in clfs]\n",
    "plt.figure(figsize=(10,  6))\n",
    "plt.plot(ccp_alphas[:-1], tree_depths[:-1])\n",
    "plt.xlabel(\"effective alpha\")\n",
    "plt.ylabel(\"total depth\")"
   ]
  },
  {
   "cell_type": "code",
   "execution_count": 237,
   "metadata": {},
   "outputs": [
    {
     "data": {
      "text/plain": [
       "Text(0, 0.5, 'Accuracy scores')"
      ]
     },
     "execution_count": 237,
     "metadata": {},
     "output_type": "execute_result"
    },
    {
     "data": {
      "image/png": "[encoded data removed]",
      "text/plain": [
       "<Figure size 720x432 with 1 Axes>"
      ]
     },
     "metadata": {
      "needs_background": "light"
     },
     "output_type": "display_data"
    }
   ],
   "source": [
    "from sklearn.metrics import accuracy_score\n",
    "\n",
    "acc_scores = [accuracy_score(new_label, clf.predict(new_data.to_numpy())) for clf in clfs]\n",
    "\n",
    "tree_depths = [clf.tree_.max_depth for clf in clfs]\n",
    "plt.figure(figsize=(10,  6))\n",
    "plt.grid()\n",
    "plt.plot(ccp_alphas[:-1], acc_scores[:-1])\n",
    "plt.xlabel(\"effective alpha\")\n",
    "plt.ylabel(\"Accuracy scores\")"
   ]
  }
 ],
 "metadata": {
  "kernelspec": {
   "display_name": "Python 3",
   "language": "python",
   "name": "python3"
  },
  "language_info": {
   "codemirror_mode": {
    "name": "ipython",
    "version": 3
   },
   "file_extension": ".py",
   "mimetype": "text/x-python",
   "name": "python",
   "nbconvert_exporter": "python",
   "pygments_lexer": "ipython3",
   "version": "3.7.6"
  }
 },
 "nbformat": 4,
 "nbformat_minor": 4
}
