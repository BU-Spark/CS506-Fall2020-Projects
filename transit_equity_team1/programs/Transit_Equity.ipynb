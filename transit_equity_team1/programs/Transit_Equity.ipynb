{
 "cells": [
  {
   "cell_type": "markdown",
   "metadata": {},
   "source": [
    "# Transit Equity/ Bus Routes (MBTA only)"
   ]
  },
  {
   "cell_type": "code",
   "execution_count": null,
   "metadata": {
    "ExecuteTime": {
     "end_time": "2020-11-06T13:33:02.531683Z",
     "start_time": "2020-11-06T13:33:02.517720Z"
    }
   },
   "outputs": [],
   "source": [
    "# imports\n",
    "import pandas as pd\n",
    "import geopandas as gpd\n",
    "import requests\n",
    "import numpy as np\n",
    "import math\n",
    "from shapely.ops import nearest_points"
   ]
  },
  {
   "cell_type": "markdown",
   "metadata": {},
   "source": [
    "## Step 1: Data collection\n",
    "Read [this report](http://www.wrrb.org/wp-content/uploads/2019/05/WRRB-FareFree-Transit-Report.pdf) to understand the issue. Collect data - create a spreadsheet of all the different bus stops in Massachusetts including MBTA, Regional Transit Authorities, and City/Town buses.\n",
    "\n",
    "**Make sure datasets --- 'mbtabus/', 'CENSUS2010_BLK_BG_TRCT_SHP/' and 'census.csv' are under './data/'**"
   ]
  },
  {
   "cell_type": "code",
   "execution_count": null,
   "metadata": {
    "ExecuteTime": {
     "end_time": "2020-11-06T09:47:55.629504Z",
     "start_time": "2020-11-06T09:47:55.612519Z"
    }
   },
   "outputs": [],
   "source": [
    "# Collect data for bus stops \n",
    "def load_bus_stop():\n",
    "    \"\"\"\n",
    "    Data description link: https://docs.digital.mass.gov/dataset/massgis-data-mbta-bus-routes-and-stops\n",
    "    \"\"\"\n",
    "    file = gpd.read_file(\"./data/mbtabus/MBTABUSSTOPS_PT.shp\")\n",
    "    return file\n",
    "\n",
    "\n",
    "def load_census_tract():\n",
    "    \"\"\"\n",
    "    Data description link: https://docs.digital.mass.gov/dataset/massgis-data-datalayers-2010-us-census\n",
    "    \"\"\"\n",
    "    file = gpd.read_file(\"./data/CENSUS2010_BLK_BG_TRCT_SHP/CENSUS2010TRACTS_POLY.shp\")\n",
    "    return file\n",
    "\n",
    "# Collect Census Data:\n",
    "def get_median_hh_income():\n",
    "    '''\n",
    "        Returns Pandas DataFrame representation Median Household Income Estimate by Census Tract for MA.\n",
    "        American Community Survey (ACS) 2018 Census data used.\n",
    "        Specific table: ACS 2018 5-year detailed table \"B19013_001E\"\n",
    "    '''\n",
    "    URL = \"https://api.census.gov/data/2018/acs/acs5?get=B19013_001E&for=tract:*&in=state:25\"\n",
    "\n",
    "    response = requests.get(url = URL)\n",
    "    data = response.json()\n",
    "    \n",
    "    median_income_df = pd.DataFrame(data[1:len(data)-1], columns = data[0])\n",
    "    \n",
    "    return median_income_df\n",
    "\n",
    "def load_median_hh_income():\n",
    "    '''\n",
    "        *** USE THIS FUNCTION TO LOAD INCOME DATA FROM LOCAL ***\n",
    "        Returns Pandas DataFrame representation Median Household Income Estimate by Census Tract for MA.\n",
    "        American Community Survey (ACS) 2018 Census data used.\n",
    "        Specific table: ACS 2018 5-year detailed table \"B19013_001E\"\n",
    "    '''\n",
    "    median_income_df = pd.read_csv(\"./data/census.csv\")\n",
    "    return median_income_df    "
   ]
  },
  {
   "cell_type": "code",
   "execution_count": null,
   "metadata": {
    "ExecuteTime": {
     "end_time": "2020-11-06T09:47:56.710182Z",
     "start_time": "2020-11-06T09:47:56.256338Z"
    }
   },
   "outputs": [],
   "source": [
    "busstop_gdf = load_bus_stop()\n",
    "census_tract_gdf = load_census_tract()\n",
    "median_income_for_tract_df = load_median_hh_income()\n",
    "\n",
    "# Collect Census Data:\n",
    "# res = get_median_hh_income()\n",
    "# res.to_csv()"
   ]
  },
  {
   "cell_type": "code",
   "execution_count": null,
   "metadata": {
    "ExecuteTime": {
     "end_time": "2020-11-06T09:47:57.670384Z",
     "start_time": "2020-11-06T09:47:57.641460Z"
    }
   },
   "outputs": [],
   "source": [
    "busstop_gdf"
   ]
  },
  {
   "cell_type": "code",
   "execution_count": null,
   "metadata": {
    "ExecuteTime": {
     "end_time": "2020-11-06T13:06:29.545777Z",
     "start_time": "2020-11-06T13:06:29.502892Z"
    }
   },
   "outputs": [],
   "source": [
    "census_tract_gdf"
   ]
  },
  {
   "cell_type": "code",
   "execution_count": null,
   "metadata": {
    "ExecuteTime": {
     "end_time": "2020-11-06T09:48:01.422785Z",
     "start_time": "2020-11-06T09:48:01.411814Z"
    }
   },
   "outputs": [],
   "source": [
    "median_income_for_tract_df"
   ]
  },
  {
   "cell_type": "code",
   "execution_count": null,
   "metadata": {
    "ExecuteTime": {
     "end_time": "2020-11-06T09:48:05.327098Z",
     "start_time": "2020-11-06T09:48:05.312138Z"
    }
   },
   "outputs": [],
   "source": [
    "# zfill the tractID to 6-digit str\n",
    "median_income_for_tract_df.tract = [str(x).zfill(6) for x in median_income_for_tract_df['tract']]\n",
    "median_income_for_tract_df"
   ]
  },
  {
   "cell_type": "code",
   "execution_count": null,
   "metadata": {
    "ExecuteTime": {
     "end_time": "2020-11-06T14:13:35.303412Z",
     "start_time": "2020-11-06T14:13:35.286458Z"
    }
   },
   "outputs": [],
   "source": [
    "# Find abnormal values and correct them with its neighbors' average incomes\n",
    "# census_tract_gdf.plot()\n",
    "# busstop_gdf.plot()\n",
    "\n",
    "# while True:\n",
    "#     abnormal_tracts = ['980300', '980700', '981000', '981201', '981202', '981502', '981600', '981700']\n",
    "    \n",
    "#     for tract in abnormal_tracts:\n",
    "#         polygon = census_tract_gdf[census_tract_gdf['TRACTCE10'] == tract].geometry\n",
    "#         print(polygon)\n",
    "#         neighbors = census_tract_gdf[census_tract_gdf.geometry.touches(polygon)].TRACTCE10.tolist()\n",
    "#         print(len(neighbors))\n",
    "#     break"
   ]
  },
  {
   "cell_type": "markdown",
   "metadata": {},
   "source": [
    "Then traverse through bus stops to indentify which tracts they are in."
   ]
  },
  {
   "cell_type": "code",
   "execution_count": null,
   "metadata": {
    "ExecuteTime": {
     "end_time": "2020-10-28T09:00:20.282973Z",
     "start_time": "2020-10-28T09:00:20.268042Z"
    }
   },
   "outputs": [],
   "source": [
    "def tract_for_stop(busstop_gdf, census_tract_gdf):\n",
    "    \"\"\"\n",
    "    This function takes in busstop and tract data in geoDataFrame.\n",
    "    Returns a dictionary in {stop_id: tract_id} format\n",
    "    \"\"\"\n",
    "    stopid_tract_dict = {}\n",
    "    \n",
    "    points = busstop_gdf.geometry\n",
    "    polygons = census_tract_gdf.geometry\n",
    "    \n",
    "    stop_ids = busstop_gdf['STOP_ID']\n",
    "    tract_ids = census_tract_gdf['TRACTCE10']\n",
    "    \n",
    "    for i in range(len(busstop_gdf)):\n",
    "        stopid = stop_ids[i]\n",
    "        point = points[i]\n",
    "        for j in range(len(census_tract_gdf)):\n",
    "            tractid = tract_ids[j]\n",
    "            polygon = polygons[j]\n",
    "            if point.within(polygon):\n",
    "                stopid_tract_dict[stopid] = tractid\n",
    "                break;\n",
    "    \n",
    "    return stopid_tract_dict"
   ]
  },
  {
   "cell_type": "code",
   "execution_count": null,
   "metadata": {
    "ExecuteTime": {
     "end_time": "2020-10-28T08:15:24.604734Z",
     "start_time": "2020-10-28T08:14:28.575394Z"
    }
   },
   "outputs": [],
   "source": [
    "stopid_tract_dict = tract_for_stop(busstop_gdf, census_tract_gdf)"
   ]
  },
  {
   "cell_type": "markdown",
   "metadata": {},
   "source": [
    "Then add a column 'TRACT_ID' in bus stop data"
   ]
  },
  {
   "cell_type": "code",
   "execution_count": null,
   "metadata": {
    "ExecuteTime": {
     "end_time": "2020-10-28T09:00:22.880362Z",
     "start_time": "2020-10-28T09:00:22.853434Z"
    }
   },
   "outputs": [],
   "source": [
    "busstop_gdf['TRACT_ID'] = stopid_tract_dict.values()\n",
    "busstop_gdf"
   ]
  },
  {
   "cell_type": "markdown",
   "metadata": {
    "ExecuteTime": {
     "end_time": "2020-10-28T08:28:28.719311Z",
     "start_time": "2020-10-28T08:28:28.701390Z"
    }
   },
   "source": [
    "Then assign median income for each stop by 'TRACT_ID'"
   ]
  },
  {
   "cell_type": "code",
   "execution_count": null,
   "metadata": {
    "ExecuteTime": {
     "end_time": "2020-10-28T09:15:21.715382Z",
     "start_time": "2020-10-28T09:15:21.707404Z"
    }
   },
   "outputs": [],
   "source": [
    "def get_tract_income_dict():\n",
    "    tract_income_dict = {}\n",
    "    \n",
    "    # need to convert entries of type <numpy.int64> into a 6-digit string\n",
    "    incomes = median_income_for_tract_gdf['B19013_001E']\n",
    "    tracts = [str(x).zfill(6) for x in median_income_for_tract_df['tract']]\n",
    "    for i in range(len(median_income_for_tract_df)):\n",
    "        tract_income_dict[tracts[i]] = incomes[i]\n",
    "    return tract_income_dict\n",
    "\n",
    "def get_income_for_tract(tracts, tract_income_dict):\n",
    "    incomes = []\n",
    "    for tract in tracts:\n",
    "        incomes.append(tract_income_dict[tract])\n",
    "    return incomes"
   ]
  },
  {
   "cell_type": "code",
   "execution_count": null,
   "metadata": {
    "ExecuteTime": {
     "end_time": "2020-10-28T09:15:22.607355Z",
     "start_time": "2020-10-28T09:15:22.592395Z"
    }
   },
   "outputs": [],
   "source": [
    "tract_income_dict = get_tract_income_dict()\n",
    "incomes = get_income_for_tract(busstop_gdf['TRACT_ID'], tract_income_dict)"
   ]
  },
  {
   "cell_type": "markdown",
   "metadata": {},
   "source": [
    "Then add a column 'income' in bus stop data"
   ]
  },
  {
   "cell_type": "code",
   "execution_count": null,
   "metadata": {
    "ExecuteTime": {
     "end_time": "2020-10-28T09:15:24.599406Z",
     "start_time": "2020-10-28T09:15:24.574446Z"
    }
   },
   "outputs": [],
   "source": [
    "busstop_gdf['income'] = incomes\n",
    "busstop_gdf"
   ]
  },
  {
   "cell_type": "markdown",
   "metadata": {},
   "source": [
    "Save the bus stop data into a new csv file"
   ]
  },
  {
   "cell_type": "code",
   "execution_count": null,
   "metadata": {
    "ExecuteTime": {
     "end_time": "2020-10-28T09:22:12.404412Z",
     "start_time": "2020-10-28T09:22:12.363345Z"
    }
   },
   "outputs": [],
   "source": [
    "df = pd.DataFrame(busstop_gdf.drop(columns='geometry'))\n",
    "df.to_csv(\"./output/stops_with_income.csv\")"
   ]
  },
  {
   "cell_type": "markdown",
   "metadata": {},
   "source": [
    "## Step 2: Income level assignment\n",
    "Assign an income level to each stop based on the census tract data"
   ]
  },
  {
   "cell_type": "markdown",
   "metadata": {},
   "source": [
    "**No need to run blocks above!!**\n",
    "Here we use the income group standard according to [Pew Research](http://www.pewsocialtrends.org/2015/12/09/the-american-middle-class-is-losing-ground/), which shows as follows:\n",
    "\n",
    "| LEVEL | INCOME GROUP | INCOME/\\$ |\n",
    "| :- | :- | -: |\n",
    "| 0 | Lowest income | 31,000 or less|\n",
    "| 1 | Lower-middle income | 31,000 - 42,000 |\n",
    "| 2 | Middle-income | 42,000 - 126,000 |\n",
    "| 3 | Upper-middle income | 126,000 - 188,000 |\n",
    "| 4 | Higher-income | 188,000 or more |"
   ]
  },
  {
   "cell_type": "code",
   "execution_count": null,
   "metadata": {
    "ExecuteTime": {
     "end_time": "2020-11-07T02:33:27.193496Z",
     "start_time": "2020-11-07T02:33:26.045021Z"
    }
   },
   "outputs": [],
   "source": [
    "import pandas as pd\n",
    "# read result csv generated from step one\n",
    "busstop_df = pd.read_csv(\"./output/stops_with_income.csv\")\n",
    "busstop_df"
   ]
  },
  {
   "cell_type": "code",
   "execution_count": null,
   "metadata": {
    "ExecuteTime": {
     "end_time": "2020-11-07T02:33:31.500823Z",
     "start_time": "2020-11-07T02:33:31.479878Z"
    }
   },
   "outputs": [],
   "source": [
    "income_level = []\n",
    "\n",
    "incomes = busstop_df['income']\n",
    "for income in incomes:\n",
    "    if income<=0:\n",
    "        income_level.append(-1)\n",
    "    elif 0<income < 31000:\n",
    "        income_level.append(0)\n",
    "    elif 31000 <= income < 42000:\n",
    "        income_level.append(1)\n",
    "    elif 42000 <= income < 126000:\n",
    "        income_level.append(2)\n",
    "    elif 126000 <= income < 188000:\n",
    "        income_level.append(3)\n",
    "    elif 188000 <= income:\n",
    "        income_level.append(4)"
   ]
  },
  {
   "cell_type": "code",
   "execution_count": null,
   "metadata": {
    "ExecuteTime": {
     "end_time": "2020-11-07T02:33:34.356797Z",
     "start_time": "2020-11-07T02:33:34.341836Z"
    }
   },
   "outputs": [],
   "source": [
    "busstop_df['income_level'] = income_level\n",
    "busstop_df"
   ]
  },
  {
   "cell_type": "code",
   "execution_count": null,
   "metadata": {
    "ExecuteTime": {
     "end_time": "2020-11-06T14:14:53.908615Z",
     "start_time": "2020-11-06T14:14:53.877671Z"
    }
   },
   "outputs": [],
   "source": [
    "# Save to csv file\n",
    "busstop_df.to_csv(\"./output/stops_with_incomeLevel.csv\", index_label=False)"
   ]
  },
  {
   "cell_type": "code",
   "execution_count": null,
   "metadata": {
    "ExecuteTime": {
     "end_time": "2020-11-07T02:33:38.501768Z",
     "start_time": "2020-11-07T02:33:38.476835Z"
    }
   },
   "outputs": [],
   "source": [
    "# show stops whose income are unknown\n",
    "busstop_df[busstop_df.income<0]"
   ]
  },
  {
   "cell_type": "markdown",
   "metadata": {},
   "source": [
    "## Step 3&4: Ridership & Revenue for each stop\n",
    "Calculate annual revenue for each stop\n",
    "1. Find fare for each route\n",
    "| route_type    | fare | fare (reduced) |\n",
    "|---------------|------|----------------|\n",
    "| Local Bus     | 1.7  | 0.85           |\n",
    "| Inner Express | 4.25 | 2.10           |\n",
    "| Outer Express | 5.25 | 2.60           |\n",
    "2. Connect routes for each stop\n",
    "3. Collect ridership for each route per stop\n",
    "3. Calculate annual renevue for each stop, note: reduced fare, monthly pass"
   ]
  },
  {
   "cell_type": "code",
   "execution_count": null,
   "metadata": {
    "ExecuteTime": {
     "end_time": "2020-11-07T05:36:32.783483Z",
     "start_time": "2020-11-07T05:36:32.430162Z"
    }
   },
   "outputs": [],
   "source": [
    "import pandas as pd\n",
    "import geopandas as gpd"
   ]
  },
  {
   "cell_type": "markdown",
   "metadata": {},
   "source": [
    "### 1. Find fare for each route"
   ]
  },
  {
   "cell_type": "code",
   "execution_count": null,
   "metadata": {
    "ExecuteTime": {
     "end_time": "2020-11-07T05:35:46.891875Z",
     "start_time": "2020-11-07T05:35:46.858936Z"
    }
   },
   "outputs": [],
   "source": [
    "# route info\n",
    "routes_df = pd.read_csv('./data/fare&ridership/routes.csv')\n",
    "routes_df"
   ]
  },
  {
   "cell_type": "code",
   "execution_count": null,
   "metadata": {
    "ExecuteTime": {
     "end_time": "2020-11-07T03:22:31.853809Z",
     "start_time": "2020-11-07T03:22:31.825884Z"
    }
   },
   "outputs": [],
   "source": [
    "route_fare_class = {'Local Bus': 1.7, 'Inner Express': 4.25, 'Outer Express': 5.25, 'Free':0}\n",
    "route_reduced_fare_class = {'Local Bus': 0.85, 'Inner Express': 2.1, 'Outer Express': 2.6, 'Free':0}\n",
    "\n",
    "# add a column of fare for each route\n",
    "routes_df['fare'] = float('nan')\n",
    "routes_df['reduced_fare'] = float('nan')\n",
    "for idx, row in routes_df.iterrows():\n",
    "    this_fare_class = row['route_fare_class']\n",
    "    if this_fare_class not in route_fare_class:\n",
    "        continue\n",
    "    else:\n",
    "        routes_df.at[idx, 'fare'] = route_fare_class[this_fare_class]\n",
    "        routes_df.at[idx, 'reduced_fare'] = route_reduced_fare_class[this_fare_class]\n",
    "\n",
    "routes_df.to_csv('./output/routes_with_fare.csv', index_label=False)"
   ]
  },
  {
   "cell_type": "markdown",
   "metadata": {},
   "source": [
    "### 2. Connect routes for each stop"
   ]
  },
  {
   "cell_type": "code",
   "execution_count": null,
   "metadata": {
    "ExecuteTime": {
     "end_time": "2020-11-07T03:24:02.042634Z",
     "start_time": "2020-11-07T03:24:02.021661Z"
    }
   },
   "outputs": [],
   "source": [
    "stops_df = pd.read_csv('./output/stops_with_incomeLevel.csv')\n",
    "stops_df"
   ]
  },
  {
   "cell_type": "code",
   "execution_count": null,
   "metadata": {
    "ExecuteTime": {
     "end_time": "2020-11-07T03:29:52.114862Z",
     "start_time": "2020-11-07T03:29:47.971947Z"
    }
   },
   "outputs": [],
   "source": [
    "ridership_df = pd.read_csv('./data/fare&ridership/Line,_and_Stop.csv', low_memory=False)\n",
    "ridership_df"
   ]
  },
  {
   "cell_type": "code",
   "execution_count": null,
   "metadata": {
    "ExecuteTime": {
     "end_time": "2020-11-07T04:22:23.549691Z",
     "start_time": "2020-11-07T04:21:51.764704Z"
    }
   },
   "outputs": [],
   "source": [
    "stops_df['route_ids'] = \"\"\n",
    "for idx, row in stops_df.iterrows():\n",
    "    stop_id = row['STOP_ID']\n",
    "    route_ids = list(set(ridership_df[ridership_df.stop_id == int(stop_id)].route_id.tolist()))\n",
    "    stops_df.at[idx, 'route_ids'] = ','.join(route_ids)\n",
    "stops_df.to_csv('./output/stops.csv', index_label=False)\n",
    "stops_df"
   ]
  },
  {
   "cell_type": "markdown",
   "metadata": {
    "ExecuteTime": {
     "end_time": "2020-11-07T04:24:12.212470Z",
     "start_time": "2020-11-07T04:24:12.178561Z"
    }
   },
   "source": [
    "### 3. Collect ridership for each route per stop"
   ]
  },
  {
   "cell_type": "code",
   "execution_count": null,
   "metadata": {
    "ExecuteTime": {
     "end_time": "2020-11-07T05:37:12.101830Z",
     "start_time": "2020-11-07T05:37:12.055954Z"
    }
   },
   "outputs": [],
   "source": [
    "routes_df = pd.read_csv('output/routes_with_fare.csv')\n",
    "routes_df"
   ]
  },
  {
   "cell_type": "code",
   "execution_count": null,
   "metadata": {
    "ExecuteTime": {
     "end_time": "2020-11-07T05:46:17.302091Z",
     "start_time": "2020-11-07T05:46:12.895880Z"
    }
   },
   "outputs": [],
   "source": [
    "ridership_df = pd.read_csv('./data/fare&ridership/Line,_and_Stop.csv', low_memory=False)\n",
    "# load only rows for Fall 2019\n",
    "ridership_df = ridership_df[ridership_df.season == 'Fall 2019']\n",
    "ridership_df"
   ]
  },
  {
   "cell_type": "code",
   "execution_count": null,
   "metadata": {
    "ExecuteTime": {
     "end_time": "2020-11-07T06:27:20.644136Z",
     "start_time": "2020-11-07T06:27:20.618176Z"
    }
   },
   "outputs": [],
   "source": [
    "stops_df = pd.read_csv('./output/stops.csv', low_memory=False)\n",
    "stops_df.info()"
   ]
  },
  {
   "cell_type": "code",
   "execution_count": null,
   "metadata": {
    "ExecuteTime": {
     "end_time": "2020-11-07T07:28:24.181156Z",
     "start_time": "2020-11-07T06:34:31.998806Z"
    }
   },
   "outputs": [],
   "source": [
    "# ridership_df[(ridership_df.route_id=='99') & (ridership_df.stop_id==5327) & (ridership_df.day_type_name=='weekday')]\n",
    "stops_df['ridership'] = \"\"\n",
    "for idx, row in stops_df.iterrows():\n",
    "    print('{}/{}'.format(idx, len(stops_df)))\n",
    "    stop_id = int(row['STOP_ID'])\n",
    "    route_ids = str(row['route_ids']).split(',')\n",
    "    riderships = []\n",
    "    for route_id in route_ids:\n",
    "        weekday_ons = sum(ridership_df[(ridership_df.route_id==route_id) & (ridership_df.stop_id==stop_id) & (ridership_df.day_type_name=='weekday')].boardings) * 5\n",
    "        saturday_ons = sum(ridership_df[(ridership_df.route_id==route_id) & (ridership_df.stop_id==stop_id) & (ridership_df.day_type_name=='saturday')].boardings)\n",
    "        sunday_ons = sum(ridership_df[(ridership_df.route_id==route_id) & (ridership_df.stop_id==stop_id) & (ridership_df.day_type_name=='sunday')].boardings)\n",
    "        week_ons = weekday_ons+saturday_ons+sunday_ons\n",
    "        year_ons = week_ons * 52\n",
    "        riderships.append(\"{:.1f}\".format(year_ons))\n",
    "    stops_df.at[idx, 'ridership'] =  ','.join(riderships)\n",
    "stops_df"
   ]
  },
  {
   "cell_type": "code",
   "execution_count": null,
   "metadata": {
    "ExecuteTime": {
     "end_time": "2020-11-07T07:30:23.892823Z",
     "start_time": "2020-11-07T07:30:23.854962Z"
    }
   },
   "outputs": [],
   "source": [
    "stops_df.to_csv('./output/stops.csv', index_label=False)"
   ]
  },
  {
   "cell_type": "markdown",
   "metadata": {
    "ExecuteTime": {
     "end_time": "2020-11-07T07:30:34.187312Z",
     "start_time": "2020-11-07T07:30:34.169380Z"
    }
   },
   "source": [
    "### 4. Calculate annual renevue for each stop, note: reduced fare, monthly pass\n",
    "Here I assume the revenue composition (payment method) is fixed for each route, and that a rider uses a monthly pass twice every weekday, and that a month has 22 weekdays."
   ]
  },
  {
   "cell_type": "code",
   "execution_count": null,
   "metadata": {
    "ExecuteTime": {
     "end_time": "2020-11-07T07:58:24.944957Z",
     "start_time": "2020-11-07T07:58:24.911021Z"
    }
   },
   "outputs": [],
   "source": [
    "routes_df = pd.read_csv('./output/routes_with_fare.csv')\n",
    "routes_df"
   ]
  },
  {
   "cell_type": "code",
   "execution_count": null,
   "metadata": {
    "ExecuteTime": {
     "end_time": "2020-11-07T08:34:36.497095Z",
     "start_time": "2020-11-07T08:34:29.872845Z"
    }
   },
   "outputs": [],
   "source": [
    "stops_df['revenues'] = \"\"\n",
    "\n",
    "for idx, row in stops_df.iterrows():    \n",
    "    route_ids = str(row['route_ids']).split(',')\n",
    "    riderships = [float(x) for x in str(row['ridership']).split(',')]\n",
    "    assert len(route_ids)==len(riderships)\n",
    "    \n",
    "    revenues = []\n",
    "    for i in range(len(riderships)):\n",
    "        route_id = route_ids[i]\n",
    "        ridership = riderships[i]\n",
    "        \n",
    "        route_info = routes_df[routes_df.route_id == route_id]\n",
    "        if len(route_info)==0:\n",
    "            # no route info, assume it as local bus\n",
    "            fare = 1.7\n",
    "            fare_reduced = 0.85\n",
    "        else:\n",
    "            fare = float(route_info.fare)\n",
    "            fare_reduced = float(route_info.reduced_fare)\n",
    "        \n",
    "        # monthly pass - 70%\n",
    "        ridership_monthlyPass = ridership * 0.7\n",
    "        revenue_0 = ridership_monthlyPass * 0.17 * (30/(22*2))\n",
    "        revenue_1 = ridership_monthlyPass * 0.1 * (55/(22*2))\n",
    "        revenue_2 = ridership_monthlyPass * 0.69 * (90/(22*2))\n",
    "        revenue_3 = ridership_monthlyPass * 0.04 * (90/(22*2))\n",
    "        revenue_monthlyPass = revenue_0 + revenue_1 + revenue_2 + revenue_3\n",
    "        \n",
    "        # pay-per-ride - 22%\n",
    "        ridership_payPerRide = ridership * 0.22\n",
    "        revenue_4 = ridership_payPerRide * 0.03 * 1.7\n",
    "        revenue_5 = ridership_payPerRide * 0.16 * fare_reduced\n",
    "        revenue_6 = ridership_payPerRide * 0.79 * fare\n",
    "        revenue_payPerRide = revenue_4 + revenue_5 + revenue_6\n",
    "        \n",
    "        # others, ignore\n",
    "        # sum up\n",
    "        revenues.append(\"{:.1f}\".format(revenue_monthlyPass+revenue_payPerRide))\n",
    "    stops_df.at[idx, 'revenues'] = ','.join(revenues)\n",
    "\n",
    "stops_df"
   ]
  },
  {
   "cell_type": "code",
   "execution_count": null,
   "metadata": {
    "ExecuteTime": {
     "end_time": "2020-11-07T08:38:02.005252Z",
     "start_time": "2020-11-07T08:38:01.435749Z"
    }
   },
   "outputs": [],
   "source": [
    "# Add revenues up for each stop\n",
    "stops_df['revenue_annual'] = \"\"\n",
    "for idx, row in stops_df.iterrows():\n",
    "    revenues = list(map(float, str(row['revenues']).split(',')))\n",
    "    stops_df.at[idx, 'revenue_annual'] = sum(revenues)\n",
    "stops_df"
   ]
  },
  {
   "cell_type": "code",
   "execution_count": null,
   "metadata": {
    "ExecuteTime": {
     "end_time": "2020-11-07T08:38:39.032112Z",
     "start_time": "2020-11-07T08:38:38.995184Z"
    }
   },
   "outputs": [],
   "source": [
    "stops_df.to_csv('./output/stops.csv', index_label=False)"
   ]
  },
  {
   "cell_type": "markdown",
   "metadata": {},
   "source": [
    "## Step 5: Identify which bus routes, stops, or zones would have the most positive effect on low income riders if free. Identify which towns would be impacted?\n",
    "1. Draw a 0.5 mile radius circle around each stop, store as a column\n",
    "2. Calculate percentage of the interception between the circle and tracts\n",
    "3. Calculate weighed median income for people that the stop impacts\n",
    "4. Calculate weighed number of people impacted by each stop"
   ]
  },
  {
   "cell_type": "code",
   "execution_count": 2,
   "metadata": {
    "ExecuteTime": {
     "end_time": "2020-11-23T01:06:50.449198Z",
     "start_time": "2020-11-23T01:06:49.441638Z"
    }
   },
   "outputs": [],
   "source": [
    "import pandas as pd\n",
    "import geopandas as gpd\n",
    "from shapely.geometry import Polygon, Point"
   ]
  },
  {
   "cell_type": "markdown",
   "metadata": {},
   "source": [
    "### 0. Data loading & Preprocessing"
   ]
  },
  {
   "cell_type": "code",
   "execution_count": 2,
   "metadata": {
    "ExecuteTime": {
     "end_time": "2020-11-22T15:50:10.688529Z",
     "start_time": "2020-11-22T15:50:10.431192Z"
    }
   },
   "outputs": [
    {
     "data": {
      "text/html": [
       "<div>\n",
       "<style scoped>\n",
       "    .dataframe tbody tr th:only-of-type {\n",
       "        vertical-align: middle;\n",
       "    }\n",
       "\n",
       "    .dataframe tbody tr th {\n",
       "        vertical-align: top;\n",
       "    }\n",
       "\n",
       "    .dataframe thead th {\n",
       "        text-align: right;\n",
       "    }\n",
       "</style>\n",
       "<table border=\"1\" class=\"dataframe\">\n",
       "  <thead>\n",
       "    <tr style=\"text-align: right;\">\n",
       "      <th></th>\n",
       "      <th>STATEFP10</th>\n",
       "      <th>COUNTYFP10</th>\n",
       "      <th>TRACTCE10</th>\n",
       "      <th>GEOID10</th>\n",
       "      <th>NAME10</th>\n",
       "      <th>NAMELSAD10</th>\n",
       "      <th>MTFCC10</th>\n",
       "      <th>ALAND10</th>\n",
       "      <th>AWATER10</th>\n",
       "      <th>INTPTLAT10</th>\n",
       "      <th>...</th>\n",
       "      <th>AREA_ACRES</th>\n",
       "      <th>POP100_RE</th>\n",
       "      <th>HU100_RE</th>\n",
       "      <th>LOGPL94171</th>\n",
       "      <th>LOGSF1</th>\n",
       "      <th>LOGACS0610</th>\n",
       "      <th>LOGSF1C</th>\n",
       "      <th>SHAPE_AREA</th>\n",
       "      <th>SHAPE_LEN</th>\n",
       "      <th>geometry</th>\n",
       "    </tr>\n",
       "  </thead>\n",
       "  <tbody>\n",
       "    <tr>\n",
       "      <th>0</th>\n",
       "      <td>25</td>\n",
       "      <td>021</td>\n",
       "      <td>418003</td>\n",
       "      <td>25021418003</td>\n",
       "      <td>4180.03</td>\n",
       "      <td>Census Tract 4180.03</td>\n",
       "      <td>G5020</td>\n",
       "      <td>1705668.0</td>\n",
       "      <td>2936.0</td>\n",
       "      <td>+42.2350240</td>\n",
       "      <td>...</td>\n",
       "      <td>422.1740</td>\n",
       "      <td>2481</td>\n",
       "      <td>1350</td>\n",
       "      <td>0141872</td>\n",
       "      <td>123764</td>\n",
       "      <td>0003690</td>\n",
       "      <td>0123764</td>\n",
       "      <td>1.708484e+06</td>\n",
       "      <td>6274.185034</td>\n",
       "      <td>POLYGON ((240678.759 886748.073, 240607.995 88...</td>\n",
       "    </tr>\n",
       "    <tr>\n",
       "      <th>1</th>\n",
       "      <td>25</td>\n",
       "      <td>021</td>\n",
       "      <td>417701</td>\n",
       "      <td>25021417701</td>\n",
       "      <td>4177.01</td>\n",
       "      <td>Census Tract 4177.01</td>\n",
       "      <td>G5020</td>\n",
       "      <td>1543651.0</td>\n",
       "      <td>12275.0</td>\n",
       "      <td>+42.2523398</td>\n",
       "      <td>...</td>\n",
       "      <td>384.4502</td>\n",
       "      <td>5417</td>\n",
       "      <td>2983</td>\n",
       "      <td>0141838</td>\n",
       "      <td>123730</td>\n",
       "      <td>0003683</td>\n",
       "      <td>0123730</td>\n",
       "      <td>1.555821e+06</td>\n",
       "      <td>6229.137913</td>\n",
       "      <td>POLYGON ((240969.666 890122.806, 240985.156 89...</td>\n",
       "    </tr>\n",
       "    <tr>\n",
       "      <th>2</th>\n",
       "      <td>25</td>\n",
       "      <td>021</td>\n",
       "      <td>417702</td>\n",
       "      <td>25021417702</td>\n",
       "      <td>4177.02</td>\n",
       "      <td>Census Tract 4177.02</td>\n",
       "      <td>G5020</td>\n",
       "      <td>1685529.0</td>\n",
       "      <td>317947.0</td>\n",
       "      <td>+42.2582818</td>\n",
       "      <td>...</td>\n",
       "      <td>416.4918</td>\n",
       "      <td>2765</td>\n",
       "      <td>1109</td>\n",
       "      <td>0141843</td>\n",
       "      <td>123735</td>\n",
       "      <td>0003684</td>\n",
       "      <td>0123735</td>\n",
       "      <td>1.685489e+06</td>\n",
       "      <td>8542.498286</td>\n",
       "      <td>POLYGON ((242328.221 890545.050, 242276.888 89...</td>\n",
       "    </tr>\n",
       "    <tr>\n",
       "      <th>3</th>\n",
       "      <td>25</td>\n",
       "      <td>021</td>\n",
       "      <td>418102</td>\n",
       "      <td>25021418102</td>\n",
       "      <td>4181.02</td>\n",
       "      <td>Census Tract 4181.02</td>\n",
       "      <td>G5020</td>\n",
       "      <td>771203.0</td>\n",
       "      <td>2371.0</td>\n",
       "      <td>+42.2470410</td>\n",
       "      <td>...</td>\n",
       "      <td>191.1397</td>\n",
       "      <td>3377</td>\n",
       "      <td>1676</td>\n",
       "      <td>0141882</td>\n",
       "      <td>123774</td>\n",
       "      <td>0003693</td>\n",
       "      <td>0123774</td>\n",
       "      <td>7.735182e+05</td>\n",
       "      <td>4540.296101</td>\n",
       "      <td>POLYGON ((240372.666 888331.030, 240393.057 88...</td>\n",
       "    </tr>\n",
       "    <tr>\n",
       "      <th>4</th>\n",
       "      <td>25</td>\n",
       "      <td>021</td>\n",
       "      <td>418004</td>\n",
       "      <td>25021418004</td>\n",
       "      <td>4180.04</td>\n",
       "      <td>Census Tract 4180.04</td>\n",
       "      <td>G5020</td>\n",
       "      <td>1316466.0</td>\n",
       "      <td>0.0</td>\n",
       "      <td>+42.2383744</td>\n",
       "      <td>...</td>\n",
       "      <td>325.2812</td>\n",
       "      <td>4280</td>\n",
       "      <td>1987</td>\n",
       "      <td>0141874</td>\n",
       "      <td>123766</td>\n",
       "      <td>0003691</td>\n",
       "      <td>0123766</td>\n",
       "      <td>1.316372e+06</td>\n",
       "      <td>5854.497366</td>\n",
       "      <td>POLYGON ((240687.299 888298.408, 240700.449 88...</td>\n",
       "    </tr>\n",
       "  </tbody>\n",
       "</table>\n",
       "<p>5 rows × 22 columns</p>\n",
       "</div>"
      ],
      "text/plain": [
       "  STATEFP10 COUNTYFP10 TRACTCE10      GEOID10   NAME10            NAMELSAD10  \\\n",
       "0        25        021    418003  25021418003  4180.03  Census Tract 4180.03   \n",
       "1        25        021    417701  25021417701  4177.01  Census Tract 4177.01   \n",
       "2        25        021    417702  25021417702  4177.02  Census Tract 4177.02   \n",
       "3        25        021    418102  25021418102  4181.02  Census Tract 4181.02   \n",
       "4        25        021    418004  25021418004  4180.04  Census Tract 4180.04   \n",
       "\n",
       "  MTFCC10    ALAND10  AWATER10   INTPTLAT10  ... AREA_ACRES  POP100_RE  \\\n",
       "0   G5020  1705668.0    2936.0  +42.2350240  ...   422.1740       2481   \n",
       "1   G5020  1543651.0   12275.0  +42.2523398  ...   384.4502       5417   \n",
       "2   G5020  1685529.0  317947.0  +42.2582818  ...   416.4918       2765   \n",
       "3   G5020   771203.0    2371.0  +42.2470410  ...   191.1397       3377   \n",
       "4   G5020  1316466.0       0.0  +42.2383744  ...   325.2812       4280   \n",
       "\n",
       "   HU100_RE  LOGPL94171  LOGSF1 LOGACS0610  LOGSF1C    SHAPE_AREA  \\\n",
       "0      1350     0141872  123764    0003690  0123764  1.708484e+06   \n",
       "1      2983     0141838  123730    0003683  0123730  1.555821e+06   \n",
       "2      1109     0141843  123735    0003684  0123735  1.685489e+06   \n",
       "3      1676     0141882  123774    0003693  0123774  7.735182e+05   \n",
       "4      1987     0141874  123766    0003691  0123766  1.316372e+06   \n",
       "\n",
       "     SHAPE_LEN                                           geometry  \n",
       "0  6274.185034  POLYGON ((240678.759 886748.073, 240607.995 88...  \n",
       "1  6229.137913  POLYGON ((240969.666 890122.806, 240985.156 89...  \n",
       "2  8542.498286  POLYGON ((242328.221 890545.050, 242276.888 89...  \n",
       "3  4540.296101  POLYGON ((240372.666 888331.030, 240393.057 88...  \n",
       "4  5854.497366  POLYGON ((240687.299 888298.408, 240700.449 88...  \n",
       "\n",
       "[5 rows x 22 columns]"
      ]
     },
     "execution_count": 2,
     "metadata": {},
     "output_type": "execute_result"
    }
   ],
   "source": [
    "# gdf_tract_geo = gpd.read_file('./data/census_tract/tl_2019_25_tract/tl_2019_25_tract.shp')\n",
    "# gdf_tract_geo.head()\n",
    "gdf_tract_geo = gpd.read_file('./data/census_tract/CENSUS2010_BLK_BG_TRCT_SHP/CENSUS2010TRACTS_POLY.shp')\n",
    "gdf_tract_geo.head()"
   ]
  },
  {
   "cell_type": "code",
   "execution_count": 21,
   "metadata": {
    "ExecuteTime": {
     "end_time": "2020-11-22T16:17:12.741371Z",
     "start_time": "2020-11-22T16:17:12.491006Z"
    }
   },
   "outputs": [
    {
     "data": {
      "text/html": [
       "<div>\n",
       "<style scoped>\n",
       "    .dataframe tbody tr th:only-of-type {\n",
       "        vertical-align: middle;\n",
       "    }\n",
       "\n",
       "    .dataframe tbody tr th {\n",
       "        vertical-align: top;\n",
       "    }\n",
       "\n",
       "    .dataframe thead th {\n",
       "        text-align: right;\n",
       "    }\n",
       "</style>\n",
       "<table border=\"1\" class=\"dataframe\">\n",
       "  <thead>\n",
       "    <tr style=\"text-align: right;\">\n",
       "      <th></th>\n",
       "      <th>STOP_ID</th>\n",
       "      <th>STOP_NAME</th>\n",
       "      <th>TOWN</th>\n",
       "      <th>TOWN_ID</th>\n",
       "      <th>geometry</th>\n",
       "    </tr>\n",
       "  </thead>\n",
       "  <tbody>\n",
       "    <tr>\n",
       "      <th>0</th>\n",
       "      <td>3077</td>\n",
       "      <td>Gallivan Blvd @ opp Marsh St</td>\n",
       "      <td>BOSTON</td>\n",
       "      <td>35</td>\n",
       "      <td>POINT (237120.669 892643.408)</td>\n",
       "    </tr>\n",
       "    <tr>\n",
       "      <th>1</th>\n",
       "      <td>841</td>\n",
       "      <td>Lagrange St @ Virgil Rd</td>\n",
       "      <td>BOSTON</td>\n",
       "      <td>35</td>\n",
       "      <td>POINT (227915.195 892644.017)</td>\n",
       "    </tr>\n",
       "    <tr>\n",
       "      <th>2</th>\n",
       "      <td>446</td>\n",
       "      <td>Norfolk St @ Nelson St</td>\n",
       "      <td>BOSTON</td>\n",
       "      <td>35</td>\n",
       "      <td>POINT (234385.661 892644.944)</td>\n",
       "    </tr>\n",
       "    <tr>\n",
       "      <th>3</th>\n",
       "      <td>847</td>\n",
       "      <td>Lagrange St opp Virgil St</td>\n",
       "      <td>BOSTON</td>\n",
       "      <td>35</td>\n",
       "      <td>POINT (227912.601 892650.156)</td>\n",
       "    </tr>\n",
       "    <tr>\n",
       "      <th>4</th>\n",
       "      <td>3079</td>\n",
       "      <td>Adams St @ Minot St</td>\n",
       "      <td>BOSTON</td>\n",
       "      <td>35</td>\n",
       "      <td>POINT (236644.812 892651.990)</td>\n",
       "    </tr>\n",
       "  </tbody>\n",
       "</table>\n",
       "</div>"
      ],
      "text/plain": [
       "   STOP_ID                     STOP_NAME    TOWN  TOWN_ID  \\\n",
       "0     3077  Gallivan Blvd @ opp Marsh St  BOSTON       35   \n",
       "1      841       Lagrange St @ Virgil Rd  BOSTON       35   \n",
       "2      446        Norfolk St @ Nelson St  BOSTON       35   \n",
       "3      847     Lagrange St opp Virgil St  BOSTON       35   \n",
       "4     3079           Adams St @ Minot St  BOSTON       35   \n",
       "\n",
       "                        geometry  \n",
       "0  POINT (237120.669 892643.408)  \n",
       "1  POINT (227915.195 892644.017)  \n",
       "2  POINT (234385.661 892644.944)  \n",
       "3  POINT (227912.601 892650.156)  \n",
       "4  POINT (236644.812 892651.990)  "
      ]
     },
     "execution_count": 21,
     "metadata": {},
     "output_type": "execute_result"
    }
   ],
   "source": [
    "# load stop info\n",
    "gdf_stop = gpd.read_file('./data/stops_routes/mbtabus/MBTABUSSTOPS_PT.shp')\n",
    "gdf_stop.head()"
   ]
  },
  {
   "cell_type": "markdown",
   "metadata": {},
   "source": [
    "### 1. Draw a 0.5 mile radius circle around each stop, store as a column"
   ]
  },
  {
   "cell_type": "code",
   "execution_count": 4,
   "metadata": {
    "ExecuteTime": {
     "end_time": "2020-11-22T15:50:13.313198Z",
     "start_time": "2020-11-22T15:50:13.289264Z"
    }
   },
   "outputs": [
    {
     "data": {
      "text/plain": [
       "<Projected CRS: EPSG:26986>\n",
       "Name: NAD83 / Massachusetts Mainland\n",
       "Axis Info [cartesian]:\n",
       "- X[east]: Easting (metre)\n",
       "- Y[north]: Northing (metre)\n",
       "Area of Use:\n",
       "- name: USA - Massachusetts - SPCS - mainland\n",
       "- bounds: (-73.5, 41.46, -69.86, 42.89)\n",
       "Coordinate Operation:\n",
       "- name: SPCS83 Massachusetts Mainland zone (meters)\n",
       "- method: Lambert Conic Conformal (2SP)\n",
       "Datum: North American Datum 1983\n",
       "- Ellipsoid: GRS 1980\n",
       "- Prime Meridian: Greenwich"
      ]
     },
     "execution_count": 4,
     "metadata": {},
     "output_type": "execute_result"
    }
   ],
   "source": [
    "# This shows the units\n",
    "gdf_tract_geo.crs"
   ]
  },
  {
   "cell_type": "code",
   "execution_count": 5,
   "metadata": {
    "ExecuteTime": {
     "end_time": "2020-11-22T15:50:13.659106Z",
     "start_time": "2020-11-22T15:50:13.650131Z"
    }
   },
   "outputs": [],
   "source": [
    "def mile2meter(mile):\n",
    "    conversion_factor = 0.62137119\n",
    "    return mile / conversion_factor * 1000"
   ]
  },
  {
   "cell_type": "code",
   "execution_count": 6,
   "metadata": {
    "ExecuteTime": {
     "end_time": "2020-11-22T15:50:16.360138Z",
     "start_time": "2020-11-22T15:50:14.430384Z"
    }
   },
   "outputs": [
    {
     "data": {
      "text/html": [
       "<div>\n",
       "<style scoped>\n",
       "    .dataframe tbody tr th:only-of-type {\n",
       "        vertical-align: middle;\n",
       "    }\n",
       "\n",
       "    .dataframe tbody tr th {\n",
       "        vertical-align: top;\n",
       "    }\n",
       "\n",
       "    .dataframe thead th {\n",
       "        text-align: right;\n",
       "    }\n",
       "</style>\n",
       "<table border=\"1\" class=\"dataframe\">\n",
       "  <thead>\n",
       "    <tr style=\"text-align: right;\">\n",
       "      <th></th>\n",
       "      <th>STOP_ID</th>\n",
       "      <th>geometry</th>\n",
       "    </tr>\n",
       "  </thead>\n",
       "  <tbody>\n",
       "    <tr>\n",
       "      <th>0</th>\n",
       "      <td>3077</td>\n",
       "      <td>POLYGON ((237925.341 892643.408, 237921.466 89...</td>\n",
       "    </tr>\n",
       "    <tr>\n",
       "      <th>1</th>\n",
       "      <td>841</td>\n",
       "      <td>POLYGON ((228719.867 892644.017, 228715.993 89...</td>\n",
       "    </tr>\n",
       "    <tr>\n",
       "      <th>2</th>\n",
       "      <td>446</td>\n",
       "      <td>POLYGON ((235190.333 892644.944, 235186.458 89...</td>\n",
       "    </tr>\n",
       "    <tr>\n",
       "      <th>3</th>\n",
       "      <td>847</td>\n",
       "      <td>POLYGON ((228717.273 892650.156, 228713.398 89...</td>\n",
       "    </tr>\n",
       "    <tr>\n",
       "      <th>4</th>\n",
       "      <td>3079</td>\n",
       "      <td>POLYGON ((237449.484 892651.990, 237445.610 89...</td>\n",
       "    </tr>\n",
       "  </tbody>\n",
       "</table>\n",
       "</div>"
      ],
      "text/plain": [
       "   STOP_ID                                           geometry\n",
       "0     3077  POLYGON ((237925.341 892643.408, 237921.466 89...\n",
       "1      841  POLYGON ((228719.867 892644.017, 228715.993 89...\n",
       "2      446  POLYGON ((235190.333 892644.944, 235186.458 89...\n",
       "3      847  POLYGON ((228717.273 892650.156, 228713.398 89...\n",
       "4     3079  POLYGON ((237449.484 892651.990, 237445.610 89..."
      ]
     },
     "execution_count": 6,
     "metadata": {},
     "output_type": "execute_result"
    }
   ],
   "source": [
    "gdf_stop_circle = gpd.GeoDataFrame()\n",
    "gdf_stop_circle['STOP_ID'] = gdf_stop['STOP_ID']\n",
    "\n",
    "radius = mile2meter(0.5)\n",
    "gdf_stop_circle['geometry'] = gdf_stop['geometry'].buffer(radius)\n",
    "gdf_stop_circle = gdf_stop_circle.set_crs('EPSG:26986')\n",
    "gdf_stop_circle = gdf_stop_circle.set_geometry('geometry')\n",
    "gdf_stop_circle.to_file('./output/radius.shp', driver='ESRI Shapefile')\n",
    "\n",
    "gdf_stop_circle.head()"
   ]
  },
  {
   "cell_type": "markdown",
   "metadata": {},
   "source": [
    "### 2. Calculate percentage of the interception between the circle and tracts\n",
    "- Find overlapping tracts\n",
    "- Calculate overlapping area\n",
    "- Calculate percentage"
   ]
  },
  {
   "cell_type": "code",
   "execution_count": null,
   "metadata": {
    "ExecuteTime": {
     "end_time": "2020-11-22T16:04:50.846272Z",
     "start_time": "2020-11-22T15:50:59.492183Z"
    }
   },
   "outputs": [],
   "source": [
    "gdf_stop_circle['impacted_tractid'] = \"\"\n",
    "gdf_stop_circle['proportion'] = \"\"\n",
    "for idx, row in gdf_stop_circle.iterrows():\n",
    "    # tract_ids for overlapping\n",
    "    overlaps = gdf_tract_geo[gdf_tract_geo['geometry'].overlaps(row['geometry'])|gdf_tract_geo['geometry'].covers(row['geometry'])|gdf_tract_geo['geometry'].within(row['geometry'])]['TRACTCE10'].tolist()\n",
    "    # area for each overlapping\n",
    "    proportion = []\n",
    "    for y in overlaps:\n",
    "        tract_area = sum(gdf_tract_geo.loc[gdf_tract_geo['TRACTCE10']==y,]['SHAPE_AREA'].tolist())\n",
    "        area = sum(gpd.overlay(gdf_tract_geo.loc[gdf_tract_geo.TRACTCE10==y,], gdf_stop_circle.loc[gdf_stop_circle.STOP_ID==row.STOP_ID,], how='intersection').area.tolist())\n",
    "        proportion.append(float(area/tract_area))\n",
    "    if len(overlaps)==0: \n",
    "        raise ValueError()\n",
    "    gdf_stop_circle.at[idx, 'impacted_tractid'] = ','.join(overlaps)\n",
    "    gdf_stop_circle.at[idx, 'proportion'] = ','.join([\"{:.2f}\".format(x) for x in proportion])\n",
    "gdf_stop_circle"
   ]
  },
  {
   "cell_type": "code",
   "execution_count": 8,
   "metadata": {
    "ExecuteTime": {
     "end_time": "2020-11-22T16:04:52.640271Z",
     "start_time": "2020-11-22T16:04:50.847270Z"
    }
   },
   "outputs": [],
   "source": [
    "gdf_stop_circle.to_csv('./output/stop_radius.csv', index_label=False)"
   ]
  },
  {
   "cell_type": "markdown",
   "metadata": {
    "ExecuteTime": {
     "end_time": "2020-11-22T11:54:46.267550Z",
     "start_time": "2020-11-22T11:54:46.256579Z"
    }
   },
   "source": [
    "## 3. Calculate weighed median income for people that the stop impacts"
   ]
  },
  {
   "cell_type": "code",
   "execution_count": 3,
   "metadata": {
    "ExecuteTime": {
     "end_time": "2020-11-23T01:06:58.561696Z",
     "start_time": "2020-11-23T01:06:58.133927Z"
    }
   },
   "outputs": [
    {
     "data": {
      "text/html": [
       "<div>\n",
       "<style scoped>\n",
       "    .dataframe tbody tr th:only-of-type {\n",
       "        vertical-align: middle;\n",
       "    }\n",
       "\n",
       "    .dataframe tbody tr th {\n",
       "        vertical-align: top;\n",
       "    }\n",
       "\n",
       "    .dataframe thead th {\n",
       "        text-align: right;\n",
       "    }\n",
       "</style>\n",
       "<table border=\"1\" class=\"dataframe\">\n",
       "  <thead>\n",
       "    <tr style=\"text-align: right;\">\n",
       "      <th></th>\n",
       "      <th>Unnamed: 0</th>\n",
       "      <th>B19013_001E</th>\n",
       "      <th>state</th>\n",
       "      <th>county</th>\n",
       "      <th>tract</th>\n",
       "    </tr>\n",
       "  </thead>\n",
       "  <tbody>\n",
       "    <tr>\n",
       "      <th>0</th>\n",
       "      <td>0</td>\n",
       "      <td>132750</td>\n",
       "      <td>25</td>\n",
       "      <td>25</td>\n",
       "      <td>60501</td>\n",
       "    </tr>\n",
       "    <tr>\n",
       "      <th>1</th>\n",
       "      <td>1</td>\n",
       "      <td>12759</td>\n",
       "      <td>25</td>\n",
       "      <td>25</td>\n",
       "      <td>61101</td>\n",
       "    </tr>\n",
       "    <tr>\n",
       "      <th>2</th>\n",
       "      <td>2</td>\n",
       "      <td>84083</td>\n",
       "      <td>25</td>\n",
       "      <td>25</td>\n",
       "      <td>70101</td>\n",
       "    </tr>\n",
       "    <tr>\n",
       "      <th>3</th>\n",
       "      <td>3</td>\n",
       "      <td>28851</td>\n",
       "      <td>25</td>\n",
       "      <td>25</td>\n",
       "      <td>70402</td>\n",
       "    </tr>\n",
       "    <tr>\n",
       "      <th>4</th>\n",
       "      <td>4</td>\n",
       "      <td>52676</td>\n",
       "      <td>25</td>\n",
       "      <td>25</td>\n",
       "      <td>71101</td>\n",
       "    </tr>\n",
       "  </tbody>\n",
       "</table>\n",
       "</div>"
      ],
      "text/plain": [
       "   Unnamed: 0  B19013_001E  state  county  tract\n",
       "0           0       132750     25      25  60501\n",
       "1           1        12759     25      25  61101\n",
       "2           2        84083     25      25  70101\n",
       "3           3        28851     25      25  70402\n",
       "4           4        52676     25      25  71101"
      ]
     },
     "execution_count": 3,
     "metadata": {},
     "output_type": "execute_result"
    }
   ],
   "source": [
    "df_income_tract = pd.read_csv('./data/census_tract/census.csv')\n",
    "df_income_tract.head()"
   ]
  },
  {
   "cell_type": "code",
   "execution_count": 4,
   "metadata": {
    "ExecuteTime": {
     "end_time": "2020-11-23T01:07:02.499227Z",
     "start_time": "2020-11-23T01:07:02.063544Z"
    }
   },
   "outputs": [
    {
     "data": {
      "text/html": [
       "<div>\n",
       "<style scoped>\n",
       "    .dataframe tbody tr th:only-of-type {\n",
       "        vertical-align: middle;\n",
       "    }\n",
       "\n",
       "    .dataframe tbody tr th {\n",
       "        vertical-align: top;\n",
       "    }\n",
       "\n",
       "    .dataframe thead th {\n",
       "        text-align: right;\n",
       "    }\n",
       "</style>\n",
       "<table border=\"1\" class=\"dataframe\">\n",
       "  <thead>\n",
       "    <tr style=\"text-align: right;\">\n",
       "      <th></th>\n",
       "      <th>STOP_ID</th>\n",
       "      <th>geometry</th>\n",
       "      <th>impacted_tractid</th>\n",
       "      <th>proportion</th>\n",
       "    </tr>\n",
       "  </thead>\n",
       "  <tbody>\n",
       "    <tr>\n",
       "      <th>0</th>\n",
       "      <td>3077</td>\n",
       "      <td>POLYGON ((237925.3409028954 892643.4076999985,...</td>\n",
       "      <td>416400,100800,100601,100700,100603</td>\n",
       "      <td>0.01,0.17,0.13,0.99,0.29</td>\n",
       "    </tr>\n",
       "    <tr>\n",
       "      <th>1</th>\n",
       "      <td>841</td>\n",
       "      <td>POLYGON ((228719.867402897 892644.0174999982, ...</td>\n",
       "      <td>130402,130300,130200,130100,130404</td>\n",
       "      <td>0.08,0.26,0.63,0.13,0.02</td>\n",
       "    </tr>\n",
       "    <tr>\n",
       "      <th>2</th>\n",
       "      <td>446</td>\n",
       "      <td>POLYGON ((235190.3329028941 892644.9441, 23518...</td>\n",
       "      <td>100500,100400,100300,101102,101101,101002,1009...</td>\n",
       "      <td>0.17,0.18,1.00,0.41,0.06,0.24,0.02,1.00,0.37</td>\n",
       "    </tr>\n",
       "    <tr>\n",
       "      <th>3</th>\n",
       "      <td>847</td>\n",
       "      <td>POLYGON ((228717.2732028968 892650.1563000008,...</td>\n",
       "      <td>130402,130300,130200,130100,130404</td>\n",
       "      <td>0.08,0.26,0.63,0.13,0.02</td>\n",
       "    </tr>\n",
       "    <tr>\n",
       "      <th>4</th>\n",
       "      <td>3079</td>\n",
       "      <td>POLYGON ((237449.4844028956 892651.9899999984,...</td>\n",
       "      <td>416400,100800,100601,100500,100400,100700,100603</td>\n",
       "      <td>0.00,0.51,0.32,0.01,0.03,0.67,0.06</td>\n",
       "    </tr>\n",
       "  </tbody>\n",
       "</table>\n",
       "</div>"
      ],
      "text/plain": [
       "   STOP_ID                                           geometry  \\\n",
       "0     3077  POLYGON ((237925.3409028954 892643.4076999985,...   \n",
       "1      841  POLYGON ((228719.867402897 892644.0174999982, ...   \n",
       "2      446  POLYGON ((235190.3329028941 892644.9441, 23518...   \n",
       "3      847  POLYGON ((228717.2732028968 892650.1563000008,...   \n",
       "4     3079  POLYGON ((237449.4844028956 892651.9899999984,...   \n",
       "\n",
       "                                    impacted_tractid  \\\n",
       "0                 416400,100800,100601,100700,100603   \n",
       "1                 130402,130300,130200,130100,130404   \n",
       "2  100500,100400,100300,101102,101101,101002,1009...   \n",
       "3                 130402,130300,130200,130100,130404   \n",
       "4   416400,100800,100601,100500,100400,100700,100603   \n",
       "\n",
       "                                     proportion  \n",
       "0                      0.01,0.17,0.13,0.99,0.29  \n",
       "1                      0.08,0.26,0.63,0.13,0.02  \n",
       "2  0.17,0.18,1.00,0.41,0.06,0.24,0.02,1.00,0.37  \n",
       "3                      0.08,0.26,0.63,0.13,0.02  \n",
       "4            0.00,0.51,0.32,0.01,0.03,0.67,0.06  "
      ]
     },
     "execution_count": 4,
     "metadata": {},
     "output_type": "execute_result"
    }
   ],
   "source": [
    "df_stop_circle = pd.read_csv('./output/stop_radius.csv')\n",
    "df_stop_circle.head()"
   ]
  },
  {
   "cell_type": "code",
   "execution_count": 5,
   "metadata": {
    "ExecuteTime": {
     "end_time": "2020-11-23T01:08:49.266605Z",
     "start_time": "2020-11-23T01:08:35.876984Z"
    }
   },
   "outputs": [],
   "source": [
    "df_stop_circle['income'] = -1\n",
    "for idx, row in df_stop_circle.iterrows():\n",
    "    tracts = str(row['impacted_tractid']).split(',')\n",
    "    proportions = list(map(float, str(row['proportion']).split(',')))\n",
    "    incomes = []\n",
    "    for i in range(len(tracts)):\n",
    "        tract = tracts[i]\n",
    "        income = int(df_income_tract[df_income_tract['tract']==int(tract)].B19013_001E.values[0])\n",
    "        if income<0:\n",
    "            incomes.append(0)\n",
    "            proportions[i]==0\n",
    "        else:\n",
    "            incomes.append(income)\n",
    "    \n",
    "    assert len(tracts)==len(incomes)==len(proportions)\n",
    "    weighed_income = (sum([incomes[i]*proportions[i] for i in range(len(tracts))]))/sum(proportions)\n",
    "\n",
    "    df_stop_circle.at[idx, 'income'] = weighed_income"
   ]
  },
  {
   "cell_type": "code",
   "execution_count": 6,
   "metadata": {
    "ExecuteTime": {
     "end_time": "2020-11-23T01:08:59.843068Z",
     "start_time": "2020-11-23T01:08:59.828108Z"
    }
   },
   "outputs": [],
   "source": [
    "income_level = []\n",
    "\n",
    "incomes = df_stop_circle['income']\n",
    "for income in incomes:\n",
    "    if income<=0:\n",
    "        income_level.append(-1)\n",
    "    elif 0 < income < 31000:\n",
    "        income_level.append(0)\n",
    "    elif 31000 <= income < 42000:\n",
    "        income_level.append(1)\n",
    "    elif 42000 <= income < 126000:\n",
    "        income_level.append(2)\n",
    "    elif 126000 <= income < 188000:\n",
    "        income_level.append(3)\n",
    "    elif 188000 <= income:\n",
    "        income_level.append(4)\n",
    "df_stop_circle['income_level'] = income_level"
   ]
  },
  {
   "cell_type": "code",
   "execution_count": 7,
   "metadata": {
    "ExecuteTime": {
     "end_time": "2020-11-23T01:09:02.703370Z",
     "start_time": "2020-11-23T01:09:02.372630Z"
    }
   },
   "outputs": [],
   "source": [
    "df_stop_circle.to_csv('./output/stop_with_weighed_level.csv', index_label=False)"
   ]
  },
  {
   "cell_type": "markdown",
   "metadata": {},
   "source": [
    "## 4. Calculate weighed number of people impacted by each stop"
   ]
  },
  {
   "cell_type": "code",
   "execution_count": 8,
   "metadata": {
    "ExecuteTime": {
     "end_time": "2020-11-23T01:09:16.528718Z",
     "start_time": "2020-11-23T01:09:16.504782Z"
    }
   },
   "outputs": [
    {
     "data": {
      "text/html": [
       "<div>\n",
       "<style scoped>\n",
       "    .dataframe tbody tr th:only-of-type {\n",
       "        vertical-align: middle;\n",
       "    }\n",
       "\n",
       "    .dataframe tbody tr th {\n",
       "        vertical-align: top;\n",
       "    }\n",
       "\n",
       "    .dataframe thead th {\n",
       "        text-align: right;\n",
       "    }\n",
       "</style>\n",
       "<table border=\"1\" class=\"dataframe\">\n",
       "  <thead>\n",
       "    <tr style=\"text-align: right;\">\n",
       "      <th></th>\n",
       "      <th>Unnamed: 0</th>\n",
       "      <th>tract_id</th>\n",
       "      <th>public_transport</th>\n",
       "      <th>walking</th>\n",
       "      <th>other</th>\n",
       "      <th>total_employed</th>\n",
       "      <th>income</th>\n",
       "      <th>impacted_pop</th>\n",
       "    </tr>\n",
       "  </thead>\n",
       "  <tbody>\n",
       "    <tr>\n",
       "      <th>0</th>\n",
       "      <td>1</td>\n",
       "      <td>10100</td>\n",
       "      <td>34</td>\n",
       "      <td>391</td>\n",
       "      <td>208</td>\n",
       "      <td>1658</td>\n",
       "      <td>50741</td>\n",
       "      <td>633</td>\n",
       "    </tr>\n",
       "    <tr>\n",
       "      <th>1</th>\n",
       "      <td>2</td>\n",
       "      <td>10206</td>\n",
       "      <td>26</td>\n",
       "      <td>86</td>\n",
       "      <td>57</td>\n",
       "      <td>1620</td>\n",
       "      <td>69267</td>\n",
       "      <td>169</td>\n",
       "    </tr>\n",
       "    <tr>\n",
       "      <th>2</th>\n",
       "      <td>3</td>\n",
       "      <td>10208</td>\n",
       "      <td>0</td>\n",
       "      <td>1</td>\n",
       "      <td>8</td>\n",
       "      <td>604</td>\n",
       "      <td>65446</td>\n",
       "      <td>9</td>\n",
       "    </tr>\n",
       "    <tr>\n",
       "      <th>3</th>\n",
       "      <td>4</td>\n",
       "      <td>10304</td>\n",
       "      <td>18</td>\n",
       "      <td>0</td>\n",
       "      <td>12</td>\n",
       "      <td>1077</td>\n",
       "      <td>79044</td>\n",
       "      <td>30</td>\n",
       "    </tr>\n",
       "    <tr>\n",
       "      <th>4</th>\n",
       "      <td>5</td>\n",
       "      <td>10306</td>\n",
       "      <td>0</td>\n",
       "      <td>67</td>\n",
       "      <td>41</td>\n",
       "      <td>1087</td>\n",
       "      <td>62553</td>\n",
       "      <td>108</td>\n",
       "    </tr>\n",
       "  </tbody>\n",
       "</table>\n",
       "</div>"
      ],
      "text/plain": [
       "   Unnamed: 0  tract_id  public_transport  walking  other  total_employed  \\\n",
       "0           1     10100                34      391    208            1658   \n",
       "1           2     10206                26       86     57            1620   \n",
       "2           3     10208                 0        1      8             604   \n",
       "3           4     10304                18        0     12            1077   \n",
       "4           5     10306                 0       67     41            1087   \n",
       "\n",
       "  income  impacted_pop  \n",
       "0  50741           633  \n",
       "1  69267           169  \n",
       "2  65446             9  \n",
       "3  79044            30  \n",
       "4  62553           108  "
      ]
     },
     "execution_count": 8,
     "metadata": {},
     "output_type": "execute_result"
    }
   ],
   "source": [
    "df_tract_pop = pd.read_csv('./output/tracts_with_population.csv')\n",
    "df_tract_pop.head()"
   ]
  },
  {
   "cell_type": "code",
   "execution_count": 9,
   "metadata": {
    "ExecuteTime": {
     "end_time": "2020-11-23T01:09:17.858296Z",
     "start_time": "2020-11-23T01:09:17.705704Z"
    }
   },
   "outputs": [
    {
     "data": {
      "text/html": [
       "<div>\n",
       "<style scoped>\n",
       "    .dataframe tbody tr th:only-of-type {\n",
       "        vertical-align: middle;\n",
       "    }\n",
       "\n",
       "    .dataframe tbody tr th {\n",
       "        vertical-align: top;\n",
       "    }\n",
       "\n",
       "    .dataframe thead th {\n",
       "        text-align: right;\n",
       "    }\n",
       "</style>\n",
       "<table border=\"1\" class=\"dataframe\">\n",
       "  <thead>\n",
       "    <tr style=\"text-align: right;\">\n",
       "      <th></th>\n",
       "      <th>STOP_ID</th>\n",
       "      <th>geometry</th>\n",
       "      <th>impacted_tractid</th>\n",
       "      <th>proportion</th>\n",
       "      <th>income</th>\n",
       "      <th>income_level</th>\n",
       "    </tr>\n",
       "  </thead>\n",
       "  <tbody>\n",
       "    <tr>\n",
       "      <th>0</th>\n",
       "      <td>3077</td>\n",
       "      <td>POLYGON ((237925.3409028954 892643.4076999985,...</td>\n",
       "      <td>416400,100800,100601,100700,100603</td>\n",
       "      <td>0.01,0.17,0.13,0.99,0.29</td>\n",
       "      <td>86562</td>\n",
       "      <td>2</td>\n",
       "    </tr>\n",
       "    <tr>\n",
       "      <th>1</th>\n",
       "      <td>841</td>\n",
       "      <td>POLYGON ((228719.867402897 892644.0174999982, ...</td>\n",
       "      <td>130402,130300,130200,130100,130404</td>\n",
       "      <td>0.08,0.26,0.63,0.13,0.02</td>\n",
       "      <td>107359</td>\n",
       "      <td>2</td>\n",
       "    </tr>\n",
       "    <tr>\n",
       "      <th>2</th>\n",
       "      <td>446</td>\n",
       "      <td>POLYGON ((235190.3329028941 892644.9441, 23518...</td>\n",
       "      <td>100500,100400,100300,101102,101101,101002,1009...</td>\n",
       "      <td>0.17,0.18,1.00,0.41,0.06,0.24,0.02,1.00,0.37</td>\n",
       "      <td>46390</td>\n",
       "      <td>2</td>\n",
       "    </tr>\n",
       "    <tr>\n",
       "      <th>3</th>\n",
       "      <td>847</td>\n",
       "      <td>POLYGON ((228717.2732028968 892650.1563000008,...</td>\n",
       "      <td>130402,130300,130200,130100,130404</td>\n",
       "      <td>0.08,0.26,0.63,0.13,0.02</td>\n",
       "      <td>107359</td>\n",
       "      <td>2</td>\n",
       "    </tr>\n",
       "    <tr>\n",
       "      <th>4</th>\n",
       "      <td>3079</td>\n",
       "      <td>POLYGON ((237449.4844028956 892651.9899999984,...</td>\n",
       "      <td>416400,100800,100601,100500,100400,100700,100603</td>\n",
       "      <td>0.00,0.51,0.32,0.01,0.03,0.67,0.06</td>\n",
       "      <td>83532</td>\n",
       "      <td>2</td>\n",
       "    </tr>\n",
       "  </tbody>\n",
       "</table>\n",
       "</div>"
      ],
      "text/plain": [
       "   STOP_ID                                           geometry  \\\n",
       "0     3077  POLYGON ((237925.3409028954 892643.4076999985,...   \n",
       "1      841  POLYGON ((228719.867402897 892644.0174999982, ...   \n",
       "2      446  POLYGON ((235190.3329028941 892644.9441, 23518...   \n",
       "3      847  POLYGON ((228717.2732028968 892650.1563000008,...   \n",
       "4     3079  POLYGON ((237449.4844028956 892651.9899999984,...   \n",
       "\n",
       "                                    impacted_tractid  \\\n",
       "0                 416400,100800,100601,100700,100603   \n",
       "1                 130402,130300,130200,130100,130404   \n",
       "2  100500,100400,100300,101102,101101,101002,1009...   \n",
       "3                 130402,130300,130200,130100,130404   \n",
       "4   416400,100800,100601,100500,100400,100700,100603   \n",
       "\n",
       "                                     proportion  income  income_level  \n",
       "0                      0.01,0.17,0.13,0.99,0.29   86562             2  \n",
       "1                      0.08,0.26,0.63,0.13,0.02  107359             2  \n",
       "2  0.17,0.18,1.00,0.41,0.06,0.24,0.02,1.00,0.37   46390             2  \n",
       "3                      0.08,0.26,0.63,0.13,0.02  107359             2  \n",
       "4            0.00,0.51,0.32,0.01,0.03,0.67,0.06   83532             2  "
      ]
     },
     "execution_count": 9,
     "metadata": {},
     "output_type": "execute_result"
    }
   ],
   "source": [
    "df_stop_circle = pd.read_csv('./output/stop_with_weighed_level.csv')\n",
    "df_stop_circle.head()"
   ]
  },
  {
   "cell_type": "code",
   "execution_count": 10,
   "metadata": {
    "ExecuteTime": {
     "end_time": "2020-11-23T01:09:39.467827Z",
     "start_time": "2020-11-23T01:09:24.218407Z"
    }
   },
   "outputs": [],
   "source": [
    "df_stop_circle['impacted_pop'] = 0\n",
    "for idx, row in df_stop_circle.iterrows():\n",
    "    tracts = str(row['impacted_tractid']).split(',')\n",
    "    proportions = list(map(float, str(row['proportion']).split(',')))\n",
    "    impacted_pops = []\n",
    "    for tract in tracts:\n",
    "        impacted_pop = int(df_tract_pop[df_tract_pop.tract_id==int(tract)].impacted_pop.values[0])\n",
    "        impacted_pops.append(impacted_pop)\n",
    "    weighed_pop = sum([impacted_pops[i]*proportions[i] for i in range(len(tracts))])\n",
    "\n",
    "    df_stop_circle.at[idx, 'impacted_pop'] = weighed_pop"
   ]
  },
  {
   "cell_type": "code",
   "execution_count": 12,
   "metadata": {
    "ExecuteTime": {
     "end_time": "2020-11-23T01:10:10.995353Z",
     "start_time": "2020-11-23T01:10:10.160712Z"
    }
   },
   "outputs": [],
   "source": [
    "gdf_stop = gpd.read_file('./data/stops_routes/mbtabus/MBTABUSSTOPS_PT.shp')\n",
    "df_stop_circle['location'] = gdf_stop['geometry']\n",
    "\n",
    "cols = df_stop_circle.columns.tolist()\n",
    "cols = cols[:1] + cols[7:] + cols[1:7]\n",
    "\n",
    "df_stop_circle = df_stop_circle[cols]\n",
    "\n",
    "df_stop_circle.to_csv('./output/stops_weighed.csv', index_label=False)"
   ]
  },
  {
   "cell_type": "code",
   "execution_count": 13,
   "metadata": {
    "ExecuteTime": {
     "end_time": "2020-11-23T01:10:11.983520Z",
     "start_time": "2020-11-23T01:10:11.960581Z"
    }
   },
   "outputs": [
    {
     "data": {
      "text/html": [
       "<div>\n",
       "<style scoped>\n",
       "    .dataframe tbody tr th:only-of-type {\n",
       "        vertical-align: middle;\n",
       "    }\n",
       "\n",
       "    .dataframe tbody tr th {\n",
       "        vertical-align: top;\n",
       "    }\n",
       "\n",
       "    .dataframe thead th {\n",
       "        text-align: right;\n",
       "    }\n",
       "</style>\n",
       "<table border=\"1\" class=\"dataframe\">\n",
       "  <thead>\n",
       "    <tr style=\"text-align: right;\">\n",
       "      <th></th>\n",
       "      <th>STOP_ID</th>\n",
       "      <th>location</th>\n",
       "      <th>geometry</th>\n",
       "      <th>impacted_tractid</th>\n",
       "      <th>proportion</th>\n",
       "      <th>income</th>\n",
       "      <th>income_level</th>\n",
       "      <th>impacted_pop</th>\n",
       "    </tr>\n",
       "  </thead>\n",
       "  <tbody>\n",
       "    <tr>\n",
       "      <th>0</th>\n",
       "      <td>3077</td>\n",
       "      <td>POINT (237120.669 892643.408)</td>\n",
       "      <td>POLYGON ((237925.3409028954 892643.4076999985,...</td>\n",
       "      <td>416400,100800,100601,100700,100603</td>\n",
       "      <td>0.01,0.17,0.13,0.99,0.29</td>\n",
       "      <td>86562</td>\n",
       "      <td>2</td>\n",
       "      <td>1046</td>\n",
       "    </tr>\n",
       "    <tr>\n",
       "      <th>1</th>\n",
       "      <td>841</td>\n",
       "      <td>POINT (227915.195 892644.017)</td>\n",
       "      <td>POLYGON ((228719.867402897 892644.0174999982, ...</td>\n",
       "      <td>130402,130300,130200,130100,130404</td>\n",
       "      <td>0.08,0.26,0.63,0.13,0.02</td>\n",
       "      <td>107359</td>\n",
       "      <td>2</td>\n",
       "      <td>632</td>\n",
       "    </tr>\n",
       "    <tr>\n",
       "      <th>2</th>\n",
       "      <td>446</td>\n",
       "      <td>POINT (234385.661 892644.944)</td>\n",
       "      <td>POLYGON ((235190.3329028941 892644.9441, 23518...</td>\n",
       "      <td>100500,100400,100300,101102,101101,101002,1009...</td>\n",
       "      <td>0.17,0.18,1.00,0.41,0.06,0.24,0.02,1.00,0.37</td>\n",
       "      <td>46390</td>\n",
       "      <td>2</td>\n",
       "      <td>3056</td>\n",
       "    </tr>\n",
       "    <tr>\n",
       "      <th>3</th>\n",
       "      <td>847</td>\n",
       "      <td>POINT (227912.601 892650.156)</td>\n",
       "      <td>POLYGON ((228717.2732028968 892650.1563000008,...</td>\n",
       "      <td>130402,130300,130200,130100,130404</td>\n",
       "      <td>0.08,0.26,0.63,0.13,0.02</td>\n",
       "      <td>107359</td>\n",
       "      <td>2</td>\n",
       "      <td>632</td>\n",
       "    </tr>\n",
       "    <tr>\n",
       "      <th>4</th>\n",
       "      <td>3079</td>\n",
       "      <td>POINT (236644.812 892651.990)</td>\n",
       "      <td>POLYGON ((237449.4844028956 892651.9899999984,...</td>\n",
       "      <td>416400,100800,100601,100500,100400,100700,100603</td>\n",
       "      <td>0.00,0.51,0.32,0.01,0.03,0.67,0.06</td>\n",
       "      <td>83532</td>\n",
       "      <td>2</td>\n",
       "      <td>1647</td>\n",
       "    </tr>\n",
       "  </tbody>\n",
       "</table>\n",
       "</div>"
      ],
      "text/plain": [
       "   STOP_ID                       location  \\\n",
       "0     3077  POINT (237120.669 892643.408)   \n",
       "1      841  POINT (227915.195 892644.017)   \n",
       "2      446  POINT (234385.661 892644.944)   \n",
       "3      847  POINT (227912.601 892650.156)   \n",
       "4     3079  POINT (236644.812 892651.990)   \n",
       "\n",
       "                                            geometry  \\\n",
       "0  POLYGON ((237925.3409028954 892643.4076999985,...   \n",
       "1  POLYGON ((228719.867402897 892644.0174999982, ...   \n",
       "2  POLYGON ((235190.3329028941 892644.9441, 23518...   \n",
       "3  POLYGON ((228717.2732028968 892650.1563000008,...   \n",
       "4  POLYGON ((237449.4844028956 892651.9899999984,...   \n",
       "\n",
       "                                    impacted_tractid  \\\n",
       "0                 416400,100800,100601,100700,100603   \n",
       "1                 130402,130300,130200,130100,130404   \n",
       "2  100500,100400,100300,101102,101101,101002,1009...   \n",
       "3                 130402,130300,130200,130100,130404   \n",
       "4   416400,100800,100601,100500,100400,100700,100603   \n",
       "\n",
       "                                     proportion  income  income_level  \\\n",
       "0                      0.01,0.17,0.13,0.99,0.29   86562             2   \n",
       "1                      0.08,0.26,0.63,0.13,0.02  107359             2   \n",
       "2  0.17,0.18,1.00,0.41,0.06,0.24,0.02,1.00,0.37   46390             2   \n",
       "3                      0.08,0.26,0.63,0.13,0.02  107359             2   \n",
       "4            0.00,0.51,0.32,0.01,0.03,0.67,0.06   83532             2   \n",
       "\n",
       "   impacted_pop  \n",
       "0          1046  \n",
       "1           632  \n",
       "2          3056  \n",
       "3           632  \n",
       "4          1647  "
      ]
     },
     "execution_count": 13,
     "metadata": {},
     "output_type": "execute_result"
    }
   ],
   "source": [
    "df_stop_circle.head()"
   ]
  },
  {
   "cell_type": "code",
   "execution_count": 14,
   "metadata": {
    "ExecuteTime": {
     "end_time": "2020-11-23T01:10:48.040257Z",
     "start_time": "2020-11-23T01:10:47.162317Z"
    }
   },
   "outputs": [],
   "source": [
    "# save as shapefile\n",
    "gdf = gpd.GeoDataFrame(df_stop_circle, geometry='location')\n",
    "gdf.to_file('./output/stops.shp', driver='ESRI Shapefile')"
   ]
  },
  {
   "cell_type": "code",
   "execution_count": null,
   "metadata": {},
   "outputs": [],
   "source": []
  }
 ],
 "metadata": {
  "kernelspec": {
   "display_name": "Python 3",
   "language": "python",
   "name": "python3"
  },
  "language_info": {
   "codemirror_mode": {
    "name": "ipython",
    "version": 3
   },
   "file_extension": ".py",
   "mimetype": "text/x-python",
   "name": "python",
   "nbconvert_exporter": "python",
   "pygments_lexer": "ipython3",
   "version": "3.8.5"
  }
 },
 "nbformat": 4,
 "nbformat_minor": 4
}
