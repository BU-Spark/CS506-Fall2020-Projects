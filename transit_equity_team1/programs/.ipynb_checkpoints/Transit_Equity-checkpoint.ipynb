{
 "cells": [
  {
   "cell_type": "markdown",
   "metadata": {},
   "source": [
    "# Transit Equity/ Bus Routes (MBTA only)"
   ]
  },
  {
   "cell_type": "code",
   "execution_count": null,
   "metadata": {
    "ExecuteTime": {
     "end_time": "2020-11-06T13:33:02.531683Z",
     "start_time": "2020-11-06T13:33:02.517720Z"
    }
   },
   "outputs": [],
   "source": [
    "# imports\n",
    "import pandas as pd\n",
    "import geopandas as gpd\n",
    "import requests\n",
    "import numpy as np\n",
    "import math\n",
    "from shapely.ops import nearest_points"
   ]
  },
  {
   "cell_type": "markdown",
   "metadata": {},
   "source": [
    "## Step 1: Data collection\n",
    "Read [this report](http://www.wrrb.org/wp-content/uploads/2019/05/WRRB-FareFree-Transit-Report.pdf) to understand the issue. Collect data - create a spreadsheet of all the different bus stops in Massachusetts including MBTA, Regional Transit Authorities, and City/Town buses.\n",
    "\n",
    "**Make sure datasets --- 'mbtabus/', 'CENSUS2010_BLK_BG_TRCT_SHP/' and 'census.csv' are under './data/'**"
   ]
  },
  {
   "cell_type": "code",
   "execution_count": null,
   "metadata": {
    "ExecuteTime": {
     "end_time": "2020-11-06T09:47:55.629504Z",
     "start_time": "2020-11-06T09:47:55.612519Z"
    }
   },
   "outputs": [],
   "source": [
    "# Collect data for bus stops \n",
    "def load_bus_stop():\n",
    "    \"\"\"\n",
    "    Data description link: https://docs.digital.mass.gov/dataset/massgis-data-mbta-bus-routes-and-stops\n",
    "    \"\"\"\n",
    "    file = gpd.read_file(\"./data/mbtabus/MBTABUSSTOPS_PT.shp\")\n",
    "    return file\n",
    "\n",
    "\n",
    "def load_census_tract():\n",
    "    \"\"\"\n",
    "    Data description link: https://docs.digital.mass.gov/dataset/massgis-data-datalayers-2010-us-census\n",
    "    \"\"\"\n",
    "    file = gpd.read_file(\"./data/CENSUS2010_BLK_BG_TRCT_SHP/CENSUS2010TRACTS_POLY.shp\")\n",
    "    return file\n",
    "\n",
    "# Collect Census Data:\n",
    "def get_median_hh_income():\n",
    "    '''\n",
    "        Returns Pandas DataFrame representation Median Household Income Estimate by Census Tract for MA.\n",
    "        American Community Survey (ACS) 2018 Census data used.\n",
    "        Specific table: ACS 2018 5-year detailed table \"B19013_001E\"\n",
    "    '''\n",
    "    URL = \"https://api.census.gov/data/2018/acs/acs5?get=B19013_001E&for=tract:*&in=state:25\"\n",
    "\n",
    "    response = requests.get(url = URL)\n",
    "    data = response.json()\n",
    "    \n",
    "    median_income_df = pd.DataFrame(data[1:len(data)-1], columns = data[0])\n",
    "    \n",
    "    return median_income_df\n",
    "\n",
    "def load_median_hh_income():\n",
    "    '''\n",
    "        *** USE THIS FUNCTION TO LOAD INCOME DATA FROM LOCAL ***\n",
    "        Returns Pandas DataFrame representation Median Household Income Estimate by Census Tract for MA.\n",
    "        American Community Survey (ACS) 2018 Census data used.\n",
    "        Specific table: ACS 2018 5-year detailed table \"B19013_001E\"\n",
    "    '''\n",
    "    median_income_df = pd.read_csv(\"./data/census.csv\")\n",
    "    return median_income_df    "
   ]
  },
  {
   "cell_type": "code",
   "execution_count": null,
   "metadata": {
    "ExecuteTime": {
     "end_time": "2020-11-06T09:47:56.710182Z",
     "start_time": "2020-11-06T09:47:56.256338Z"
    }
   },
   "outputs": [],
   "source": [
    "busstop_gdf = load_bus_stop()\n",
    "census_tract_gdf = load_census_tract()\n",
    "median_income_for_tract_df = load_median_hh_income()\n",
    "\n",
    "# Collect Census Data:\n",
    "# res = get_median_hh_income()\n",
    "# res.to_csv()"
   ]
  },
  {
   "cell_type": "code",
   "execution_count": null,
   "metadata": {
    "ExecuteTime": {
     "end_time": "2020-11-06T09:47:57.670384Z",
     "start_time": "2020-11-06T09:47:57.641460Z"
    }
   },
   "outputs": [],
   "source": [
    "busstop_gdf"
   ]
  },
  {
   "cell_type": "code",
   "execution_count": null,
   "metadata": {
    "ExecuteTime": {
     "end_time": "2020-11-06T13:06:29.545777Z",
     "start_time": "2020-11-06T13:06:29.502892Z"
    }
   },
   "outputs": [],
   "source": [
    "census_tract_gdf"
   ]
  },
  {
   "cell_type": "code",
   "execution_count": null,
   "metadata": {
    "ExecuteTime": {
     "end_time": "2020-11-06T09:48:01.422785Z",
     "start_time": "2020-11-06T09:48:01.411814Z"
    }
   },
   "outputs": [],
   "source": [
    "median_income_for_tract_df"
   ]
  },
  {
   "cell_type": "code",
   "execution_count": null,
   "metadata": {
    "ExecuteTime": {
     "end_time": "2020-11-06T09:48:05.327098Z",
     "start_time": "2020-11-06T09:48:05.312138Z"
    }
   },
   "outputs": [],
   "source": [
    "# zfill the tractID to 6-digit str\n",
    "median_income_for_tract_df.tract = [str(x).zfill(6) for x in median_income_for_tract_df['tract']]\n",
    "median_income_for_tract_df"
   ]
  },
  {
   "cell_type": "code",
   "execution_count": null,
   "metadata": {
    "ExecuteTime": {
     "end_time": "2020-11-06T14:13:35.303412Z",
     "start_time": "2020-11-06T14:13:35.286458Z"
    }
   },
   "outputs": [],
   "source": [
    "# Find abnormal values and correct them with its neighbors' average incomes\n",
    "# census_tract_gdf.plot()\n",
    "# busstop_gdf.plot()\n",
    "\n",
    "# while True:\n",
    "#     abnormal_tracts = ['980300', '980700', '981000', '981201', '981202', '981502', '981600', '981700']\n",
    "    \n",
    "#     for tract in abnormal_tracts:\n",
    "#         polygon = census_tract_gdf[census_tract_gdf['TRACTCE10'] == tract].geometry\n",
    "#         print(polygon)\n",
    "#         neighbors = census_tract_gdf[census_tract_gdf.geometry.touches(polygon)].TRACTCE10.tolist()\n",
    "#         print(len(neighbors))\n",
    "#     break"
   ]
  },
  {
   "cell_type": "markdown",
   "metadata": {},
   "source": [
    "Then traverse through bus stops to indentify which tracts they are in."
   ]
  },
  {
   "cell_type": "code",
   "execution_count": null,
   "metadata": {
    "ExecuteTime": {
     "end_time": "2020-10-28T09:00:20.282973Z",
     "start_time": "2020-10-28T09:00:20.268042Z"
    }
   },
   "outputs": [],
   "source": [
    "def tract_for_stop(busstop_gdf, census_tract_gdf):\n",
    "    \"\"\"\n",
    "    This frunction takes in busstop and tract data in geoDataFrame.\n",
    "    Returns a dictionary in {stop_id: tract_id} format\n",
    "    \"\"\"\n",
    "    stopid_tract_dict = {}\n",
    "    \n",
    "    points = busstop_gdf.geometry\n",
    "    polygons = census_tract_gdf.geometry\n",
    "    \n",
    "    stop_ids = busstop_gdf['STOP_ID']\n",
    "    tract_ids = census_tract_gdf['TRACTCE10']\n",
    "    \n",
    "    for i in range(len(busstop_gdf)):\n",
    "        stopid = stop_ids[i]\n",
    "        point = points[i]\n",
    "        for j in range(len(census_tract_gdf)):\n",
    "            tractid = tract_ids[j]\n",
    "            polygon = polygons[j]\n",
    "            if point.within(polygon):\n",
    "                stopid_tract_dict[stopid] = tractid\n",
    "                break;\n",
    "    \n",
    "    return stopid_tract_dict"
   ]
  },
  {
   "cell_type": "code",
   "execution_count": null,
   "metadata": {
    "ExecuteTime": {
     "end_time": "2020-10-28T08:15:24.604734Z",
     "start_time": "2020-10-28T08:14:28.575394Z"
    }
   },
   "outputs": [],
   "source": [
    "stopid_tract_dict = tract_for_stop(busstop_gdf, census_tract_gdf)"
   ]
  },
  {
   "cell_type": "markdown",
   "metadata": {},
   "source": [
    "Then add a column 'TRACT_ID' in bus stop data"
   ]
  },
  {
   "cell_type": "code",
   "execution_count": null,
   "metadata": {
    "ExecuteTime": {
     "end_time": "2020-10-28T09:00:22.880362Z",
     "start_time": "2020-10-28T09:00:22.853434Z"
    }
   },
   "outputs": [],
   "source": [
    "busstop_gdf['TRACT_ID'] = stopid_tract_dict.values()\n",
    "busstop_gdf"
   ]
  },
  {
   "cell_type": "markdown",
   "metadata": {
    "ExecuteTime": {
     "end_time": "2020-10-28T08:28:28.719311Z",
     "start_time": "2020-10-28T08:28:28.701390Z"
    }
   },
   "source": [
    "Then assign median income for each stop by 'TRACT_ID'"
   ]
  },
  {
   "cell_type": "code",
   "execution_count": null,
   "metadata": {
    "ExecuteTime": {
     "end_time": "2020-10-28T09:15:21.715382Z",
     "start_time": "2020-10-28T09:15:21.707404Z"
    }
   },
   "outputs": [],
   "source": [
    "def get_tract_income_dict():\n",
    "    tract_income_dict = {}\n",
    "    \n",
    "    # need to convert entries of type <numpy.int64> into a 6-digit string\n",
    "    incomes = median_income_for_tract_gdf['B19013_001E']\n",
    "    tracts = [str(x).zfill(6) for x in median_income_for_tract_df['tract']]\n",
    "    for i in range(len(median_income_for_tract_df)):\n",
    "        tract_income_dict[tracts[i]] = incomes[i]\n",
    "    return tract_income_dict\n",
    "\n",
    "def get_income_for_tract(tracts, tract_income_dict):\n",
    "    incomes = []\n",
    "    for tract in tracts:\n",
    "        incomes.append(tract_income_dict[tract])\n",
    "    return incomes"
   ]
  },
  {
   "cell_type": "code",
   "execution_count": null,
   "metadata": {
    "ExecuteTime": {
     "end_time": "2020-10-28T09:15:22.607355Z",
     "start_time": "2020-10-28T09:15:22.592395Z"
    }
   },
   "outputs": [],
   "source": [
    "tract_income_dict = get_tract_income_dict()\n",
    "incomes = get_income_for_tract(busstop_gdf['TRACT_ID'], tract_income_dict)"
   ]
  },
  {
   "cell_type": "markdown",
   "metadata": {},
   "source": [
    "Then add a column 'income' in bus stop data"
   ]
  },
  {
   "cell_type": "code",
   "execution_count": null,
   "metadata": {
    "ExecuteTime": {
     "end_time": "2020-10-28T09:15:24.599406Z",
     "start_time": "2020-10-28T09:15:24.574446Z"
    }
   },
   "outputs": [],
   "source": [
    "busstop_gdf['income'] = incomes\n",
    "busstop_gdf"
   ]
  },
  {
   "cell_type": "markdown",
   "metadata": {},
   "source": [
    "Save the bus stop data into a new csv file"
   ]
  },
  {
   "cell_type": "code",
   "execution_count": null,
   "metadata": {
    "ExecuteTime": {
     "end_time": "2020-10-28T09:22:12.404412Z",
     "start_time": "2020-10-28T09:22:12.363345Z"
    }
   },
   "outputs": [],
   "source": [
    "df = pd.DataFrame(busstop_gdf.drop(columns='geometry'))\n",
    "df.to_csv(\"./output/stops_with_income.csv\")"
   ]
  },
  {
   "cell_type": "markdown",
   "metadata": {},
   "source": [
    "## Step 2: Income level assignment\n",
    "Assign an income level to each stop based on the census tract data"
   ]
  },
  {
   "cell_type": "markdown",
   "metadata": {},
   "source": [
    "**No need to run blocks above!!**\n",
    "Here we use the income group standard according to [Pew Research](http://www.pewsocialtrends.org/2015/12/09/the-american-middle-class-is-losing-ground/), which shows as follows:\n",
    "\n",
    "| LEVEL | INCOME GROUP | INCOME/\\$ |\n",
    "| :- | :- | -: |\n",
    "| 0 | Lowest income | 31,000 or less|\n",
    "| 1 | Lower-middle income | 31,000 - 42,000 |\n",
    "| 2 | Middle-income | 42,000 - 126,000 |\n",
    "| 3 | Upper-middle income | 126,000 - 188,000 |\n",
    "| 4 | Higher-income | 188,000 or more |"
   ]
  },
  {
   "cell_type": "code",
   "execution_count": null,
   "metadata": {
    "ExecuteTime": {
     "end_time": "2020-11-07T02:33:27.193496Z",
     "start_time": "2020-11-07T02:33:26.045021Z"
    }
   },
   "outputs": [],
   "source": [
    "import pandas as pd\n",
    "# read result csv generated from step one\n",
    "busstop_df = pd.read_csv(\"./output/stops_with_income.csv\")\n",
    "busstop_df"
   ]
  },
  {
   "cell_type": "code",
   "execution_count": null,
   "metadata": {
    "ExecuteTime": {
     "end_time": "2020-11-07T02:33:31.500823Z",
     "start_time": "2020-11-07T02:33:31.479878Z"
    }
   },
   "outputs": [],
   "source": [
    "income_level = []\n",
    "\n",
    "incomes = busstop_df['income']\n",
    "for income in incomes:\n",
    "    if income<=0:\n",
    "        income_level.append(-1)\n",
    "    elif 0<income < 31000:\n",
    "        income_level.append(0)\n",
    "    elif 31000 <= income < 42000:\n",
    "        income_level.append(1)\n",
    "    elif 42000 <= income < 126000:\n",
    "        income_level.append(2)\n",
    "    elif 126000 <= income < 188000:\n",
    "        income_level.append(3)\n",
    "    elif 188000 <= income:\n",
    "        income_level.append(4)"
   ]
  },
  {
   "cell_type": "code",
   "execution_count": null,
   "metadata": {
    "ExecuteTime": {
     "end_time": "2020-11-07T02:33:34.356797Z",
     "start_time": "2020-11-07T02:33:34.341836Z"
    }
   },
   "outputs": [],
   "source": [
    "busstop_df['income_level'] = income_level\n",
    "busstop_df"
   ]
  },
  {
   "cell_type": "code",
   "execution_count": null,
   "metadata": {
    "ExecuteTime": {
     "end_time": "2020-11-06T14:14:53.908615Z",
     "start_time": "2020-11-06T14:14:53.877671Z"
    }
   },
   "outputs": [],
   "source": [
    "# Save to csv file\n",
    "busstop_df.to_csv(\"./output/stops_with_incomeLevel.csv\", index_label=False)"
   ]
  },
  {
   "cell_type": "code",
   "execution_count": null,
   "metadata": {
    "ExecuteTime": {
     "end_time": "2020-11-07T02:33:38.501768Z",
     "start_time": "2020-11-07T02:33:38.476835Z"
    }
   },
   "outputs": [],
   "source": [
    "# show stops whose income are unknown\n",
    "busstop_df[busstop_df.income<0]"
   ]
  },
  {
   "cell_type": "markdown",
   "metadata": {},
   "source": [
    "## Step 3&4: Ridership & Revenue for each stop\n",
    "Calculate annual revenue for each stop\n",
    "1. Find fare for each route\n",
    "| route_type    | fare | fare (reduced) |\n",
    "|---------------|------|----------------|\n",
    "| Local Bus     | 1.7  | 0.85           |\n",
    "| Inner Express | 4.25 | 2.10           |\n",
    "| Outer Express | 5.25 | 2.60           |\n",
    "2. Connect routes for each stop\n",
    "3. Collect ridership for each route per stop\n",
    "3. Calculate annual renevue for each stop, note: reduced fare, monthly pass"
   ]
  },
  {
   "cell_type": "code",
   "execution_count": null,
   "metadata": {
    "ExecuteTime": {
     "end_time": "2020-11-07T05:36:32.783483Z",
     "start_time": "2020-11-07T05:36:32.430162Z"
    }
   },
   "outputs": [],
   "source": [
    "import pandas as pd\n",
    "import geopandas as gpd"
   ]
  },
  {
   "cell_type": "markdown",
   "metadata": {},
   "source": [
    "### 1. Find fare for each route"
   ]
  },
  {
   "cell_type": "code",
   "execution_count": null,
   "metadata": {
    "ExecuteTime": {
     "end_time": "2020-11-07T05:35:46.891875Z",
     "start_time": "2020-11-07T05:35:46.858936Z"
    }
   },
   "outputs": [],
   "source": [
    "# route info\n",
    "routes_df = pd.read_csv('./data/fare&ridership/routes.csv')\n",
    "routes_df"
   ]
  },
  {
   "cell_type": "code",
   "execution_count": null,
   "metadata": {
    "ExecuteTime": {
     "end_time": "2020-11-07T03:22:31.853809Z",
     "start_time": "2020-11-07T03:22:31.825884Z"
    }
   },
   "outputs": [],
   "source": [
    "route_fare_class = {'Local Bus': 1.7, 'Inner Express': 4.25, 'Outer Express': 5.25, 'Free':0}\n",
    "route_reduced_fare_class = {'Local Bus': 0.85, 'Inner Express': 2.1, 'Outer Express': 2.6, 'Free':0}\n",
    "\n",
    "# add a column of fare for each route\n",
    "routes_df['fare'] = float('nan')\n",
    "routes_df['reduced_fare'] = float('nan')\n",
    "for idx, row in routes_df.iterrows():\n",
    "    this_fare_class = row['route_fare_class']\n",
    "    if this_fare_class not in route_fare_class:\n",
    "        continue\n",
    "    else:\n",
    "        routes_df.at[idx, 'fare'] = route_fare_class[this_fare_class]\n",
    "        routes_df.at[idx, 'reduced_fare'] = route_reduced_fare_class[this_fare_class]\n",
    "\n",
    "routes_df.to_csv('./output/routes_with_fare.csv', index_label=False)"
   ]
  },
  {
   "cell_type": "markdown",
   "metadata": {},
   "source": [
    "### 2. Connect routes for each stop"
   ]
  },
  {
   "cell_type": "code",
   "execution_count": null,
   "metadata": {
    "ExecuteTime": {
     "end_time": "2020-11-07T03:24:02.042634Z",
     "start_time": "2020-11-07T03:24:02.021661Z"
    }
   },
   "outputs": [],
   "source": [
    "stops_df = pd.read_csv('./output/stops_with_incomeLevel.csv')\n",
    "stops_df"
   ]
  },
  {
   "cell_type": "code",
   "execution_count": null,
   "metadata": {
    "ExecuteTime": {
     "end_time": "2020-11-07T03:29:52.114862Z",
     "start_time": "2020-11-07T03:29:47.971947Z"
    }
   },
   "outputs": [],
   "source": [
    "ridership_df = pd.read_csv('./data/fare&ridership/Line,_and_Stop.csv', low_memory=False)\n",
    "ridership_df"
   ]
  },
  {
   "cell_type": "code",
   "execution_count": null,
   "metadata": {
    "ExecuteTime": {
     "end_time": "2020-11-07T04:22:23.549691Z",
     "start_time": "2020-11-07T04:21:51.764704Z"
    }
   },
   "outputs": [],
   "source": [
    "stops_df['route_ids'] = \"\"\n",
    "for idx, row in stops_df.iterrows():\n",
    "    stop_id = row['STOP_ID']\n",
    "    route_ids = list(set(ridership_df[ridership_df.stop_id == int(stop_id)].route_id.tolist()))\n",
    "    stops_df.at[idx, 'route_ids'] = ','.join(route_ids)\n",
    "stops_df.to_csv('./output/stops.csv', index_label=False)\n",
    "stops_df"
   ]
  },
  {
   "cell_type": "markdown",
   "metadata": {
    "ExecuteTime": {
     "end_time": "2020-11-07T04:24:12.212470Z",
     "start_time": "2020-11-07T04:24:12.178561Z"
    }
   },
   "source": [
    "### 3. Collect ridership for each route per stop"
   ]
  },
  {
   "cell_type": "code",
   "execution_count": null,
   "metadata": {
    "ExecuteTime": {
     "end_time": "2020-11-07T05:37:12.101830Z",
     "start_time": "2020-11-07T05:37:12.055954Z"
    }
   },
   "outputs": [],
   "source": [
    "routes_df = pd.read_csv('output/routes_with_fare.csv')\n",
    "routes_df"
   ]
  },
  {
   "cell_type": "code",
   "execution_count": null,
   "metadata": {
    "ExecuteTime": {
     "end_time": "2020-11-07T05:46:17.302091Z",
     "start_time": "2020-11-07T05:46:12.895880Z"
    }
   },
   "outputs": [],
   "source": [
    "ridership_df = pd.read_csv('./data/fare&ridership/Line,_and_Stop.csv', low_memory=False)\n",
    "# load only rows for Fall 2019\n",
    "ridership_df = ridership_df[ridership_df.season == 'Fall 2019']\n",
    "ridership_df"
   ]
  },
  {
   "cell_type": "code",
   "execution_count": null,
   "metadata": {
    "ExecuteTime": {
     "end_time": "2020-11-07T06:27:20.644136Z",
     "start_time": "2020-11-07T06:27:20.618176Z"
    }
   },
   "outputs": [],
   "source": [
    "stops_df = pd.read_csv('./output/stops.csv', low_memory=False)\n",
    "stops_df.info()"
   ]
  },
  {
   "cell_type": "code",
   "execution_count": null,
   "metadata": {
    "ExecuteTime": {
     "end_time": "2020-11-07T07:28:24.181156Z",
     "start_time": "2020-11-07T06:34:31.998806Z"
    }
   },
   "outputs": [],
   "source": [
    "# ridership_df[(ridership_df.route_id=='99') & (ridership_df.stop_id==5327) & (ridership_df.day_type_name=='weekday')]\n",
    "stops_df['ridership'] = \"\"\n",
    "for idx, row in stops_df.iterrows():\n",
    "    print('{}/{}'.format(idx, len(stops_df)))\n",
    "    stop_id = int(row['STOP_ID'])\n",
    "    route_ids = str(row['route_ids']).split(',')\n",
    "    riderships = []\n",
    "    for route_id in route_ids:\n",
    "        weekday_ons = sum(ridership_df[(ridership_df.route_id==route_id) & (ridership_df.stop_id==stop_id) & (ridership_df.day_type_name=='weekday')].boardings) * 5\n",
    "        saturday_ons = sum(ridership_df[(ridership_df.route_id==route_id) & (ridership_df.stop_id==stop_id) & (ridership_df.day_type_name=='saturday')].boardings)\n",
    "        sunday_ons = sum(ridership_df[(ridership_df.route_id==route_id) & (ridership_df.stop_id==stop_id) & (ridership_df.day_type_name=='sunday')].boardings)\n",
    "        week_ons = weekday_ons+saturday_ons+sunday_ons\n",
    "        year_ons = week_ons * 52\n",
    "        riderships.append(\"{:.1f}\".format(year_ons))\n",
    "    stops_df.at[idx, 'ridership'] =  ','.join(riderships)\n",
    "stops_df"
   ]
  },
  {
   "cell_type": "code",
   "execution_count": null,
   "metadata": {
    "ExecuteTime": {
     "end_time": "2020-11-07T07:30:23.892823Z",
     "start_time": "2020-11-07T07:30:23.854962Z"
    }
   },
   "outputs": [],
   "source": [
    "stops_df.to_csv('./output/stops.csv', index_label=False)"
   ]
  },
  {
   "cell_type": "markdown",
   "metadata": {
    "ExecuteTime": {
     "end_time": "2020-11-07T07:30:34.187312Z",
     "start_time": "2020-11-07T07:30:34.169380Z"
    }
   },
   "source": [
    "### 4. Calculate annual renevue for each stop, note: reduced fare, monthly pass\n",
    "Here I assume the revenue composition (payment method) is fixed for each route, and that a rider uses a monthly pass twice every weekday, and that a month has 22 weekdays."
   ]
  },
  {
   "cell_type": "code",
   "execution_count": null,
   "metadata": {
    "ExecuteTime": {
     "end_time": "2020-11-07T07:58:24.944957Z",
     "start_time": "2020-11-07T07:58:24.911021Z"
    }
   },
   "outputs": [],
   "source": [
    "routes_df = pd.read_csv('./output/routes_with_fare.csv')\n",
    "routes_df"
   ]
  },
  {
   "cell_type": "code",
   "execution_count": null,
   "metadata": {
    "ExecuteTime": {
     "end_time": "2020-11-07T08:34:36.497095Z",
     "start_time": "2020-11-07T08:34:29.872845Z"
    }
   },
   "outputs": [],
   "source": [
    "stops_df['revenues'] = \"\"\n",
    "\n",
    "for idx, row in stops_df.iterrows():    \n",
    "    route_ids = str(row['route_ids']).split(',')\n",
    "    riderships = [float(x) for x in str(row['ridership']).split(',')]\n",
    "    assert len(route_ids)==len(riderships)\n",
    "    \n",
    "    revenues = []\n",
    "    for i in range(len(riderships)):\n",
    "        route_id = route_ids[i]\n",
    "        ridership = riderships[i]\n",
    "        \n",
    "        route_info = routes_df[routes_df.route_id == route_id]\n",
    "        if len(route_info)==0:\n",
    "            # no route info, assume it as local bus\n",
    "            fare = 1.7\n",
    "            fare_reduced = 0.85\n",
    "        else:\n",
    "            fare = float(route_info.fare)\n",
    "            fare_reduced = float(route_info.reduced_fare)\n",
    "        \n",
    "        # monthly pass - 70%\n",
    "        ridership_monthlyPass = ridership * 0.7\n",
    "        revenue_0 = ridership_monthlyPass * 0.17 * (30/(22*2))\n",
    "        revenue_1 = ridership_monthlyPass * 0.1 * (55/(22*2))\n",
    "        revenue_2 = ridership_monthlyPass * 0.69 * (90/(22*2))\n",
    "        revenue_3 = ridership_monthlyPass * 0.04 * (90/(22*2))\n",
    "        revenue_monthlyPass = revenue_0 + revenue_1 + revenue_2 + revenue_3\n",
    "        \n",
    "        # pay-per-ride - 22%\n",
    "        ridership_payPerRide = ridership * 0.22\n",
    "        revenue_4 = ridership_payPerRide * 0.03 * 1.7\n",
    "        revenue_5 = ridership_payPerRide * 0.16 * fare_reduced\n",
    "        revenue_6 = ridership_payPerRide * 0.79 * fare\n",
    "        revenue_payPerRide = revenue_4 + revenue_5 + revenue_6\n",
    "        \n",
    "        # others, ignore\n",
    "        # sum up\n",
    "        revenues.append(\"{:.1f}\".format(revenue_monthlyPass+revenue_payPerRide))\n",
    "    stops_df.at[idx, 'revenues'] = ','.join(revenues)\n",
    "\n",
    "stops_df"
   ]
  },
  {
   "cell_type": "code",
   "execution_count": null,
   "metadata": {
    "ExecuteTime": {
     "end_time": "2020-11-07T08:38:02.005252Z",
     "start_time": "2020-11-07T08:38:01.435749Z"
    }
   },
   "outputs": [],
   "source": [
    "# Add revenues up for each stop\n",
    "stops_df['revenue_annual'] = \"\"\n",
    "for idx, row in stops_df.iterrows():\n",
    "    revenues = list(map(float, str(row['revenues']).split(',')))\n",
    "    stops_df.at[idx, 'revenue_annual'] = sum(revenues)\n",
    "stops_df"
   ]
  },
  {
   "cell_type": "code",
   "execution_count": null,
   "metadata": {
    "ExecuteTime": {
     "end_time": "2020-11-07T08:38:39.032112Z",
     "start_time": "2020-11-07T08:38:38.995184Z"
    }
   },
   "outputs": [],
   "source": [
    "stops_df.to_csv('./output/stops.csv', index_label=False)"
   ]
  },
  {
   "cell_type": "code",
   "execution_count": 60,
   "metadata": {
    "ExecuteTime": {
     "end_time": "2020-11-07T08:47:31.009922Z",
     "start_time": "2020-11-07T08:47:30.980971Z"
    }
   },
   "outputs": [
    {
     "data": {
      "text/html": [
       "<div>\n",
       "<style scoped>\n",
       "    .dataframe tbody tr th:only-of-type {\n",
       "        vertical-align: middle;\n",
       "    }\n",
       "\n",
       "    .dataframe tbody tr th {\n",
       "        vertical-align: top;\n",
       "    }\n",
       "\n",
       "    .dataframe thead th {\n",
       "        text-align: right;\n",
       "    }\n",
       "</style>\n",
       "<table border=\"1\" class=\"dataframe\">\n",
       "  <thead>\n",
       "    <tr style=\"text-align: right;\">\n",
       "      <th></th>\n",
       "      <th>STOP_ID</th>\n",
       "      <th>STOP_NAME</th>\n",
       "      <th>TOWN</th>\n",
       "      <th>TOWN_ID</th>\n",
       "      <th>TRACT_ID</th>\n",
       "      <th>income</th>\n",
       "      <th>income_level</th>\n",
       "      <th>route_ids</th>\n",
       "      <th>ridership</th>\n",
       "      <th>revenues</th>\n",
       "      <th>revenue_annual</th>\n",
       "    </tr>\n",
       "  </thead>\n",
       "  <tbody>\n",
       "    <tr>\n",
       "      <th>0</th>\n",
       "      <td>3077</td>\n",
       "      <td>Gallivan Blvd @ opp Marsh St</td>\n",
       "      <td>BOSTON</td>\n",
       "      <td>35</td>\n",
       "      <td>100700</td>\n",
       "      <td>87063</td>\n",
       "      <td>2</td>\n",
       "      <td>201</td>\n",
       "      <td>1138.8</td>\n",
       "      <td>1765.7</td>\n",
       "      <td>1765.7</td>\n",
       "    </tr>\n",
       "    <tr>\n",
       "      <th>1</th>\n",
       "      <td>841</td>\n",
       "      <td>Lagrange St @ Virgil Rd</td>\n",
       "      <td>BOSTON</td>\n",
       "      <td>35</td>\n",
       "      <td>130200</td>\n",
       "      <td>109034</td>\n",
       "      <td>2</td>\n",
       "      <td>37,38</td>\n",
       "      <td>795.6,26.0</td>\n",
       "      <td>1233.5,40.3</td>\n",
       "      <td>1273.8</td>\n",
       "    </tr>\n",
       "    <tr>\n",
       "      <th>2</th>\n",
       "      <td>446</td>\n",
       "      <td>Norfolk St @ Nelson St</td>\n",
       "      <td>BOSTON</td>\n",
       "      <td>35</td>\n",
       "      <td>100300</td>\n",
       "      <td>51736</td>\n",
       "      <td>2</td>\n",
       "      <td>26</td>\n",
       "      <td>4628.0</td>\n",
       "      <td>7175.5</td>\n",
       "      <td>7175.5</td>\n",
       "    </tr>\n",
       "    <tr>\n",
       "      <th>3</th>\n",
       "      <td>847</td>\n",
       "      <td>Lagrange St opp Virgil St</td>\n",
       "      <td>BOSTON</td>\n",
       "      <td>35</td>\n",
       "      <td>130200</td>\n",
       "      <td>109034</td>\n",
       "      <td>2</td>\n",
       "      <td>37,38</td>\n",
       "      <td>0.0,0.0</td>\n",
       "      <td>0.0,0.0</td>\n",
       "      <td>0.0</td>\n",
       "    </tr>\n",
       "    <tr>\n",
       "      <th>4</th>\n",
       "      <td>3079</td>\n",
       "      <td>Adams St @ Minot St</td>\n",
       "      <td>BOSTON</td>\n",
       "      <td>35</td>\n",
       "      <td>100800</td>\n",
       "      <td>88425</td>\n",
       "      <td>2</td>\n",
       "      <td>201,19</td>\n",
       "      <td>7581.6,52.0</td>\n",
       "      <td>11755.0,80.6</td>\n",
       "      <td>11835.6</td>\n",
       "    </tr>\n",
       "    <tr>\n",
       "      <th>...</th>\n",
       "      <td>...</td>\n",
       "      <td>...</td>\n",
       "      <td>...</td>\n",
       "      <td>...</td>\n",
       "      <td>...</td>\n",
       "      <td>...</td>\n",
       "      <td>...</td>\n",
       "      <td>...</td>\n",
       "      <td>...</td>\n",
       "      <td>...</td>\n",
       "      <td>...</td>\n",
       "    </tr>\n",
       "    <tr>\n",
       "      <th>7805</th>\n",
       "      <td>9097</td>\n",
       "      <td>Grove St @ Lebanon St</td>\n",
       "      <td>MELROSE</td>\n",
       "      <td>178</td>\n",
       "      <td>336300</td>\n",
       "      <td>120436</td>\n",
       "      <td>2</td>\n",
       "      <td>131</td>\n",
       "      <td>5824.0</td>\n",
       "      <td>9029.9</td>\n",
       "      <td>9029.9</td>\n",
       "    </tr>\n",
       "    <tr>\n",
       "      <th>7806</th>\n",
       "      <td>5911</td>\n",
       "      <td>Grove St @ Lebanon St</td>\n",
       "      <td>MELROSE</td>\n",
       "      <td>178</td>\n",
       "      <td>336300</td>\n",
       "      <td>120436</td>\n",
       "      <td>2</td>\n",
       "      <td>131</td>\n",
       "      <td>52.0</td>\n",
       "      <td>80.6</td>\n",
       "      <td>80.6</td>\n",
       "    </tr>\n",
       "    <tr>\n",
       "      <th>7807</th>\n",
       "      <td>5975</td>\n",
       "      <td>Wyoming Ave opp Cleveland St</td>\n",
       "      <td>MELROSE</td>\n",
       "      <td>178</td>\n",
       "      <td>336402</td>\n",
       "      <td>79969</td>\n",
       "      <td>2</td>\n",
       "      <td>132</td>\n",
       "      <td>8538.4</td>\n",
       "      <td>13238.5</td>\n",
       "      <td>13238.5</td>\n",
       "    </tr>\n",
       "    <tr>\n",
       "      <th>7808</th>\n",
       "      <td>15976</td>\n",
       "      <td>Wyoming Ave @ Cleveland St</td>\n",
       "      <td>MELROSE</td>\n",
       "      <td>178</td>\n",
       "      <td>336402</td>\n",
       "      <td>79969</td>\n",
       "      <td>2</td>\n",
       "      <td>132</td>\n",
       "      <td>145.6</td>\n",
       "      <td>225.7</td>\n",
       "      <td>225.7</td>\n",
       "    </tr>\n",
       "    <tr>\n",
       "      <th>7809</th>\n",
       "      <td>5912</td>\n",
       "      <td>Grove St @ Faxon St</td>\n",
       "      <td>MELROSE</td>\n",
       "      <td>178</td>\n",
       "      <td>336300</td>\n",
       "      <td>120436</td>\n",
       "      <td>2</td>\n",
       "      <td>131</td>\n",
       "      <td>130.0</td>\n",
       "      <td>201.6</td>\n",
       "      <td>201.6</td>\n",
       "    </tr>\n",
       "  </tbody>\n",
       "</table>\n",
       "<p>7810 rows × 11 columns</p>\n",
       "</div>"
      ],
      "text/plain": [
       "      STOP_ID                     STOP_NAME     TOWN  TOWN_ID  TRACT_ID  \\\n",
       "0        3077  Gallivan Blvd @ opp Marsh St   BOSTON       35    100700   \n",
       "1         841       Lagrange St @ Virgil Rd   BOSTON       35    130200   \n",
       "2         446        Norfolk St @ Nelson St   BOSTON       35    100300   \n",
       "3         847     Lagrange St opp Virgil St   BOSTON       35    130200   \n",
       "4        3079           Adams St @ Minot St   BOSTON       35    100800   \n",
       "...       ...                           ...      ...      ...       ...   \n",
       "7805     9097         Grove St @ Lebanon St  MELROSE      178    336300   \n",
       "7806     5911         Grove St @ Lebanon St  MELROSE      178    336300   \n",
       "7807     5975  Wyoming Ave opp Cleveland St  MELROSE      178    336402   \n",
       "7808    15976    Wyoming Ave @ Cleveland St  MELROSE      178    336402   \n",
       "7809     5912           Grove St @ Faxon St  MELROSE      178    336300   \n",
       "\n",
       "      income  income_level route_ids    ridership      revenues  \\\n",
       "0      87063             2       201       1138.8        1765.7   \n",
       "1     109034             2     37,38   795.6,26.0   1233.5,40.3   \n",
       "2      51736             2        26       4628.0        7175.5   \n",
       "3     109034             2     37,38      0.0,0.0       0.0,0.0   \n",
       "4      88425             2    201,19  7581.6,52.0  11755.0,80.6   \n",
       "...      ...           ...       ...          ...           ...   \n",
       "7805  120436             2       131       5824.0        9029.9   \n",
       "7806  120436             2       131         52.0          80.6   \n",
       "7807   79969             2       132       8538.4       13238.5   \n",
       "7808   79969             2       132        145.6         225.7   \n",
       "7809  120436             2       131        130.0         201.6   \n",
       "\n",
       "      revenue_annual  \n",
       "0             1765.7  \n",
       "1             1273.8  \n",
       "2             7175.5  \n",
       "3                0.0  \n",
       "4            11835.6  \n",
       "...              ...  \n",
       "7805          9029.9  \n",
       "7806            80.6  \n",
       "7807         13238.5  \n",
       "7808           225.7  \n",
       "7809           201.6  \n",
       "\n",
       "[7810 rows x 11 columns]"
      ]
     },
     "execution_count": 60,
     "metadata": {},
     "output_type": "execute_result"
    }
   ],
   "source": [
    "stops_df"
   ]
  },
  {
   "cell_type": "code",
   "execution_count": null,
   "metadata": {},
   "outputs": [],
   "source": []
  }
 ],
 "metadata": {
  "kernelspec": {
   "display_name": "Python 3",
   "language": "python",
   "name": "python3"
  },
  "language_info": {
   "codemirror_mode": {
    "name": "ipython",
    "version": 3
   },
   "file_extension": ".py",
   "mimetype": "text/x-python",
   "name": "python",
   "nbconvert_exporter": "python",
   "pygments_lexer": "ipython3",
   "version": "3.8.5"
  }
 },
 "nbformat": 4,
 "nbformat_minor": 4
}
