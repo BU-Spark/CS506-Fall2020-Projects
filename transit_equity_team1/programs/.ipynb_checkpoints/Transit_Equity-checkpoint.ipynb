{
 "cells": [
  {
   "cell_type": "markdown",
   "metadata": {},
   "source": [
    "# Transit Equity/ Bus Routes (MBTA only)"
   ]
  },
  {
   "cell_type": "code",
   "execution_count": null,
   "metadata": {
    "ExecuteTime": {
     "end_time": "2020-11-06T13:33:02.531683Z",
     "start_time": "2020-11-06T13:33:02.517720Z"
    }
   },
   "outputs": [],
   "source": [
    "# imports\n",
    "import pandas as pd\n",
    "import geopandas as gpd\n",
    "import requests\n",
    "import numpy as np\n",
    "import math\n",
    "from shapely.ops import nearest_points"
   ]
  },
  {
   "cell_type": "markdown",
   "metadata": {},
   "source": [
    "## Step 1: Data collection\n",
    "Read [this report](http://www.wrrb.org/wp-content/uploads/2019/05/WRRB-FareFree-Transit-Report.pdf) to understand the issue. Collect data - create a spreadsheet of all the different bus stops in Massachusetts including MBTA, Regional Transit Authorities, and City/Town buses.\n",
    "\n",
    "**Make sure datasets --- 'mbtabus/', 'CENSUS2010_BLK_BG_TRCT_SHP/' and 'census.csv' are under './data/'**"
   ]
  },
  {
   "cell_type": "code",
   "execution_count": null,
   "metadata": {
    "ExecuteTime": {
     "end_time": "2020-11-06T09:47:55.629504Z",
     "start_time": "2020-11-06T09:47:55.612519Z"
    }
   },
   "outputs": [],
   "source": [
    "# Collect data for bus stops \n",
    "def load_bus_stop():\n",
    "    \"\"\"\n",
    "    Data description link: https://docs.digital.mass.gov/dataset/massgis-data-mbta-bus-routes-and-stops\n",
    "    \"\"\"\n",
    "    file = gpd.read_file(\"./data/mbtabus/MBTABUSSTOPS_PT.shp\")\n",
    "    return file\n",
    "\n",
    "\n",
    "def load_census_tract():\n",
    "    \"\"\"\n",
    "    Data description link: https://docs.digital.mass.gov/dataset/massgis-data-datalayers-2010-us-census\n",
    "    \"\"\"\n",
    "    file = gpd.read_file(\"./data/CENSUS2010_BLK_BG_TRCT_SHP/CENSUS2010TRACTS_POLY.shp\")\n",
    "    return file\n",
    "\n",
    "# Collect Census Data:\n",
    "def get_median_hh_income():\n",
    "    '''\n",
    "        Returns Pandas DataFrame representation Median Household Income Estimate by Census Tract for MA.\n",
    "        American Community Survey (ACS) 2018 Census data used.\n",
    "        Specific table: ACS 2018 5-year detailed table \"B19013_001E\"\n",
    "    '''\n",
    "    URL = \"https://api.census.gov/data/2018/acs/acs5?get=B19013_001E&for=tract:*&in=state:25\"\n",
    "\n",
    "    response = requests.get(url = URL)\n",
    "    data = response.json()\n",
    "    \n",
    "    median_income_df = pd.DataFrame(data[1:len(data)-1], columns = data[0])\n",
    "    \n",
    "    return median_income_df\n",
    "\n",
    "def load_median_hh_income():\n",
    "    '''\n",
    "        *** USE THIS FUNCTION TO LOAD INCOME DATA FROM LOCAL ***\n",
    "        Returns Pandas DataFrame representation Median Household Income Estimate by Census Tract for MA.\n",
    "        American Community Survey (ACS) 2018 Census data used.\n",
    "        Specific table: ACS 2018 5-year detailed table \"B19013_001E\"\n",
    "    '''\n",
    "    median_income_df = pd.read_csv(\"./data/census.csv\")\n",
    "    return median_income_df    "
   ]
  },
  {
   "cell_type": "code",
   "execution_count": null,
   "metadata": {
    "ExecuteTime": {
     "end_time": "2020-11-06T09:47:56.710182Z",
     "start_time": "2020-11-06T09:47:56.256338Z"
    }
   },
   "outputs": [],
   "source": [
    "busstop_gdf = load_bus_stop()\n",
    "census_tract_gdf = load_census_tract()\n",
    "median_income_for_tract_df = load_median_hh_income()\n",
    "\n",
    "# Collect Census Data:\n",
    "# res = get_median_hh_income()\n",
    "# res.to_csv()"
   ]
  },
  {
   "cell_type": "code",
   "execution_count": null,
   "metadata": {
    "ExecuteTime": {
     "end_time": "2020-11-06T09:47:57.670384Z",
     "start_time": "2020-11-06T09:47:57.641460Z"
    }
   },
   "outputs": [],
   "source": [
    "busstop_gdf"
   ]
  },
  {
   "cell_type": "code",
   "execution_count": null,
   "metadata": {
    "ExecuteTime": {
     "end_time": "2020-11-06T13:06:29.545777Z",
     "start_time": "2020-11-06T13:06:29.502892Z"
    }
   },
   "outputs": [],
   "source": [
    "census_tract_gdf"
   ]
  },
  {
   "cell_type": "code",
   "execution_count": null,
   "metadata": {
    "ExecuteTime": {
     "end_time": "2020-11-06T09:48:01.422785Z",
     "start_time": "2020-11-06T09:48:01.411814Z"
    }
   },
   "outputs": [],
   "source": [
    "median_income_for_tract_df"
   ]
  },
  {
   "cell_type": "code",
   "execution_count": null,
   "metadata": {
    "ExecuteTime": {
     "end_time": "2020-11-06T09:48:05.327098Z",
     "start_time": "2020-11-06T09:48:05.312138Z"
    }
   },
   "outputs": [],
   "source": [
    "# zfill the tractID to 6-digit str\n",
    "median_income_for_tract_df.tract = [str(x).zfill(6) for x in median_income_for_tract_df['tract']]\n",
    "median_income_for_tract_df"
   ]
  },
  {
   "cell_type": "code",
   "execution_count": null,
   "metadata": {
    "ExecuteTime": {
     "end_time": "2020-11-06T14:13:35.303412Z",
     "start_time": "2020-11-06T14:13:35.286458Z"
    }
   },
   "outputs": [],
   "source": [
    "# Find abnormal values and correct them with its neighbors' average incomes\n",
    "# census_tract_gdf.plot()\n",
    "# busstop_gdf.plot()\n",
    "\n",
    "# while True:\n",
    "#     abnormal_tracts = ['980300', '980700', '981000', '981201', '981202', '981502', '981600', '981700']\n",
    "    \n",
    "#     for tract in abnormal_tracts:\n",
    "#         polygon = census_tract_gdf[census_tract_gdf['TRACTCE10'] == tract].geometry\n",
    "#         print(polygon)\n",
    "#         neighbors = census_tract_gdf[census_tract_gdf.geometry.touches(polygon)].TRACTCE10.tolist()\n",
    "#         print(len(neighbors))\n",
    "#     break"
   ]
  },
  {
   "cell_type": "markdown",
   "metadata": {},
   "source": [
    "Then traverse through bus stops to indentify which tracts they are in."
   ]
  },
  {
   "cell_type": "code",
   "execution_count": null,
   "metadata": {
    "ExecuteTime": {
     "end_time": "2020-10-28T09:00:20.282973Z",
     "start_time": "2020-10-28T09:00:20.268042Z"
    }
   },
   "outputs": [],
   "source": [
    "def tract_for_stop(busstop_gdf, census_tract_gdf):\n",
    "    \"\"\"\n",
    "    This frunction takes in busstop and tract data in geoDataFrame.\n",
    "    Returns a dictionary in {stop_id: tract_id} format\n",
    "    \"\"\"\n",
    "    stopid_tract_dict = {}\n",
    "    \n",
    "    points = busstop_gdf.geometry\n",
    "    polygons = census_tract_gdf.geometry\n",
    "    \n",
    "    stop_ids = busstop_gdf['STOP_ID']\n",
    "    tract_ids = census_tract_gdf['TRACTCE10']\n",
    "    \n",
    "    for i in range(len(busstop_gdf)):\n",
    "        stopid = stop_ids[i]\n",
    "        point = points[i]\n",
    "        for j in range(len(census_tract_gdf)):\n",
    "            tractid = tract_ids[j]\n",
    "            polygon = polygons[j]\n",
    "            if point.within(polygon):\n",
    "                stopid_tract_dict[stopid] = tractid\n",
    "                break;\n",
    "    \n",
    "    return stopid_tract_dict"
   ]
  },
  {
   "cell_type": "code",
   "execution_count": null,
   "metadata": {
    "ExecuteTime": {
     "end_time": "2020-10-28T08:15:24.604734Z",
     "start_time": "2020-10-28T08:14:28.575394Z"
    }
   },
   "outputs": [],
   "source": [
    "stopid_tract_dict = tract_for_stop(busstop_gdf, census_tract_gdf)"
   ]
  },
  {
   "cell_type": "markdown",
   "metadata": {},
   "source": [
    "Then add a column 'TRACT_ID' in bus stop data"
   ]
  },
  {
   "cell_type": "code",
   "execution_count": null,
   "metadata": {
    "ExecuteTime": {
     "end_time": "2020-10-28T09:00:22.880362Z",
     "start_time": "2020-10-28T09:00:22.853434Z"
    }
   },
   "outputs": [],
   "source": [
    "busstop_gdf['TRACT_ID'] = stopid_tract_dict.values()\n",
    "busstop_gdf"
   ]
  },
  {
   "cell_type": "markdown",
   "metadata": {
    "ExecuteTime": {
     "end_time": "2020-10-28T08:28:28.719311Z",
     "start_time": "2020-10-28T08:28:28.701390Z"
    }
   },
   "source": [
    "Then assign median income for each stop by 'TRACT_ID'"
   ]
  },
  {
   "cell_type": "code",
   "execution_count": null,
   "metadata": {
    "ExecuteTime": {
     "end_time": "2020-10-28T09:15:21.715382Z",
     "start_time": "2020-10-28T09:15:21.707404Z"
    }
   },
   "outputs": [],
   "source": [
    "def get_tract_income_dict():\n",
    "    tract_income_dict = {}\n",
    "    \n",
    "    # need to convert entries of type <numpy.int64> into a 6-digit string\n",
    "    incomes = median_income_for_tract_gdf['B19013_001E']\n",
    "    tracts = [str(x).zfill(6) for x in median_income_for_tract_df['tract']]\n",
    "    for i in range(len(median_income_for_tract_df)):\n",
    "        tract_income_dict[tracts[i]] = incomes[i]\n",
    "    return tract_income_dict\n",
    "\n",
    "def get_income_for_tract(tracts, tract_income_dict):\n",
    "    incomes = []\n",
    "    for tract in tracts:\n",
    "        incomes.append(tract_income_dict[tract])\n",
    "    return incomes"
   ]
  },
  {
   "cell_type": "code",
   "execution_count": null,
   "metadata": {
    "ExecuteTime": {
     "end_time": "2020-10-28T09:15:22.607355Z",
     "start_time": "2020-10-28T09:15:22.592395Z"
    }
   },
   "outputs": [],
   "source": [
    "tract_income_dict = get_tract_income_dict()\n",
    "incomes = get_income_for_tract(busstop_gdf['TRACT_ID'], tract_income_dict)"
   ]
  },
  {
   "cell_type": "markdown",
   "metadata": {},
   "source": [
    "Then add a column 'income' in bus stop data"
   ]
  },
  {
   "cell_type": "code",
   "execution_count": null,
   "metadata": {
    "ExecuteTime": {
     "end_time": "2020-10-28T09:15:24.599406Z",
     "start_time": "2020-10-28T09:15:24.574446Z"
    }
   },
   "outputs": [],
   "source": [
    "busstop_gdf['income'] = incomes\n",
    "busstop_gdf"
   ]
  },
  {
   "cell_type": "markdown",
   "metadata": {},
   "source": [
    "Save the bus stop data into a new csv file"
   ]
  },
  {
   "cell_type": "code",
   "execution_count": null,
   "metadata": {
    "ExecuteTime": {
     "end_time": "2020-10-28T09:22:12.404412Z",
     "start_time": "2020-10-28T09:22:12.363345Z"
    }
   },
   "outputs": [],
   "source": [
    "df = pd.DataFrame(busstop_gdf.drop(columns='geometry'))\n",
    "df.to_csv(\"./output/stops_with_income.csv\")"
   ]
  },
  {
   "cell_type": "markdown",
   "metadata": {},
   "source": [
    "## Step 2: Income level assignment\n",
    "Assign an income level to each stop based on the census tract data"
   ]
  },
  {
   "cell_type": "markdown",
   "metadata": {},
   "source": [
    "**No need to run blocks above!!**\n",
    "Here we use the income group standard according to [Pew Research](http://www.pewsocialtrends.org/2015/12/09/the-american-middle-class-is-losing-ground/), which shows as follows:\n",
    "\n",
    "| LEVEL | INCOME GROUP | INCOME/\\$ |\n",
    "| :- | :- | -: |\n",
    "| 0 | Lowest income | 31,000 or less|\n",
    "| 1 | Lower-middle income | 31,000 - 42,000 |\n",
    "| 2 | Middle-income | 42,000 - 126,000 |\n",
    "| 3 | Upper-middle income | 126,000 - 188,000 |\n",
    "| 4 | Higher-income | 188,000 or more |"
   ]
  },
  {
   "cell_type": "code",
   "execution_count": null,
   "metadata": {
    "ExecuteTime": {
     "end_time": "2020-11-07T02:33:27.193496Z",
     "start_time": "2020-11-07T02:33:26.045021Z"
    }
   },
   "outputs": [],
   "source": [
    "import pandas as pd\n",
    "# read result csv generated from step one\n",
    "busstop_df = pd.read_csv(\"./output/stops_with_income.csv\")\n",
    "busstop_df"
   ]
  },
  {
   "cell_type": "code",
   "execution_count": null,
   "metadata": {
    "ExecuteTime": {
     "end_time": "2020-11-07T02:33:31.500823Z",
     "start_time": "2020-11-07T02:33:31.479878Z"
    }
   },
   "outputs": [],
   "source": [
    "income_level = []\n",
    "\n",
    "incomes = busstop_df['income']\n",
    "for income in incomes:\n",
    "    if income<=0:\n",
    "        income_level.append(-1)\n",
    "    elif 0<income < 31000:\n",
    "        income_level.append(0)\n",
    "    elif 31000 <= income < 42000:\n",
    "        income_level.append(1)\n",
    "    elif 42000 <= income < 126000:\n",
    "        income_level.append(2)\n",
    "    elif 126000 <= income < 188000:\n",
    "        income_level.append(3)\n",
    "    elif 188000 <= income:\n",
    "        income_level.append(4)"
   ]
  },
  {
   "cell_type": "code",
   "execution_count": null,
   "metadata": {
    "ExecuteTime": {
     "end_time": "2020-11-07T02:33:34.356797Z",
     "start_time": "2020-11-07T02:33:34.341836Z"
    }
   },
   "outputs": [],
   "source": [
    "busstop_df['income_level'] = income_level\n",
    "busstop_df"
   ]
  },
  {
   "cell_type": "code",
   "execution_count": null,
   "metadata": {
    "ExecuteTime": {
     "end_time": "2020-11-06T14:14:53.908615Z",
     "start_time": "2020-11-06T14:14:53.877671Z"
    }
   },
   "outputs": [],
   "source": [
    "# Save to csv file\n",
    "busstop_df.to_csv(\"./output/stops_with_incomeLevel.csv\", index_label=False)"
   ]
  },
  {
   "cell_type": "code",
   "execution_count": null,
   "metadata": {
    "ExecuteTime": {
     "end_time": "2020-11-07T02:33:38.501768Z",
     "start_time": "2020-11-07T02:33:38.476835Z"
    }
   },
   "outputs": [],
   "source": [
    "# show stops whose income are unknown\n",
    "busstop_df[busstop_df.income<0]"
   ]
  },
  {
   "cell_type": "markdown",
   "metadata": {},
   "source": [
    "## Step 3&4: Ridership & Revenue for each stop\n",
    "Calculate annual revenue for each stop\n",
    "1. Find fare for each route\n",
    "| route_type    | fare | fare (reduced) |\n",
    "|---------------|------|----------------|\n",
    "| Local Bus     | 1.7  | 0.85           |\n",
    "| Inner Express | 4.25 | 2.10           |\n",
    "| Outer Express | 5.25 | 2.60           |\n",
    "2. Connect routes for each stop\n",
    "3. Collect ridership for each route per stop\n",
    "3. Calculate annual renevue for each stop, note: reduced fare, monthly pass"
   ]
  },
  {
   "cell_type": "code",
   "execution_count": null,
   "metadata": {
    "ExecuteTime": {
     "end_time": "2020-11-07T05:36:32.783483Z",
     "start_time": "2020-11-07T05:36:32.430162Z"
    }
   },
   "outputs": [],
   "source": [
    "import pandas as pd\n",
    "import geopandas as gpd"
   ]
  },
  {
   "cell_type": "markdown",
   "metadata": {},
   "source": [
    "### 1. Find fare for each route"
   ]
  },
  {
   "cell_type": "code",
   "execution_count": null,
   "metadata": {
    "ExecuteTime": {
     "end_time": "2020-11-07T05:35:46.891875Z",
     "start_time": "2020-11-07T05:35:46.858936Z"
    }
   },
   "outputs": [],
   "source": [
    "# route info\n",
    "routes_df = pd.read_csv('./data/fare&ridership/routes.csv')\n",
    "routes_df"
   ]
  },
  {
   "cell_type": "code",
   "execution_count": null,
   "metadata": {
    "ExecuteTime": {
     "end_time": "2020-11-07T03:22:31.853809Z",
     "start_time": "2020-11-07T03:22:31.825884Z"
    }
   },
   "outputs": [],
   "source": [
    "route_fare_class = {'Local Bus': 1.7, 'Inner Express': 4.25, 'Outer Express': 5.25, 'Free':0}\n",
    "route_reduced_fare_class = {'Local Bus': 0.85, 'Inner Express': 2.1, 'Outer Express': 2.6, 'Free':0}\n",
    "\n",
    "# add a column of fare for each route\n",
    "routes_df['fare'] = float('nan')\n",
    "routes_df['reduced_fare'] = float('nan')\n",
    "for idx, row in routes_df.iterrows():\n",
    "    this_fare_class = row['route_fare_class']\n",
    "    if this_fare_class not in route_fare_class:\n",
    "        continue\n",
    "    else:\n",
    "        routes_df.at[idx, 'fare'] = route_fare_class[this_fare_class]\n",
    "        routes_df.at[idx, 'reduced_fare'] = route_reduced_fare_class[this_fare_class]\n",
    "\n",
    "routes_df.to_csv('./output/routes_with_fare.csv', index_label=False)"
   ]
  },
  {
   "cell_type": "markdown",
   "metadata": {},
   "source": [
    "### 2. Connect routes for each stop"
   ]
  },
  {
   "cell_type": "code",
   "execution_count": null,
   "metadata": {
    "ExecuteTime": {
     "end_time": "2020-11-07T03:24:02.042634Z",
     "start_time": "2020-11-07T03:24:02.021661Z"
    }
   },
   "outputs": [],
   "source": [
    "stops_df = pd.read_csv('./output/stops_with_incomeLevel.csv')\n",
    "stops_df"
   ]
  },
  {
   "cell_type": "code",
   "execution_count": null,
   "metadata": {
    "ExecuteTime": {
     "end_time": "2020-11-07T03:29:52.114862Z",
     "start_time": "2020-11-07T03:29:47.971947Z"
    }
   },
   "outputs": [],
   "source": [
    "ridership_df = pd.read_csv('./data/fare&ridership/Line,_and_Stop.csv', low_memory=False)\n",
    "ridership_df"
   ]
  },
  {
   "cell_type": "code",
   "execution_count": null,
   "metadata": {
    "ExecuteTime": {
     "end_time": "2020-11-07T04:22:23.549691Z",
     "start_time": "2020-11-07T04:21:51.764704Z"
    }
   },
   "outputs": [],
   "source": [
    "stops_df['route_ids'] = \"\"\n",
    "for idx, row in stops_df.iterrows():\n",
    "    stop_id = row['STOP_ID']\n",
    "    route_ids = list(set(ridership_df[ridership_df.stop_id == int(stop_id)].route_id.tolist()))\n",
    "    stops_df.at[idx, 'route_ids'] = ','.join(route_ids)\n",
    "stops_df.to_csv('./output/stops.csv', index_label=False)\n",
    "stops_df"
   ]
  },
  {
   "cell_type": "markdown",
   "metadata": {
    "ExecuteTime": {
     "end_time": "2020-11-07T04:24:12.212470Z",
     "start_time": "2020-11-07T04:24:12.178561Z"
    }
   },
   "source": [
    "### 3. Collect ridership for each route per stop"
   ]
  },
  {
   "cell_type": "code",
   "execution_count": null,
   "metadata": {
    "ExecuteTime": {
     "end_time": "2020-11-07T05:37:12.101830Z",
     "start_time": "2020-11-07T05:37:12.055954Z"
    }
   },
   "outputs": [],
   "source": [
    "routes_df = pd.read_csv('output/routes_with_fare.csv')\n",
    "routes_df"
   ]
  },
  {
   "cell_type": "code",
   "execution_count": null,
   "metadata": {
    "ExecuteTime": {
     "end_time": "2020-11-07T05:46:17.302091Z",
     "start_time": "2020-11-07T05:46:12.895880Z"
    }
   },
   "outputs": [],
   "source": [
    "ridership_df = pd.read_csv('./data/fare&ridership/Line,_and_Stop.csv', low_memory=False)\n",
    "# load only rows for Fall 2019\n",
    "ridership_df = ridership_df[ridership_df.season == 'Fall 2019']\n",
    "ridership_df"
   ]
  },
  {
   "cell_type": "code",
   "execution_count": null,
   "metadata": {
    "ExecuteTime": {
     "end_time": "2020-11-07T06:27:20.644136Z",
     "start_time": "2020-11-07T06:27:20.618176Z"
    }
   },
   "outputs": [],
   "source": [
    "stops_df = pd.read_csv('./output/stops.csv', low_memory=False)\n",
    "stops_df.info()"
   ]
  },
  {
   "cell_type": "code",
   "execution_count": null,
   "metadata": {
    "ExecuteTime": {
     "end_time": "2020-11-07T07:28:24.181156Z",
     "start_time": "2020-11-07T06:34:31.998806Z"
    }
   },
   "outputs": [],
   "source": [
    "# ridership_df[(ridership_df.route_id=='99') & (ridership_df.stop_id==5327) & (ridership_df.day_type_name=='weekday')]\n",
    "stops_df['ridership'] = \"\"\n",
    "for idx, row in stops_df.iterrows():\n",
    "    print('{}/{}'.format(idx, len(stops_df)))\n",
    "    stop_id = int(row['STOP_ID'])\n",
    "    route_ids = str(row['route_ids']).split(',')\n",
    "    riderships = []\n",
    "    for route_id in route_ids:\n",
    "        weekday_ons = sum(ridership_df[(ridership_df.route_id==route_id) & (ridership_df.stop_id==stop_id) & (ridership_df.day_type_name=='weekday')].boardings) * 5\n",
    "        saturday_ons = sum(ridership_df[(ridership_df.route_id==route_id) & (ridership_df.stop_id==stop_id) & (ridership_df.day_type_name=='saturday')].boardings)\n",
    "        sunday_ons = sum(ridership_df[(ridership_df.route_id==route_id) & (ridership_df.stop_id==stop_id) & (ridership_df.day_type_name=='sunday')].boardings)\n",
    "        week_ons = weekday_ons+saturday_ons+sunday_ons\n",
    "        year_ons = week_ons * 52\n",
    "        riderships.append(\"{:.1f}\".format(year_ons))\n",
    "    stops_df.at[idx, 'ridership'] =  ','.join(riderships)\n",
    "stops_df"
   ]
  },
  {
   "cell_type": "code",
   "execution_count": null,
   "metadata": {
    "ExecuteTime": {
     "end_time": "2020-11-07T07:30:23.892823Z",
     "start_time": "2020-11-07T07:30:23.854962Z"
    }
   },
   "outputs": [],
   "source": [
    "stops_df.to_csv('./output/stops.csv', index_label=False)"
   ]
  },
  {
   "cell_type": "markdown",
   "metadata": {
    "ExecuteTime": {
     "end_time": "2020-11-07T07:30:34.187312Z",
     "start_time": "2020-11-07T07:30:34.169380Z"
    }
   },
   "source": [
    "### 4. Calculate annual renevue for each stop, note: reduced fare, monthly pass\n",
    "Here I assume the revenue composition (payment method) is fixed for each route, and that a rider uses a monthly pass twice every weekday, and that a month has 22 weekdays."
   ]
  },
  {
   "cell_type": "code",
   "execution_count": null,
   "metadata": {
    "ExecuteTime": {
     "end_time": "2020-11-07T07:58:24.944957Z",
     "start_time": "2020-11-07T07:58:24.911021Z"
    }
   },
   "outputs": [],
   "source": [
    "routes_df = pd.read_csv('./output/routes_with_fare.csv')\n",
    "routes_df"
   ]
  },
  {
   "cell_type": "code",
   "execution_count": null,
   "metadata": {
    "ExecuteTime": {
     "end_time": "2020-11-07T08:34:36.497095Z",
     "start_time": "2020-11-07T08:34:29.872845Z"
    }
   },
   "outputs": [],
   "source": [
    "stops_df['revenues'] = \"\"\n",
    "\n",
    "for idx, row in stops_df.iterrows():    \n",
    "    route_ids = str(row['route_ids']).split(',')\n",
    "    riderships = [float(x) for x in str(row['ridership']).split(',')]\n",
    "    assert len(route_ids)==len(riderships)\n",
    "    \n",
    "    revenues = []\n",
    "    for i in range(len(riderships)):\n",
    "        route_id = route_ids[i]\n",
    "        ridership = riderships[i]\n",
    "        \n",
    "        route_info = routes_df[routes_df.route_id == route_id]\n",
    "        if len(route_info)==0:\n",
    "            # no route info, assume it as local bus\n",
    "            fare = 1.7\n",
    "            fare_reduced = 0.85\n",
    "        else:\n",
    "            fare = float(route_info.fare)\n",
    "            fare_reduced = float(route_info.reduced_fare)\n",
    "        \n",
    "        # monthly pass - 70%\n",
    "        ridership_monthlyPass = ridership * 0.7\n",
    "        revenue_0 = ridership_monthlyPass * 0.17 * (30/(22*2))\n",
    "        revenue_1 = ridership_monthlyPass * 0.1 * (55/(22*2))\n",
    "        revenue_2 = ridership_monthlyPass * 0.69 * (90/(22*2))\n",
    "        revenue_3 = ridership_monthlyPass * 0.04 * (90/(22*2))\n",
    "        revenue_monthlyPass = revenue_0 + revenue_1 + revenue_2 + revenue_3\n",
    "        \n",
    "        # pay-per-ride - 22%\n",
    "        ridership_payPerRide = ridership * 0.22\n",
    "        revenue_4 = ridership_payPerRide * 0.03 * 1.7\n",
    "        revenue_5 = ridership_payPerRide * 0.16 * fare_reduced\n",
    "        revenue_6 = ridership_payPerRide * 0.79 * fare\n",
    "        revenue_payPerRide = revenue_4 + revenue_5 + revenue_6\n",
    "        \n",
    "        # others, ignore\n",
    "        # sum up\n",
    "        revenues.append(\"{:.1f}\".format(revenue_monthlyPass+revenue_payPerRide))\n",
    "    stops_df.at[idx, 'revenues'] = ','.join(revenues)\n",
    "\n",
    "stops_df"
   ]
  },
  {
   "cell_type": "code",
   "execution_count": null,
   "metadata": {
    "ExecuteTime": {
     "end_time": "2020-11-07T08:38:02.005252Z",
     "start_time": "2020-11-07T08:38:01.435749Z"
    }
   },
   "outputs": [],
   "source": [
    "# Add revenues up for each stop\n",
    "stops_df['revenue_annual'] = \"\"\n",
    "for idx, row in stops_df.iterrows():\n",
    "    revenues = list(map(float, str(row['revenues']).split(',')))\n",
    "    stops_df.at[idx, 'revenue_annual'] = sum(revenues)\n",
    "stops_df"
   ]
  },
  {
   "cell_type": "code",
   "execution_count": null,
   "metadata": {
    "ExecuteTime": {
     "end_time": "2020-11-07T08:38:39.032112Z",
     "start_time": "2020-11-07T08:38:38.995184Z"
    }
   },
   "outputs": [],
   "source": [
    "stops_df.to_csv('./output/stops.csv', index_label=False)"
   ]
  },
  {
   "cell_type": "markdown",
   "metadata": {},
   "source": [
    "## Step 5: Identify which bus routes, stops, or zones would have the most positive effect on low income riders if free. Identify which towns would be impacted?\n",
    "1. Draw a 0.5 mile radius circle around each stop, store as a column\n",
    "2. Calculate percentage of the interception between the circle and tracts\n",
    "2. Calculate median income for people that the stop impacts"
   ]
  },
  {
   "cell_type": "code",
   "execution_count": 12,
   "metadata": {
    "ExecuteTime": {
     "end_time": "2020-11-22T08:43:42.745549Z",
     "start_time": "2020-11-22T08:43:42.740563Z"
    }
   },
   "outputs": [],
   "source": [
    "import pandas as pd\n",
    "import geopandas as gpd\n",
    "from shapely.geometry import Polygon"
   ]
  },
  {
   "cell_type": "markdown",
   "metadata": {},
   "source": [
    "### 0. Preprocessing"
   ]
  },
  {
   "cell_type": "code",
   "execution_count": 7,
   "metadata": {
    "ExecuteTime": {
     "end_time": "2020-11-22T08:32:02.000025Z",
     "start_time": "2020-11-22T08:32:01.948165Z"
    }
   },
   "outputs": [
    {
     "data": {
      "text/html": [
       "<div>\n",
       "<style scoped>\n",
       "    .dataframe tbody tr th:only-of-type {\n",
       "        vertical-align: middle;\n",
       "    }\n",
       "\n",
       "    .dataframe tbody tr th {\n",
       "        vertical-align: top;\n",
       "    }\n",
       "\n",
       "    .dataframe thead th {\n",
       "        text-align: right;\n",
       "    }\n",
       "</style>\n",
       "<table border=\"1\" class=\"dataframe\">\n",
       "  <thead>\n",
       "    <tr style=\"text-align: right;\">\n",
       "      <th></th>\n",
       "      <th>field_1</th>\n",
       "      <th>tract_id</th>\n",
       "      <th>public_transport</th>\n",
       "      <th>walking</th>\n",
       "      <th>other</th>\n",
       "      <th>total_employed</th>\n",
       "      <th>income</th>\n",
       "      <th>impacted_pop</th>\n",
       "      <th>geometry</th>\n",
       "    </tr>\n",
       "  </thead>\n",
       "  <tbody>\n",
       "    <tr>\n",
       "      <th>0</th>\n",
       "      <td>1</td>\n",
       "      <td>010100</td>\n",
       "      <td>34</td>\n",
       "      <td>391</td>\n",
       "      <td>208</td>\n",
       "      <td>1658</td>\n",
       "      <td>50741</td>\n",
       "      <td>633</td>\n",
       "      <td>None</td>\n",
       "    </tr>\n",
       "    <tr>\n",
       "      <th>1</th>\n",
       "      <td>2</td>\n",
       "      <td>010206</td>\n",
       "      <td>26</td>\n",
       "      <td>86</td>\n",
       "      <td>57</td>\n",
       "      <td>1620</td>\n",
       "      <td>69267</td>\n",
       "      <td>169</td>\n",
       "      <td>None</td>\n",
       "    </tr>\n",
       "    <tr>\n",
       "      <th>2</th>\n",
       "      <td>3</td>\n",
       "      <td>010208</td>\n",
       "      <td>0</td>\n",
       "      <td>1</td>\n",
       "      <td>8</td>\n",
       "      <td>604</td>\n",
       "      <td>65446</td>\n",
       "      <td>9</td>\n",
       "      <td>None</td>\n",
       "    </tr>\n",
       "    <tr>\n",
       "      <th>3</th>\n",
       "      <td>4</td>\n",
       "      <td>010304</td>\n",
       "      <td>18</td>\n",
       "      <td>0</td>\n",
       "      <td>12</td>\n",
       "      <td>1077</td>\n",
       "      <td>79044</td>\n",
       "      <td>30</td>\n",
       "      <td>None</td>\n",
       "    </tr>\n",
       "    <tr>\n",
       "      <th>4</th>\n",
       "      <td>5</td>\n",
       "      <td>010306</td>\n",
       "      <td>0</td>\n",
       "      <td>67</td>\n",
       "      <td>41</td>\n",
       "      <td>1087</td>\n",
       "      <td>62553</td>\n",
       "      <td>108</td>\n",
       "      <td>None</td>\n",
       "    </tr>\n",
       "    <tr>\n",
       "      <th>...</th>\n",
       "      <td>...</td>\n",
       "      <td>...</td>\n",
       "      <td>...</td>\n",
       "      <td>...</td>\n",
       "      <td>...</td>\n",
       "      <td>...</td>\n",
       "      <td>...</td>\n",
       "      <td>...</td>\n",
       "      <td>...</td>\n",
       "    </tr>\n",
       "    <tr>\n",
       "      <th>1473</th>\n",
       "      <td>1474</td>\n",
       "      <td>760100</td>\n",
       "      <td>2</td>\n",
       "      <td>15</td>\n",
       "      <td>10</td>\n",
       "      <td>1804</td>\n",
       "      <td>68125</td>\n",
       "      <td>27</td>\n",
       "      <td>None</td>\n",
       "    </tr>\n",
       "    <tr>\n",
       "      <th>1474</th>\n",
       "      <td>1475</td>\n",
       "      <td>761100</td>\n",
       "      <td>0</td>\n",
       "      <td>24</td>\n",
       "      <td>0</td>\n",
       "      <td>2673</td>\n",
       "      <td>69851</td>\n",
       "      <td>24</td>\n",
       "      <td>None</td>\n",
       "    </tr>\n",
       "    <tr>\n",
       "      <th>1475</th>\n",
       "      <td>1476</td>\n",
       "      <td>761200</td>\n",
       "      <td>142</td>\n",
       "      <td>32</td>\n",
       "      <td>38</td>\n",
       "      <td>2511</td>\n",
       "      <td>77938</td>\n",
       "      <td>212</td>\n",
       "      <td>None</td>\n",
       "    </tr>\n",
       "    <tr>\n",
       "      <th>1476</th>\n",
       "      <td>1477</td>\n",
       "      <td>761300</td>\n",
       "      <td>33</td>\n",
       "      <td>10</td>\n",
       "      <td>78</td>\n",
       "      <td>1931</td>\n",
       "      <td>94122</td>\n",
       "      <td>121</td>\n",
       "      <td>None</td>\n",
       "    </tr>\n",
       "    <tr>\n",
       "      <th>1477</th>\n",
       "      <td>1478</td>\n",
       "      <td>761400</td>\n",
       "      <td>172</td>\n",
       "      <td>51</td>\n",
       "      <td>7</td>\n",
       "      <td>2707</td>\n",
       "      <td>148625</td>\n",
       "      <td>230</td>\n",
       "      <td>None</td>\n",
       "    </tr>\n",
       "  </tbody>\n",
       "</table>\n",
       "<p>1478 rows × 9 columns</p>\n",
       "</div>"
      ],
      "text/plain": [
       "     field_1 tract_id public_transport walking other total_employed  income  \\\n",
       "0          1   010100               34     391   208           1658   50741   \n",
       "1          2   010206               26      86    57           1620   69267   \n",
       "2          3   010208                0       1     8            604   65446   \n",
       "3          4   010304               18       0    12           1077   79044   \n",
       "4          5   010306                0      67    41           1087   62553   \n",
       "...      ...      ...              ...     ...   ...            ...     ...   \n",
       "1473    1474   760100                2      15    10           1804   68125   \n",
       "1474    1475   761100                0      24     0           2673   69851   \n",
       "1475    1476   761200              142      32    38           2511   77938   \n",
       "1476    1477   761300               33      10    78           1931   94122   \n",
       "1477    1478   761400              172      51     7           2707  148625   \n",
       "\n",
       "     impacted_pop geometry  \n",
       "0             633     None  \n",
       "1             169     None  \n",
       "2               9     None  \n",
       "3              30     None  \n",
       "4             108     None  \n",
       "...           ...      ...  \n",
       "1473           27     None  \n",
       "1474           24     None  \n",
       "1475          212     None  \n",
       "1476          121     None  \n",
       "1477          230     None  \n",
       "\n",
       "[1478 rows x 9 columns]"
      ]
     },
     "execution_count": 7,
     "metadata": {},
     "output_type": "execute_result"
    }
   ],
   "source": [
    "# load tract info\n",
    "gdf_tract = gpd.read_file('./output/tracts_with_population.csv')\n",
    "gdf_tract"
   ]
  },
  {
   "cell_type": "code",
   "execution_count": 17,
   "metadata": {
    "ExecuteTime": {
     "end_time": "2020-11-22T08:54:50.469808Z",
     "start_time": "2020-11-22T08:54:50.236413Z"
    }
   },
   "outputs": [
    {
     "data": {
      "text/html": [
       "<div>\n",
       "<style scoped>\n",
       "    .dataframe tbody tr th:only-of-type {\n",
       "        vertical-align: middle;\n",
       "    }\n",
       "\n",
       "    .dataframe tbody tr th {\n",
       "        vertical-align: top;\n",
       "    }\n",
       "\n",
       "    .dataframe thead th {\n",
       "        text-align: right;\n",
       "    }\n",
       "</style>\n",
       "<table border=\"1\" class=\"dataframe\">\n",
       "  <thead>\n",
       "    <tr style=\"text-align: right;\">\n",
       "      <th></th>\n",
       "      <th>STATEFP</th>\n",
       "      <th>COUNTYFP</th>\n",
       "      <th>TRACTCE</th>\n",
       "      <th>GEOID</th>\n",
       "      <th>NAME</th>\n",
       "      <th>NAMELSAD</th>\n",
       "      <th>MTFCC</th>\n",
       "      <th>FUNCSTAT</th>\n",
       "      <th>ALAND</th>\n",
       "      <th>AWATER</th>\n",
       "      <th>INTPTLAT</th>\n",
       "      <th>INTPTLON</th>\n",
       "      <th>geometry</th>\n",
       "    </tr>\n",
       "  </thead>\n",
       "  <tbody>\n",
       "    <tr>\n",
       "      <th>0</th>\n",
       "      <td>25</td>\n",
       "      <td>027</td>\n",
       "      <td>724100</td>\n",
       "      <td>25027724100</td>\n",
       "      <td>7241</td>\n",
       "      <td>Census Tract 7241</td>\n",
       "      <td>G5020</td>\n",
       "      <td>S</td>\n",
       "      <td>53031300</td>\n",
       "      <td>1639215</td>\n",
       "      <td>+42.2566908</td>\n",
       "      <td>-072.1581690</td>\n",
       "      <td>POLYGON ((-72.21782 42.27018, -72.21765 42.270...</td>\n",
       "    </tr>\n",
       "    <tr>\n",
       "      <th>1</th>\n",
       "      <td>25</td>\n",
       "      <td>027</td>\n",
       "      <td>759100</td>\n",
       "      <td>25027759100</td>\n",
       "      <td>7591</td>\n",
       "      <td>Census Tract 7591</td>\n",
       "      <td>G5020</td>\n",
       "      <td>S</td>\n",
       "      <td>25548737</td>\n",
       "      <td>1449315</td>\n",
       "      <td>+42.2096822</td>\n",
       "      <td>-072.0401777</td>\n",
       "      <td>POLYGON ((-72.07888 42.21475, -72.07880 42.214...</td>\n",
       "    </tr>\n",
       "    <tr>\n",
       "      <th>2</th>\n",
       "      <td>25</td>\n",
       "      <td>001</td>\n",
       "      <td>012601</td>\n",
       "      <td>25001012601</td>\n",
       "      <td>126.01</td>\n",
       "      <td>Census Tract 126.01</td>\n",
       "      <td>G5020</td>\n",
       "      <td>S</td>\n",
       "      <td>3467387</td>\n",
       "      <td>9794</td>\n",
       "      <td>+41.6624989</td>\n",
       "      <td>-070.3180404</td>\n",
       "      <td>POLYGON ((-70.34011 41.65738, -70.33993 41.657...</td>\n",
       "    </tr>\n",
       "    <tr>\n",
       "      <th>3</th>\n",
       "      <td>25</td>\n",
       "      <td>025</td>\n",
       "      <td>170501</td>\n",
       "      <td>25025170501</td>\n",
       "      <td>1705.01</td>\n",
       "      <td>Census Tract 1705.01</td>\n",
       "      <td>G5020</td>\n",
       "      <td>S</td>\n",
       "      <td>955798</td>\n",
       "      <td>593136</td>\n",
       "      <td>+42.4150328</td>\n",
       "      <td>-070.9902217</td>\n",
       "      <td>POLYGON ((-71.00017 42.40962, -70.99989 42.410...</td>\n",
       "    </tr>\n",
       "    <tr>\n",
       "      <th>4</th>\n",
       "      <td>25</td>\n",
       "      <td>027</td>\n",
       "      <td>709701</td>\n",
       "      <td>25027709701</td>\n",
       "      <td>7097.01</td>\n",
       "      <td>Census Tract 7097.01</td>\n",
       "      <td>G5020</td>\n",
       "      <td>S</td>\n",
       "      <td>4528209</td>\n",
       "      <td>138136</td>\n",
       "      <td>+42.5450353</td>\n",
       "      <td>-071.7748626</td>\n",
       "      <td>POLYGON ((-71.79318 42.55169, -71.79318 42.551...</td>\n",
       "    </tr>\n",
       "    <tr>\n",
       "      <th>...</th>\n",
       "      <td>...</td>\n",
       "      <td>...</td>\n",
       "      <td>...</td>\n",
       "      <td>...</td>\n",
       "      <td>...</td>\n",
       "      <td>...</td>\n",
       "      <td>...</td>\n",
       "      <td>...</td>\n",
       "      <td>...</td>\n",
       "      <td>...</td>\n",
       "      <td>...</td>\n",
       "      <td>...</td>\n",
       "      <td>...</td>\n",
       "    </tr>\n",
       "    <tr>\n",
       "      <th>1473</th>\n",
       "      <td>25</td>\n",
       "      <td>017</td>\n",
       "      <td>327101</td>\n",
       "      <td>25017327101</td>\n",
       "      <td>3271.01</td>\n",
       "      <td>Census Tract 3271.01</td>\n",
       "      <td>G5020</td>\n",
       "      <td>S</td>\n",
       "      <td>26558716</td>\n",
       "      <td>247557</td>\n",
       "      <td>+42.6915092</td>\n",
       "      <td>-071.6012063</td>\n",
       "      <td>POLYGON ((-71.65350 42.67514, -71.65317 42.677...</td>\n",
       "    </tr>\n",
       "    <tr>\n",
       "      <th>1474</th>\n",
       "      <td>25</td>\n",
       "      <td>017</td>\n",
       "      <td>339600</td>\n",
       "      <td>25017339600</td>\n",
       "      <td>3396</td>\n",
       "      <td>Census Tract 3396</td>\n",
       "      <td>G5020</td>\n",
       "      <td>S</td>\n",
       "      <td>822656</td>\n",
       "      <td>1211</td>\n",
       "      <td>+42.4030836</td>\n",
       "      <td>-071.1095720</td>\n",
       "      <td>POLYGON ((-71.11622 42.40753, -71.11553 42.408...</td>\n",
       "    </tr>\n",
       "    <tr>\n",
       "      <th>1475</th>\n",
       "      <td>25</td>\n",
       "      <td>017</td>\n",
       "      <td>315401</td>\n",
       "      <td>25017315401</td>\n",
       "      <td>3154.01</td>\n",
       "      <td>Census Tract 3154.01</td>\n",
       "      <td>G5020</td>\n",
       "      <td>S</td>\n",
       "      <td>5029481</td>\n",
       "      <td>81407</td>\n",
       "      <td>+42.6046501</td>\n",
       "      <td>-071.2009317</td>\n",
       "      <td>POLYGON ((-71.22615 42.60688, -71.22614 42.606...</td>\n",
       "    </tr>\n",
       "    <tr>\n",
       "      <th>1476</th>\n",
       "      <td>25</td>\n",
       "      <td>017</td>\n",
       "      <td>387201</td>\n",
       "      <td>25017387201</td>\n",
       "      <td>3872.01</td>\n",
       "      <td>Census Tract 3872.01</td>\n",
       "      <td>G5020</td>\n",
       "      <td>S</td>\n",
       "      <td>13008281</td>\n",
       "      <td>162620</td>\n",
       "      <td>+42.2180228</td>\n",
       "      <td>-071.4328201</td>\n",
       "      <td>POLYGON ((-71.45856 42.23211, -71.45045 42.233...</td>\n",
       "    </tr>\n",
       "    <tr>\n",
       "      <th>1477</th>\n",
       "      <td>25</td>\n",
       "      <td>017</td>\n",
       "      <td>374700</td>\n",
       "      <td>25017374700</td>\n",
       "      <td>3747</td>\n",
       "      <td>Census Tract 3747</td>\n",
       "      <td>G5020</td>\n",
       "      <td>S</td>\n",
       "      <td>2368751</td>\n",
       "      <td>173627</td>\n",
       "      <td>+42.3500310</td>\n",
       "      <td>-071.2482919</td>\n",
       "      <td>POLYGON ((-71.26189 42.34206, -71.26188 42.342...</td>\n",
       "    </tr>\n",
       "  </tbody>\n",
       "</table>\n",
       "<p>1478 rows × 13 columns</p>\n",
       "</div>"
      ],
      "text/plain": [
       "     STATEFP COUNTYFP TRACTCE        GEOID     NAME              NAMELSAD  \\\n",
       "0         25      027  724100  25027724100     7241     Census Tract 7241   \n",
       "1         25      027  759100  25027759100     7591     Census Tract 7591   \n",
       "2         25      001  012601  25001012601   126.01   Census Tract 126.01   \n",
       "3         25      025  170501  25025170501  1705.01  Census Tract 1705.01   \n",
       "4         25      027  709701  25027709701  7097.01  Census Tract 7097.01   \n",
       "...      ...      ...     ...          ...      ...                   ...   \n",
       "1473      25      017  327101  25017327101  3271.01  Census Tract 3271.01   \n",
       "1474      25      017  339600  25017339600     3396     Census Tract 3396   \n",
       "1475      25      017  315401  25017315401  3154.01  Census Tract 3154.01   \n",
       "1476      25      017  387201  25017387201  3872.01  Census Tract 3872.01   \n",
       "1477      25      017  374700  25017374700     3747     Census Tract 3747   \n",
       "\n",
       "      MTFCC FUNCSTAT     ALAND   AWATER     INTPTLAT      INTPTLON  \\\n",
       "0     G5020        S  53031300  1639215  +42.2566908  -072.1581690   \n",
       "1     G5020        S  25548737  1449315  +42.2096822  -072.0401777   \n",
       "2     G5020        S   3467387     9794  +41.6624989  -070.3180404   \n",
       "3     G5020        S    955798   593136  +42.4150328  -070.9902217   \n",
       "4     G5020        S   4528209   138136  +42.5450353  -071.7748626   \n",
       "...     ...      ...       ...      ...          ...           ...   \n",
       "1473  G5020        S  26558716   247557  +42.6915092  -071.6012063   \n",
       "1474  G5020        S    822656     1211  +42.4030836  -071.1095720   \n",
       "1475  G5020        S   5029481    81407  +42.6046501  -071.2009317   \n",
       "1476  G5020        S  13008281   162620  +42.2180228  -071.4328201   \n",
       "1477  G5020        S   2368751   173627  +42.3500310  -071.2482919   \n",
       "\n",
       "                                               geometry  \n",
       "0     POLYGON ((-72.21782 42.27018, -72.21765 42.270...  \n",
       "1     POLYGON ((-72.07888 42.21475, -72.07880 42.214...  \n",
       "2     POLYGON ((-70.34011 41.65738, -70.33993 41.657...  \n",
       "3     POLYGON ((-71.00017 42.40962, -70.99989 42.410...  \n",
       "4     POLYGON ((-71.79318 42.55169, -71.79318 42.551...  \n",
       "...                                                 ...  \n",
       "1473  POLYGON ((-71.65350 42.67514, -71.65317 42.677...  \n",
       "1474  POLYGON ((-71.11622 42.40753, -71.11553 42.408...  \n",
       "1475  POLYGON ((-71.22615 42.60688, -71.22614 42.606...  \n",
       "1476  POLYGON ((-71.45856 42.23211, -71.45045 42.233...  \n",
       "1477  POLYGON ((-71.26189 42.34206, -71.26188 42.342...  \n",
       "\n",
       "[1478 rows x 13 columns]"
      ]
     },
     "execution_count": 17,
     "metadata": {},
     "output_type": "execute_result"
    }
   ],
   "source": [
    "df = gpd.read_file('./data/census_tract/tl_2019_25_tract/tl_2019_25_tract.shp')\n",
    "df"
   ]
  },
  {
   "cell_type": "code",
   "execution_count": null,
   "metadata": {},
   "outputs": [],
   "source": [
    "gdf_tract['geometry'] = Polygon()\n",
    "for idf, row in gdf_tract.iterrows():\n",
    "    \n"
   ]
  },
  {
   "cell_type": "code",
   "execution_count": 8,
   "metadata": {
    "ExecuteTime": {
     "end_time": "2020-11-22T08:32:11.608853Z",
     "start_time": "2020-11-22T08:32:11.368451Z"
    }
   },
   "outputs": [
    {
     "data": {
      "text/html": [
       "<div>\n",
       "<style scoped>\n",
       "    .dataframe tbody tr th:only-of-type {\n",
       "        vertical-align: middle;\n",
       "    }\n",
       "\n",
       "    .dataframe tbody tr th {\n",
       "        vertical-align: top;\n",
       "    }\n",
       "\n",
       "    .dataframe thead th {\n",
       "        text-align: right;\n",
       "    }\n",
       "</style>\n",
       "<table border=\"1\" class=\"dataframe\">\n",
       "  <thead>\n",
       "    <tr style=\"text-align: right;\">\n",
       "      <th></th>\n",
       "      <th>STOP_ID</th>\n",
       "      <th>STOP_NAME</th>\n",
       "      <th>TOWN</th>\n",
       "      <th>TOWN_ID</th>\n",
       "      <th>geometry</th>\n",
       "    </tr>\n",
       "  </thead>\n",
       "  <tbody>\n",
       "    <tr>\n",
       "      <th>0</th>\n",
       "      <td>3077</td>\n",
       "      <td>Gallivan Blvd @ opp Marsh St</td>\n",
       "      <td>BOSTON</td>\n",
       "      <td>35</td>\n",
       "      <td>POINT (237120.669 892643.408)</td>\n",
       "    </tr>\n",
       "    <tr>\n",
       "      <th>1</th>\n",
       "      <td>841</td>\n",
       "      <td>Lagrange St @ Virgil Rd</td>\n",
       "      <td>BOSTON</td>\n",
       "      <td>35</td>\n",
       "      <td>POINT (227915.195 892644.017)</td>\n",
       "    </tr>\n",
       "    <tr>\n",
       "      <th>2</th>\n",
       "      <td>446</td>\n",
       "      <td>Norfolk St @ Nelson St</td>\n",
       "      <td>BOSTON</td>\n",
       "      <td>35</td>\n",
       "      <td>POINT (234385.661 892644.944)</td>\n",
       "    </tr>\n",
       "    <tr>\n",
       "      <th>3</th>\n",
       "      <td>847</td>\n",
       "      <td>Lagrange St opp Virgil St</td>\n",
       "      <td>BOSTON</td>\n",
       "      <td>35</td>\n",
       "      <td>POINT (227912.601 892650.156)</td>\n",
       "    </tr>\n",
       "    <tr>\n",
       "      <th>4</th>\n",
       "      <td>3079</td>\n",
       "      <td>Adams St @ Minot St</td>\n",
       "      <td>BOSTON</td>\n",
       "      <td>35</td>\n",
       "      <td>POINT (236644.812 892651.990)</td>\n",
       "    </tr>\n",
       "    <tr>\n",
       "      <th>...</th>\n",
       "      <td>...</td>\n",
       "      <td>...</td>\n",
       "      <td>...</td>\n",
       "      <td>...</td>\n",
       "      <td>...</td>\n",
       "    </tr>\n",
       "    <tr>\n",
       "      <th>7805</th>\n",
       "      <td>9097</td>\n",
       "      <td>Grove St @ Lebanon St</td>\n",
       "      <td>MELROSE</td>\n",
       "      <td>178</td>\n",
       "      <td>POINT (236229.381 911541.866)</td>\n",
       "    </tr>\n",
       "    <tr>\n",
       "      <th>7806</th>\n",
       "      <td>5911</td>\n",
       "      <td>Grove St @ Lebanon St</td>\n",
       "      <td>MELROSE</td>\n",
       "      <td>178</td>\n",
       "      <td>POINT (236236.036 911542.538)</td>\n",
       "    </tr>\n",
       "    <tr>\n",
       "      <th>7807</th>\n",
       "      <td>5975</td>\n",
       "      <td>Wyoming Ave opp Cleveland St</td>\n",
       "      <td>MELROSE</td>\n",
       "      <td>178</td>\n",
       "      <td>POINT (234977.387 911544.999)</td>\n",
       "    </tr>\n",
       "    <tr>\n",
       "      <th>7808</th>\n",
       "      <td>15976</td>\n",
       "      <td>Wyoming Ave @ Cleveland St</td>\n",
       "      <td>MELROSE</td>\n",
       "      <td>178</td>\n",
       "      <td>POINT (234971.098 911547.184)</td>\n",
       "    </tr>\n",
       "    <tr>\n",
       "      <th>7809</th>\n",
       "      <td>5912</td>\n",
       "      <td>Grove St @ Faxon St</td>\n",
       "      <td>MELROSE</td>\n",
       "      <td>178</td>\n",
       "      <td>POINT (236456.969 911577.351)</td>\n",
       "    </tr>\n",
       "  </tbody>\n",
       "</table>\n",
       "<p>7810 rows × 5 columns</p>\n",
       "</div>"
      ],
      "text/plain": [
       "      STOP_ID                     STOP_NAME     TOWN  TOWN_ID  \\\n",
       "0        3077  Gallivan Blvd @ opp Marsh St   BOSTON       35   \n",
       "1         841       Lagrange St @ Virgil Rd   BOSTON       35   \n",
       "2         446        Norfolk St @ Nelson St   BOSTON       35   \n",
       "3         847     Lagrange St opp Virgil St   BOSTON       35   \n",
       "4        3079           Adams St @ Minot St   BOSTON       35   \n",
       "...       ...                           ...      ...      ...   \n",
       "7805     9097         Grove St @ Lebanon St  MELROSE      178   \n",
       "7806     5911         Grove St @ Lebanon St  MELROSE      178   \n",
       "7807     5975  Wyoming Ave opp Cleveland St  MELROSE      178   \n",
       "7808    15976    Wyoming Ave @ Cleveland St  MELROSE      178   \n",
       "7809     5912           Grove St @ Faxon St  MELROSE      178   \n",
       "\n",
       "                           geometry  \n",
       "0     POINT (237120.669 892643.408)  \n",
       "1     POINT (227915.195 892644.017)  \n",
       "2     POINT (234385.661 892644.944)  \n",
       "3     POINT (227912.601 892650.156)  \n",
       "4     POINT (236644.812 892651.990)  \n",
       "...                             ...  \n",
       "7805  POINT (236229.381 911541.866)  \n",
       "7806  POINT (236236.036 911542.538)  \n",
       "7807  POINT (234977.387 911544.999)  \n",
       "7808  POINT (234971.098 911547.184)  \n",
       "7809  POINT (236456.969 911577.351)  \n",
       "\n",
       "[7810 rows x 5 columns]"
      ]
     },
     "execution_count": 8,
     "metadata": {},
     "output_type": "execute_result"
    }
   ],
   "source": [
    "# load stop info\n",
    "gdf_stop = gpd.read_file('./data/stops&routes/mbtabus/MBTABUSSTOPS_PT.shp')\n",
    "gdf_stop"
   ]
  },
  {
   "cell_type": "markdown",
   "metadata": {},
   "source": [
    "### 1. Draw a 0.5 mile radius circle around each stop, store as a column"
   ]
  },
  {
   "cell_type": "code",
   "execution_count": 11,
   "metadata": {
    "ExecuteTime": {
     "end_time": "2020-11-22T08:39:40.704744Z",
     "start_time": "2020-11-22T08:39:40.685795Z"
    }
   },
   "outputs": [
    {
     "data": {
      "text/plain": [
       "<Projected CRS: EPSG:26986>\n",
       "Name: NAD83 / Massachusetts Mainland\n",
       "Axis Info [cartesian]:\n",
       "- X[east]: Easting (metre)\n",
       "- Y[north]: Northing (metre)\n",
       "Area of Use:\n",
       "- name: USA - Massachusetts - SPCS - mainland\n",
       "- bounds: (-73.5, 41.46, -69.86, 42.89)\n",
       "Coordinate Operation:\n",
       "- name: SPCS83 Massachusetts Mainland zone (meters)\n",
       "- method: Lambert Conic Conformal (2SP)\n",
       "Datum: North American Datum 1983\n",
       "- Ellipsoid: GRS 1980\n",
       "- Prime Meridian: Greenwich"
      ]
     },
     "execution_count": 11,
     "metadata": {},
     "output_type": "execute_result"
    }
   ],
   "source": [
    "# This shows the unit of distance\n",
    "gdf_stop.crs"
   ]
  },
  {
   "cell_type": "code",
   "execution_count": 13,
   "metadata": {
    "ExecuteTime": {
     "end_time": "2020-11-22T08:49:15.261813Z",
     "start_time": "2020-11-22T08:49:15.245856Z"
    }
   },
   "outputs": [],
   "source": [
    "def mile2meter(mile):\n",
    "    conversion_factor = 0.62137119\n",
    "    return mile / conversion_factor * 1000"
   ]
  },
  {
   "cell_type": "code",
   "execution_count": 16,
   "metadata": {
    "ExecuteTime": {
     "end_time": "2020-11-22T08:51:01.934240Z",
     "start_time": "2020-11-22T08:51:01.588127Z"
    }
   },
   "outputs": [
    {
     "data": {
      "text/html": [
       "<div>\n",
       "<style scoped>\n",
       "    .dataframe tbody tr th:only-of-type {\n",
       "        vertical-align: middle;\n",
       "    }\n",
       "\n",
       "    .dataframe tbody tr th {\n",
       "        vertical-align: top;\n",
       "    }\n",
       "\n",
       "    .dataframe thead th {\n",
       "        text-align: right;\n",
       "    }\n",
       "</style>\n",
       "<table border=\"1\" class=\"dataframe\">\n",
       "  <thead>\n",
       "    <tr style=\"text-align: right;\">\n",
       "      <th></th>\n",
       "      <th>STOP_ID</th>\n",
       "      <th>STOP_NAME</th>\n",
       "      <th>TOWN</th>\n",
       "      <th>TOWN_ID</th>\n",
       "      <th>geometry</th>\n",
       "      <th>circle</th>\n",
       "    </tr>\n",
       "  </thead>\n",
       "  <tbody>\n",
       "    <tr>\n",
       "      <th>0</th>\n",
       "      <td>3077</td>\n",
       "      <td>Gallivan Blvd @ opp Marsh St</td>\n",
       "      <td>BOSTON</td>\n",
       "      <td>35</td>\n",
       "      <td>POINT (237120.669 892643.408)</td>\n",
       "      <td>POLYGON ((237925.341 892643.408, 237921.466 89...</td>\n",
       "    </tr>\n",
       "    <tr>\n",
       "      <th>1</th>\n",
       "      <td>841</td>\n",
       "      <td>Lagrange St @ Virgil Rd</td>\n",
       "      <td>BOSTON</td>\n",
       "      <td>35</td>\n",
       "      <td>POINT (227915.195 892644.017)</td>\n",
       "      <td>POLYGON ((228719.867 892644.017, 228715.993 89...</td>\n",
       "    </tr>\n",
       "    <tr>\n",
       "      <th>2</th>\n",
       "      <td>446</td>\n",
       "      <td>Norfolk St @ Nelson St</td>\n",
       "      <td>BOSTON</td>\n",
       "      <td>35</td>\n",
       "      <td>POINT (234385.661 892644.944)</td>\n",
       "      <td>POLYGON ((235190.333 892644.944, 235186.458 89...</td>\n",
       "    </tr>\n",
       "    <tr>\n",
       "      <th>3</th>\n",
       "      <td>847</td>\n",
       "      <td>Lagrange St opp Virgil St</td>\n",
       "      <td>BOSTON</td>\n",
       "      <td>35</td>\n",
       "      <td>POINT (227912.601 892650.156)</td>\n",
       "      <td>POLYGON ((228717.273 892650.156, 228713.398 89...</td>\n",
       "    </tr>\n",
       "    <tr>\n",
       "      <th>4</th>\n",
       "      <td>3079</td>\n",
       "      <td>Adams St @ Minot St</td>\n",
       "      <td>BOSTON</td>\n",
       "      <td>35</td>\n",
       "      <td>POINT (236644.812 892651.990)</td>\n",
       "      <td>POLYGON ((237449.484 892651.990, 237445.610 89...</td>\n",
       "    </tr>\n",
       "    <tr>\n",
       "      <th>...</th>\n",
       "      <td>...</td>\n",
       "      <td>...</td>\n",
       "      <td>...</td>\n",
       "      <td>...</td>\n",
       "      <td>...</td>\n",
       "      <td>...</td>\n",
       "    </tr>\n",
       "    <tr>\n",
       "      <th>7805</th>\n",
       "      <td>9097</td>\n",
       "      <td>Grove St @ Lebanon St</td>\n",
       "      <td>MELROSE</td>\n",
       "      <td>178</td>\n",
       "      <td>POINT (236229.381 911541.866)</td>\n",
       "      <td>POLYGON ((237034.053 911541.866, 237030.178 91...</td>\n",
       "    </tr>\n",
       "    <tr>\n",
       "      <th>7806</th>\n",
       "      <td>5911</td>\n",
       "      <td>Grove St @ Lebanon St</td>\n",
       "      <td>MELROSE</td>\n",
       "      <td>178</td>\n",
       "      <td>POINT (236236.036 911542.538)</td>\n",
       "      <td>POLYGON ((237040.708 911542.538, 237036.833 91...</td>\n",
       "    </tr>\n",
       "    <tr>\n",
       "      <th>7807</th>\n",
       "      <td>5975</td>\n",
       "      <td>Wyoming Ave opp Cleveland St</td>\n",
       "      <td>MELROSE</td>\n",
       "      <td>178</td>\n",
       "      <td>POINT (234977.387 911544.999)</td>\n",
       "      <td>POLYGON ((235782.059 911544.999, 235778.185 91...</td>\n",
       "    </tr>\n",
       "    <tr>\n",
       "      <th>7808</th>\n",
       "      <td>15976</td>\n",
       "      <td>Wyoming Ave @ Cleveland St</td>\n",
       "      <td>MELROSE</td>\n",
       "      <td>178</td>\n",
       "      <td>POINT (234971.098 911547.184)</td>\n",
       "      <td>POLYGON ((235775.770 911547.184, 235771.896 91...</td>\n",
       "    </tr>\n",
       "    <tr>\n",
       "      <th>7809</th>\n",
       "      <td>5912</td>\n",
       "      <td>Grove St @ Faxon St</td>\n",
       "      <td>MELROSE</td>\n",
       "      <td>178</td>\n",
       "      <td>POINT (236456.969 911577.351)</td>\n",
       "      <td>POLYGON ((237261.641 911577.351, 237257.766 91...</td>\n",
       "    </tr>\n",
       "  </tbody>\n",
       "</table>\n",
       "<p>7810 rows × 6 columns</p>\n",
       "</div>"
      ],
      "text/plain": [
       "      STOP_ID                     STOP_NAME     TOWN  TOWN_ID  \\\n",
       "0        3077  Gallivan Blvd @ opp Marsh St   BOSTON       35   \n",
       "1         841       Lagrange St @ Virgil Rd   BOSTON       35   \n",
       "2         446        Norfolk St @ Nelson St   BOSTON       35   \n",
       "3         847     Lagrange St opp Virgil St   BOSTON       35   \n",
       "4        3079           Adams St @ Minot St   BOSTON       35   \n",
       "...       ...                           ...      ...      ...   \n",
       "7805     9097         Grove St @ Lebanon St  MELROSE      178   \n",
       "7806     5911         Grove St @ Lebanon St  MELROSE      178   \n",
       "7807     5975  Wyoming Ave opp Cleveland St  MELROSE      178   \n",
       "7808    15976    Wyoming Ave @ Cleveland St  MELROSE      178   \n",
       "7809     5912           Grove St @ Faxon St  MELROSE      178   \n",
       "\n",
       "                           geometry  \\\n",
       "0     POINT (237120.669 892643.408)   \n",
       "1     POINT (227915.195 892644.017)   \n",
       "2     POINT (234385.661 892644.944)   \n",
       "3     POINT (227912.601 892650.156)   \n",
       "4     POINT (236644.812 892651.990)   \n",
       "...                             ...   \n",
       "7805  POINT (236229.381 911541.866)   \n",
       "7806  POINT (236236.036 911542.538)   \n",
       "7807  POINT (234977.387 911544.999)   \n",
       "7808  POINT (234971.098 911547.184)   \n",
       "7809  POINT (236456.969 911577.351)   \n",
       "\n",
       "                                                 circle  \n",
       "0     POLYGON ((237925.341 892643.408, 237921.466 89...  \n",
       "1     POLYGON ((228719.867 892644.017, 228715.993 89...  \n",
       "2     POLYGON ((235190.333 892644.944, 235186.458 89...  \n",
       "3     POLYGON ((228717.273 892650.156, 228713.398 89...  \n",
       "4     POLYGON ((237449.484 892651.990, 237445.610 89...  \n",
       "...                                                 ...  \n",
       "7805  POLYGON ((237034.053 911541.866, 237030.178 91...  \n",
       "7806  POLYGON ((237040.708 911542.538, 237036.833 91...  \n",
       "7807  POLYGON ((235782.059 911544.999, 235778.185 91...  \n",
       "7808  POLYGON ((235775.770 911547.184, 235771.896 91...  \n",
       "7809  POLYGON ((237261.641 911577.351, 237257.766 91...  \n",
       "\n",
       "[7810 rows x 6 columns]"
      ]
     },
     "execution_count": 16,
     "metadata": {},
     "output_type": "execute_result"
    }
   ],
   "source": [
    "radius = mile2meter(0.5)\n",
    "gdf_stop['circle'] = gdf_stop['geometry'].buffer(radius)\n",
    "gdf_stop"
   ]
  },
  {
   "cell_type": "markdown",
   "metadata": {},
   "source": [
    "### 3. Calculate percentage of the interception between the circle and tracts"
   ]
  },
  {
   "cell_type": "code",
   "execution_count": null,
   "metadata": {},
   "outputs": [],
   "source": []
  }
 ],
 "metadata": {
  "kernelspec": {
   "display_name": "Python 3",
   "language": "python",
   "name": "python3"
  },
  "language_info": {
   "codemirror_mode": {
    "name": "ipython",
    "version": 3
   },
   "file_extension": ".py",
   "mimetype": "text/x-python",
   "name": "python",
   "nbconvert_exporter": "python",
   "pygments_lexer": "ipython3",
   "version": "3.8.5"
  }
 },
 "nbformat": 4,
 "nbformat_minor": 4
}
