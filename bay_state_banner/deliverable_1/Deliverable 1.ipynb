{
 "cells": [
  {
   "cell_type": "markdown",
   "metadata": {},
   "source": [
    "# Deliverable 1"
   ]
  },
  {
   "cell_type": "code",
   "execution_count": 1,
   "metadata": {},
   "outputs": [],
   "source": [
    "import csv\n",
    "import pandas as pd\n",
    "from sklearn.preprocessing import LabelEncoder"
   ]
  },
  {
   "source": [
    "Import the csv file with data from ABP"
   ],
   "cell_type": "markdown",
   "metadata": {}
  },
  {
   "cell_type": "code",
   "execution_count": 2,
   "metadata": {},
   "outputs": [
    {
     "output_type": "execute_result",
     "data": {
      "text/plain": [
       "Index(['permitnumber', 'worktype', 'permittypedescr', 'description',\n",
       "       'comments', 'applicant', 'declared_valuation', 'total_fees',\n",
       "       'issued_date', 'expiration_date', 'status', 'owner', 'occupancytype',\n",
       "       'sq_feet', 'address', 'city', 'state', 'zip', 'property_id',\n",
       "       'parcel_id', 'lat', 'long'],\n",
       "      dtype='object')"
      ]
     },
     "metadata": {},
     "execution_count": 2
    }
   ],
   "source": [
    "filename = \"data/abp_data.csv\"\n",
    "\n",
    "df = pd.read_csv(filename)\n",
    "df.columns"
   ]
  },
  {
   "cell_type": "code",
   "execution_count": 12,
   "metadata": {},
   "outputs": [
    {
     "output_type": "execute_result",
     "data": {
      "text/plain": [
       "       permitnumber worktype           permittypedescr  \\\n",
       "0           A100071      COB  Amendment to a Long Form   \n",
       "1          A1001012    OTHER  Amendment to a Long Form   \n",
       "2          A1001201   INTEXT  Amendment to a Long Form   \n",
       "3           A100137   EXTREN  Amendment to a Long Form   \n",
       "4          A1001913   INTREN  Amendment to a Long Form   \n",
       "...             ...      ...                       ...   \n",
       "478014    U49993435    OSEAT           Use of Premises   \n",
       "478015    U49993435    OSEAT           Use of Premises   \n",
       "478016    U49993492   TEMTRL           Use of Premises   \n",
       "478017     U4999352    DRIVE           Use of Premises   \n",
       "478018    U49996370   RESPAR           Use of Premises   \n",
       "\n",
       "                       description  \\\n",
       "0                   City of Boston   \n",
       "1                            Other   \n",
       "2           Interior/Exterior Work   \n",
       "3           Renovations - Exterior   \n",
       "4       Renovations - Interior NSC   \n",
       "...                            ...   \n",
       "478014             Outside Seating   \n",
       "478015             Outside Seating   \n",
       "478016          Temporary Trailers   \n",
       "478017       Driveway Installation   \n",
       "478018         Residential Parking   \n",
       "\n",
       "                                                 comments          applicant  \\\n",
       "0       Change connector link layout from attached enc...  Renee Santeusanio   \n",
       "1       Amend Alt943748 to erect a roof deck as per pl...   Jusimar Oliveria   \n",
       "2       Build steel balcony over garden level with sta...      Andreas Hwang   \n",
       "3       Landscaping/stonework - amending permit #2801/...                NaN   \n",
       "4       Amendment to issued permit ALT888985. relocate...       Ping Mandawe   \n",
       "...                                                   ...                ...   \n",
       "478014  Outdoor patio / amenity space for commercial o...  Christine McMahon   \n",
       "478015  Outdoor patio / amenity space for commercial o...  Christine McMahon   \n",
       "478016  Temporary Construction Trailer at Herb Chamber...   Regina  Olivieri   \n",
       "478017  Owners would like to install a curb cut and a ...    Maria Dubrowski   \n",
       "478018  use of premises for;1 car parking with new dri...      Cesar DaSilva   \n",
       "\n",
       "        declared_valuation  total_fees          issued_date  \\\n",
       "0                 40000.00       429.0  2011-11-04 11:04:58   \n",
       "1                  5000.00        70.0  2020-06-01 14:08:47   \n",
       "2                 74295.75       803.0  2019-11-13 13:38:56   \n",
       "3                 15000.00       206.0  2013-01-03 14:13:09   \n",
       "4                     1.00        33.0  2019-10-18 09:21:00   \n",
       "...                    ...         ...                  ...   \n",
       "478014                0.00        50.0  2019-09-25 11:36:11   \n",
       "478015                0.00        50.0  2019-09-25 11:36:11   \n",
       "478016             1000.00        53.0  2019-09-12 13:07:00   \n",
       "478017             2700.00        53.0  2012-05-30 14:28:59   \n",
       "478018             7000.00        62.0  2020-09-17 16:18:18   \n",
       "\n",
       "            expiration_date  ... occupancytype sq_feet  \\\n",
       "0       2012-05-04 00:00:00  ...          Comm   170.0   \n",
       "1       2020-12-01 00:00:00  ...        1-3FAM     0.0   \n",
       "2       2020-05-13 00:00:00  ...         Multi     0.0   \n",
       "3       2013-07-03 00:00:00  ...        1-2FAM     0.0   \n",
       "4       2020-04-18 00:00:00  ...          Comm     0.0   \n",
       "...                     ...  ...           ...     ...   \n",
       "478014  2020-03-25 00:00:00  ...         Mixed     0.0   \n",
       "478015  2020-03-25 00:00:00  ...         Mixed     0.0   \n",
       "478016  2020-03-12 00:00:00  ...          Comm     0.0   \n",
       "478017  2012-11-30 00:00:00  ...        1-2FAM     0.0   \n",
       "478018  2021-03-17 00:00:00  ...        1-2FAM     0.0   \n",
       "\n",
       "                          address           city state    zip property_id  \\\n",
       "0              175  W Boundary RD   West Roxbury    MA  02132       17268   \n",
       "1               15    Prospect ST    Charlestown    MA  02129      113443   \n",
       "2           211  W Springfield ST        Roxbury    MA  02118      129994   \n",
       "3       14    William Jackson AVE       Brighton    MA  02135      149852   \n",
       "4          130-140   Brighton AVE        Allston    MA  02134       20073   \n",
       "...                           ...            ...   ...    ...         ...   \n",
       "478014              3   Center Pz         Boston    MA  02108      154961   \n",
       "478015              3   Center Pz         Boston    MA  02108      154961   \n",
       "478016     1188   Commonwealth Av        Allston    MA  02134      424193   \n",
       "478017         46    Burroughs ST  Jamaica Plain    MA  02130       24047   \n",
       "478018             17    Alpha RD     Dorchester    MA  02124        2829   \n",
       "\n",
       "         parcel_id        lat       long  \n",
       "0       2012032000  42.260750 -71.149610  \n",
       "1       0202837000  42.375243 -71.057585  \n",
       "2       0402558000  42.340600 -71.080250  \n",
       "3       2204944000  42.344600 -71.154050  \n",
       "4       2100846000  42.352760 -71.131850  \n",
       "...            ...        ...        ...  \n",
       "478014  0302713000  42.359180 -71.060040  \n",
       "478015  0302717000  42.359180 -71.060040  \n",
       "478016  2101574010        NaN        NaN  \n",
       "478017  1901861000  42.313220 -71.117130  \n",
       "478018  1701099000  42.296190 -71.067970  \n",
       "\n",
       "[478019 rows x 22 columns]"
      ],
      "text/html": "<div>\n<style scoped>\n    .dataframe tbody tr th:only-of-type {\n        vertical-align: middle;\n    }\n\n    .dataframe tbody tr th {\n        vertical-align: top;\n    }\n\n    .dataframe thead th {\n        text-align: right;\n    }\n</style>\n<table border=\"1\" class=\"dataframe\">\n  <thead>\n    <tr style=\"text-align: right;\">\n      <th></th>\n      <th>permitnumber</th>\n      <th>worktype</th>\n      <th>permittypedescr</th>\n      <th>description</th>\n      <th>comments</th>\n      <th>applicant</th>\n      <th>declared_valuation</th>\n      <th>total_fees</th>\n      <th>issued_date</th>\n      <th>expiration_date</th>\n      <th>...</th>\n      <th>occupancytype</th>\n      <th>sq_feet</th>\n      <th>address</th>\n      <th>city</th>\n      <th>state</th>\n      <th>zip</th>\n      <th>property_id</th>\n      <th>parcel_id</th>\n      <th>lat</th>\n      <th>long</th>\n    </tr>\n  </thead>\n  <tbody>\n    <tr>\n      <th>0</th>\n      <td>A100071</td>\n      <td>COB</td>\n      <td>Amendment to a Long Form</td>\n      <td>City of Boston</td>\n      <td>Change connector link layout from attached enc...</td>\n      <td>Renee Santeusanio</td>\n      <td>40000.00</td>\n      <td>429.0</td>\n      <td>2011-11-04 11:04:58</td>\n      <td>2012-05-04 00:00:00</td>\n      <td>...</td>\n      <td>Comm</td>\n      <td>170.0</td>\n      <td>175  W Boundary RD</td>\n      <td>West Roxbury</td>\n      <td>MA</td>\n      <td>02132</td>\n      <td>17268</td>\n      <td>2012032000</td>\n      <td>42.260750</td>\n      <td>-71.149610</td>\n    </tr>\n    <tr>\n      <th>1</th>\n      <td>A1001012</td>\n      <td>OTHER</td>\n      <td>Amendment to a Long Form</td>\n      <td>Other</td>\n      <td>Amend Alt943748 to erect a roof deck as per pl...</td>\n      <td>Jusimar Oliveria</td>\n      <td>5000.00</td>\n      <td>70.0</td>\n      <td>2020-06-01 14:08:47</td>\n      <td>2020-12-01 00:00:00</td>\n      <td>...</td>\n      <td>1-3FAM</td>\n      <td>0.0</td>\n      <td>15    Prospect ST</td>\n      <td>Charlestown</td>\n      <td>MA</td>\n      <td>02129</td>\n      <td>113443</td>\n      <td>0202837000</td>\n      <td>42.375243</td>\n      <td>-71.057585</td>\n    </tr>\n    <tr>\n      <th>2</th>\n      <td>A1001201</td>\n      <td>INTEXT</td>\n      <td>Amendment to a Long Form</td>\n      <td>Interior/Exterior Work</td>\n      <td>Build steel balcony over garden level with sta...</td>\n      <td>Andreas Hwang</td>\n      <td>74295.75</td>\n      <td>803.0</td>\n      <td>2019-11-13 13:38:56</td>\n      <td>2020-05-13 00:00:00</td>\n      <td>...</td>\n      <td>Multi</td>\n      <td>0.0</td>\n      <td>211  W Springfield ST</td>\n      <td>Roxbury</td>\n      <td>MA</td>\n      <td>02118</td>\n      <td>129994</td>\n      <td>0402558000</td>\n      <td>42.340600</td>\n      <td>-71.080250</td>\n    </tr>\n    <tr>\n      <th>3</th>\n      <td>A100137</td>\n      <td>EXTREN</td>\n      <td>Amendment to a Long Form</td>\n      <td>Renovations - Exterior</td>\n      <td>Landscaping/stonework - amending permit #2801/...</td>\n      <td>NaN</td>\n      <td>15000.00</td>\n      <td>206.0</td>\n      <td>2013-01-03 14:13:09</td>\n      <td>2013-07-03 00:00:00</td>\n      <td>...</td>\n      <td>1-2FAM</td>\n      <td>0.0</td>\n      <td>14    William Jackson AVE</td>\n      <td>Brighton</td>\n      <td>MA</td>\n      <td>02135</td>\n      <td>149852</td>\n      <td>2204944000</td>\n      <td>42.344600</td>\n      <td>-71.154050</td>\n    </tr>\n    <tr>\n      <th>4</th>\n      <td>A1001913</td>\n      <td>INTREN</td>\n      <td>Amendment to a Long Form</td>\n      <td>Renovations - Interior NSC</td>\n      <td>Amendment to issued permit ALT888985. relocate...</td>\n      <td>Ping Mandawe</td>\n      <td>1.00</td>\n      <td>33.0</td>\n      <td>2019-10-18 09:21:00</td>\n      <td>2020-04-18 00:00:00</td>\n      <td>...</td>\n      <td>Comm</td>\n      <td>0.0</td>\n      <td>130-140   Brighton AVE</td>\n      <td>Allston</td>\n      <td>MA</td>\n      <td>02134</td>\n      <td>20073</td>\n      <td>2100846000</td>\n      <td>42.352760</td>\n      <td>-71.131850</td>\n    </tr>\n    <tr>\n      <th>...</th>\n      <td>...</td>\n      <td>...</td>\n      <td>...</td>\n      <td>...</td>\n      <td>...</td>\n      <td>...</td>\n      <td>...</td>\n      <td>...</td>\n      <td>...</td>\n      <td>...</td>\n      <td>...</td>\n      <td>...</td>\n      <td>...</td>\n      <td>...</td>\n      <td>...</td>\n      <td>...</td>\n      <td>...</td>\n      <td>...</td>\n      <td>...</td>\n      <td>...</td>\n      <td>...</td>\n    </tr>\n    <tr>\n      <th>478014</th>\n      <td>U49993435</td>\n      <td>OSEAT</td>\n      <td>Use of Premises</td>\n      <td>Outside Seating</td>\n      <td>Outdoor patio / amenity space for commercial o...</td>\n      <td>Christine McMahon</td>\n      <td>0.00</td>\n      <td>50.0</td>\n      <td>2019-09-25 11:36:11</td>\n      <td>2020-03-25 00:00:00</td>\n      <td>...</td>\n      <td>Mixed</td>\n      <td>0.0</td>\n      <td>3   Center Pz</td>\n      <td>Boston</td>\n      <td>MA</td>\n      <td>02108</td>\n      <td>154961</td>\n      <td>0302713000</td>\n      <td>42.359180</td>\n      <td>-71.060040</td>\n    </tr>\n    <tr>\n      <th>478015</th>\n      <td>U49993435</td>\n      <td>OSEAT</td>\n      <td>Use of Premises</td>\n      <td>Outside Seating</td>\n      <td>Outdoor patio / amenity space for commercial o...</td>\n      <td>Christine McMahon</td>\n      <td>0.00</td>\n      <td>50.0</td>\n      <td>2019-09-25 11:36:11</td>\n      <td>2020-03-25 00:00:00</td>\n      <td>...</td>\n      <td>Mixed</td>\n      <td>0.0</td>\n      <td>3   Center Pz</td>\n      <td>Boston</td>\n      <td>MA</td>\n      <td>02108</td>\n      <td>154961</td>\n      <td>0302717000</td>\n      <td>42.359180</td>\n      <td>-71.060040</td>\n    </tr>\n    <tr>\n      <th>478016</th>\n      <td>U49993492</td>\n      <td>TEMTRL</td>\n      <td>Use of Premises</td>\n      <td>Temporary Trailers</td>\n      <td>Temporary Construction Trailer at Herb Chamber...</td>\n      <td>Regina  Olivieri</td>\n      <td>1000.00</td>\n      <td>53.0</td>\n      <td>2019-09-12 13:07:00</td>\n      <td>2020-03-12 00:00:00</td>\n      <td>...</td>\n      <td>Comm</td>\n      <td>0.0</td>\n      <td>1188   Commonwealth Av</td>\n      <td>Allston</td>\n      <td>MA</td>\n      <td>02134</td>\n      <td>424193</td>\n      <td>2101574010</td>\n      <td>NaN</td>\n      <td>NaN</td>\n    </tr>\n    <tr>\n      <th>478017</th>\n      <td>U4999352</td>\n      <td>DRIVE</td>\n      <td>Use of Premises</td>\n      <td>Driveway Installation</td>\n      <td>Owners would like to install a curb cut and a ...</td>\n      <td>Maria Dubrowski</td>\n      <td>2700.00</td>\n      <td>53.0</td>\n      <td>2012-05-30 14:28:59</td>\n      <td>2012-11-30 00:00:00</td>\n      <td>...</td>\n      <td>1-2FAM</td>\n      <td>0.0</td>\n      <td>46    Burroughs ST</td>\n      <td>Jamaica Plain</td>\n      <td>MA</td>\n      <td>02130</td>\n      <td>24047</td>\n      <td>1901861000</td>\n      <td>42.313220</td>\n      <td>-71.117130</td>\n    </tr>\n    <tr>\n      <th>478018</th>\n      <td>U49996370</td>\n      <td>RESPAR</td>\n      <td>Use of Premises</td>\n      <td>Residential Parking</td>\n      <td>use of premises for;1 car parking with new dri...</td>\n      <td>Cesar DaSilva</td>\n      <td>7000.00</td>\n      <td>62.0</td>\n      <td>2020-09-17 16:18:18</td>\n      <td>2021-03-17 00:00:00</td>\n      <td>...</td>\n      <td>1-2FAM</td>\n      <td>0.0</td>\n      <td>17    Alpha RD</td>\n      <td>Dorchester</td>\n      <td>MA</td>\n      <td>02124</td>\n      <td>2829</td>\n      <td>1701099000</td>\n      <td>42.296190</td>\n      <td>-71.067970</td>\n    </tr>\n  </tbody>\n</table>\n<p>478019 rows × 22 columns</p>\n</div>"
     },
     "metadata": {},
     "execution_count": 12
    }
   ],
   "source": [
    "df"
   ]
  },
  {
   "source": [
    "## Preprocessing"
   ],
   "cell_type": "markdown",
   "metadata": {}
  },
  {
   "source": [
    "We decided for our first pass at the data to simply get the frequency of each applicant and each owner in the dataset. \n",
    "\n",
    "This will show us which individuals are applying for housing permits on behalf of an org the most and which orgs are requesting permits the most."
   ],
   "cell_type": "markdown",
   "metadata": {}
  },
  {
   "cell_type": "code",
   "execution_count": 3,
   "metadata": {},
   "outputs": [
    {
     "output_type": "execute_result",
     "data": {
      "text/plain": [
       "                applicant\n",
       "0       Renee Santeusanio\n",
       "1        Jusimar Oliveria\n",
       "2           Andreas Hwang\n",
       "3                     NaN\n",
       "4            Ping Mandawe\n",
       "...                   ...\n",
       "478014  Christine McMahon\n",
       "478015  Christine McMahon\n",
       "478016   Regina  Olivieri\n",
       "478017    Maria Dubrowski\n",
       "478018      Cesar DaSilva\n",
       "\n",
       "[478019 rows x 1 columns]"
      ],
      "text/html": "<div>\n<style scoped>\n    .dataframe tbody tr th:only-of-type {\n        vertical-align: middle;\n    }\n\n    .dataframe tbody tr th {\n        vertical-align: top;\n    }\n\n    .dataframe thead th {\n        text-align: right;\n    }\n</style>\n<table border=\"1\" class=\"dataframe\">\n  <thead>\n    <tr style=\"text-align: right;\">\n      <th></th>\n      <th>applicant</th>\n    </tr>\n  </thead>\n  <tbody>\n    <tr>\n      <th>0</th>\n      <td>Renee Santeusanio</td>\n    </tr>\n    <tr>\n      <th>1</th>\n      <td>Jusimar Oliveria</td>\n    </tr>\n    <tr>\n      <th>2</th>\n      <td>Andreas Hwang</td>\n    </tr>\n    <tr>\n      <th>3</th>\n      <td>NaN</td>\n    </tr>\n    <tr>\n      <th>4</th>\n      <td>Ping Mandawe</td>\n    </tr>\n    <tr>\n      <th>...</th>\n      <td>...</td>\n    </tr>\n    <tr>\n      <th>478014</th>\n      <td>Christine McMahon</td>\n    </tr>\n    <tr>\n      <th>478015</th>\n      <td>Christine McMahon</td>\n    </tr>\n    <tr>\n      <th>478016</th>\n      <td>Regina  Olivieri</td>\n    </tr>\n    <tr>\n      <th>478017</th>\n      <td>Maria Dubrowski</td>\n    </tr>\n    <tr>\n      <th>478018</th>\n      <td>Cesar DaSilva</td>\n    </tr>\n  </tbody>\n</table>\n<p>478019 rows × 1 columns</p>\n</div>"
     },
     "metadata": {},
     "execution_count": 3
    }
   ],
   "source": [
    "applicants = pd.DataFrame(df['applicant'])\n",
    "owners = pd.DataFrame(df['owner'])\n",
    "applicants"
   ]
  },
  {
   "source": [
    "Here we fill all the missing entries with the string \"na\" and cast all the entries to strings"
   ],
   "cell_type": "markdown",
   "metadata": {}
  },
  {
   "cell_type": "code",
   "execution_count": 4,
   "metadata": {},
   "outputs": [],
   "source": [
    "applicants.fillna(\"na\")\n",
    "applicants = applicants.applymap(str)\n",
    "\n",
    "owners.fillna(\"na\")\n",
    "owners = owners.applymap(str)"
   ]
  },
  {
   "source": [
    "Here we define a function for prepping a column to be encoded. To eliminate inconsistencies across how the names were entered, we make all the entries lowercase and remove the spaces."
   ],
   "cell_type": "markdown",
   "metadata": {}
  },
  {
   "cell_type": "code",
   "execution_count": 5,
   "metadata": {},
   "outputs": [],
   "source": [
    "def prep_df_column(col, generate_map=False):\n",
    "    \"\"\"\n",
    "    col: A pandas column-frame of strings\n",
    "    generate_map: Whether or not to generate a map of the original values to the edited values \n",
    "\n",
    "    Outputs the columm with all the entries set to lowercase and with spaces removed\n",
    "    \"\"\"\n",
    "    new_col = col.iloc[:, 0]\n",
    "    new_col = [name.lower().replace(\" \", \"\") for name in new_col]\n",
    "    col_map = dict()\n",
    "    if generate_map:\n",
    "        for i in range(len(new_col)):\n",
    "            col_map[new_col[i]] = col.iloc[:, 0][i]\n",
    "        return new_col, col_map\n",
    "    else:\n",
    "        return new_col"
   ]
  },
  {
   "source": [
    "We utilize the label encoder that we saw in class to encode the different string values in the columns, since we just need to get a count of the distinct entries. It probably isn't quite necessary here but it will be useful for future processing to get a handle on it."
   ],
   "cell_type": "markdown",
   "metadata": {}
  },
  {
   "cell_type": "code",
   "execution_count": 6,
   "metadata": {},
   "outputs": [],
   "source": [
    "# we split the encoders into two so they can keep track of their inverse transforms\n",
    "applcants_encoder = LabelEncoder()\n",
    "owners_encoder = LabelEncoder()\n",
    "\n",
    "# here we also optionally output the mapping between the preprocessed values and the original, which we can use for display purposes\n",
    "# however, building the map takes longer than we'd like\n",
    "# applicants_cleaned, applicants_map = prep_df_column(applicants, generate_map=True)\n",
    "# owners_cleaned, owners_map = prep_df_column(owners, generate_map=True)\n",
    "\n",
    "applicants_cleaned = prep_df_column(applicants, generate_map=False)\n",
    "owners_cleaned = prep_df_column(owners, generate_map=False)\n",
    "\n",
    "applicants_labels = pd.DataFrame(applcants_encoder.fit_transform(applicants_cleaned))\n",
    "owners_labels = pd.DataFrame(owners_encoder.fit_transform(owners_cleaned))"
   ]
  },
  {
   "source": [
    "Here we show the names of the original strings with the encoded values for display purposes."
   ],
   "cell_type": "markdown",
   "metadata": {}
  },
  {
   "cell_type": "code",
   "execution_count": 7,
   "metadata": {},
   "outputs": [
    {
     "output_type": "execute_result",
     "data": {
      "text/plain": [
       "            0              names\n",
       "0       30653  Renee Santeusanio\n",
       "1       20069   Jusimar Oliveria\n",
       "2        1256      Andreas Hwang\n",
       "3       27060                nan\n",
       "4       30052       Ping Mandawe\n",
       "...       ...                ...\n",
       "478014   5505  Christine McMahon\n",
       "478015   5505  Christine McMahon\n",
       "478016  30604   Regina  Olivieri\n",
       "478017  23488    Maria Dubrowski\n",
       "478018   4700      Cesar DaSilva\n",
       "\n",
       "[478019 rows x 2 columns]"
      ],
      "text/html": "<div>\n<style scoped>\n    .dataframe tbody tr th:only-of-type {\n        vertical-align: middle;\n    }\n\n    .dataframe tbody tr th {\n        vertical-align: top;\n    }\n\n    .dataframe thead th {\n        text-align: right;\n    }\n</style>\n<table border=\"1\" class=\"dataframe\">\n  <thead>\n    <tr style=\"text-align: right;\">\n      <th></th>\n      <th>0</th>\n      <th>names</th>\n    </tr>\n  </thead>\n  <tbody>\n    <tr>\n      <th>0</th>\n      <td>30653</td>\n      <td>Renee Santeusanio</td>\n    </tr>\n    <tr>\n      <th>1</th>\n      <td>20069</td>\n      <td>Jusimar Oliveria</td>\n    </tr>\n    <tr>\n      <th>2</th>\n      <td>1256</td>\n      <td>Andreas Hwang</td>\n    </tr>\n    <tr>\n      <th>3</th>\n      <td>27060</td>\n      <td>nan</td>\n    </tr>\n    <tr>\n      <th>4</th>\n      <td>30052</td>\n      <td>Ping Mandawe</td>\n    </tr>\n    <tr>\n      <th>...</th>\n      <td>...</td>\n      <td>...</td>\n    </tr>\n    <tr>\n      <th>478014</th>\n      <td>5505</td>\n      <td>Christine McMahon</td>\n    </tr>\n    <tr>\n      <th>478015</th>\n      <td>5505</td>\n      <td>Christine McMahon</td>\n    </tr>\n    <tr>\n      <th>478016</th>\n      <td>30604</td>\n      <td>Regina  Olivieri</td>\n    </tr>\n    <tr>\n      <th>478017</th>\n      <td>23488</td>\n      <td>Maria Dubrowski</td>\n    </tr>\n    <tr>\n      <th>478018</th>\n      <td>4700</td>\n      <td>Cesar DaSilva</td>\n    </tr>\n  </tbody>\n</table>\n<p>478019 rows × 2 columns</p>\n</div>"
     },
     "metadata": {},
     "execution_count": 7
    }
   ],
   "source": [
    "applicants_labels_with_names = applicants_labels.copy()\n",
    "applicants_labels_with_names['names'] = applicants\n",
    "\n",
    "applicants_labels_with_names"
   ]
  },
  {
   "cell_type": "code",
   "execution_count": 8,
   "metadata": {},
   "outputs": [
    {
     "output_type": "execute_result",
     "data": {
      "text/plain": [
       "            0                         names\n",
       "0       12221                CITY OF BOSTON\n",
       "1       48278        RUBIO FAMILY TRUST LLC\n",
       "2       32287  LEDERMAN US REAL ESTATE CORP\n",
       "3       37460                   MIARA SIMON\n",
       "4       34217                      MABB LLC\n",
       "...       ...                           ...\n",
       "478014  50819  SHIGO CENTER PLAZA OWNER LLC\n",
       "478015  50819  SHIGO CENTER PLAZA OWNER LLC\n",
       "478016   5524           AVONWOOD ASSOCS LPS\n",
       "478017  21276    FORTY 6 BURROUGHS ST CONDO\n",
       "478018  20928             FONTES RUDOLPHO H\n",
       "\n",
       "[478019 rows x 2 columns]"
      ],
      "text/html": "<div>\n<style scoped>\n    .dataframe tbody tr th:only-of-type {\n        vertical-align: middle;\n    }\n\n    .dataframe tbody tr th {\n        vertical-align: top;\n    }\n\n    .dataframe thead th {\n        text-align: right;\n    }\n</style>\n<table border=\"1\" class=\"dataframe\">\n  <thead>\n    <tr style=\"text-align: right;\">\n      <th></th>\n      <th>0</th>\n      <th>names</th>\n    </tr>\n  </thead>\n  <tbody>\n    <tr>\n      <th>0</th>\n      <td>12221</td>\n      <td>CITY OF BOSTON</td>\n    </tr>\n    <tr>\n      <th>1</th>\n      <td>48278</td>\n      <td>RUBIO FAMILY TRUST LLC</td>\n    </tr>\n    <tr>\n      <th>2</th>\n      <td>32287</td>\n      <td>LEDERMAN US REAL ESTATE CORP</td>\n    </tr>\n    <tr>\n      <th>3</th>\n      <td>37460</td>\n      <td>MIARA SIMON</td>\n    </tr>\n    <tr>\n      <th>4</th>\n      <td>34217</td>\n      <td>MABB LLC</td>\n    </tr>\n    <tr>\n      <th>...</th>\n      <td>...</td>\n      <td>...</td>\n    </tr>\n    <tr>\n      <th>478014</th>\n      <td>50819</td>\n      <td>SHIGO CENTER PLAZA OWNER LLC</td>\n    </tr>\n    <tr>\n      <th>478015</th>\n      <td>50819</td>\n      <td>SHIGO CENTER PLAZA OWNER LLC</td>\n    </tr>\n    <tr>\n      <th>478016</th>\n      <td>5524</td>\n      <td>AVONWOOD ASSOCS LPS</td>\n    </tr>\n    <tr>\n      <th>478017</th>\n      <td>21276</td>\n      <td>FORTY 6 BURROUGHS ST CONDO</td>\n    </tr>\n    <tr>\n      <th>478018</th>\n      <td>20928</td>\n      <td>FONTES RUDOLPHO H</td>\n    </tr>\n  </tbody>\n</table>\n<p>478019 rows × 2 columns</p>\n</div>"
     },
     "metadata": {},
     "execution_count": 8
    }
   ],
   "source": [
    "owners_labels_with_names = owners_labels.copy()\n",
    "owners_labels_with_names['names'] = owners\n",
    "\n",
    "owners_labels_with_names"
   ]
  },
  {
   "source": [
    "## Data Synthesis\n",
    "\n",
    "Now that the data has been preprocessed, we will start by getting the counts of all the distinct applicants and owners."
   ],
   "cell_type": "markdown",
   "metadata": {}
  },
  {
   "source": [
    "Here we can see Robert Trethewey has been applying on be half of the most distinct owners."
   ],
   "cell_type": "markdown",
   "metadata": {}
  },
  {
   "source": [
    "applicants_labels_vals = applicants_labels.value_counts()\n",
    "index = [tup[0] for tup in applicants_labels_vals.index]\n",
    "applicants_labels_vals.index = applcants_encoder.inverse_transform(index)\n",
    "pd.DataFrame(applicants_labels_vals)"
   ],
   "cell_type": "code",
   "metadata": {},
   "execution_count": 9,
   "outputs": [
    {
     "output_type": "execute_result",
     "data": {
      "text/plain": [
       "                     0\n",
       "nan              14215\n",
       "roberttrethewey   5892\n",
       "johnmclaughlin    3603\n",
       "paulguarracino    3253\n",
       "richardfallone    3059\n",
       "...                ...\n",
       "kevinlaik            1\n",
       "kevinlang            1\n",
       "kevinlarnach         1\n",
       "kevinlau             1\n",
       "joshualittle         1\n",
       "\n",
       "[39584 rows x 1 columns]"
      ],
      "text/html": "<div>\n<style scoped>\n    .dataframe tbody tr th:only-of-type {\n        vertical-align: middle;\n    }\n\n    .dataframe tbody tr th {\n        vertical-align: top;\n    }\n\n    .dataframe thead th {\n        text-align: right;\n    }\n</style>\n<table border=\"1\" class=\"dataframe\">\n  <thead>\n    <tr style=\"text-align: right;\">\n      <th></th>\n      <th>0</th>\n    </tr>\n  </thead>\n  <tbody>\n    <tr>\n      <th>nan</th>\n      <td>14215</td>\n    </tr>\n    <tr>\n      <th>roberttrethewey</th>\n      <td>5892</td>\n    </tr>\n    <tr>\n      <th>johnmclaughlin</th>\n      <td>3603</td>\n    </tr>\n    <tr>\n      <th>paulguarracino</th>\n      <td>3253</td>\n    </tr>\n    <tr>\n      <th>richardfallone</th>\n      <td>3059</td>\n    </tr>\n    <tr>\n      <th>...</th>\n      <td>...</td>\n    </tr>\n    <tr>\n      <th>kevinlaik</th>\n      <td>1</td>\n    </tr>\n    <tr>\n      <th>kevinlang</th>\n      <td>1</td>\n    </tr>\n    <tr>\n      <th>kevinlarnach</th>\n      <td>1</td>\n    </tr>\n    <tr>\n      <th>kevinlau</th>\n      <td>1</td>\n    </tr>\n    <tr>\n      <th>joshualittle</th>\n      <td>1</td>\n    </tr>\n  </tbody>\n</table>\n<p>39584 rows × 1 columns</p>\n</div>"
     },
     "metadata": {},
     "execution_count": 9
    }
   ]
  },
  {
   "source": [
    "And here we can see that the city of Boston has applied for the most permits."
   ],
   "cell_type": "markdown",
   "metadata": {}
  },
  {
   "cell_type": "code",
   "execution_count": 10,
   "metadata": {},
   "outputs": [
    {
     "output_type": "execute_result",
     "data": {
      "text/plain": [
       "                              0\n",
       "nan                       36903\n",
       "cityofboston               6003\n",
       "bostonhousingauthority     2633\n",
       "marriottownershipresorts   2546\n",
       "northeasternuniversity     2523\n",
       "...                         ...\n",
       "leachdaphney                  1\n",
       "twenty1marylandst             1\n",
       "leabokarld                    1\n",
       "le-royangusjetal              1\n",
       "celestineanthony              1\n",
       "\n",
       "[62285 rows x 1 columns]"
      ],
      "text/html": "<div>\n<style scoped>\n    .dataframe tbody tr th:only-of-type {\n        vertical-align: middle;\n    }\n\n    .dataframe tbody tr th {\n        vertical-align: top;\n    }\n\n    .dataframe thead th {\n        text-align: right;\n    }\n</style>\n<table border=\"1\" class=\"dataframe\">\n  <thead>\n    <tr style=\"text-align: right;\">\n      <th></th>\n      <th>0</th>\n    </tr>\n  </thead>\n  <tbody>\n    <tr>\n      <th>nan</th>\n      <td>36903</td>\n    </tr>\n    <tr>\n      <th>cityofboston</th>\n      <td>6003</td>\n    </tr>\n    <tr>\n      <th>bostonhousingauthority</th>\n      <td>2633</td>\n    </tr>\n    <tr>\n      <th>marriottownershipresorts</th>\n      <td>2546</td>\n    </tr>\n    <tr>\n      <th>northeasternuniversity</th>\n      <td>2523</td>\n    </tr>\n    <tr>\n      <th>...</th>\n      <td>...</td>\n    </tr>\n    <tr>\n      <th>leachdaphney</th>\n      <td>1</td>\n    </tr>\n    <tr>\n      <th>twenty1marylandst</th>\n      <td>1</td>\n    </tr>\n    <tr>\n      <th>leabokarld</th>\n      <td>1</td>\n    </tr>\n    <tr>\n      <th>le-royangusjetal</th>\n      <td>1</td>\n    </tr>\n    <tr>\n      <th>celestineanthony</th>\n      <td>1</td>\n    </tr>\n  </tbody>\n</table>\n<p>62285 rows × 1 columns</p>\n</div>"
     },
     "metadata": {},
     "execution_count": 10
    }
   ],
   "source": [
    "owners_labels_vals = owners_labels.value_counts()\n",
    "owners_index = [tup[0] for tup in owners_labels_vals.index]\n",
    "owners_labels_vals.index = owners_encoder.inverse_transform(owners_index)\n",
    "pd.DataFrame(owners_labels_vals)"
   ]
  },
  {
   "source": [
    "Here we take a look at the list of orgs that the top applicant has applied for. Our search is somewhat incomplete as we don't search on the preprocessed value, but it gives a good sense of the amount of orgs."
   ],
   "cell_type": "markdown",
   "metadata": {}
  },
  {
   "cell_type": "code",
   "execution_count": 11,
   "metadata": {},
   "outputs": [
    {
     "output_type": "execute_result",
     "data": {
      "text/plain": [
       "67609                  OCONNOR CAROL A\n",
       "188501             EGAN PATRICK ROBERT\n",
       "189588                  ALJOE NICOLE N\n",
       "204901        SEVENTY 2-74 EAST DEDHAM\n",
       "204954    WEDIKO CHILDRENS SERVICES IN\n",
       "                      ...             \n",
       "340714                 HORENSTEIN MARK\n",
       "344617          BELGRADE AND BIRCH LLC\n",
       "345559               ENGLAND ALEXANDRA\n",
       "345754            SIXTEEN GLADE AVENUE\n",
       "429745        SEVENTEEN OAKDALE STREET\n",
       "Name: owner, Length: 775, dtype: object"
      ]
     },
     "metadata": {},
     "execution_count": 11
    }
   ],
   "source": [
    "df1 = df[applicants['applicant'].str.contains(\"Robert Trethewey\")]\n",
    "df1.drop_duplicates(\"owner\")[\"owner\"]"
   ]
  },
  {
   "cell_type": "code",
   "execution_count": null,
   "metadata": {},
   "outputs": [],
   "source": []
  }
 ],
 "metadata": {
  "kernelspec": {
   "display_name": "Python 3",
   "language": "python",
   "name": "python3"
  },
  "language_info": {
   "codemirror_mode": {
    "name": "ipython",
    "version": 3
   },
   "file_extension": ".py",
   "mimetype": "text/x-python",
   "name": "python",
   "nbconvert_exporter": "python",
   "pygments_lexer": "ipython3",
   "version": "3.8.3-final"
  }
 },
 "nbformat": 4,
 "nbformat_minor": 4
}