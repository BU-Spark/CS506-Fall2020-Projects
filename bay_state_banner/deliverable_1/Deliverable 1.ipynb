{
 "cells": [
  {
   "cell_type": "markdown",
   "metadata": {},
   "source": [
    "# Deliverable 1"
   ]
  },
  {
   "cell_type": "code",
   "execution_count": 1,
   "metadata": {},
   "outputs": [],
   "source": [
    "import csv\n",
    "import pandas as pd\n",
    "from sklearn.preprocessing import LabelEncoder"
   ]
  },
  {
   "source": [
    "Import the csv file with data from ABP"
   ],
   "cell_type": "markdown",
   "metadata": {}
  },
  {
   "cell_type": "code",
   "execution_count": 2,
   "metadata": {},
   "outputs": [
    {
     "output_type": "execute_result",
     "data": {
      "text/plain": [
       "Index(['permitnumber', 'worktype', 'permittypedescr', 'description',\n",
       "       'comments', 'applicant', 'declared_valuation', 'total_fees',\n",
       "       'issued_date', 'expiration_date', 'status', 'owner', 'occupancytype',\n",
       "       'sq_feet', 'address', 'city', 'state', 'zip', 'property_id',\n",
       "       'parcel_id', 'lat', 'long'],\n",
       "      dtype='object')"
      ]
     },
     "metadata": {},
     "execution_count": 2
    }
   ],
   "source": [
    "filename = \"data/abp_data.csv\"\n",
    "\n",
    "df = pd.read_csv(filename)\n",
    "df.columns"
   ]
  },
  {
   "source": [
    "## Preprocessing"
   ],
   "cell_type": "markdown",
   "metadata": {}
  },
  {
   "source": [
    "We decided for our first pass at the data to simply get the frequency of each applicant and each owner in the dataset. \n",
    "\n",
    "This will show us which individuals are applying for housing grants on behalf of a company the most and which companies are requesting grants the most."
   ],
   "cell_type": "markdown",
   "metadata": {}
  },
  {
   "cell_type": "code",
   "execution_count": 3,
   "metadata": {},
   "outputs": [
    {
     "output_type": "execute_result",
     "data": {
      "text/plain": [
       "                applicant\n",
       "0       Renee Santeusanio\n",
       "1        Jusimar Oliveria\n",
       "2           Andreas Hwang\n",
       "3                     NaN\n",
       "4            Ping Mandawe\n",
       "...                   ...\n",
       "478014  Christine McMahon\n",
       "478015  Christine McMahon\n",
       "478016   Regina  Olivieri\n",
       "478017    Maria Dubrowski\n",
       "478018      Cesar DaSilva\n",
       "\n",
       "[478019 rows x 1 columns]"
      ],
      "text/html": "<div>\n<style scoped>\n    .dataframe tbody tr th:only-of-type {\n        vertical-align: middle;\n    }\n\n    .dataframe tbody tr th {\n        vertical-align: top;\n    }\n\n    .dataframe thead th {\n        text-align: right;\n    }\n</style>\n<table border=\"1\" class=\"dataframe\">\n  <thead>\n    <tr style=\"text-align: right;\">\n      <th></th>\n      <th>applicant</th>\n    </tr>\n  </thead>\n  <tbody>\n    <tr>\n      <th>0</th>\n      <td>Renee Santeusanio</td>\n    </tr>\n    <tr>\n      <th>1</th>\n      <td>Jusimar Oliveria</td>\n    </tr>\n    <tr>\n      <th>2</th>\n      <td>Andreas Hwang</td>\n    </tr>\n    <tr>\n      <th>3</th>\n      <td>NaN</td>\n    </tr>\n    <tr>\n      <th>4</th>\n      <td>Ping Mandawe</td>\n    </tr>\n    <tr>\n      <th>...</th>\n      <td>...</td>\n    </tr>\n    <tr>\n      <th>478014</th>\n      <td>Christine McMahon</td>\n    </tr>\n    <tr>\n      <th>478015</th>\n      <td>Christine McMahon</td>\n    </tr>\n    <tr>\n      <th>478016</th>\n      <td>Regina  Olivieri</td>\n    </tr>\n    <tr>\n      <th>478017</th>\n      <td>Maria Dubrowski</td>\n    </tr>\n    <tr>\n      <th>478018</th>\n      <td>Cesar DaSilva</td>\n    </tr>\n  </tbody>\n</table>\n<p>478019 rows × 1 columns</p>\n</div>"
     },
     "metadata": {},
     "execution_count": 3
    }
   ],
   "source": [
    "applicants = pd.DataFrame(df['applicant'])\n",
    "owners = pd.DataFrame(df['owner'])\n",
    "applicants"
   ]
  },
  {
   "source": [
    "Here we fill all the missing entries with the string \"na\" and cast all the entries to strings"
   ],
   "cell_type": "markdown",
   "metadata": {}
  },
  {
   "cell_type": "code",
   "execution_count": 4,
   "metadata": {},
   "outputs": [],
   "source": [
    "applicants.fillna(\"na\")\n",
    "applicants = applicants.applymap(str)\n",
    "\n",
    "owners.fillna(\"na\")\n",
    "owners = owners.applymap(str)"
   ]
  },
  {
   "source": [
    "Here we define a function for prepping a column to be encoded. To eliminate inconsistencies across how the names were entered, we make all the entries lowercase and removing the spaces."
   ],
   "cell_type": "markdown",
   "metadata": {}
  },
  {
   "cell_type": "code",
   "execution_count": 5,
   "metadata": {},
   "outputs": [],
   "source": [
    "def prep_df_column(col, generate_map=False):\n",
    "    \"\"\"\n",
    "    col: A pandas column-frame of strings\n",
    "    generate_map: Whether or not to generate a map of the original values to the edited values \n",
    "\n",
    "    Outputs the columm with all the entries set to lowercase and with spaces removed\n",
    "    \"\"\"\n",
    "    new_col = col.iloc[:, 0]\n",
    "    new_col = [name.lower().replace(\" \", \"\") for name in new_col]\n",
    "    col_map = dict()\n",
    "    if generate_map:\n",
    "        for i in range(len(new_col)):\n",
    "            col_map[new_col[i]] = col.iloc[:, 0][i]\n",
    "        return new_col, col_map\n",
    "    else:\n",
    "        return new_col"
   ]
  },
  {
   "source": [
    "We utilize the label encoder that we saw in class to encode the different string values in the columns, since we just need to get a count of the distinct entries. It probably isn't quite necessary here but it will be useful for future processing to get a handle on it."
   ],
   "cell_type": "markdown",
   "metadata": {}
  },
  {
   "cell_type": "code",
   "execution_count": 6,
   "metadata": {},
   "outputs": [],
   "source": [
    "labelEncoder = LabelEncoder()\n",
    "# applicants_cleaned, applicants_map = prep_df_column(applicants, generate_map=True)\n",
    "# owners_cleaned, owners_map = prep_df_column(owners, generate_map=True)\n",
    "\n",
    "applicants_cleaned = prep_df_column(applicants, generate_map=False)\n",
    "owners_cleaned = prep_df_column(owners, generate_map=False)\n",
    "\n",
    "applicants_labels = pd.DataFrame(labelEncoder.fit_transform(applicants_cleaned))\n",
    "owners_labels = pd.DataFrame(labelEncoder.fit_transform(owners_cleaned))"
   ]
  },
  {
   "source": [
    "Here we have the names of the original strings with the encoded values for display purposes."
   ],
   "cell_type": "markdown",
   "metadata": {}
  },
  {
   "cell_type": "code",
   "execution_count": 7,
   "metadata": {},
   "outputs": [
    {
     "output_type": "execute_result",
     "data": {
      "text/plain": [
       "            0              names\n",
       "0       30653  Renee Santeusanio\n",
       "1       20069   Jusimar Oliveria\n",
       "2        1256      Andreas Hwang\n",
       "3       27060                nan\n",
       "4       30052       Ping Mandawe\n",
       "...       ...                ...\n",
       "478014   5505  Christine McMahon\n",
       "478015   5505  Christine McMahon\n",
       "478016  30604   Regina  Olivieri\n",
       "478017  23488    Maria Dubrowski\n",
       "478018   4700      Cesar DaSilva\n",
       "\n",
       "[478019 rows x 2 columns]"
      ],
      "text/html": "<div>\n<style scoped>\n    .dataframe tbody tr th:only-of-type {\n        vertical-align: middle;\n    }\n\n    .dataframe tbody tr th {\n        vertical-align: top;\n    }\n\n    .dataframe thead th {\n        text-align: right;\n    }\n</style>\n<table border=\"1\" class=\"dataframe\">\n  <thead>\n    <tr style=\"text-align: right;\">\n      <th></th>\n      <th>0</th>\n      <th>names</th>\n    </tr>\n  </thead>\n  <tbody>\n    <tr>\n      <th>0</th>\n      <td>30653</td>\n      <td>Renee Santeusanio</td>\n    </tr>\n    <tr>\n      <th>1</th>\n      <td>20069</td>\n      <td>Jusimar Oliveria</td>\n    </tr>\n    <tr>\n      <th>2</th>\n      <td>1256</td>\n      <td>Andreas Hwang</td>\n    </tr>\n    <tr>\n      <th>3</th>\n      <td>27060</td>\n      <td>nan</td>\n    </tr>\n    <tr>\n      <th>4</th>\n      <td>30052</td>\n      <td>Ping Mandawe</td>\n    </tr>\n    <tr>\n      <th>...</th>\n      <td>...</td>\n      <td>...</td>\n    </tr>\n    <tr>\n      <th>478014</th>\n      <td>5505</td>\n      <td>Christine McMahon</td>\n    </tr>\n    <tr>\n      <th>478015</th>\n      <td>5505</td>\n      <td>Christine McMahon</td>\n    </tr>\n    <tr>\n      <th>478016</th>\n      <td>30604</td>\n      <td>Regina  Olivieri</td>\n    </tr>\n    <tr>\n      <th>478017</th>\n      <td>23488</td>\n      <td>Maria Dubrowski</td>\n    </tr>\n    <tr>\n      <th>478018</th>\n      <td>4700</td>\n      <td>Cesar DaSilva</td>\n    </tr>\n  </tbody>\n</table>\n<p>478019 rows × 2 columns</p>\n</div>"
     },
     "metadata": {},
     "execution_count": 7
    }
   ],
   "source": [
    "applicants_labels_with_names = applicants_labels.copy()\n",
    "applicants_labels_with_names['names'] = applicants\n",
    "\n",
    "applicants_labels_with_names"
   ]
  },
  {
   "cell_type": "code",
   "execution_count": 8,
   "metadata": {},
   "outputs": [
    {
     "output_type": "execute_result",
     "data": {
      "text/plain": [
       "            0                         names\n",
       "0       12221                CITY OF BOSTON\n",
       "1       48278        RUBIO FAMILY TRUST LLC\n",
       "2       32287  LEDERMAN US REAL ESTATE CORP\n",
       "3       37460                   MIARA SIMON\n",
       "4       34217                      MABB LLC\n",
       "...       ...                           ...\n",
       "478014  50819  SHIGO CENTER PLAZA OWNER LLC\n",
       "478015  50819  SHIGO CENTER PLAZA OWNER LLC\n",
       "478016   5524           AVONWOOD ASSOCS LPS\n",
       "478017  21276    FORTY 6 BURROUGHS ST CONDO\n",
       "478018  20928             FONTES RUDOLPHO H\n",
       "\n",
       "[478019 rows x 2 columns]"
      ],
      "text/html": "<div>\n<style scoped>\n    .dataframe tbody tr th:only-of-type {\n        vertical-align: middle;\n    }\n\n    .dataframe tbody tr th {\n        vertical-align: top;\n    }\n\n    .dataframe thead th {\n        text-align: right;\n    }\n</style>\n<table border=\"1\" class=\"dataframe\">\n  <thead>\n    <tr style=\"text-align: right;\">\n      <th></th>\n      <th>0</th>\n      <th>names</th>\n    </tr>\n  </thead>\n  <tbody>\n    <tr>\n      <th>0</th>\n      <td>12221</td>\n      <td>CITY OF BOSTON</td>\n    </tr>\n    <tr>\n      <th>1</th>\n      <td>48278</td>\n      <td>RUBIO FAMILY TRUST LLC</td>\n    </tr>\n    <tr>\n      <th>2</th>\n      <td>32287</td>\n      <td>LEDERMAN US REAL ESTATE CORP</td>\n    </tr>\n    <tr>\n      <th>3</th>\n      <td>37460</td>\n      <td>MIARA SIMON</td>\n    </tr>\n    <tr>\n      <th>4</th>\n      <td>34217</td>\n      <td>MABB LLC</td>\n    </tr>\n    <tr>\n      <th>...</th>\n      <td>...</td>\n      <td>...</td>\n    </tr>\n    <tr>\n      <th>478014</th>\n      <td>50819</td>\n      <td>SHIGO CENTER PLAZA OWNER LLC</td>\n    </tr>\n    <tr>\n      <th>478015</th>\n      <td>50819</td>\n      <td>SHIGO CENTER PLAZA OWNER LLC</td>\n    </tr>\n    <tr>\n      <th>478016</th>\n      <td>5524</td>\n      <td>AVONWOOD ASSOCS LPS</td>\n    </tr>\n    <tr>\n      <th>478017</th>\n      <td>21276</td>\n      <td>FORTY 6 BURROUGHS ST CONDO</td>\n    </tr>\n    <tr>\n      <th>478018</th>\n      <td>20928</td>\n      <td>FONTES RUDOLPHO H</td>\n    </tr>\n  </tbody>\n</table>\n<p>478019 rows × 2 columns</p>\n</div>"
     },
     "metadata": {},
     "execution_count": 8
    }
   ],
   "source": [
    "owners_labels_with_names = owners_labels.copy()\n",
    "owners_labels_with_names['names'] = owners\n",
    "\n",
    "owners_labels_with_names"
   ]
  },
  {
   "cell_type": "code",
   "execution_count": 9,
   "metadata": {},
   "outputs": [],
   "source": [
    "applicants_labels_vals = applicants_labels.value_counts()\n",
    "# applicants_labels_vals\n",
    "index = [tup[0] for tup in applicants_labels_vals.index]\n",
    "# index"
   ]
  },
  {
   "cell_type": "code",
   "execution_count": 10,
   "metadata": {},
   "outputs": [
    {
     "output_type": "execute_result",
     "data": {
      "text/plain": [
       "                             0\n",
       "hollandjosephf           14215\n",
       "leemingts                 5892\n",
       "eighty2bremenllcmassllc   3603\n",
       "jerrychristopher          3253\n",
       "kingsdalebballc           3059\n",
       "...                        ...\n",
       "forty3russellstcondotr       1\n",
       "forty3warrenavcondotr        1\n",
       "forty4-46sfairviewst         1\n",
       "forty4-50chappiest           1\n",
       "fifty3eastspringfield        1\n",
       "\n",
       "[39584 rows x 1 columns]"
      ],
      "text/html": "<div>\n<style scoped>\n    .dataframe tbody tr th:only-of-type {\n        vertical-align: middle;\n    }\n\n    .dataframe tbody tr th {\n        vertical-align: top;\n    }\n\n    .dataframe thead th {\n        text-align: right;\n    }\n</style>\n<table border=\"1\" class=\"dataframe\">\n  <thead>\n    <tr style=\"text-align: right;\">\n      <th></th>\n      <th>0</th>\n    </tr>\n  </thead>\n  <tbody>\n    <tr>\n      <th>hollandjosephf</th>\n      <td>14215</td>\n    </tr>\n    <tr>\n      <th>leemingts</th>\n      <td>5892</td>\n    </tr>\n    <tr>\n      <th>eighty2bremenllcmassllc</th>\n      <td>3603</td>\n    </tr>\n    <tr>\n      <th>jerrychristopher</th>\n      <td>3253</td>\n    </tr>\n    <tr>\n      <th>kingsdalebballc</th>\n      <td>3059</td>\n    </tr>\n    <tr>\n      <th>...</th>\n      <td>...</td>\n    </tr>\n    <tr>\n      <th>forty3russellstcondotr</th>\n      <td>1</td>\n    </tr>\n    <tr>\n      <th>forty3warrenavcondotr</th>\n      <td>1</td>\n    </tr>\n    <tr>\n      <th>forty4-46sfairviewst</th>\n      <td>1</td>\n    </tr>\n    <tr>\n      <th>forty4-50chappiest</th>\n      <td>1</td>\n    </tr>\n    <tr>\n      <th>fifty3eastspringfield</th>\n      <td>1</td>\n    </tr>\n  </tbody>\n</table>\n<p>39584 rows × 1 columns</p>\n</div>"
     },
     "metadata": {},
     "execution_count": 10
    }
   ],
   "source": [
    "# applicants_labels.value_counts().index\n",
    "applicants_labels_vals.index = labelEncoder.inverse_transform(index)\n",
    "pd.DataFrame(applicants_labels_vals)"
   ]
  },
  {
   "cell_type": "code",
   "execution_count": 11,
   "metadata": {},
   "outputs": [
    {
     "output_type": "execute_result",
     "data": {
      "text/plain": [
       "            0                         names\n",
       "0       12221                CITY OF BOSTON\n",
       "1       48278        RUBIO FAMILY TRUST LLC\n",
       "2       32287  LEDERMAN US REAL ESTATE CORP\n",
       "3       37460                   MIARA SIMON\n",
       "4       34217                      MABB LLC\n",
       "...       ...                           ...\n",
       "478014  50819  SHIGO CENTER PLAZA OWNER LLC\n",
       "478015  50819  SHIGO CENTER PLAZA OWNER LLC\n",
       "478016   5524           AVONWOOD ASSOCS LPS\n",
       "478017  21276    FORTY 6 BURROUGHS ST CONDO\n",
       "478018  20928             FONTES RUDOLPHO H\n",
       "\n",
       "[478019 rows x 2 columns]"
      ],
      "text/html": "<div>\n<style scoped>\n    .dataframe tbody tr th:only-of-type {\n        vertical-align: middle;\n    }\n\n    .dataframe tbody tr th {\n        vertical-align: top;\n    }\n\n    .dataframe thead th {\n        text-align: right;\n    }\n</style>\n<table border=\"1\" class=\"dataframe\">\n  <thead>\n    <tr style=\"text-align: right;\">\n      <th></th>\n      <th>0</th>\n      <th>names</th>\n    </tr>\n  </thead>\n  <tbody>\n    <tr>\n      <th>0</th>\n      <td>12221</td>\n      <td>CITY OF BOSTON</td>\n    </tr>\n    <tr>\n      <th>1</th>\n      <td>48278</td>\n      <td>RUBIO FAMILY TRUST LLC</td>\n    </tr>\n    <tr>\n      <th>2</th>\n      <td>32287</td>\n      <td>LEDERMAN US REAL ESTATE CORP</td>\n    </tr>\n    <tr>\n      <th>3</th>\n      <td>37460</td>\n      <td>MIARA SIMON</td>\n    </tr>\n    <tr>\n      <th>4</th>\n      <td>34217</td>\n      <td>MABB LLC</td>\n    </tr>\n    <tr>\n      <th>...</th>\n      <td>...</td>\n      <td>...</td>\n    </tr>\n    <tr>\n      <th>478014</th>\n      <td>50819</td>\n      <td>SHIGO CENTER PLAZA OWNER LLC</td>\n    </tr>\n    <tr>\n      <th>478015</th>\n      <td>50819</td>\n      <td>SHIGO CENTER PLAZA OWNER LLC</td>\n    </tr>\n    <tr>\n      <th>478016</th>\n      <td>5524</td>\n      <td>AVONWOOD ASSOCS LPS</td>\n    </tr>\n    <tr>\n      <th>478017</th>\n      <td>21276</td>\n      <td>FORTY 6 BURROUGHS ST CONDO</td>\n    </tr>\n    <tr>\n      <th>478018</th>\n      <td>20928</td>\n      <td>FONTES RUDOLPHO H</td>\n    </tr>\n  </tbody>\n</table>\n<p>478019 rows × 2 columns</p>\n</div>"
     },
     "metadata": {},
     "execution_count": 11
    }
   ],
   "source": [
    "owners_labels = owners.iloc[:, 0]\n",
    "owners_labels = [name.lower().replace(\" \", \"\") for name in owners_labels]\n",
    "# owners_map = dict()\n",
    "# for i in range(len(owners)):\n",
    "#     owners_map[owners_labels[i]] = owners.iloc[:, 0][i]\n",
    "owners_labels = labelEncoder.fit_transform(owners_labels)\n",
    "\n",
    "owners_labels = pd.DataFrame(owners_labels)\n",
    "owners_labels_with_names = owners_labels.copy()\n",
    "owners_labels_with_names['names'] = owners\n",
    "\n",
    "owners_labels_with_names"
   ]
  },
  {
   "cell_type": "code",
   "execution_count": 12,
   "metadata": {},
   "outputs": [],
   "source": [
    "owners_labels_vals = owners_labels.value_counts()\n",
    "owners_index = [tup[0] for tup in owners_labels_vals.index]"
   ]
  },
  {
   "cell_type": "code",
   "execution_count": 13,
   "metadata": {},
   "outputs": [
    {
     "output_type": "execute_result",
     "data": {
      "text/plain": [
       "nan                         36903\n",
       "cityofboston                 6003\n",
       "bostonhousingauthority       2633\n",
       "marriottownershipresorts     2546\n",
       "northeasternuniversity       2523\n",
       "                            ...  \n",
       "leachdaphney                    1\n",
       "twenty1marylandst               1\n",
       "leabokarld                      1\n",
       "le-royangusjetal                1\n",
       "celestineanthony                1\n",
       "Length: 62285, dtype: int64"
      ]
     },
     "metadata": {},
     "execution_count": 13
    }
   ],
   "source": [
    "owners_labels_vals.index = labelEncoder.inverse_transform(owners_index)\n",
    "owners_labels_vals"
   ]
  },
  {
   "cell_type": "code",
   "execution_count": 14,
   "metadata": {},
   "outputs": [
    {
     "output_type": "execute_result",
     "data": {
      "text/plain": [
       "               applicant                         owner\n",
       "67609   Robert Trethewey               OCONNOR CAROL A\n",
       "188501  Robert Trethewey           EGAN PATRICK ROBERT\n",
       "189588  Robert Trethewey                ALJOE NICOLE N\n",
       "204901  Robert Trethewey      SEVENTY 2-74 EAST DEDHAM\n",
       "204954  Robert Trethewey  WEDIKO CHILDRENS SERVICES IN\n",
       "...                  ...                           ...\n",
       "340714  Robert Trethewey               HORENSTEIN MARK\n",
       "344617  Robert Trethewey        BELGRADE AND BIRCH LLC\n",
       "345559  Robert Trethewey             ENGLAND ALEXANDRA\n",
       "345754  Robert Trethewey          SIXTEEN GLADE AVENUE\n",
       "429745  Robert Trethewey      SEVENTEEN OAKDALE STREET\n",
       "\n",
       "[775 rows x 2 columns]"
      ],
      "text/html": "<div>\n<style scoped>\n    .dataframe tbody tr th:only-of-type {\n        vertical-align: middle;\n    }\n\n    .dataframe tbody tr th {\n        vertical-align: top;\n    }\n\n    .dataframe thead th {\n        text-align: right;\n    }\n</style>\n<table border=\"1\" class=\"dataframe\">\n  <thead>\n    <tr style=\"text-align: right;\">\n      <th></th>\n      <th>applicant</th>\n      <th>owner</th>\n    </tr>\n  </thead>\n  <tbody>\n    <tr>\n      <th>67609</th>\n      <td>Robert Trethewey</td>\n      <td>OCONNOR CAROL A</td>\n    </tr>\n    <tr>\n      <th>188501</th>\n      <td>Robert Trethewey</td>\n      <td>EGAN PATRICK ROBERT</td>\n    </tr>\n    <tr>\n      <th>189588</th>\n      <td>Robert Trethewey</td>\n      <td>ALJOE NICOLE N</td>\n    </tr>\n    <tr>\n      <th>204901</th>\n      <td>Robert Trethewey</td>\n      <td>SEVENTY 2-74 EAST DEDHAM</td>\n    </tr>\n    <tr>\n      <th>204954</th>\n      <td>Robert Trethewey</td>\n      <td>WEDIKO CHILDRENS SERVICES IN</td>\n    </tr>\n    <tr>\n      <th>...</th>\n      <td>...</td>\n      <td>...</td>\n    </tr>\n    <tr>\n      <th>340714</th>\n      <td>Robert Trethewey</td>\n      <td>HORENSTEIN MARK</td>\n    </tr>\n    <tr>\n      <th>344617</th>\n      <td>Robert Trethewey</td>\n      <td>BELGRADE AND BIRCH LLC</td>\n    </tr>\n    <tr>\n      <th>345559</th>\n      <td>Robert Trethewey</td>\n      <td>ENGLAND ALEXANDRA</td>\n    </tr>\n    <tr>\n      <th>345754</th>\n      <td>Robert Trethewey</td>\n      <td>SIXTEEN GLADE AVENUE</td>\n    </tr>\n    <tr>\n      <th>429745</th>\n      <td>Robert Trethewey</td>\n      <td>SEVENTEEN OAKDALE STREET</td>\n    </tr>\n  </tbody>\n</table>\n<p>775 rows × 2 columns</p>\n</div>"
     },
     "metadata": {},
     "execution_count": 14
    }
   ],
   "source": [
    "df1 = df[applicants['applicant'].str.contains(\"Robert Trethewey\")]\n",
    "df1.drop_duplicates(\"owner\").iloc[:, [5, 11]]\n",
    "# df1"
   ]
  },
  {
   "cell_type": "code",
   "execution_count": null,
   "metadata": {},
   "outputs": [],
   "source": []
  }
 ],
 "metadata": {
  "kernelspec": {
   "display_name": "Python 3",
   "language": "python",
   "name": "python3"
  },
  "language_info": {
   "codemirror_mode": {
    "name": "ipython",
    "version": 3
   },
   "file_extension": ".py",
   "mimetype": "text/x-python",
   "name": "python",
   "nbconvert_exporter": "python",
   "pygments_lexer": "ipython3",
   "version": "3.8.3-final"
  }
 },
 "nbformat": 4,
 "nbformat_minor": 4
}