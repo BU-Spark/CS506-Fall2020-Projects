{
 "cells": [
  {
   "cell_type": "markdown",
   "metadata": {},
   "source": [
    "# Deliverable 1"
   ]
  },
  {
   "cell_type": "code",
   "execution_count": 76,
   "metadata": {},
   "outputs": [],
   "source": [
    "import csv\n",
    "import pandas as pd\n",
    "from sklearn.preprocessing import LabelEncoder"
   ]
  },
  {
   "source": [
    "Import the csv file with data from ABP"
   ],
   "cell_type": "markdown",
   "metadata": {}
  },
  {
   "cell_type": "code",
   "execution_count": 77,
   "metadata": {},
   "outputs": [
    {
     "output_type": "execute_result",
     "data": {
      "text/plain": [
       "Index(['permitnumber', 'worktype', 'permittypedescr', 'description',\n",
       "       'comments', 'applicant', 'declared_valuation', 'total_fees',\n",
       "       'issued_date', 'expiration_date', 'status', 'owner', 'occupancytype',\n",
       "       'sq_feet', 'address', 'city', 'state', 'zip', 'property_id',\n",
       "       'parcel_id', 'lat', 'long'],\n",
       "      dtype='object')"
      ]
     },
     "metadata": {},
     "execution_count": 77
    }
   ],
   "source": [
    "filename = \"data/abp_data.csv\"\n",
    "\n",
    "df = pd.read_csv(filename)\n",
    "df.columns"
   ]
  },
  {
   "source": [
    "## Preprocessing"
   ],
   "cell_type": "markdown",
   "metadata": {}
  },
  {
   "source": [
    "We decided for our first pass at the data to simply get the frequency of each applicant and each owner in the dataset. \n",
    "\n",
    "This will show us which individuals are applying for housing permits on behalf of an org the most and which orgs are requesting permits the most."
   ],
   "cell_type": "markdown",
   "metadata": {}
  },
  {
   "cell_type": "code",
   "execution_count": 78,
   "metadata": {},
   "outputs": [
    {
     "output_type": "execute_result",
     "data": {
      "text/plain": [
       "                applicant\n",
       "0       Renee Santeusanio\n",
       "1        Jusimar Oliveria\n",
       "2           Andreas Hwang\n",
       "3                     NaN\n",
       "4            Ping Mandawe\n",
       "...                   ...\n",
       "478014  Christine McMahon\n",
       "478015  Christine McMahon\n",
       "478016   Regina  Olivieri\n",
       "478017    Maria Dubrowski\n",
       "478018      Cesar DaSilva\n",
       "\n",
       "[478019 rows x 1 columns]"
      ],
      "text/html": "<div>\n<style scoped>\n    .dataframe tbody tr th:only-of-type {\n        vertical-align: middle;\n    }\n\n    .dataframe tbody tr th {\n        vertical-align: top;\n    }\n\n    .dataframe thead th {\n        text-align: right;\n    }\n</style>\n<table border=\"1\" class=\"dataframe\">\n  <thead>\n    <tr style=\"text-align: right;\">\n      <th></th>\n      <th>applicant</th>\n    </tr>\n  </thead>\n  <tbody>\n    <tr>\n      <th>0</th>\n      <td>Renee Santeusanio</td>\n    </tr>\n    <tr>\n      <th>1</th>\n      <td>Jusimar Oliveria</td>\n    </tr>\n    <tr>\n      <th>2</th>\n      <td>Andreas Hwang</td>\n    </tr>\n    <tr>\n      <th>3</th>\n      <td>NaN</td>\n    </tr>\n    <tr>\n      <th>4</th>\n      <td>Ping Mandawe</td>\n    </tr>\n    <tr>\n      <th>...</th>\n      <td>...</td>\n    </tr>\n    <tr>\n      <th>478014</th>\n      <td>Christine McMahon</td>\n    </tr>\n    <tr>\n      <th>478015</th>\n      <td>Christine McMahon</td>\n    </tr>\n    <tr>\n      <th>478016</th>\n      <td>Regina  Olivieri</td>\n    </tr>\n    <tr>\n      <th>478017</th>\n      <td>Maria Dubrowski</td>\n    </tr>\n    <tr>\n      <th>478018</th>\n      <td>Cesar DaSilva</td>\n    </tr>\n  </tbody>\n</table>\n<p>478019 rows × 1 columns</p>\n</div>"
     },
     "metadata": {},
     "execution_count": 78
    }
   ],
   "source": [
    "applicants = pd.DataFrame(df['applicant'])\n",
    "owners = pd.DataFrame(df['owner'])\n",
    "applicants"
   ]
  },
  {
   "source": [
    "Here we fill all the missing entries with the string \"na\" and cast all the entries to strings"
   ],
   "cell_type": "markdown",
   "metadata": {}
  },
  {
   "cell_type": "code",
   "execution_count": 79,
   "metadata": {},
   "outputs": [],
   "source": [
    "applicants.fillna(\"na\")\n",
    "applicants = applicants.applymap(str)\n",
    "\n",
    "owners.fillna(\"na\")\n",
    "owners = owners.applymap(str)"
   ]
  },
  {
   "source": [
    "Here we define a function for prepping a column to be encoded. To eliminate inconsistencies across how the names were entered, we make all the entries lowercase and remove the spaces."
   ],
   "cell_type": "markdown",
   "metadata": {}
  },
  {
   "cell_type": "code",
   "execution_count": 80,
   "metadata": {},
   "outputs": [],
   "source": [
    "def prep_df_column(col, generate_map=False):\n",
    "    \"\"\"\n",
    "    col: A pandas column-frame of strings\n",
    "    generate_map: Whether or not to generate a map of the original values to the edited values \n",
    "\n",
    "    Outputs the columm with all the entries set to lowercase and with spaces removed\n",
    "    \"\"\"\n",
    "    new_col = col.iloc[:, 0]\n",
    "    new_col = [name.lower().replace(\" \", \"\") for name in new_col]\n",
    "    col_map = dict()\n",
    "    if generate_map:\n",
    "        for i in range(len(new_col)):\n",
    "            col_map[new_col[i]] = col.iloc[:, 0][i]\n",
    "        return new_col, col_map\n",
    "    else:\n",
    "        return new_col"
   ]
  },
  {
   "source": [
    "We utilize the label encoder that we saw in class to encode the different string values in the columns, since we just need to get a count of the distinct entries. It probably isn't quite necessary here but it will be useful for future processing to get a handle on it."
   ],
   "cell_type": "markdown",
   "metadata": {}
  },
  {
   "cell_type": "code",
   "execution_count": 81,
   "metadata": {},
   "outputs": [],
   "source": [
    "# we split the encoders into two so they can keep track of their inverse transforms\n",
    "applcants_encoder = LabelEncoder()\n",
    "owners_encoder = LabelEncoder()\n",
    "\n",
    "# here we also optionally output the mapping between the preprocessed values and the original, which we can use for display purposes\n",
    "# however, building the map takes longer than we'd like\n",
    "# applicants_cleaned, applicants_map = prep_df_column(applicants, generate_map=True)\n",
    "# owners_cleaned, owners_map = prep_df_column(owners, generate_map=True)\n",
    "\n",
    "applicants_cleaned = prep_df_column(applicants, generate_map=False)\n",
    "owners_cleaned = prep_df_column(owners, generate_map=False)\n",
    "\n",
    "applicants_labels = pd.DataFrame(applcants_encoder.fit_transform(applicants_cleaned))\n",
    "owners_labels = pd.DataFrame(owners_encoder.fit_transform(owners_cleaned))"
   ]
  },
  {
   "source": [
    "Here we show the names of the original strings with the encoded values for display purposes."
   ],
   "cell_type": "markdown",
   "metadata": {}
  },
  {
   "cell_type": "code",
   "execution_count": 82,
   "metadata": {},
   "outputs": [
    {
     "output_type": "execute_result",
     "data": {
      "text/plain": [
       "            0              names\n",
       "0       30653  Renee Santeusanio\n",
       "1       20069   Jusimar Oliveria\n",
       "2        1256      Andreas Hwang\n",
       "3       27060                nan\n",
       "4       30052       Ping Mandawe\n",
       "...       ...                ...\n",
       "478014   5505  Christine McMahon\n",
       "478015   5505  Christine McMahon\n",
       "478016  30604   Regina  Olivieri\n",
       "478017  23488    Maria Dubrowski\n",
       "478018   4700      Cesar DaSilva\n",
       "\n",
       "[478019 rows x 2 columns]"
      ],
      "text/html": "<div>\n<style scoped>\n    .dataframe tbody tr th:only-of-type {\n        vertical-align: middle;\n    }\n\n    .dataframe tbody tr th {\n        vertical-align: top;\n    }\n\n    .dataframe thead th {\n        text-align: right;\n    }\n</style>\n<table border=\"1\" class=\"dataframe\">\n  <thead>\n    <tr style=\"text-align: right;\">\n      <th></th>\n      <th>0</th>\n      <th>names</th>\n    </tr>\n  </thead>\n  <tbody>\n    <tr>\n      <th>0</th>\n      <td>30653</td>\n      <td>Renee Santeusanio</td>\n    </tr>\n    <tr>\n      <th>1</th>\n      <td>20069</td>\n      <td>Jusimar Oliveria</td>\n    </tr>\n    <tr>\n      <th>2</th>\n      <td>1256</td>\n      <td>Andreas Hwang</td>\n    </tr>\n    <tr>\n      <th>3</th>\n      <td>27060</td>\n      <td>nan</td>\n    </tr>\n    <tr>\n      <th>4</th>\n      <td>30052</td>\n      <td>Ping Mandawe</td>\n    </tr>\n    <tr>\n      <th>...</th>\n      <td>...</td>\n      <td>...</td>\n    </tr>\n    <tr>\n      <th>478014</th>\n      <td>5505</td>\n      <td>Christine McMahon</td>\n    </tr>\n    <tr>\n      <th>478015</th>\n      <td>5505</td>\n      <td>Christine McMahon</td>\n    </tr>\n    <tr>\n      <th>478016</th>\n      <td>30604</td>\n      <td>Regina  Olivieri</td>\n    </tr>\n    <tr>\n      <th>478017</th>\n      <td>23488</td>\n      <td>Maria Dubrowski</td>\n    </tr>\n    <tr>\n      <th>478018</th>\n      <td>4700</td>\n      <td>Cesar DaSilva</td>\n    </tr>\n  </tbody>\n</table>\n<p>478019 rows × 2 columns</p>\n</div>"
     },
     "metadata": {},
     "execution_count": 82
    }
   ],
   "source": [
    "applicants_labels_with_names = applicants_labels.copy()\n",
    "applicants_labels_with_names['names'] = applicants\n",
    "\n",
    "applicants_labels_with_names"
   ]
  },
  {
   "cell_type": "code",
   "execution_count": 83,
   "metadata": {},
   "outputs": [
    {
     "output_type": "execute_result",
     "data": {
      "text/plain": [
       "            0                         names\n",
       "0       12221                CITY OF BOSTON\n",
       "1       48278        RUBIO FAMILY TRUST LLC\n",
       "2       32287  LEDERMAN US REAL ESTATE CORP\n",
       "3       37460                   MIARA SIMON\n",
       "4       34217                      MABB LLC\n",
       "...       ...                           ...\n",
       "478014  50819  SHIGO CENTER PLAZA OWNER LLC\n",
       "478015  50819  SHIGO CENTER PLAZA OWNER LLC\n",
       "478016   5524           AVONWOOD ASSOCS LPS\n",
       "478017  21276    FORTY 6 BURROUGHS ST CONDO\n",
       "478018  20928             FONTES RUDOLPHO H\n",
       "\n",
       "[478019 rows x 2 columns]"
      ],
      "text/html": "<div>\n<style scoped>\n    .dataframe tbody tr th:only-of-type {\n        vertical-align: middle;\n    }\n\n    .dataframe tbody tr th {\n        vertical-align: top;\n    }\n\n    .dataframe thead th {\n        text-align: right;\n    }\n</style>\n<table border=\"1\" class=\"dataframe\">\n  <thead>\n    <tr style=\"text-align: right;\">\n      <th></th>\n      <th>0</th>\n      <th>names</th>\n    </tr>\n  </thead>\n  <tbody>\n    <tr>\n      <th>0</th>\n      <td>12221</td>\n      <td>CITY OF BOSTON</td>\n    </tr>\n    <tr>\n      <th>1</th>\n      <td>48278</td>\n      <td>RUBIO FAMILY TRUST LLC</td>\n    </tr>\n    <tr>\n      <th>2</th>\n      <td>32287</td>\n      <td>LEDERMAN US REAL ESTATE CORP</td>\n    </tr>\n    <tr>\n      <th>3</th>\n      <td>37460</td>\n      <td>MIARA SIMON</td>\n    </tr>\n    <tr>\n      <th>4</th>\n      <td>34217</td>\n      <td>MABB LLC</td>\n    </tr>\n    <tr>\n      <th>...</th>\n      <td>...</td>\n      <td>...</td>\n    </tr>\n    <tr>\n      <th>478014</th>\n      <td>50819</td>\n      <td>SHIGO CENTER PLAZA OWNER LLC</td>\n    </tr>\n    <tr>\n      <th>478015</th>\n      <td>50819</td>\n      <td>SHIGO CENTER PLAZA OWNER LLC</td>\n    </tr>\n    <tr>\n      <th>478016</th>\n      <td>5524</td>\n      <td>AVONWOOD ASSOCS LPS</td>\n    </tr>\n    <tr>\n      <th>478017</th>\n      <td>21276</td>\n      <td>FORTY 6 BURROUGHS ST CONDO</td>\n    </tr>\n    <tr>\n      <th>478018</th>\n      <td>20928</td>\n      <td>FONTES RUDOLPHO H</td>\n    </tr>\n  </tbody>\n</table>\n<p>478019 rows × 2 columns</p>\n</div>"
     },
     "metadata": {},
     "execution_count": 83
    }
   ],
   "source": [
    "owners_labels_with_names = owners_labels.copy()\n",
    "owners_labels_with_names['names'] = owners\n",
    "\n",
    "owners_labels_with_names"
   ]
  },
  {
   "source": [
    "## Data Synthesis\n",
    "\n",
    "Now that the data has been preprocessed, we will start by getting the counts of all the distinct applicants and owners."
   ],
   "cell_type": "markdown",
   "metadata": {}
  },
  {
   "source": [
    "Here we can see Robert Trethewey has been applying on be half of the most distinct owners."
   ],
   "cell_type": "markdown",
   "metadata": {}
  },
  {
   "source": [
    "applicants_labels_vals = applicants_labels.value_counts()\n",
    "index = [tup[0] for tup in applicants_labels_vals.index]\n",
    "applicants_labels_vals.index = applcants_encoder.inverse_transform(index)\n",
    "pd.DataFrame(applicants_labels_vals)"
   ],
   "cell_type": "code",
   "metadata": {},
   "execution_count": 84,
   "outputs": [
    {
     "output_type": "execute_result",
     "data": {
      "text/plain": [
       "                     0\n",
       "nan              14215\n",
       "roberttrethewey   5892\n",
       "johnmclaughlin    3603\n",
       "paulguarracino    3253\n",
       "richardfallone    3059\n",
       "...                ...\n",
       "kevinlaik            1\n",
       "kevinlang            1\n",
       "kevinlarnach         1\n",
       "kevinlau             1\n",
       "joshualittle         1\n",
       "\n",
       "[39584 rows x 1 columns]"
      ],
      "text/html": "<div>\n<style scoped>\n    .dataframe tbody tr th:only-of-type {\n        vertical-align: middle;\n    }\n\n    .dataframe tbody tr th {\n        vertical-align: top;\n    }\n\n    .dataframe thead th {\n        text-align: right;\n    }\n</style>\n<table border=\"1\" class=\"dataframe\">\n  <thead>\n    <tr style=\"text-align: right;\">\n      <th></th>\n      <th>0</th>\n    </tr>\n  </thead>\n  <tbody>\n    <tr>\n      <th>nan</th>\n      <td>14215</td>\n    </tr>\n    <tr>\n      <th>roberttrethewey</th>\n      <td>5892</td>\n    </tr>\n    <tr>\n      <th>johnmclaughlin</th>\n      <td>3603</td>\n    </tr>\n    <tr>\n      <th>paulguarracino</th>\n      <td>3253</td>\n    </tr>\n    <tr>\n      <th>richardfallone</th>\n      <td>3059</td>\n    </tr>\n    <tr>\n      <th>...</th>\n      <td>...</td>\n    </tr>\n    <tr>\n      <th>kevinlaik</th>\n      <td>1</td>\n    </tr>\n    <tr>\n      <th>kevinlang</th>\n      <td>1</td>\n    </tr>\n    <tr>\n      <th>kevinlarnach</th>\n      <td>1</td>\n    </tr>\n    <tr>\n      <th>kevinlau</th>\n      <td>1</td>\n    </tr>\n    <tr>\n      <th>joshualittle</th>\n      <td>1</td>\n    </tr>\n  </tbody>\n</table>\n<p>39584 rows × 1 columns</p>\n</div>"
     },
     "metadata": {},
     "execution_count": 84
    }
   ]
  },
  {
   "source": [
    "And here we can see that the city of Boston has applied for the most permits."
   ],
   "cell_type": "markdown",
   "metadata": {}
  },
  {
   "cell_type": "code",
   "execution_count": 85,
   "metadata": {},
   "outputs": [
    {
     "output_type": "execute_result",
     "data": {
      "text/plain": [
       "                              0\n",
       "nan                       36903\n",
       "cityofboston               6003\n",
       "bostonhousingauthority     2633\n",
       "marriottownershipresorts   2546\n",
       "northeasternuniversity     2523\n",
       "...                         ...\n",
       "leachdaphney                  1\n",
       "twenty1marylandst             1\n",
       "leabokarld                    1\n",
       "le-royangusjetal              1\n",
       "celestineanthony              1\n",
       "\n",
       "[62285 rows x 1 columns]"
      ],
      "text/html": "<div>\n<style scoped>\n    .dataframe tbody tr th:only-of-type {\n        vertical-align: middle;\n    }\n\n    .dataframe tbody tr th {\n        vertical-align: top;\n    }\n\n    .dataframe thead th {\n        text-align: right;\n    }\n</style>\n<table border=\"1\" class=\"dataframe\">\n  <thead>\n    <tr style=\"text-align: right;\">\n      <th></th>\n      <th>0</th>\n    </tr>\n  </thead>\n  <tbody>\n    <tr>\n      <th>nan</th>\n      <td>36903</td>\n    </tr>\n    <tr>\n      <th>cityofboston</th>\n      <td>6003</td>\n    </tr>\n    <tr>\n      <th>bostonhousingauthority</th>\n      <td>2633</td>\n    </tr>\n    <tr>\n      <th>marriottownershipresorts</th>\n      <td>2546</td>\n    </tr>\n    <tr>\n      <th>northeasternuniversity</th>\n      <td>2523</td>\n    </tr>\n    <tr>\n      <th>...</th>\n      <td>...</td>\n    </tr>\n    <tr>\n      <th>leachdaphney</th>\n      <td>1</td>\n    </tr>\n    <tr>\n      <th>twenty1marylandst</th>\n      <td>1</td>\n    </tr>\n    <tr>\n      <th>leabokarld</th>\n      <td>1</td>\n    </tr>\n    <tr>\n      <th>le-royangusjetal</th>\n      <td>1</td>\n    </tr>\n    <tr>\n      <th>celestineanthony</th>\n      <td>1</td>\n    </tr>\n  </tbody>\n</table>\n<p>62285 rows × 1 columns</p>\n</div>"
     },
     "metadata": {},
     "execution_count": 85
    }
   ],
   "source": [
    "owners_labels_vals = owners_labels.value_counts()\n",
    "owners_index = [tup[0] for tup in owners_labels_vals.index]\n",
    "owners_labels_vals.index = owners_encoder.inverse_transform(owners_index)\n",
    "pd.DataFrame(owners_labels_vals)"
   ]
  },
  {
   "source": [
    "Here we take a look at the list of orgs that the top applicant has applied for. Our search is somewhat incomplete as we don't search on the preprocessed value, but it gives a good sense of the amount of orgs."
   ],
   "cell_type": "markdown",
   "metadata": {}
  },
  {
   "cell_type": "code",
   "execution_count": 86,
   "metadata": {},
   "outputs": [
    {
     "output_type": "execute_result",
     "data": {
      "text/plain": [
       "67609                  OCONNOR CAROL A\n",
       "188501             EGAN PATRICK ROBERT\n",
       "189588                  ALJOE NICOLE N\n",
       "204901        SEVENTY 2-74 EAST DEDHAM\n",
       "204954    WEDIKO CHILDRENS SERVICES IN\n",
       "                      ...             \n",
       "340714                 HORENSTEIN MARK\n",
       "344617          BELGRADE AND BIRCH LLC\n",
       "345559               ENGLAND ALEXANDRA\n",
       "345754            SIXTEEN GLADE AVENUE\n",
       "429745        SEVENTEEN OAKDALE STREET\n",
       "Name: owner, Length: 775, dtype: object"
      ]
     },
     "metadata": {},
     "execution_count": 86
    }
   ],
   "source": [
    "df1 = df[applicants['applicant'].str.contains(\"Robert Trethewey\")]\n",
    "df1.drop_duplicates(\"owner\")[\"owner\"]"
   ]
  },
  {
   "cell_type": "code",
   "execution_count": null,
   "metadata": {},
   "outputs": [],
   "source": []
  }
 ],
 "metadata": {
  "kernelspec": {
   "display_name": "Python 3",
   "language": "python",
   "name": "python3"
  },
  "language_info": {
   "codemirror_mode": {
    "name": "ipython",
    "version": 3
   },
   "file_extension": ".py",
   "mimetype": "text/x-python",
   "name": "python",
   "nbconvert_exporter": "python",
   "pygments_lexer": "ipython3",
   "version": "3.8.3-final"
  }
 },
 "nbformat": 4,
 "nbformat_minor": 4
}