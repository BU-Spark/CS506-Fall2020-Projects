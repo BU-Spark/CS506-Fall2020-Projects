{
 "metadata": {
  "language_info": {
   "codemirror_mode": {
    "name": "ipython",
    "version": 3
   },
   "file_extension": ".py",
   "mimetype": "text/x-python",
   "name": "python",
   "nbconvert_exporter": "python",
   "pygments_lexer": "ipython3",
   "version": "3.8.3-final"
  },
  "orig_nbformat": 2,
  "kernelspec": {
   "name": "python3",
   "display_name": "Python 3"
  }
 },
 "nbformat": 4,
 "nbformat_minor": 2,
 "cells": [
  {
   "cell_type": "code",
   "execution_count": 1,
   "metadata": {},
   "outputs": [],
   "source": [
    "import pandas as pd\n",
    "from sklearn.preprocessing import LabelEncoder\n",
    "import requests\n",
    "import json\n",
    "import re\n",
    "import geopy.geocoders as gc\n",
    "from geopy.extra.rate_limiter import RateLimiter\n",
    "from tqdm import tqdm\n",
    "tqdm.pandas()"
   ]
  },
  {
   "cell_type": "code",
   "execution_count": 2,
   "metadata": {},
   "outputs": [
    {
     "output_type": "execute_result",
     "data": {
      "text/plain": [
       "                 Source       Case Number  \\\n",
       "0     ZBA Decision 2017        BOA-639633   \n",
       "1     ZBA Decision 2017        BOA-652473   \n",
       "2     ZBA Decision 2017        BOA-640152   \n",
       "3     ZBA Decision 2017        BOA-640141   \n",
       "4     ZBA Decision 2017        BOA-568164   \n",
       "...                 ...               ...   \n",
       "2916  ZBA Decision 2019  BOA-892970         \n",
       "2917  ZBA Decision 2019  BOA-822030         \n",
       "2918  ZBA Decision 2019  BOA-864614         \n",
       "2919  ZBA Decision 2019  BOA-865287         \n",
       "2920  ZBA Decision 2019  BOA-794211         \n",
       "\n",
       "                           Applicant Address Decision (Approve/Reject)  \n",
       "0                105 Allston Street, Ward 21                  Approved  \n",
       "1                 65 Ashland Street, Ward 16                  Approved  \n",
       "2               29 Batchelder Street, Ward 8                  Approved  \n",
       "3            21-27 Batchelder Street, Ward 8                  Approved  \n",
       "4                  474 Beacon Street, Ward 5                  Approved  \n",
       "...                                      ...                       ...  \n",
       "2916               91A Baker Street, Ward 20                    Denied  \n",
       "2917              212 Chelsea Street, Ward 1                    Denied  \n",
       "2918         118-120 Granite Avenue, Ward 16                    Denied  \n",
       "2919                  54 High Street, Ward 2                    Denied  \n",
       "2920               19 Inwood Street, Ward 15                    Denied  \n",
       "\n",
       "[2921 rows x 4 columns]"
      ],
      "text/html": "<div>\n<style scoped>\n    .dataframe tbody tr th:only-of-type {\n        vertical-align: middle;\n    }\n\n    .dataframe tbody tr th {\n        vertical-align: top;\n    }\n\n    .dataframe thead th {\n        text-align: right;\n    }\n</style>\n<table border=\"1\" class=\"dataframe\">\n  <thead>\n    <tr style=\"text-align: right;\">\n      <th></th>\n      <th>Source</th>\n      <th>Case Number</th>\n      <th>Applicant Address</th>\n      <th>Decision (Approve/Reject)</th>\n    </tr>\n  </thead>\n  <tbody>\n    <tr>\n      <th>0</th>\n      <td>ZBA Decision 2017</td>\n      <td>BOA-639633</td>\n      <td>105 Allston Street, Ward 21</td>\n      <td>Approved</td>\n    </tr>\n    <tr>\n      <th>1</th>\n      <td>ZBA Decision 2017</td>\n      <td>BOA-652473</td>\n      <td>65 Ashland Street, Ward 16</td>\n      <td>Approved</td>\n    </tr>\n    <tr>\n      <th>2</th>\n      <td>ZBA Decision 2017</td>\n      <td>BOA-640152</td>\n      <td>29 Batchelder Street, Ward 8</td>\n      <td>Approved</td>\n    </tr>\n    <tr>\n      <th>3</th>\n      <td>ZBA Decision 2017</td>\n      <td>BOA-640141</td>\n      <td>21-27 Batchelder Street, Ward 8</td>\n      <td>Approved</td>\n    </tr>\n    <tr>\n      <th>4</th>\n      <td>ZBA Decision 2017</td>\n      <td>BOA-568164</td>\n      <td>474 Beacon Street, Ward 5</td>\n      <td>Approved</td>\n    </tr>\n    <tr>\n      <th>...</th>\n      <td>...</td>\n      <td>...</td>\n      <td>...</td>\n      <td>...</td>\n    </tr>\n    <tr>\n      <th>2916</th>\n      <td>ZBA Decision 2019</td>\n      <td>BOA-892970</td>\n      <td>91A Baker Street, Ward 20</td>\n      <td>Denied</td>\n    </tr>\n    <tr>\n      <th>2917</th>\n      <td>ZBA Decision 2019</td>\n      <td>BOA-822030</td>\n      <td>212 Chelsea Street, Ward 1</td>\n      <td>Denied</td>\n    </tr>\n    <tr>\n      <th>2918</th>\n      <td>ZBA Decision 2019</td>\n      <td>BOA-864614</td>\n      <td>118-120 Granite Avenue, Ward 16</td>\n      <td>Denied</td>\n    </tr>\n    <tr>\n      <th>2919</th>\n      <td>ZBA Decision 2019</td>\n      <td>BOA-865287</td>\n      <td>54 High Street, Ward 2</td>\n      <td>Denied</td>\n    </tr>\n    <tr>\n      <th>2920</th>\n      <td>ZBA Decision 2019</td>\n      <td>BOA-794211</td>\n      <td>19 Inwood Street, Ward 15</td>\n      <td>Denied</td>\n    </tr>\n  </tbody>\n</table>\n<p>2921 rows × 4 columns</p>\n</div>"
     },
     "metadata": {},
     "execution_count": 2
    }
   ],
   "source": [
    "decisions_data = pd.read_csv(\"data/Filtered_ZBA_decisions.csv\")\n",
    "meetings_data = pd.read_csv(\"data/Filtered_ZBA_meetings.csv\")\n",
    "decisions_data"
   ]
  },
  {
   "cell_type": "code",
   "execution_count": 3,
   "metadata": {},
   "outputs": [
    {
     "output_type": "execute_result",
     "data": {
      "text/plain": [
       "                Source Case Number          Applicant  \\\n",
       "0     ZBA Meeting 2018  BOA-379892    Michael Cronin    \n",
       "1     ZBA Meeting 2018  BOA-645234       Andrew Kara    \n",
       "2     ZBA Meeting 2018  BOA-645231       Andrew Kara    \n",
       "3     ZBA Meeting 2018  BOA-382897        Ruth Silman   \n",
       "4     ZBA Meeting 2018  BOA-694026     Richard Lynds    \n",
       "...                ...         ...                ...   \n",
       "2998  ZBA Meeting 2017   BOA719303  James Christopher   \n",
       "2999  ZBA Meeting 2017   BOA730816         Elba Rojas   \n",
       "3000  ZBA Meeting 2017   BOA730716    John Harrington   \n",
       "3001  ZBA Meeting 2017   BOA732458    Patrick Mahoney   \n",
       "3002  ZBA Meeting 2017   BOA732459    Patrick Mahoney   \n",
       "\n",
       "                    Applicant Address  \n",
       "0         42 Thompson Street Ward 18   \n",
       "1      45-55 Brighton Avenue Ward 21   \n",
       "2          75 Gardner Street Ward 21   \n",
       "3            104 Canal Street Ward 3   \n",
       "4      77-85 Liverpool Street Ward 1   \n",
       "...                               ...  \n",
       "2998      435 Hyde Park AV, Ward - 19  \n",
       "2999         82 Cummins HW, Ward - 19  \n",
       "3000      177 Glenellen Rd, Ward - 20  \n",
       "3001  118 - 122 Tremont St, Ward - 22  \n",
       "3002     4 - 10 Cufflin St, Ward - 22  \n",
       "\n",
       "[3003 rows x 4 columns]"
      ],
      "text/html": "<div>\n<style scoped>\n    .dataframe tbody tr th:only-of-type {\n        vertical-align: middle;\n    }\n\n    .dataframe tbody tr th {\n        vertical-align: top;\n    }\n\n    .dataframe thead th {\n        text-align: right;\n    }\n</style>\n<table border=\"1\" class=\"dataframe\">\n  <thead>\n    <tr style=\"text-align: right;\">\n      <th></th>\n      <th>Source</th>\n      <th>Case Number</th>\n      <th>Applicant</th>\n      <th>Applicant Address</th>\n    </tr>\n  </thead>\n  <tbody>\n    <tr>\n      <th>0</th>\n      <td>ZBA Meeting 2018</td>\n      <td>BOA-379892</td>\n      <td>Michael Cronin</td>\n      <td>42 Thompson Street Ward 18</td>\n    </tr>\n    <tr>\n      <th>1</th>\n      <td>ZBA Meeting 2018</td>\n      <td>BOA-645234</td>\n      <td>Andrew Kara</td>\n      <td>45-55 Brighton Avenue Ward 21</td>\n    </tr>\n    <tr>\n      <th>2</th>\n      <td>ZBA Meeting 2018</td>\n      <td>BOA-645231</td>\n      <td>Andrew Kara</td>\n      <td>75 Gardner Street Ward 21</td>\n    </tr>\n    <tr>\n      <th>3</th>\n      <td>ZBA Meeting 2018</td>\n      <td>BOA-382897</td>\n      <td>Ruth Silman</td>\n      <td>104 Canal Street Ward 3</td>\n    </tr>\n    <tr>\n      <th>4</th>\n      <td>ZBA Meeting 2018</td>\n      <td>BOA-694026</td>\n      <td>Richard Lynds</td>\n      <td>77-85 Liverpool Street Ward 1</td>\n    </tr>\n    <tr>\n      <th>...</th>\n      <td>...</td>\n      <td>...</td>\n      <td>...</td>\n      <td>...</td>\n    </tr>\n    <tr>\n      <th>2998</th>\n      <td>ZBA Meeting 2017</td>\n      <td>BOA719303</td>\n      <td>James Christopher</td>\n      <td>435 Hyde Park AV, Ward - 19</td>\n    </tr>\n    <tr>\n      <th>2999</th>\n      <td>ZBA Meeting 2017</td>\n      <td>BOA730816</td>\n      <td>Elba Rojas</td>\n      <td>82 Cummins HW, Ward - 19</td>\n    </tr>\n    <tr>\n      <th>3000</th>\n      <td>ZBA Meeting 2017</td>\n      <td>BOA730716</td>\n      <td>John Harrington</td>\n      <td>177 Glenellen Rd, Ward - 20</td>\n    </tr>\n    <tr>\n      <th>3001</th>\n      <td>ZBA Meeting 2017</td>\n      <td>BOA732458</td>\n      <td>Patrick Mahoney</td>\n      <td>118 - 122 Tremont St, Ward - 22</td>\n    </tr>\n    <tr>\n      <th>3002</th>\n      <td>ZBA Meeting 2017</td>\n      <td>BOA732459</td>\n      <td>Patrick Mahoney</td>\n      <td>4 - 10 Cufflin St, Ward - 22</td>\n    </tr>\n  </tbody>\n</table>\n<p>3003 rows × 4 columns</p>\n</div>"
     },
     "metadata": {},
     "execution_count": 3
    }
   ],
   "source": [
    "meetings_data"
   ]
  },
  {
   "cell_type": "code",
   "execution_count": 4,
   "metadata": {},
   "outputs": [
    {
     "output_type": "execute_result",
     "data": {
      "text/plain": [
       "                 Source Case Number                       Applicant Address  \\\n",
       "0     ZBA Decision 2017      639633             105 Allston Street, Ward 21   \n",
       "1     ZBA Decision 2017      652473              65 Ashland Street, Ward 16   \n",
       "2     ZBA Decision 2017      640152            29 Batchelder Street, Ward 8   \n",
       "3     ZBA Decision 2017      640141         21-27 Batchelder Street, Ward 8   \n",
       "4     ZBA Decision 2017      568164               474 Beacon Street, Ward 5   \n",
       "...                 ...         ...                                     ...   \n",
       "2916  ZBA Decision 2019      892970               91A Baker Street, Ward 20   \n",
       "2917  ZBA Decision 2019      822030              212 Chelsea Street, Ward 1   \n",
       "2918  ZBA Decision 2019      864614         118-120 Granite Avenue, Ward 16   \n",
       "2919  ZBA Decision 2019      865287                  54 High Street, Ward 2   \n",
       "2920  ZBA Decision 2019      794211               19 Inwood Street, Ward 15   \n",
       "\n",
       "     Decision (Approve/Reject)  \n",
       "0                     Approved  \n",
       "1                     Approved  \n",
       "2                     Approved  \n",
       "3                     Approved  \n",
       "4                     Approved  \n",
       "...                        ...  \n",
       "2916                    Denied  \n",
       "2917                    Denied  \n",
       "2918                    Denied  \n",
       "2919                    Denied  \n",
       "2920                    Denied  \n",
       "\n",
       "[2921 rows x 4 columns]"
      ],
      "text/html": "<div>\n<style scoped>\n    .dataframe tbody tr th:only-of-type {\n        vertical-align: middle;\n    }\n\n    .dataframe tbody tr th {\n        vertical-align: top;\n    }\n\n    .dataframe thead th {\n        text-align: right;\n    }\n</style>\n<table border=\"1\" class=\"dataframe\">\n  <thead>\n    <tr style=\"text-align: right;\">\n      <th></th>\n      <th>Source</th>\n      <th>Case Number</th>\n      <th>Applicant Address</th>\n      <th>Decision (Approve/Reject)</th>\n    </tr>\n  </thead>\n  <tbody>\n    <tr>\n      <th>0</th>\n      <td>ZBA Decision 2017</td>\n      <td>639633</td>\n      <td>105 Allston Street, Ward 21</td>\n      <td>Approved</td>\n    </tr>\n    <tr>\n      <th>1</th>\n      <td>ZBA Decision 2017</td>\n      <td>652473</td>\n      <td>65 Ashland Street, Ward 16</td>\n      <td>Approved</td>\n    </tr>\n    <tr>\n      <th>2</th>\n      <td>ZBA Decision 2017</td>\n      <td>640152</td>\n      <td>29 Batchelder Street, Ward 8</td>\n      <td>Approved</td>\n    </tr>\n    <tr>\n      <th>3</th>\n      <td>ZBA Decision 2017</td>\n      <td>640141</td>\n      <td>21-27 Batchelder Street, Ward 8</td>\n      <td>Approved</td>\n    </tr>\n    <tr>\n      <th>4</th>\n      <td>ZBA Decision 2017</td>\n      <td>568164</td>\n      <td>474 Beacon Street, Ward 5</td>\n      <td>Approved</td>\n    </tr>\n    <tr>\n      <th>...</th>\n      <td>...</td>\n      <td>...</td>\n      <td>...</td>\n      <td>...</td>\n    </tr>\n    <tr>\n      <th>2916</th>\n      <td>ZBA Decision 2019</td>\n      <td>892970</td>\n      <td>91A Baker Street, Ward 20</td>\n      <td>Denied</td>\n    </tr>\n    <tr>\n      <th>2917</th>\n      <td>ZBA Decision 2019</td>\n      <td>822030</td>\n      <td>212 Chelsea Street, Ward 1</td>\n      <td>Denied</td>\n    </tr>\n    <tr>\n      <th>2918</th>\n      <td>ZBA Decision 2019</td>\n      <td>864614</td>\n      <td>118-120 Granite Avenue, Ward 16</td>\n      <td>Denied</td>\n    </tr>\n    <tr>\n      <th>2919</th>\n      <td>ZBA Decision 2019</td>\n      <td>865287</td>\n      <td>54 High Street, Ward 2</td>\n      <td>Denied</td>\n    </tr>\n    <tr>\n      <th>2920</th>\n      <td>ZBA Decision 2019</td>\n      <td>794211</td>\n      <td>19 Inwood Street, Ward 15</td>\n      <td>Denied</td>\n    </tr>\n  </tbody>\n</table>\n<p>2921 rows × 4 columns</p>\n</div>"
     },
     "metadata": {},
     "execution_count": 4
    }
   ],
   "source": [
    "decisions_data['Case Number'] = decisions_data.apply(lambda row: re.sub(\"[^0-9]\", \"\", row['Case Number']), axis=1)\n",
    "decisions_data"
   ]
  },
  {
   "cell_type": "code",
   "execution_count": 5,
   "metadata": {},
   "outputs": [
    {
     "output_type": "execute_result",
     "data": {
      "text/plain": [
       "                Source Case Number          Applicant  \\\n",
       "0     ZBA Meeting 2018      379892    Michael Cronin    \n",
       "1     ZBA Meeting 2018      645234       Andrew Kara    \n",
       "2     ZBA Meeting 2018      645231       Andrew Kara    \n",
       "3     ZBA Meeting 2018      382897        Ruth Silman   \n",
       "4     ZBA Meeting 2018      694026     Richard Lynds    \n",
       "...                ...         ...                ...   \n",
       "2998  ZBA Meeting 2017      719303  James Christopher   \n",
       "2999  ZBA Meeting 2017      730816         Elba Rojas   \n",
       "3000  ZBA Meeting 2017      730716    John Harrington   \n",
       "3001  ZBA Meeting 2017      732458    Patrick Mahoney   \n",
       "3002  ZBA Meeting 2017      732459    Patrick Mahoney   \n",
       "\n",
       "                    Applicant Address  \n",
       "0         42 Thompson Street Ward 18   \n",
       "1      45-55 Brighton Avenue Ward 21   \n",
       "2          75 Gardner Street Ward 21   \n",
       "3            104 Canal Street Ward 3   \n",
       "4      77-85 Liverpool Street Ward 1   \n",
       "...                               ...  \n",
       "2998      435 Hyde Park AV, Ward - 19  \n",
       "2999         82 Cummins HW, Ward - 19  \n",
       "3000      177 Glenellen Rd, Ward - 20  \n",
       "3001  118 - 122 Tremont St, Ward - 22  \n",
       "3002     4 - 10 Cufflin St, Ward - 22  \n",
       "\n",
       "[3002 rows x 4 columns]"
      ],
      "text/html": "<div>\n<style scoped>\n    .dataframe tbody tr th:only-of-type {\n        vertical-align: middle;\n    }\n\n    .dataframe tbody tr th {\n        vertical-align: top;\n    }\n\n    .dataframe thead th {\n        text-align: right;\n    }\n</style>\n<table border=\"1\" class=\"dataframe\">\n  <thead>\n    <tr style=\"text-align: right;\">\n      <th></th>\n      <th>Source</th>\n      <th>Case Number</th>\n      <th>Applicant</th>\n      <th>Applicant Address</th>\n    </tr>\n  </thead>\n  <tbody>\n    <tr>\n      <th>0</th>\n      <td>ZBA Meeting 2018</td>\n      <td>379892</td>\n      <td>Michael Cronin</td>\n      <td>42 Thompson Street Ward 18</td>\n    </tr>\n    <tr>\n      <th>1</th>\n      <td>ZBA Meeting 2018</td>\n      <td>645234</td>\n      <td>Andrew Kara</td>\n      <td>45-55 Brighton Avenue Ward 21</td>\n    </tr>\n    <tr>\n      <th>2</th>\n      <td>ZBA Meeting 2018</td>\n      <td>645231</td>\n      <td>Andrew Kara</td>\n      <td>75 Gardner Street Ward 21</td>\n    </tr>\n    <tr>\n      <th>3</th>\n      <td>ZBA Meeting 2018</td>\n      <td>382897</td>\n      <td>Ruth Silman</td>\n      <td>104 Canal Street Ward 3</td>\n    </tr>\n    <tr>\n      <th>4</th>\n      <td>ZBA Meeting 2018</td>\n      <td>694026</td>\n      <td>Richard Lynds</td>\n      <td>77-85 Liverpool Street Ward 1</td>\n    </tr>\n    <tr>\n      <th>...</th>\n      <td>...</td>\n      <td>...</td>\n      <td>...</td>\n      <td>...</td>\n    </tr>\n    <tr>\n      <th>2998</th>\n      <td>ZBA Meeting 2017</td>\n      <td>719303</td>\n      <td>James Christopher</td>\n      <td>435 Hyde Park AV, Ward - 19</td>\n    </tr>\n    <tr>\n      <th>2999</th>\n      <td>ZBA Meeting 2017</td>\n      <td>730816</td>\n      <td>Elba Rojas</td>\n      <td>82 Cummins HW, Ward - 19</td>\n    </tr>\n    <tr>\n      <th>3000</th>\n      <td>ZBA Meeting 2017</td>\n      <td>730716</td>\n      <td>John Harrington</td>\n      <td>177 Glenellen Rd, Ward - 20</td>\n    </tr>\n    <tr>\n      <th>3001</th>\n      <td>ZBA Meeting 2017</td>\n      <td>732458</td>\n      <td>Patrick Mahoney</td>\n      <td>118 - 122 Tremont St, Ward - 22</td>\n    </tr>\n    <tr>\n      <th>3002</th>\n      <td>ZBA Meeting 2017</td>\n      <td>732459</td>\n      <td>Patrick Mahoney</td>\n      <td>4 - 10 Cufflin St, Ward - 22</td>\n    </tr>\n  </tbody>\n</table>\n<p>3002 rows × 4 columns</p>\n</div>"
     },
     "metadata": {},
     "execution_count": 5
    }
   ],
   "source": [
    "meetings_data = meetings_data[meetings_data['Case Number'].notna()]\n",
    "meetings_data['Case Number'] = meetings_data.apply(lambda row: re.sub(\"[^0-9]\", \"\", row['Case Number']), axis=1)\n",
    "meetings_data"
   ]
  },
  {
   "cell_type": "code",
   "execution_count": 6,
   "metadata": {},
   "outputs": [
    {
     "output_type": "execute_result",
     "data": {
      "text/plain": [
       "     Case Number                Applicant  \\\n",
       "0         645234             Andrew Kara    \n",
       "1         694026           Richard Lynds    \n",
       "2         896003           Andreas Hwang    \n",
       "3         897604   Adam Grassi Article(s)   \n",
       "4         818377         Michael P. Ross    \n",
       "...          ...                      ...   \n",
       "2423      733438             Joe Grealish   \n",
       "2424      733442             Joe Grealish   \n",
       "2425      719303        James Christopher   \n",
       "2426      730816               Elba Rojas   \n",
       "2427      732459          Patrick Mahoney   \n",
       "\n",
       "                                          Address Decision (Approve/Reject)  \n",
       "0                  45-55 Brighton Avenue, Ward 21                  Approved  \n",
       "1                 86-86A Chestnut Street, Ward 41                  Approved  \n",
       "2             211 West Springfield Street, Ward 4                  Approved  \n",
       "3                   16 Marlborough Street, Ward 5                  Approved  \n",
       "4                     111 Terrace Street, Ward 10                  Approved  \n",
       "...                                           ...                       ...  \n",
       "2423                  26 Browning Avenue, Ward 14                  Approved  \n",
       "2424                  24 Browning Avenue, Ward 14                  Approved  \n",
       "2425                435 Hyde Park Avenue, Ward 19                    Denied  \n",
       "2426                  82 Cummins Highway, Ward 19                  Approved  \n",
       "2427                 4-10 Cufflin Street, Ward 22                  Approved  \n",
       "\n",
       "[2428 rows x 4 columns]"
      ],
      "text/html": "<div>\n<style scoped>\n    .dataframe tbody tr th:only-of-type {\n        vertical-align: middle;\n    }\n\n    .dataframe tbody tr th {\n        vertical-align: top;\n    }\n\n    .dataframe thead th {\n        text-align: right;\n    }\n</style>\n<table border=\"1\" class=\"dataframe\">\n  <thead>\n    <tr style=\"text-align: right;\">\n      <th></th>\n      <th>Case Number</th>\n      <th>Applicant</th>\n      <th>Address</th>\n      <th>Decision (Approve/Reject)</th>\n    </tr>\n  </thead>\n  <tbody>\n    <tr>\n      <th>0</th>\n      <td>645234</td>\n      <td>Andrew Kara</td>\n      <td>45-55 Brighton Avenue, Ward 21</td>\n      <td>Approved</td>\n    </tr>\n    <tr>\n      <th>1</th>\n      <td>694026</td>\n      <td>Richard Lynds</td>\n      <td>86-86A Chestnut Street, Ward 41</td>\n      <td>Approved</td>\n    </tr>\n    <tr>\n      <th>2</th>\n      <td>896003</td>\n      <td>Andreas Hwang</td>\n      <td>211 West Springfield Street, Ward 4</td>\n      <td>Approved</td>\n    </tr>\n    <tr>\n      <th>3</th>\n      <td>897604</td>\n      <td>Adam Grassi Article(s)</td>\n      <td>16 Marlborough Street, Ward 5</td>\n      <td>Approved</td>\n    </tr>\n    <tr>\n      <th>4</th>\n      <td>818377</td>\n      <td>Michael P. Ross</td>\n      <td>111 Terrace Street, Ward 10</td>\n      <td>Approved</td>\n    </tr>\n    <tr>\n      <th>...</th>\n      <td>...</td>\n      <td>...</td>\n      <td>...</td>\n      <td>...</td>\n    </tr>\n    <tr>\n      <th>2423</th>\n      <td>733438</td>\n      <td>Joe Grealish</td>\n      <td>26 Browning Avenue, Ward 14</td>\n      <td>Approved</td>\n    </tr>\n    <tr>\n      <th>2424</th>\n      <td>733442</td>\n      <td>Joe Grealish</td>\n      <td>24 Browning Avenue, Ward 14</td>\n      <td>Approved</td>\n    </tr>\n    <tr>\n      <th>2425</th>\n      <td>719303</td>\n      <td>James Christopher</td>\n      <td>435 Hyde Park Avenue, Ward 19</td>\n      <td>Denied</td>\n    </tr>\n    <tr>\n      <th>2426</th>\n      <td>730816</td>\n      <td>Elba Rojas</td>\n      <td>82 Cummins Highway, Ward 19</td>\n      <td>Approved</td>\n    </tr>\n    <tr>\n      <th>2427</th>\n      <td>732459</td>\n      <td>Patrick Mahoney</td>\n      <td>4-10 Cufflin Street, Ward 22</td>\n      <td>Approved</td>\n    </tr>\n  </tbody>\n</table>\n<p>2428 rows × 4 columns</p>\n</div>"
     },
     "metadata": {},
     "execution_count": 6
    }
   ],
   "source": [
    "meetings_with_decisions = pd.merge(meetings_data, decisions_data, left_on=\"Case Number\", right_on=\"Case Number\")\n",
    "meetings_with_decisions = meetings_with_decisions.drop(columns=['Applicant Address_x', 'Source_x', 'Source_y'])\n",
    "meetings_with_decisions = meetings_with_decisions.rename(columns={'Applicant Address_y': 'Address'})\n",
    "meetings_with_decisions"
   ]
  },
  {
   "cell_type": "code",
   "execution_count": 7,
   "metadata": {},
   "outputs": [
    {
     "output_type": "execute_result",
     "data": {
      "text/plain": [
       "43.3545384"
      ]
     },
     "metadata": {},
     "execution_count": 7
    }
   ],
   "source": [
    "gc.options.default_timeout = 10\n",
    "geolocator = gc.Nominatim(user_agent=\"Baystate_Banner_Boston_Building_Binvestigators\")\n",
    "# geocode = RateLimiter(geolocator.geocode, min_delay_seconds=0.05)\n",
    "location = geolocator.geocode(\"175 5th Avenue NYC\")\n",
    "location.latitude"
   ]
  },
  {
   "cell_type": "code",
   "execution_count": 11,
   "metadata": {
    "tags": []
   },
   "outputs": [
    {
     "output_type": "stream",
     "name": "stderr",
     "text": [
      "100%|██████████| 2428/2428 [22:31<00:00,  1.80it/s]\n"
     ]
    },
    {
     "output_type": "execute_result",
     "data": {
      "text/plain": [
       "     Case Number                Applicant  \\\n",
       "0         645234             Andrew Kara    \n",
       "1         694026           Richard Lynds    \n",
       "2         896003           Andreas Hwang    \n",
       "3         897604   Adam Grassi Article(s)   \n",
       "4         818377         Michael P. Ross    \n",
       "...          ...                      ...   \n",
       "2423      733438             Joe Grealish   \n",
       "2424      733442             Joe Grealish   \n",
       "2425      719303        James Christopher   \n",
       "2426      730816               Elba Rojas   \n",
       "2427      732459          Patrick Mahoney   \n",
       "\n",
       "                                          Address Decision (Approve/Reject)  \\\n",
       "0                  45-55 Brighton Avenue, Ward 21                  Approved   \n",
       "1                 86-86A Chestnut Street, Ward 41                  Approved   \n",
       "2             211 West Springfield Street, Ward 4                  Approved   \n",
       "3                   16 Marlborough Street, Ward 5                  Approved   \n",
       "4                     111 Terrace Street, Ward 10                  Approved   \n",
       "...                                           ...                       ...   \n",
       "2423                  26 Browning Avenue, Ward 14                  Approved   \n",
       "2424                  24 Browning Avenue, Ward 14                  Approved   \n",
       "2425                435 Hyde Park Avenue, Ward 19                    Denied   \n",
       "2426                  82 Cummins Highway, Ward 19                  Approved   \n",
       "2427                 4-10 Cufflin Street, Ward 22                  Approved   \n",
       "\n",
       "                                               geocodes  \n",
       "0     (Brighton Avenue, Ekurhuleni Ward 21, City of ...  \n",
       "1     (86, Chestnut Street, Ward 1, Newport, Newport...  \n",
       "2     (Springfield Street, Cape Town Ward 43, Cape T...  \n",
       "3     (16, Marlborough Street, Ward 2, Newport, Newp...  \n",
       "4     (store, Tagbilaran East Road, Purok 5, Canlang...  \n",
       "...                                                 ...  \n",
       "2423  (26, Browning Avenue, Gateway Hills, Ward 8, N...  \n",
       "2424  (24, Browning Avenue, Gateway Hills, Ward 8, N...  \n",
       "2425  (Hyde Park Avenue, Cape Town Ward 69, Noordhoe...  \n",
       "2426                                               None  \n",
       "2427                                               None  \n",
       "\n",
       "[2428 rows x 5 columns]"
      ],
      "text/html": "<div>\n<style scoped>\n    .dataframe tbody tr th:only-of-type {\n        vertical-align: middle;\n    }\n\n    .dataframe tbody tr th {\n        vertical-align: top;\n    }\n\n    .dataframe thead th {\n        text-align: right;\n    }\n</style>\n<table border=\"1\" class=\"dataframe\">\n  <thead>\n    <tr style=\"text-align: right;\">\n      <th></th>\n      <th>Case Number</th>\n      <th>Applicant</th>\n      <th>Address</th>\n      <th>Decision (Approve/Reject)</th>\n      <th>geocodes</th>\n    </tr>\n  </thead>\n  <tbody>\n    <tr>\n      <th>0</th>\n      <td>645234</td>\n      <td>Andrew Kara</td>\n      <td>45-55 Brighton Avenue, Ward 21</td>\n      <td>Approved</td>\n      <td>(Brighton Avenue, Ekurhuleni Ward 21, City of ...</td>\n    </tr>\n    <tr>\n      <th>1</th>\n      <td>694026</td>\n      <td>Richard Lynds</td>\n      <td>86-86A Chestnut Street, Ward 41</td>\n      <td>Approved</td>\n      <td>(86, Chestnut Street, Ward 1, Newport, Newport...</td>\n    </tr>\n    <tr>\n      <th>2</th>\n      <td>896003</td>\n      <td>Andreas Hwang</td>\n      <td>211 West Springfield Street, Ward 4</td>\n      <td>Approved</td>\n      <td>(Springfield Street, Cape Town Ward 43, Cape T...</td>\n    </tr>\n    <tr>\n      <th>3</th>\n      <td>897604</td>\n      <td>Adam Grassi Article(s)</td>\n      <td>16 Marlborough Street, Ward 5</td>\n      <td>Approved</td>\n      <td>(16, Marlborough Street, Ward 2, Newport, Newp...</td>\n    </tr>\n    <tr>\n      <th>4</th>\n      <td>818377</td>\n      <td>Michael P. Ross</td>\n      <td>111 Terrace Street, Ward 10</td>\n      <td>Approved</td>\n      <td>(store, Tagbilaran East Road, Purok 5, Canlang...</td>\n    </tr>\n    <tr>\n      <th>...</th>\n      <td>...</td>\n      <td>...</td>\n      <td>...</td>\n      <td>...</td>\n      <td>...</td>\n    </tr>\n    <tr>\n      <th>2423</th>\n      <td>733438</td>\n      <td>Joe Grealish</td>\n      <td>26 Browning Avenue, Ward 14</td>\n      <td>Approved</td>\n      <td>(26, Browning Avenue, Gateway Hills, Ward 8, N...</td>\n    </tr>\n    <tr>\n      <th>2424</th>\n      <td>733442</td>\n      <td>Joe Grealish</td>\n      <td>24 Browning Avenue, Ward 14</td>\n      <td>Approved</td>\n      <td>(24, Browning Avenue, Gateway Hills, Ward 8, N...</td>\n    </tr>\n    <tr>\n      <th>2425</th>\n      <td>719303</td>\n      <td>James Christopher</td>\n      <td>435 Hyde Park Avenue, Ward 19</td>\n      <td>Denied</td>\n      <td>(Hyde Park Avenue, Cape Town Ward 69, Noordhoe...</td>\n    </tr>\n    <tr>\n      <th>2426</th>\n      <td>730816</td>\n      <td>Elba Rojas</td>\n      <td>82 Cummins Highway, Ward 19</td>\n      <td>Approved</td>\n      <td>None</td>\n    </tr>\n    <tr>\n      <th>2427</th>\n      <td>732459</td>\n      <td>Patrick Mahoney</td>\n      <td>4-10 Cufflin Street, Ward 22</td>\n      <td>Approved</td>\n      <td>None</td>\n    </tr>\n  </tbody>\n</table>\n<p>2428 rows × 5 columns</p>\n</div>"
     },
     "metadata": {},
     "execution_count": 11
    }
   ],
   "source": [
    "meetings_with_decisions['geocodes'] = meetings_with_decisions['Address'].progress_apply(geolocator.geocode)\n",
    "meetings_with_decisions"
   ]
  },
  {
   "cell_type": "code",
   "execution_count": 14,
   "metadata": {},
   "outputs": [
    {
     "output_type": "execute_result",
     "data": {
      "text/plain": [
       "     Case Number                Applicant  \\\n",
       "0         645234             Andrew Kara    \n",
       "1         694026           Richard Lynds    \n",
       "2         896003           Andreas Hwang    \n",
       "3         897604   Adam Grassi Article(s)   \n",
       "4         818377         Michael P. Ross    \n",
       "...          ...                      ...   \n",
       "2421      726332          Kim Dung Nguyen   \n",
       "2422      733431             Joe Grealish   \n",
       "2423      733438             Joe Grealish   \n",
       "2424      733442             Joe Grealish   \n",
       "2425      719303        James Christopher   \n",
       "\n",
       "                                          Address Decision (Approve/Reject)  \\\n",
       "0                  45-55 Brighton Avenue, Ward 21                  Approved   \n",
       "1                 86-86A Chestnut Street, Ward 41                  Approved   \n",
       "2             211 West Springfield Street, Ward 4                  Approved   \n",
       "3                   16 Marlborough Street, Ward 5                  Approved   \n",
       "4                     111 Terrace Street, Ward 10                  Approved   \n",
       "...                                           ...                       ...   \n",
       "2421                    110 Moore Street, Ward 33                  Approved   \n",
       "2422                  28 Browning Avenue, Ward 14                  Approved   \n",
       "2423                  26 Browning Avenue, Ward 14                  Approved   \n",
       "2424                  24 Browning Avenue, Ward 14                  Approved   \n",
       "2425                435 Hyde Park Avenue, Ward 19                    Denied   \n",
       "\n",
       "                                               geocodes  \n",
       "0     (Brighton Avenue, Ekurhuleni Ward 21, City of ...  \n",
       "1     (86, Chestnut Street, Ward 1, Newport, Newport...  \n",
       "2     (Springfield Street, Cape Town Ward 43, Cape T...  \n",
       "3     (16, Marlborough Street, Ward 2, Newport, Newp...  \n",
       "4     (store, Tagbilaran East Road, Purok 5, Canlang...  \n",
       "...                                                 ...  \n",
       "2421  (110, Moore Street, Sweetwater Estates, Ward, ...  \n",
       "2422  (28, Browning Avenue, Gateway Hills, Ward 8, N...  \n",
       "2423  (26, Browning Avenue, Gateway Hills, Ward 8, N...  \n",
       "2424  (24, Browning Avenue, Gateway Hills, Ward 8, N...  \n",
       "2425  (Hyde Park Avenue, Cape Town Ward 69, Noordhoe...  \n",
       "\n",
       "[1391 rows x 5 columns]"
      ],
      "text/html": "<div>\n<style scoped>\n    .dataframe tbody tr th:only-of-type {\n        vertical-align: middle;\n    }\n\n    .dataframe tbody tr th {\n        vertical-align: top;\n    }\n\n    .dataframe thead th {\n        text-align: right;\n    }\n</style>\n<table border=\"1\" class=\"dataframe\">\n  <thead>\n    <tr style=\"text-align: right;\">\n      <th></th>\n      <th>Case Number</th>\n      <th>Applicant</th>\n      <th>Address</th>\n      <th>Decision (Approve/Reject)</th>\n      <th>geocodes</th>\n    </tr>\n  </thead>\n  <tbody>\n    <tr>\n      <th>0</th>\n      <td>645234</td>\n      <td>Andrew Kara</td>\n      <td>45-55 Brighton Avenue, Ward 21</td>\n      <td>Approved</td>\n      <td>(Brighton Avenue, Ekurhuleni Ward 21, City of ...</td>\n    </tr>\n    <tr>\n      <th>1</th>\n      <td>694026</td>\n      <td>Richard Lynds</td>\n      <td>86-86A Chestnut Street, Ward 41</td>\n      <td>Approved</td>\n      <td>(86, Chestnut Street, Ward 1, Newport, Newport...</td>\n    </tr>\n    <tr>\n      <th>2</th>\n      <td>896003</td>\n      <td>Andreas Hwang</td>\n      <td>211 West Springfield Street, Ward 4</td>\n      <td>Approved</td>\n      <td>(Springfield Street, Cape Town Ward 43, Cape T...</td>\n    </tr>\n    <tr>\n      <th>3</th>\n      <td>897604</td>\n      <td>Adam Grassi Article(s)</td>\n      <td>16 Marlborough Street, Ward 5</td>\n      <td>Approved</td>\n      <td>(16, Marlborough Street, Ward 2, Newport, Newp...</td>\n    </tr>\n    <tr>\n      <th>4</th>\n      <td>818377</td>\n      <td>Michael P. Ross</td>\n      <td>111 Terrace Street, Ward 10</td>\n      <td>Approved</td>\n      <td>(store, Tagbilaran East Road, Purok 5, Canlang...</td>\n    </tr>\n    <tr>\n      <th>...</th>\n      <td>...</td>\n      <td>...</td>\n      <td>...</td>\n      <td>...</td>\n      <td>...</td>\n    </tr>\n    <tr>\n      <th>2421</th>\n      <td>726332</td>\n      <td>Kim Dung Nguyen</td>\n      <td>110 Moore Street, Ward 33</td>\n      <td>Approved</td>\n      <td>(110, Moore Street, Sweetwater Estates, Ward, ...</td>\n    </tr>\n    <tr>\n      <th>2422</th>\n      <td>733431</td>\n      <td>Joe Grealish</td>\n      <td>28 Browning Avenue, Ward 14</td>\n      <td>Approved</td>\n      <td>(28, Browning Avenue, Gateway Hills, Ward 8, N...</td>\n    </tr>\n    <tr>\n      <th>2423</th>\n      <td>733438</td>\n      <td>Joe Grealish</td>\n      <td>26 Browning Avenue, Ward 14</td>\n      <td>Approved</td>\n      <td>(26, Browning Avenue, Gateway Hills, Ward 8, N...</td>\n    </tr>\n    <tr>\n      <th>2424</th>\n      <td>733442</td>\n      <td>Joe Grealish</td>\n      <td>24 Browning Avenue, Ward 14</td>\n      <td>Approved</td>\n      <td>(24, Browning Avenue, Gateway Hills, Ward 8, N...</td>\n    </tr>\n    <tr>\n      <th>2425</th>\n      <td>719303</td>\n      <td>James Christopher</td>\n      <td>435 Hyde Park Avenue, Ward 19</td>\n      <td>Denied</td>\n      <td>(Hyde Park Avenue, Cape Town Ward 69, Noordhoe...</td>\n    </tr>\n  </tbody>\n</table>\n<p>1391 rows × 5 columns</p>\n</div>"
     },
     "metadata": {},
     "execution_count": 14
    }
   ],
   "source": [
    "filtered_meetings_with_decisions = meetings_with_decisions[meetings_with_decisions['geocodes'].notna()]\n",
    "filtered_meetings_with_decisions"
   ]
  },
  {
   "cell_type": "code",
   "execution_count": 15,
   "metadata": {},
   "outputs": [
    {
     "output_type": "stream",
     "name": "stderr",
     "text": [
      "100%|██████████| 1391/1391 [00:00<00:00, 111260.48it/s]\n",
      "100%|██████████| 1391/1391 [00:00<00:00, 115899.74it/s]\n"
     ]
    },
    {
     "output_type": "execute_result",
     "data": {
      "text/plain": [
       "     Case Number                Applicant  \\\n",
       "0         645234             Andrew Kara    \n",
       "1         694026           Richard Lynds    \n",
       "2         896003           Andreas Hwang    \n",
       "3         897604   Adam Grassi Article(s)   \n",
       "4         818377         Michael P. Ross    \n",
       "...          ...                      ...   \n",
       "2421      726332          Kim Dung Nguyen   \n",
       "2422      733431             Joe Grealish   \n",
       "2423      733438             Joe Grealish   \n",
       "2424      733442             Joe Grealish   \n",
       "2425      719303        James Christopher   \n",
       "\n",
       "                                          Address Decision (Approve/Reject)  \\\n",
       "0                  45-55 Brighton Avenue, Ward 21                  Approved   \n",
       "1                 86-86A Chestnut Street, Ward 41                  Approved   \n",
       "2             211 West Springfield Street, Ward 4                  Approved   \n",
       "3                   16 Marlborough Street, Ward 5                  Approved   \n",
       "4                     111 Terrace Street, Ward 10                  Approved   \n",
       "...                                           ...                       ...   \n",
       "2421                    110 Moore Street, Ward 33                  Approved   \n",
       "2422                  28 Browning Avenue, Ward 14                  Approved   \n",
       "2423                  26 Browning Avenue, Ward 14                  Approved   \n",
       "2424                  24 Browning Avenue, Ward 14                  Approved   \n",
       "2425                435 Hyde Park Avenue, Ward 19                    Denied   \n",
       "\n",
       "                                               geocodes        lat        long  \n",
       "0     (Brighton Avenue, Ekurhuleni Ward 21, City of ... -26.183166   28.159704  \n",
       "1     (86, Chestnut Street, Ward 1, Newport, Newport...  41.495169  -71.320874  \n",
       "2     (Springfield Street, Cape Town Ward 43, Cape T... -34.001157   18.527376  \n",
       "3     (16, Marlborough Street, Ward 2, Newport, Newp...  41.491076  -71.313965  \n",
       "4     (store, Tagbilaran East Road, Purok 5, Canlang...   9.710126  124.406939  \n",
       "...                                                 ...        ...         ...  \n",
       "2421  (110, Moore Street, Sweetwater Estates, Ward, ...  35.029328  -91.949508  \n",
       "2422  (28, Browning Avenue, Gateway Hills, Ward 8, N...  42.719263  -71.470885  \n",
       "2423  (26, Browning Avenue, Gateway Hills, Ward 8, N...  42.719241  -71.470979  \n",
       "2424  (24, Browning Avenue, Gateway Hills, Ward 8, N...  42.719218  -71.471073  \n",
       "2425  (Hyde Park Avenue, Cape Town Ward 69, Noordhoe... -34.105910   18.399732  \n",
       "\n",
       "[1391 rows x 7 columns]"
      ],
      "text/html": "<div>\n<style scoped>\n    .dataframe tbody tr th:only-of-type {\n        vertical-align: middle;\n    }\n\n    .dataframe tbody tr th {\n        vertical-align: top;\n    }\n\n    .dataframe thead th {\n        text-align: right;\n    }\n</style>\n<table border=\"1\" class=\"dataframe\">\n  <thead>\n    <tr style=\"text-align: right;\">\n      <th></th>\n      <th>Case Number</th>\n      <th>Applicant</th>\n      <th>Address</th>\n      <th>Decision (Approve/Reject)</th>\n      <th>geocodes</th>\n      <th>lat</th>\n      <th>long</th>\n    </tr>\n  </thead>\n  <tbody>\n    <tr>\n      <th>0</th>\n      <td>645234</td>\n      <td>Andrew Kara</td>\n      <td>45-55 Brighton Avenue, Ward 21</td>\n      <td>Approved</td>\n      <td>(Brighton Avenue, Ekurhuleni Ward 21, City of ...</td>\n      <td>-26.183166</td>\n      <td>28.159704</td>\n    </tr>\n    <tr>\n      <th>1</th>\n      <td>694026</td>\n      <td>Richard Lynds</td>\n      <td>86-86A Chestnut Street, Ward 41</td>\n      <td>Approved</td>\n      <td>(86, Chestnut Street, Ward 1, Newport, Newport...</td>\n      <td>41.495169</td>\n      <td>-71.320874</td>\n    </tr>\n    <tr>\n      <th>2</th>\n      <td>896003</td>\n      <td>Andreas Hwang</td>\n      <td>211 West Springfield Street, Ward 4</td>\n      <td>Approved</td>\n      <td>(Springfield Street, Cape Town Ward 43, Cape T...</td>\n      <td>-34.001157</td>\n      <td>18.527376</td>\n    </tr>\n    <tr>\n      <th>3</th>\n      <td>897604</td>\n      <td>Adam Grassi Article(s)</td>\n      <td>16 Marlborough Street, Ward 5</td>\n      <td>Approved</td>\n      <td>(16, Marlborough Street, Ward 2, Newport, Newp...</td>\n      <td>41.491076</td>\n      <td>-71.313965</td>\n    </tr>\n    <tr>\n      <th>4</th>\n      <td>818377</td>\n      <td>Michael P. Ross</td>\n      <td>111 Terrace Street, Ward 10</td>\n      <td>Approved</td>\n      <td>(store, Tagbilaran East Road, Purok 5, Canlang...</td>\n      <td>9.710126</td>\n      <td>124.406939</td>\n    </tr>\n    <tr>\n      <th>...</th>\n      <td>...</td>\n      <td>...</td>\n      <td>...</td>\n      <td>...</td>\n      <td>...</td>\n      <td>...</td>\n      <td>...</td>\n    </tr>\n    <tr>\n      <th>2421</th>\n      <td>726332</td>\n      <td>Kim Dung Nguyen</td>\n      <td>110 Moore Street, Ward 33</td>\n      <td>Approved</td>\n      <td>(110, Moore Street, Sweetwater Estates, Ward, ...</td>\n      <td>35.029328</td>\n      <td>-91.949508</td>\n    </tr>\n    <tr>\n      <th>2422</th>\n      <td>733431</td>\n      <td>Joe Grealish</td>\n      <td>28 Browning Avenue, Ward 14</td>\n      <td>Approved</td>\n      <td>(28, Browning Avenue, Gateway Hills, Ward 8, N...</td>\n      <td>42.719263</td>\n      <td>-71.470885</td>\n    </tr>\n    <tr>\n      <th>2423</th>\n      <td>733438</td>\n      <td>Joe Grealish</td>\n      <td>26 Browning Avenue, Ward 14</td>\n      <td>Approved</td>\n      <td>(26, Browning Avenue, Gateway Hills, Ward 8, N...</td>\n      <td>42.719241</td>\n      <td>-71.470979</td>\n    </tr>\n    <tr>\n      <th>2424</th>\n      <td>733442</td>\n      <td>Joe Grealish</td>\n      <td>24 Browning Avenue, Ward 14</td>\n      <td>Approved</td>\n      <td>(24, Browning Avenue, Gateway Hills, Ward 8, N...</td>\n      <td>42.719218</td>\n      <td>-71.471073</td>\n    </tr>\n    <tr>\n      <th>2425</th>\n      <td>719303</td>\n      <td>James Christopher</td>\n      <td>435 Hyde Park Avenue, Ward 19</td>\n      <td>Denied</td>\n      <td>(Hyde Park Avenue, Cape Town Ward 69, Noordhoe...</td>\n      <td>-34.105910</td>\n      <td>18.399732</td>\n    </tr>\n  </tbody>\n</table>\n<p>1391 rows × 7 columns</p>\n</div>"
     },
     "metadata": {},
     "execution_count": 15
    }
   ],
   "source": [
    "filtered_meetings_with_decisions['lat'] = filtered_meetings_with_decisions.progress_apply(lambda row: row['geocodes'].latitude, axis=1)\n",
    "filtered_meetings_with_decisions['long'] = filtered_meetings_with_decisions.progress_apply(lambda row: row['geocodes'].longitude, axis=1)\n",
    "filtered_meetings_with_decisions"
   ]
  },
  {
   "cell_type": "code",
   "execution_count": 16,
   "metadata": {},
   "outputs": [
    {
     "output_type": "stream",
     "name": "stderr",
     "text": [
      "100%|██████████| 181/181 [00:00<00:00, 72391.44it/s]\n",
      "100%|██████████| 181/181 [00:00<00:00, 90474.20it/s]\n"
     ]
    },
    {
     "output_type": "execute_result",
     "data": {
      "text/plain": [
       "     Census Tract#       Zipcode   Neighborhood US Geonames Sub-neigborhood  \\\n",
       "0             1.00  02134, 02135       Brighton                         NaN   \n",
       "1             2.01         02135       Brighton                         NaN   \n",
       "2             2.02         02135       Brighton                         NaN   \n",
       "3             3.01         02135       Brighton                         NaN   \n",
       "4             3.02         02135       Brighton                         NaN   \n",
       "..             ...           ...            ...                         ...   \n",
       "176        9815.02         02151    East Boston                         NaN   \n",
       "177        9816.00         02128    East Boston                         NaN   \n",
       "178        9817.00         02116    Beacon Hill                         NaN   \n",
       "179        9818.00  02130, 02215  Jamaica Plain                         NaN   \n",
       "180        9901.01         02130            NaN                         NaN   \n",
       "\n",
       "    Total Population  Black Black Proportion  White  White Proportion  \\\n",
       "0              5,324    311            5.84%  3,315             62.27   \n",
       "1              3,991    237            5.94%  3,164             79.28   \n",
       "2              4,272    263            6.16%  3,031             70.95   \n",
       "3              2,946    216            7.33%  2,203             74.78   \n",
       "4              3,469    359           10.35%  2,346             67.63   \n",
       "..               ...    ...              ...    ...               ...   \n",
       "176                0      0            0.00%      0              0.00   \n",
       "177                0      0            0.00%      0              0.00   \n",
       "178                0      0            0.00%      0              0.00   \n",
       "179               26      9           34.62%     17             65.38   \n",
       "180               67     18           26.87%     49             73.13   \n",
       "\n",
       "     American Indian & Alaska Native  ...  Male  Male Proportion Female   \\\n",
       "0                                  0  ...  2,578          48.42%   2,746   \n",
       "1                                 17  ...  1,800          45.10%   2,191   \n",
       "2                                  0  ...  2,175          50.91%   2,097   \n",
       "3                                  0  ...  1,650          56.01%   1,296   \n",
       "4                                 25  ...  1,733          49.96%   1,736   \n",
       "..                               ...  ...    ...             ...     ...   \n",
       "176                                0  ...      0           0.00%       0   \n",
       "177                                0  ...      0           0.00%       0   \n",
       "178                                0  ...      0           0.00%       0   \n",
       "179                                0  ...      4          15.38%      22   \n",
       "180                                0  ...     55          82.09%      12   \n",
       "\n",
       "    Female Proportion         Lat       Long Primary Sub-Neighborhood  \\\n",
       "0               51.58%  42.361484 -71.138588            Lower Allston   \n",
       "1               54.90%  42.354066 -71.161168               Oak Square   \n",
       "2               49.09%  42.352605 -71.154344               Oak Square   \n",
       "3               43.99%  42.354144 -71.168827            Hunnwell Hill   \n",
       "4               50.04%  42.347258 -71.167686                 Brighton   \n",
       "..                 ...        ...        ...                      ...   \n",
       "176              0.00%  42.396367 -71.004379                Beachmont   \n",
       "177              0.00%  42.388621 -70.993442           Orient Heights   \n",
       "178              0.00%  42.355087 -71.065743        Downtown Crossing   \n",
       "179             84.62%  42.323121 -71.116882         High Street Hill   \n",
       "180             17.91%  42.329611 -70.949200                      NaN   \n",
       "\n",
       "     Secondary Sub-Neighborhood  Teritriary Sub-Neighborhood(s)  \\\n",
       "0                       Allston                Packard's Corner   \n",
       "1                      Brighton                  Hunnewell Hill   \n",
       "2                      Brighton                         Allston   \n",
       "3                    Oak Square                             NaN   \n",
       "4               St. Elizabeth's                             NaN   \n",
       "..                          ...                             ...   \n",
       "176              Orient Heights                             NaN   \n",
       "177                   Beachmont                             NaN   \n",
       "178                         NaN                             NaN   \n",
       "179                         NaN                             NaN   \n",
       "180                         NaN                             NaN   \n",
       "\n",
       "                T-Stop/Commuter Rail  \n",
       "0                     Boston Landing  \n",
       "1                                NaN  \n",
       "2                                NaN  \n",
       "3                                NaN  \n",
       "4                                NaN  \n",
       "..                               ...  \n",
       "176                        Beachmont  \n",
       "177                    Suffolk Downs  \n",
       "178                  Boylston Street  \n",
       "179  Heath Street / Back of the Hill  \n",
       "180                              NaN  \n",
       "\n",
       "[181 rows x 23 columns]"
      ],
      "text/html": "<div>\n<style scoped>\n    .dataframe tbody tr th:only-of-type {\n        vertical-align: middle;\n    }\n\n    .dataframe tbody tr th {\n        vertical-align: top;\n    }\n\n    .dataframe thead th {\n        text-align: right;\n    }\n</style>\n<table border=\"1\" class=\"dataframe\">\n  <thead>\n    <tr style=\"text-align: right;\">\n      <th></th>\n      <th>Census Tract#</th>\n      <th>Zipcode</th>\n      <th>Neighborhood</th>\n      <th>US Geonames Sub-neigborhood</th>\n      <th>Total Population</th>\n      <th>Black</th>\n      <th>Black Proportion</th>\n      <th>White</th>\n      <th>White Proportion</th>\n      <th>American Indian &amp; Alaska Native</th>\n      <th>...</th>\n      <th>Male</th>\n      <th>Male Proportion</th>\n      <th>Female</th>\n      <th>Female Proportion</th>\n      <th>Lat</th>\n      <th>Long</th>\n      <th>Primary Sub-Neighborhood</th>\n      <th>Secondary Sub-Neighborhood</th>\n      <th>Teritriary Sub-Neighborhood(s)</th>\n      <th>T-Stop/Commuter Rail</th>\n    </tr>\n  </thead>\n  <tbody>\n    <tr>\n      <th>0</th>\n      <td>1.00</td>\n      <td>02134, 02135</td>\n      <td>Brighton</td>\n      <td>NaN</td>\n      <td>5,324</td>\n      <td>311</td>\n      <td>5.84%</td>\n      <td>3,315</td>\n      <td>62.27</td>\n      <td>0</td>\n      <td>...</td>\n      <td>2,578</td>\n      <td>48.42%</td>\n      <td>2,746</td>\n      <td>51.58%</td>\n      <td>42.361484</td>\n      <td>-71.138588</td>\n      <td>Lower Allston</td>\n      <td>Allston</td>\n      <td>Packard's Corner</td>\n      <td>Boston Landing</td>\n    </tr>\n    <tr>\n      <th>1</th>\n      <td>2.01</td>\n      <td>02135</td>\n      <td>Brighton</td>\n      <td>NaN</td>\n      <td>3,991</td>\n      <td>237</td>\n      <td>5.94%</td>\n      <td>3,164</td>\n      <td>79.28</td>\n      <td>17</td>\n      <td>...</td>\n      <td>1,800</td>\n      <td>45.10%</td>\n      <td>2,191</td>\n      <td>54.90%</td>\n      <td>42.354066</td>\n      <td>-71.161168</td>\n      <td>Oak Square</td>\n      <td>Brighton</td>\n      <td>Hunnewell Hill</td>\n      <td>NaN</td>\n    </tr>\n    <tr>\n      <th>2</th>\n      <td>2.02</td>\n      <td>02135</td>\n      <td>Brighton</td>\n      <td>NaN</td>\n      <td>4,272</td>\n      <td>263</td>\n      <td>6.16%</td>\n      <td>3,031</td>\n      <td>70.95</td>\n      <td>0</td>\n      <td>...</td>\n      <td>2,175</td>\n      <td>50.91%</td>\n      <td>2,097</td>\n      <td>49.09%</td>\n      <td>42.352605</td>\n      <td>-71.154344</td>\n      <td>Oak Square</td>\n      <td>Brighton</td>\n      <td>Allston</td>\n      <td>NaN</td>\n    </tr>\n    <tr>\n      <th>3</th>\n      <td>3.01</td>\n      <td>02135</td>\n      <td>Brighton</td>\n      <td>NaN</td>\n      <td>2,946</td>\n      <td>216</td>\n      <td>7.33%</td>\n      <td>2,203</td>\n      <td>74.78</td>\n      <td>0</td>\n      <td>...</td>\n      <td>1,650</td>\n      <td>56.01%</td>\n      <td>1,296</td>\n      <td>43.99%</td>\n      <td>42.354144</td>\n      <td>-71.168827</td>\n      <td>Hunnwell Hill</td>\n      <td>Oak Square</td>\n      <td>NaN</td>\n      <td>NaN</td>\n    </tr>\n    <tr>\n      <th>4</th>\n      <td>3.02</td>\n      <td>02135</td>\n      <td>Brighton</td>\n      <td>NaN</td>\n      <td>3,469</td>\n      <td>359</td>\n      <td>10.35%</td>\n      <td>2,346</td>\n      <td>67.63</td>\n      <td>25</td>\n      <td>...</td>\n      <td>1,733</td>\n      <td>49.96%</td>\n      <td>1,736</td>\n      <td>50.04%</td>\n      <td>42.347258</td>\n      <td>-71.167686</td>\n      <td>Brighton</td>\n      <td>St. Elizabeth's</td>\n      <td>NaN</td>\n      <td>NaN</td>\n    </tr>\n    <tr>\n      <th>...</th>\n      <td>...</td>\n      <td>...</td>\n      <td>...</td>\n      <td>...</td>\n      <td>...</td>\n      <td>...</td>\n      <td>...</td>\n      <td>...</td>\n      <td>...</td>\n      <td>...</td>\n      <td>...</td>\n      <td>...</td>\n      <td>...</td>\n      <td>...</td>\n      <td>...</td>\n      <td>...</td>\n      <td>...</td>\n      <td>...</td>\n      <td>...</td>\n      <td>...</td>\n      <td>...</td>\n    </tr>\n    <tr>\n      <th>176</th>\n      <td>9815.02</td>\n      <td>02151</td>\n      <td>East Boston</td>\n      <td>NaN</td>\n      <td>0</td>\n      <td>0</td>\n      <td>0.00%</td>\n      <td>0</td>\n      <td>0.00</td>\n      <td>0</td>\n      <td>...</td>\n      <td>0</td>\n      <td>0.00%</td>\n      <td>0</td>\n      <td>0.00%</td>\n      <td>42.396367</td>\n      <td>-71.004379</td>\n      <td>Beachmont</td>\n      <td>Orient Heights</td>\n      <td>NaN</td>\n      <td>Beachmont</td>\n    </tr>\n    <tr>\n      <th>177</th>\n      <td>9816.00</td>\n      <td>02128</td>\n      <td>East Boston</td>\n      <td>NaN</td>\n      <td>0</td>\n      <td>0</td>\n      <td>0.00%</td>\n      <td>0</td>\n      <td>0.00</td>\n      <td>0</td>\n      <td>...</td>\n      <td>0</td>\n      <td>0.00%</td>\n      <td>0</td>\n      <td>0.00%</td>\n      <td>42.388621</td>\n      <td>-70.993442</td>\n      <td>Orient Heights</td>\n      <td>Beachmont</td>\n      <td>NaN</td>\n      <td>Suffolk Downs</td>\n    </tr>\n    <tr>\n      <th>178</th>\n      <td>9817.00</td>\n      <td>02116</td>\n      <td>Beacon Hill</td>\n      <td>NaN</td>\n      <td>0</td>\n      <td>0</td>\n      <td>0.00%</td>\n      <td>0</td>\n      <td>0.00</td>\n      <td>0</td>\n      <td>...</td>\n      <td>0</td>\n      <td>0.00%</td>\n      <td>0</td>\n      <td>0.00%</td>\n      <td>42.355087</td>\n      <td>-71.065743</td>\n      <td>Downtown Crossing</td>\n      <td>NaN</td>\n      <td>NaN</td>\n      <td>Boylston Street</td>\n    </tr>\n    <tr>\n      <th>179</th>\n      <td>9818.00</td>\n      <td>02130, 02215</td>\n      <td>Jamaica Plain</td>\n      <td>NaN</td>\n      <td>26</td>\n      <td>9</td>\n      <td>34.62%</td>\n      <td>17</td>\n      <td>65.38</td>\n      <td>0</td>\n      <td>...</td>\n      <td>4</td>\n      <td>15.38%</td>\n      <td>22</td>\n      <td>84.62%</td>\n      <td>42.323121</td>\n      <td>-71.116882</td>\n      <td>High Street Hill</td>\n      <td>NaN</td>\n      <td>NaN</td>\n      <td>Heath Street / Back of the Hill</td>\n    </tr>\n    <tr>\n      <th>180</th>\n      <td>9901.01</td>\n      <td>02130</td>\n      <td>NaN</td>\n      <td>NaN</td>\n      <td>67</td>\n      <td>18</td>\n      <td>26.87%</td>\n      <td>49</td>\n      <td>73.13</td>\n      <td>0</td>\n      <td>...</td>\n      <td>55</td>\n      <td>82.09%</td>\n      <td>12</td>\n      <td>17.91%</td>\n      <td>42.329611</td>\n      <td>-70.949200</td>\n      <td>NaN</td>\n      <td>NaN</td>\n      <td>NaN</td>\n      <td>NaN</td>\n    </tr>\n  </tbody>\n</table>\n<p>181 rows × 23 columns</p>\n</div>"
     },
     "metadata": {},
     "execution_count": 16
    }
   ],
   "source": [
    "sub_neigh = pd.read_csv(\"data/Sub-Neighborhoods.csv\")\n",
    "sub_neigh['Census Tract#'] = sub_neigh.progress_apply(lambda row: float(row['Census Tract#']), axis=1)\n",
    "sub_neigh['White Proportion'] = sub_neigh.progress_apply(lambda row: float(row['White Proportion'][:-1]), axis=1)\n",
    "sub_neigh"
   ]
  },
  {
   "cell_type": "code",
   "execution_count": 28,
   "metadata": {},
   "outputs": [],
   "source": [
    "# Function to convert the Lat and Long into a census tract.\n",
    "# Refer to https://www.census.gov/programs-surveys/geography/guidance/geo-identifiers.html for the FIPS code to census tract conversion\n",
    "# FCC Census block conversion API link: https://geo.fcc.gov/api/census/#!/block/get_block_find\n",
    "\n",
    "def Coord_to_census_tract(Lat,Long):\n",
    "    Converter = requests.get(\"https://geo.fcc.gov/api/census/block/find?latitude=%20\" + str(Lat) + \"&longitude=\" + str(Long) + \"&showall=true&format=json\")\n",
    "    #print(Converter.text)\n",
    "    Census_data = Converter.text\n",
    "    json_data = json.loads(Census_data)\n",
    "    # print(json_data)\n",
    "    FIPS_code = json_data['Block']['FIPS']\n",
    "    if FIPS_code is None:\n",
    "        return \"nan\"\n",
    "    Census_tract = FIPS_code[5:11]\n",
    "    #print(type(Census_tract))\n",
    "    if Census_tract[0] == \"0\":\n",
    "        Census_tract.replace(Census_tract[0],'')\n",
    "        Census_split = Census_tract[ : 4] + '.'+ Census_tract[4 : ]\n",
    "        return(Census_split)\n",
    "    else:\n",
    "        Census_split = Census_tract[ : 4] + '.'+ Census_tract[4 : ]\n",
    "        return(Census_split)"
   ]
  },
  {
   "cell_type": "code",
   "execution_count": 30,
   "metadata": {},
   "outputs": [
    {
     "output_type": "stream",
     "name": "stderr",
     "text": [
      "100%|██████████| 1391/1391 [02:44<00:00,  8.44it/s]\n"
     ]
    },
    {
     "output_type": "execute_result",
     "data": {
      "text/plain": [
       "   Case Number                       Applicant  \\\n",
       "0       893682   37-43 North Beacon Street LLC   \n",
       "1       893682   37-43 North Beacon Street LLC   \n",
       "2       845481                    Frank Scire    \n",
       "3       845481                     Frank Scire   \n",
       "4       845481                     Frank Scire   \n",
       "..         ...                             ...   \n",
       "79      871519                 Russell Flynne    \n",
       "80      687529              Richard Lynds, Esq   \n",
       "81      687529                   Richard Lynds   \n",
       "82      740260                     Tuan Nguyen   \n",
       "83      833835                Patrick Mahoney,   \n",
       "\n",
       "                                          Address Decision (Approve/Reject)  \\\n",
       "0                 37 North Beacon Street, Ward 22                  Approved   \n",
       "1                 37 North Beacon Street, Ward 22                  Approved   \n",
       "2                      64-66 Salem Street, Ward 3                    Denied   \n",
       "3                      64-66 Salem Street, Ward 3                    Denied   \n",
       "4                      64-66 Salem Street, Ward 3                    Denied   \n",
       "..                                            ...                       ...   \n",
       "79                     218 Everett Street, Ward 1                  Approved   \n",
       "80                     254 Everett Street, Ward 1                  Approved   \n",
       "81                     254 Everett Street, Ward 1                  Approved   \n",
       "82                      411 Adams Street, Ward 16                  Approved   \n",
       "83         6 General William H Devine Way, Ward 7                  Approved   \n",
       "\n",
       "                                             geocodes        lat       long  \\\n",
       "0   (37, Beacon Street, Nashville Historic Distric...  42.765158 -71.470898   \n",
       "1   (37, Beacon Street, Nashville Historic Distric...  42.765158 -71.470898   \n",
       "2   (64, Salem Street, Nashville Historic District...  42.767406 -71.460873   \n",
       "3   (64, Salem Street, Nashville Historic District...  42.767406 -71.460873   \n",
       "4   (64, Salem Street, Nashville Historic District...  42.767406 -71.460873   \n",
       "..                                                ...        ...        ...   \n",
       "79  (218, Everett Street, Manchester, Richmond, Ri...  37.523271 -77.433732   \n",
       "80  (254, Everett Street, Manchester, Richmond, Ri...  37.523140 -77.433936   \n",
       "81  (254, Everett Street, Manchester, Richmond, Ri...  37.523140 -77.433936   \n",
       "82  (411, Adams Street, Ward Lee Mobile Home Park,...  43.694813 -91.276732   \n",
       "83  (General William H Devine Way, Dorchester Heig...  42.328599 -71.054025   \n",
       "\n",
       "    Cencus Tract  Census Tract#              Zipcode  ...  Male   \\\n",
       "0          105.0          105.0         02115, 02116  ...  1,907   \n",
       "1          105.0          105.0         02115, 02116  ...  1,907   \n",
       "2          105.0          105.0         02115, 02116  ...  1,907   \n",
       "3          105.0          105.0         02115, 02116  ...  1,907   \n",
       "4          105.0          105.0         02115, 02116  ...  1,907   \n",
       "..           ...            ...                  ...  ...    ...   \n",
       "79         610.0          610.0                02127  ...  1,483   \n",
       "80         610.0          610.0                02127  ...  1,483   \n",
       "81         610.0          610.0                02127  ...  1,483   \n",
       "82         202.0          202.0                02114  ...  1,800   \n",
       "83         612.0          612.0  02118, 02127, 02210  ...  2,548   \n",
       "\n",
       "   Male Proportion Female  Female Proportion         Lat       Long  \\\n",
       "0           54.15%   1,615             45.85%  42.344564 -71.084575   \n",
       "1           54.15%   1,615             45.85%  42.344564 -71.084575   \n",
       "2           54.15%   1,615             45.85%  42.344564 -71.084575   \n",
       "3           54.15%   1,615             45.85%  42.344564 -71.084575   \n",
       "4           54.15%   1,615             45.85%  42.344564 -71.084575   \n",
       "..             ...     ...                ...        ...        ...   \n",
       "79          45.96%   1,744             54.04%  42.331621 -71.049917   \n",
       "80          45.96%   1,744             54.04%  42.331621 -71.049917   \n",
       "81          45.96%   1,744             54.04%  42.331621 -71.049917   \n",
       "82          48.77%   1,891             51.23%  42.360335 -71.068633   \n",
       "83          58.49%   1,808             41.51%  42.339809 -71.056724   \n",
       "\n",
       "       Primary Sub-Neighborhood  Secondary Sub-Neighborhood  \\\n",
       "0                      Back Bay                    Columbus   \n",
       "1                      Back Bay                    Columbus   \n",
       "2                      Back Bay                    Columbus   \n",
       "3                      Back Bay                    Columbus   \n",
       "4                      Back Bay                    Columbus   \n",
       "..                          ...                         ...   \n",
       "79  Columbus Park/Andrew Square              Telegraph Hill   \n",
       "80  Columbus Park/Andrew Square              Telegraph Hill   \n",
       "81  Columbus Park/Andrew Square              Telegraph Hill   \n",
       "82                     West End                 Bay Village   \n",
       "83     D Street / West Broadway                South Boston   \n",
       "\n",
       "                Teritriary Sub-Neighborhood(s)  T-Stop/Commuter Rail  \n",
       "0   Frederick Douglas Square Historic District     Massachusetts Ave  \n",
       "1   Frederick Douglas Square Historic District     Massachusetts Ave  \n",
       "2   Frederick Douglas Square Historic District     Massachusetts Ave  \n",
       "3   Frederick Douglas Square Historic District     Massachusetts Ave  \n",
       "4   Frederick Douglas Square Historic District     Massachusetts Ave  \n",
       "..                                         ...                   ...  \n",
       "79                                         NaN  E 8th St @ Mercer St  \n",
       "80                                         NaN  E 8th St @ Mercer St  \n",
       "81                                         NaN  E 8th St @ Mercer St  \n",
       "82                                         NaN           Charles/MGH  \n",
       "83                                     Shawmut              Broadway  \n",
       "\n",
       "[84 rows x 31 columns]"
      ],
      "text/html": "<div>\n<style scoped>\n    .dataframe tbody tr th:only-of-type {\n        vertical-align: middle;\n    }\n\n    .dataframe tbody tr th {\n        vertical-align: top;\n    }\n\n    .dataframe thead th {\n        text-align: right;\n    }\n</style>\n<table border=\"1\" class=\"dataframe\">\n  <thead>\n    <tr style=\"text-align: right;\">\n      <th></th>\n      <th>Case Number</th>\n      <th>Applicant</th>\n      <th>Address</th>\n      <th>Decision (Approve/Reject)</th>\n      <th>geocodes</th>\n      <th>lat</th>\n      <th>long</th>\n      <th>Cencus Tract</th>\n      <th>Census Tract#</th>\n      <th>Zipcode</th>\n      <th>...</th>\n      <th>Male</th>\n      <th>Male Proportion</th>\n      <th>Female</th>\n      <th>Female Proportion</th>\n      <th>Lat</th>\n      <th>Long</th>\n      <th>Primary Sub-Neighborhood</th>\n      <th>Secondary Sub-Neighborhood</th>\n      <th>Teritriary Sub-Neighborhood(s)</th>\n      <th>T-Stop/Commuter Rail</th>\n    </tr>\n  </thead>\n  <tbody>\n    <tr>\n      <th>0</th>\n      <td>893682</td>\n      <td>37-43 North Beacon Street LLC</td>\n      <td>37 North Beacon Street, Ward 22</td>\n      <td>Approved</td>\n      <td>(37, Beacon Street, Nashville Historic Distric...</td>\n      <td>42.765158</td>\n      <td>-71.470898</td>\n      <td>105.0</td>\n      <td>105.0</td>\n      <td>02115, 02116</td>\n      <td>...</td>\n      <td>1,907</td>\n      <td>54.15%</td>\n      <td>1,615</td>\n      <td>45.85%</td>\n      <td>42.344564</td>\n      <td>-71.084575</td>\n      <td>Back Bay</td>\n      <td>Columbus</td>\n      <td>Frederick Douglas Square Historic District</td>\n      <td>Massachusetts Ave</td>\n    </tr>\n    <tr>\n      <th>1</th>\n      <td>893682</td>\n      <td>37-43 North Beacon Street LLC</td>\n      <td>37 North Beacon Street, Ward 22</td>\n      <td>Approved</td>\n      <td>(37, Beacon Street, Nashville Historic Distric...</td>\n      <td>42.765158</td>\n      <td>-71.470898</td>\n      <td>105.0</td>\n      <td>105.0</td>\n      <td>02115, 02116</td>\n      <td>...</td>\n      <td>1,907</td>\n      <td>54.15%</td>\n      <td>1,615</td>\n      <td>45.85%</td>\n      <td>42.344564</td>\n      <td>-71.084575</td>\n      <td>Back Bay</td>\n      <td>Columbus</td>\n      <td>Frederick Douglas Square Historic District</td>\n      <td>Massachusetts Ave</td>\n    </tr>\n    <tr>\n      <th>2</th>\n      <td>845481</td>\n      <td>Frank Scire</td>\n      <td>64-66 Salem Street, Ward 3</td>\n      <td>Denied</td>\n      <td>(64, Salem Street, Nashville Historic District...</td>\n      <td>42.767406</td>\n      <td>-71.460873</td>\n      <td>105.0</td>\n      <td>105.0</td>\n      <td>02115, 02116</td>\n      <td>...</td>\n      <td>1,907</td>\n      <td>54.15%</td>\n      <td>1,615</td>\n      <td>45.85%</td>\n      <td>42.344564</td>\n      <td>-71.084575</td>\n      <td>Back Bay</td>\n      <td>Columbus</td>\n      <td>Frederick Douglas Square Historic District</td>\n      <td>Massachusetts Ave</td>\n    </tr>\n    <tr>\n      <th>3</th>\n      <td>845481</td>\n      <td>Frank Scire</td>\n      <td>64-66 Salem Street, Ward 3</td>\n      <td>Denied</td>\n      <td>(64, Salem Street, Nashville Historic District...</td>\n      <td>42.767406</td>\n      <td>-71.460873</td>\n      <td>105.0</td>\n      <td>105.0</td>\n      <td>02115, 02116</td>\n      <td>...</td>\n      <td>1,907</td>\n      <td>54.15%</td>\n      <td>1,615</td>\n      <td>45.85%</td>\n      <td>42.344564</td>\n      <td>-71.084575</td>\n      <td>Back Bay</td>\n      <td>Columbus</td>\n      <td>Frederick Douglas Square Historic District</td>\n      <td>Massachusetts Ave</td>\n    </tr>\n    <tr>\n      <th>4</th>\n      <td>845481</td>\n      <td>Frank Scire</td>\n      <td>64-66 Salem Street, Ward 3</td>\n      <td>Denied</td>\n      <td>(64, Salem Street, Nashville Historic District...</td>\n      <td>42.767406</td>\n      <td>-71.460873</td>\n      <td>105.0</td>\n      <td>105.0</td>\n      <td>02115, 02116</td>\n      <td>...</td>\n      <td>1,907</td>\n      <td>54.15%</td>\n      <td>1,615</td>\n      <td>45.85%</td>\n      <td>42.344564</td>\n      <td>-71.084575</td>\n      <td>Back Bay</td>\n      <td>Columbus</td>\n      <td>Frederick Douglas Square Historic District</td>\n      <td>Massachusetts Ave</td>\n    </tr>\n    <tr>\n      <th>...</th>\n      <td>...</td>\n      <td>...</td>\n      <td>...</td>\n      <td>...</td>\n      <td>...</td>\n      <td>...</td>\n      <td>...</td>\n      <td>...</td>\n      <td>...</td>\n      <td>...</td>\n      <td>...</td>\n      <td>...</td>\n      <td>...</td>\n      <td>...</td>\n      <td>...</td>\n      <td>...</td>\n      <td>...</td>\n      <td>...</td>\n      <td>...</td>\n      <td>...</td>\n      <td>...</td>\n    </tr>\n    <tr>\n      <th>79</th>\n      <td>871519</td>\n      <td>Russell Flynne</td>\n      <td>218 Everett Street, Ward 1</td>\n      <td>Approved</td>\n      <td>(218, Everett Street, Manchester, Richmond, Ri...</td>\n      <td>37.523271</td>\n      <td>-77.433732</td>\n      <td>610.0</td>\n      <td>610.0</td>\n      <td>02127</td>\n      <td>...</td>\n      <td>1,483</td>\n      <td>45.96%</td>\n      <td>1,744</td>\n      <td>54.04%</td>\n      <td>42.331621</td>\n      <td>-71.049917</td>\n      <td>Columbus Park/Andrew Square</td>\n      <td>Telegraph Hill</td>\n      <td>NaN</td>\n      <td>E 8th St @ Mercer St</td>\n    </tr>\n    <tr>\n      <th>80</th>\n      <td>687529</td>\n      <td>Richard Lynds, Esq</td>\n      <td>254 Everett Street, Ward 1</td>\n      <td>Approved</td>\n      <td>(254, Everett Street, Manchester, Richmond, Ri...</td>\n      <td>37.523140</td>\n      <td>-77.433936</td>\n      <td>610.0</td>\n      <td>610.0</td>\n      <td>02127</td>\n      <td>...</td>\n      <td>1,483</td>\n      <td>45.96%</td>\n      <td>1,744</td>\n      <td>54.04%</td>\n      <td>42.331621</td>\n      <td>-71.049917</td>\n      <td>Columbus Park/Andrew Square</td>\n      <td>Telegraph Hill</td>\n      <td>NaN</td>\n      <td>E 8th St @ Mercer St</td>\n    </tr>\n    <tr>\n      <th>81</th>\n      <td>687529</td>\n      <td>Richard Lynds</td>\n      <td>254 Everett Street, Ward 1</td>\n      <td>Approved</td>\n      <td>(254, Everett Street, Manchester, Richmond, Ri...</td>\n      <td>37.523140</td>\n      <td>-77.433936</td>\n      <td>610.0</td>\n      <td>610.0</td>\n      <td>02127</td>\n      <td>...</td>\n      <td>1,483</td>\n      <td>45.96%</td>\n      <td>1,744</td>\n      <td>54.04%</td>\n      <td>42.331621</td>\n      <td>-71.049917</td>\n      <td>Columbus Park/Andrew Square</td>\n      <td>Telegraph Hill</td>\n      <td>NaN</td>\n      <td>E 8th St @ Mercer St</td>\n    </tr>\n    <tr>\n      <th>82</th>\n      <td>740260</td>\n      <td>Tuan Nguyen</td>\n      <td>411 Adams Street, Ward 16</td>\n      <td>Approved</td>\n      <td>(411, Adams Street, Ward Lee Mobile Home Park,...</td>\n      <td>43.694813</td>\n      <td>-91.276732</td>\n      <td>202.0</td>\n      <td>202.0</td>\n      <td>02114</td>\n      <td>...</td>\n      <td>1,800</td>\n      <td>48.77%</td>\n      <td>1,891</td>\n      <td>51.23%</td>\n      <td>42.360335</td>\n      <td>-71.068633</td>\n      <td>West End</td>\n      <td>Bay Village</td>\n      <td>NaN</td>\n      <td>Charles/MGH</td>\n    </tr>\n    <tr>\n      <th>83</th>\n      <td>833835</td>\n      <td>Patrick Mahoney,</td>\n      <td>6 General William H Devine Way, Ward 7</td>\n      <td>Approved</td>\n      <td>(General William H Devine Way, Dorchester Heig...</td>\n      <td>42.328599</td>\n      <td>-71.054025</td>\n      <td>612.0</td>\n      <td>612.0</td>\n      <td>02118, 02127, 02210</td>\n      <td>...</td>\n      <td>2,548</td>\n      <td>58.49%</td>\n      <td>1,808</td>\n      <td>41.51%</td>\n      <td>42.339809</td>\n      <td>-71.056724</td>\n      <td>D Street / West Broadway</td>\n      <td>South Boston</td>\n      <td>Shawmut</td>\n      <td>Broadway</td>\n    </tr>\n  </tbody>\n</table>\n<p>84 rows × 31 columns</p>\n</div>"
     },
     "metadata": {},
     "execution_count": 30
    }
   ],
   "source": [
    "filtered_meetings_with_decisions['Cencus Tract'] = filtered_meetings_with_decisions.progress_apply(lambda row: float(Coord_to_census_tract(row.lat, row.long)), axis=1)\n",
    "filtered_meetings_with_decisions = filtered_meetings_with_decisions[filtered_meetings_with_decisions['Cencus Tract'].notna()]\n",
    "decisions_with_demos = pd.merge(filtered_meetings_with_decisions, sub_neigh, left_on=\"Cencus Tract\", right_on=\"Census Tract#\")\n",
    "decisions_with_demos"
   ]
  },
  {
   "cell_type": "code",
   "execution_count": null,
   "metadata": {},
   "outputs": [],
   "source": [
    "decisions_with_demos"
   ]
  },
  {
   "cell_type": "code",
   "execution_count": null,
   "metadata": {},
   "outputs": [],
   "source": [
    "grouped_neighs = decisions_with_demos.groupby('Neighborhood')\n",
    "grouped_neighs_approved_size = grouped_neighs.filter(lambda row: row['Decision (Approve/Reject)'] == 'Approved').agg(\"size\")\n",
    "grouped_neighs_approved_size"
   ]
  },
  {
   "cell_type": "code",
   "execution_count": null,
   "metadata": {},
   "outputs": [],
   "source": [
    "grouped_neighs_approved_size/grouped_neighs.agg(\"size\")"
   ]
  }
 ]
}