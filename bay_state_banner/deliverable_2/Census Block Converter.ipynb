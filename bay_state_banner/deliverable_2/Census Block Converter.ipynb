{
 "cells": [
  {
   "cell_type": "code",
   "execution_count": 14,
   "metadata": {},
   "outputs": [],
   "source": [
    "import pandas as pd\n",
    "import requests\n",
    "import json"
   ]
  },
  {
   "cell_type": "code",
   "execution_count": 15,
   "metadata": {},
   "outputs": [
    {
     "output_type": "stream",
     "name": "stdout",
     "text": [
      "{\"messages\":[\"FCC0001: The coordinate lies on the boundary of mulitple blocks.\"],\"Block\":{\"FIPS\":\"250250202002002\",\"bbox\":[-71.068752,42.360336,-71.067791,42.361108],\"intersection\":[{\"FIPF\":\"250250202002002\"},{\"FIPF\":\"250250202002003\"},{\"FIPF\":\"250250202002005\"},{\"FIPF\":\"250250202002004\"}]},\"County\":{\"FIPS\":\"25025\",\"name\":\"Suffolk\"},\"State\":{\"FIPS\":\"25\",\"code\":\"MA\",\"name\":\"Massachusetts\"},\"status\":\"OK\",\"executionTime\":\"0\"}\n"
     ]
    }
   ],
   "source": [
    "Lat = \"42.3604\"\n",
    "Long = \"-71.0678\"\n",
    "\n",
    "Converter = requests.get(\"https://geo.fcc.gov/api/census/block/find?latitude=%20\" + Lat + \"&longitude=\" + Long +\"&showall=true&format=json\")\n",
    "print(Converter.text)\n",
    "Census_data = Converter.text"
   ]
  },
  {
   "cell_type": "code",
   "execution_count": 16,
   "metadata": {},
   "outputs": [
    {
     "output_type": "execute_result",
     "data": {
      "text/plain": [
       "{'messages': ['FCC0001: The coordinate lies on the boundary of mulitple blocks.'],\n",
       " 'Block': {'FIPS': '250250202002002',\n",
       "  'bbox': [-71.068752, 42.360336, -71.067791, 42.361108],\n",
       "  'intersection': [{'FIPF': '250250202002002'},\n",
       "   {'FIPF': '250250202002003'},\n",
       "   {'FIPF': '250250202002005'},\n",
       "   {'FIPF': '250250202002004'}]},\n",
       " 'County': {'FIPS': '25025', 'name': 'Suffolk'},\n",
       " 'State': {'FIPS': '25', 'code': 'MA', 'name': 'Massachusetts'},\n",
       " 'status': 'OK',\n",
       " 'executionTime': '0'}"
      ]
     },
     "metadata": {},
     "execution_count": 16
    }
   ],
   "source": [
    "json_data = json.loads(Census_data)\n",
    "json.loads(Census_data)"
   ]
  },
  {
   "cell_type": "code",
   "execution_count": 17,
   "metadata": {},
   "outputs": [
    {
     "output_type": "stream",
     "name": "stdout",
     "text": [
      "messages\nBlock\nCounty\nState\nstatus\nexecutionTime\n"
     ]
    }
   ],
   "source": [
    "for json_iter in json.loads(Census_data):\n",
    "    print(json_iter)"
   ]
  },
  {
   "cell_type": "code",
   "execution_count": 18,
   "metadata": {},
   "outputs": [
    {
     "output_type": "execute_result",
     "data": {
      "text/plain": [
       "{'FIPS': '250250202002002',\n",
       " 'bbox': [-71.068752, 42.360336, -71.067791, 42.361108],\n",
       " 'intersection': [{'FIPF': '250250202002002'},\n",
       "  {'FIPF': '250250202002003'},\n",
       "  {'FIPF': '250250202002005'},\n",
       "  {'FIPF': '250250202002004'}]}"
      ]
     },
     "metadata": {},
     "execution_count": 18
    }
   ],
   "source": [
    "json_data['Block']"
   ]
  },
  {
   "cell_type": "code",
   "execution_count": 19,
   "metadata": {},
   "outputs": [
    {
     "output_type": "execute_result",
     "data": {
      "text/plain": [
       "'250250202002002'"
      ]
     },
     "metadata": {},
     "execution_count": 19
    }
   ],
   "source": [
    "FIPS_code = json_data['Block']['FIPS']\n",
    "json_data['Block']['FIPS']"
   ]
  },
  {
   "cell_type": "code",
   "execution_count": 20,
   "metadata": {},
   "outputs": [],
   "source": [
    "#48201223100"
   ]
  },
  {
   "cell_type": "code",
   "execution_count": 21,
   "metadata": {},
   "outputs": [],
   "source": [
    "Census_tract = FIPS_code[5:11]"
   ]
  },
  {
   "cell_type": "code",
   "execution_count": 22,
   "metadata": {},
   "outputs": [
    {
     "output_type": "execute_result",
     "data": {
      "text/plain": [
       "'0202.00'"
      ]
     },
     "metadata": {},
     "execution_count": 22
    }
   ],
   "source": [
    "\n",
    "# Function to convert the Lat and Long into a census tract.\n",
    "# Refer to https://www.census.gov/programs-surveys/geography/guidance/geo-identifiers.html for the FIPS code to census tract conversion\n",
    "# FCC Census block conversion API link: https://geo.fcc.gov/api/census/#!/block/get_block_find\n",
    "\n",
    "def Coord_to_census_tract(Lat,Long):\n",
    "    Converter = requests.get(\"https://geo.fcc.gov/api/census/block/find?latitude=%20\" + Lat + \"&longitude=\" + Long +\"&showall=true&format=json\")\n",
    "    #print(Converter.text)\n",
    "    Census_data = Converter.text\n",
    "    json_data = json.loads(Census_data)\n",
    "    FIPS_code = json_data['Block']['FIPS']\n",
    "    Census_tract = FIPS_code[5:11]\n",
    "    #print(type(Census_tract))\n",
    "    if Census_tract[0] == \"0\":\n",
    "        Census_tract.replace(Census_tract[0],'')\n",
    "        Census_split = Census_tract[ : 4] + '.'+ Census_tract[4 : ]\n",
    "        return(Census_split)\n",
    "    else:\n",
    "        Census_split = Census_tract[ : 4] + '.'+ Census_tract[4 : ]\n",
    "        return(Census_split)\n",
    "\n",
    "Coord_to_census_tract(\"42.3604\",\"-71.0678\")"
   ]
  },
  {
   "cell_type": "code",
   "execution_count": 23,
   "metadata": {},
   "outputs": [
    {
     "output_type": "execute_result",
     "data": {
      "text/plain": [
       "'0818.00'"
      ]
     },
     "metadata": {},
     "execution_count": 23
    }
   ],
   "source": [
    "Coord_to_census_tract(\"42.323958\",\"-71.081193\")"
   ]
  },
  {
   "cell_type": "code",
   "execution_count": 24,
   "metadata": {},
   "outputs": [
    {
     "output_type": "execute_result",
     "data": {
      "text/plain": [
       "'0920.00'"
      ]
     },
     "metadata": {},
     "execution_count": 24
    }
   ],
   "source": [
    "Coord_to_census_tract(\"42.297713\",\"-71.066052\")"
   ]
  },
  {
   "cell_type": "code",
   "execution_count": 25,
   "metadata": {},
   "outputs": [
    {
     "output_type": "execute_result",
     "data": {
      "text/plain": [
       "'0910.01'"
      ]
     },
     "metadata": {},
     "execution_count": 25
    }
   ],
   "source": [
    "Coord_to_census_tract(\"42.308917\",\"-71.060474\")"
   ]
  },
  {
   "cell_type": "code",
   "execution_count": 26,
   "metadata": {},
   "outputs": [
    {
     "output_type": "execute_result",
     "data": {
      "text/plain": [
       "'1008.00'"
      ]
     },
     "metadata": {},
     "execution_count": 26
    }
   ],
   "source": [
    "Coord_to_census_tract(\"42.277571\",\"-71.060705\")"
   ]
  },
  {
   "cell_type": "code",
   "execution_count": null,
   "metadata": {},
   "outputs": [],
   "source": []
  }
 ],
 "metadata": {
  "kernelspec": {
   "display_name": "Python 3",
   "language": "python",
   "name": "python3"
  },
  "language_info": {
   "codemirror_mode": {
    "name": "ipython",
    "version": 3
   },
   "file_extension": ".py",
   "mimetype": "text/x-python",
   "name": "python",
   "nbconvert_exporter": "python",
   "pygments_lexer": "ipython3",
   "version": "3.8.3-final"
  }
 },
 "nbformat": 4,
 "nbformat_minor": 2
}